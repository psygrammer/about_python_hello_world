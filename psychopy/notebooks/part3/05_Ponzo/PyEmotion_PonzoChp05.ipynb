{
 "cells": [
  {
   "cell_type": "markdown",
   "metadata": {},
   "source": [
    "## Py-Emotion 스터디 2회차 _ Psychopy\n",
    "\n",
    "### _코알못 심리학도를 위한 실험 설계 101_\n",
    "\n",
    "#### presented by Y.Lee\n",
    "\n",
    "###### 2018년 04월 23일\n"
   ]
  },
  {
   "cell_type": "markdown",
   "metadata": {},
   "source": [
    "## 1. Psychopy 필수코드\n",
    "\n",
    "import와 윈도우(화면) 생성\n",
    "\n",
    "   ##### \"The first five lines are the ones you have seen before(they will be the same for all our programs). They import some modules and create (and open) a window called myWin...\""
   ]
  },
  {
   "cell_type": "markdown",
   "metadata": {},
   "source": [
    "``` python\n",
    "\n",
    "import math, numpy, random #to have handy system and math functions\n",
    "\n",
    "from psychopy import core, event, visual, gui #these are the PsychoPy modules\n",
    "\n",
    "myWin=visual.Window = visual.Window(color='white',units='pix',size=[1000,1000], allowGUI = False, fullscr= False)\n",
    "\n",
    "myClock = core.Clock() #this creates and starts a clock which we can later read\n",
    "```\n"
   ]
  },
  {
   "cell_type": "markdown",
   "metadata": {},
   "source": [
    "## 2. 새 오브젝트 생성 (실험 재료 준비)\n",
    "\n",
    "##### 1) 좌측 선(leftLine)이랑 우측 선(lineRight) 정의"
   ]
  },
  {
   "cell_type": "code",
   "execution_count": null,
   "metadata": {
    "collapsed": true
   },
   "outputs": [],
   "source": [
    "#좌측 선과 우측선 정의\n",
    "\n",
    "#class visual.Line()\n",
    "#선 시작점과 종점 정의,\n",
    "#선의 색깔 정의\n",
    "#선의 길이\n",
    "#선의 기울기\n",
    "\n",
    "lineLeft = visual.Line(myWin, start=[-160,-340],end=[-160,200],lineColor='black', lineWidth=5,ori=5)\n",
    "\n",
    "lineRight = visual.Line(myWin, start =[160,-340],end=[160,200],lineColor='black',lineWidth=5,ori=-5)\n"
   ]
  },
  {
   "cell_type": "code",
   "execution_count": null,
   "metadata": {
    "collapsed": true
   },
   "outputs": [],
   "source": [
    "#가운데 네모 정의\n",
    "\n",
    "#class visual.Rect()\n",
    "#제시할 창('myWin')\n",
    "#가로,세로(width,height)\n",
    "#위치(pos)(단위는 픽셀)\n",
    "#채우기 색(fillColor)\n",
    "#테두리 색(lineColor)\n",
    "\n",
    "rectangle = visual.Rect(myWin, width=180, height=30, pos=[0,-160],fillColor='grey', lineColor=None)\n"
   ]
  },
  {
   "cell_type": "markdown",
   "metadata": {},
   "source": [
    "## 3. The Controller! (컨트롤러 정의)\n",
    "\n",
    "The next two lines are similar to those used in Kanizsa.py because they create the controller and _'the text with information'_(문자기반 피드백 역할을 함) about the value changed by the controller. \n",
    "\n",
    "What value should the controller be affecting for the Ponzo illusion? The most interesting is the **_orientation of the lines_**, so we have set the controller to change a value between **0 (the lines are vertical) and 45 degrees**. "
   ]
  },
  {
   "cell_type": "markdown",
   "metadata": {},
   "source": [
    "##### 1) 평정 척도(myScale) 정의"
   ]
  },
  {
   "cell_type": "code",
   "execution_count": null,
   "metadata": {
    "collapsed": true
   },
   "outputs": [],
   "source": [
    "#평정 척도('myScale') 정의\n",
    "\n",
    "#class visual.RatingScale \n",
    "#제시할 창('myWin')\n",
    "#위치(pos)\n",
    "#최저점과 최고점(low,high)\n",
    "#문자크기(textSize)\n",
    "#선 색깔(lineColor)\n",
    "\n",
    "myScale = visual.RatingScale(myWin, pos =[0,-360], low=0, high=45, \n",
    "                             textSize=0.5, lineColor='black',tickHeight=False, \n",
    "                             scale=None, showAccept=False, singleClick=True)\n",
    "         "
   ]
  },
  {
   "cell_type": "markdown",
   "metadata": {},
   "source": [
    "##### 2) 숫자지표(information)정의"
   ]
  },
  {
   "cell_type": "code",
   "execution_count": null,
   "metadata": {
    "collapsed": true
   },
   "outputs": [],
   "source": [
    "#문자 피드백('information')\n",
    "\n",
    "#class visual.TextStim\n",
    "#위치(pos)\n",
    "#text (#여기서 text는 가변적인 정보이므로 빈칸?)\n",
    "#높이(height)\n",
    "#색깔(color)\n",
    "\n",
    "information = visual.TextStim(myWin, pos=[0,-385], text='', height=18, color='black')"
   ]
  },
  {
   "cell_type": "markdown",
   "metadata": {},
   "source": [
    "## 4. 실험 설계"
   ]
  },
  {
   "cell_type": "markdown",
   "metadata": {},
   "source": [
    "### 1) 모든 오브젝트 제시\n",
    "\n",
    "Inside the loop we do the drawing of all these objects and display them using _myWin.flip()_. Note how the rectangle is drawn twice, in a low and a high position on the screen."
   ]
  },
  {
   "cell_type": "markdown",
   "metadata": {},
   "source": [
    "```python \n",
    "#좌측 선 제시 \n",
    "lineLeft.draw()\n",
    "#우측 선 제시\n",
    "lineRight.draw()\n",
    "\n",
    "#네모(상) 위치 선정\n",
    "rectangle.setPos([0,-160])\n",
    "#네모(상) 제시\n",
    "rectangle.draw()\n",
    "#네모(하) 위치 선정 \n",
    "rectangle.setPos([0,140])\n",
    "#네모(하) 제시\n",
    "rectangle.draw()\n",
    "\n",
    "#평정 척도 제시\n",
    "myScale.draw()\n",
    "#숫자 지표 제시\n",
    "information.draw()\n",
    "#화면 전환\n",
    "myWin.flip()\n",
    "```"
   ]
  },
  {
   "cell_type": "markdown",
   "metadata": {},
   "source": [
    "### 2) 기울기 정도에 따라 선이 기울게끔 조작하기\n",
    "\n",
    "원문 발췌: \"The value that is returned by **myScale.getRating()** is something we place in a variable called orientation. The only tricky aspect to pay attention to is the fact that we use the orientation to change both the left and the right line, but we use _orientation_. <br>\n",
    "\n",
    "*Note*: <br>\n",
    "We use _orientation_ in one case (a positive value) and _-orientation_ in the other (a negative value)...to change orientation, we use '.setOri()'. We can see on the screen how much the illusion depends on the convergence of the lines. (At one extreme, when the lines are vertical, the two rectangles will probably look the same. At the other extreme they should look different.) Note also that for orientation greater than **30 degrees** the lines end up underneath the rectangles. \" <br>\n",
    "\n",
    "요약: <br>\n",
    "  (1) myscale.getRating()에서 얻어낸 값 = 기울기 정도 <br>\n",
    "  (2) orientation variable이 두 개 필요 (좌측 선과 우측 선) <br>\n",
    "  (3) 시계 방향 (orientation), 반시계방향(-orientation) <br>\n",
    "  (4) 기울기 조작을 위해 function setOri() 사용 <br>\n",
    "  \n",
    "\n",
    "```python\n",
    "if myscale.noResponse==False: #some new value has been selected with the mouse\n",
    "    orientation = myScale.getRating()\n",
    "    lineLeft.setOri(orientation)\n",
    "    lineRight.setOri(-orientation)\n",
    "    information.setText(str(orientation))\n",
    "    myScale.reset()\n",
    "```"
   ]
  },
  {
   "cell_type": "markdown",
   "metadata": {},
   "source": [
    "### 3) 'mainLoop' 정의 및 생성"
   ]
  },
  {
   "cell_type": "markdown",
   "metadata": {},
   "source": [
    "원문 일부 발췌:<br>\n",
    "\"...Before completing the program we are going to add something else compared to Kanizsa.py. In our first program we had included some libraries (modules), created some objects, then started a _while_ loop. Within this loop we updated the drawing to adjust the size of the disks. Finally we closed down the windows and closed the program. \n",
    "\n",
    "It is better to place our main loop inside a function that we will name **mainLoop**. This way our program will call the **mainLoop**, and at the very end, when we come out of the main loop, do the closing down. \n",
    "\n",
    "mainLoop() 정의:\n",
    "\n",
    "```python\n",
    "#the main loop\n",
    "def mainLoop():\n",
    "```\n",
    "\n",
    "Note: after the brackets It is there to say that once we call the main loop everything that follows (indented) is executed as part of the function. When we will write the name **mainLoop()** as a command we say that we have called this function. That means that as soon as it is called the function **mainLoop()** _will do the following_(that is the meaning of:as you remember) and execute all the block of commands inside....\"\n",
    "\n",
    "mainLoop하나만 부르면, 이 안에 있는 것들을 모두 실행-\n"
   ]
  },
  {
   "cell_type": "markdown",
   "metadata": {},
   "source": [
    "```python\n",
    "\n",
    "#the main loop\n",
    "def mainLoop():\n",
    "    finished=False\n",
    "    while not finished:\n",
    "        lineLeft.draw()\n",
    "        lineRight.draw()\n",
    "        \n",
    "        rectangle.setPos([0,-160])\n",
    "        rectangle.draw()\n",
    "        rectangle.setPos([0,140])\n",
    "        rectangle.draw()\n",
    "        \n",
    "        myScale.draw()\n",
    "        information.draw()\n",
    "        myWin.flip()\n",
    "        \n",
    "        if myScale.noResponse == False #some new value has been selected with the mouse\n",
    "            orientation = myScale.getRating()\n",
    "            lineLeft.set.Ori(orientation)\n",
    "            lineRight.set.Ori(-orientation)\n",
    "            information.setText(str(orientation))\n",
    "            myScale.reset()\n",
    "            \n",
    "        if event.getKeys(keyList=['escape']):#pressing ESC quits the program\n",
    "            finished=True\n",
    "mainLoop() #enters the main loop\n",
    "myWin.close() #closes the window\n",
    "core.quit() #quits\n",
    "\n",
    "```           "
   ]
  },
  {
   "cell_type": "markdown",
   "metadata": {
    "collapsed": true
   },
   "source": [
    "## 전체 코드(ponzo.py)\n",
    "```python\n",
    "\n",
    "import math, numpy, random #handy system and math functions\n",
    "from psychopy import core, event, visual, gui #these are the psychopy modules\n",
    "\n",
    "myWin = visual.Window(color='white', units='pix', size=[1000,1000], allowGUI=False, fullscr=False)#creates a window \n",
    "myClock = core.Clock() #this creates and starts a clock which we can later read\n",
    "\n",
    "lineLeft =visual.Line(myWin, start=[-160,-340], end=[-160,200], lineColor='black',  lineWidth=5, ori=5)\n",
    "lineRight =visual.Line(myWin, start=[160,-340], end=[160,200], lineColor='black',  lineWidth=5, ori=-5)\n",
    "rectangle =visual.Rect(myWin, width=180, height=30, pos =[0,-160], fillColor='grey', lineColor=None)\n",
    "\n",
    "myScale = visual.RatingScale(myWin, pos=[0, -360], low=0, high=45,  textSize=0.5, lineColor='black',  tickHeight=False, scale=None, showAccept=False, singleClick=True)\n",
    "information=visual.TextStim(myWin, pos=[0,-385], text='', height=18, color='black') \n",
    "\n",
    "# the main loop\n",
    "def mainLoop():\n",
    "    \n",
    "    finished = False\n",
    "    while not finished:\n",
    "        \n",
    "        lineLeft.draw()\n",
    "        lineRight.draw()\n",
    "    \n",
    "        rectangle.setPos([0,-160])\n",
    "        rectangle.draw()\n",
    "        rectangle.setPos([0,140])\n",
    "        rectangle.draw()\n",
    "    \n",
    "        myScale.draw()\n",
    "        information.draw()\n",
    "        myWin.flip()\n",
    "        \n",
    "        if myScale.noResponse ==False: #some new value has been selected with the mouse\n",
    "            orientation = myScale.getRating()\n",
    "            lineLeft.setOri(orientation)\n",
    "            lineRight.setOri(-orientation)\n",
    "            information.setText(str(orientation))\n",
    "            myScale.reset()\n",
    "    \n",
    "        if event.getKeys(keyList=['escape']): #pressing ESC quits the program\n",
    "            finished =True\n",
    "    \n",
    "mainLoop() #enters the main loop\n",
    "myWin.close() #closes the window\n",
    "core.quit() #quits\n",
    "```\n"
   ]
  },
  {
   "cell_type": "code",
   "execution_count": null,
   "metadata": {
    "collapsed": true
   },
   "outputs": [],
   "source": []
  }
 ],
 "metadata": {
  "kernelspec": {
   "display_name": "Python 2",
   "language": "python",
   "name": "python2"
  },
  "language_info": {
   "codemirror_mode": {
    "name": "ipython",
    "version": 2
   },
   "file_extension": ".py",
   "mimetype": "text/x-python",
   "name": "python",
   "nbconvert_exporter": "python",
   "pygments_lexer": "ipython2",
   "version": "2.7.12"
  }
 },
 "nbformat": 4,
 "nbformat_minor": 2
}
