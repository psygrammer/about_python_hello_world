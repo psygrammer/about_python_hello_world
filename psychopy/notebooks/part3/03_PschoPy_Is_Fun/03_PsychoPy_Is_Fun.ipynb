{
 "cells": [
  {
   "cell_type": "markdown",
   "metadata": {},
   "source": [
    "# 3. PsychoPy is Fun"
   ]
  },
  {
   "cell_type": "markdown",
   "metadata": {},
   "source": [
    "* 싸이그래머 / 어바웃 파이썬 : HelloWorld - PsychoPy [1,2,3]\n",
    "* 김무성"
   ]
  },
  {
   "cell_type": "markdown",
   "metadata": {},
   "source": [
    "# Contents\n",
    "* Writing a Script in the Coder Editor\n",
    "* Creating a Python Object (a Window)\n",
    "* Our Canvas\n",
    "* Creating a Python Object (a Clock)\n",
    "* A Setup for All Our Illusions\n",
    "* Different Types of Functions "
   ]
  },
  {
   "cell_type": "markdown",
   "metadata": {},
   "source": [
    "#### 참고\n",
    "* [1] Programming Visual Illusions for Everyone (Vision, Illusion and Perception) - https://www.amazon.com/Programming-Illusions-Everyone-Illusion-Perception/dp/3319640658\n",
    "* [2] Programming Visual Illusions for Everyone (Website) - https://www.programmingvisualillusionsforeveryone.online/index.html\n",
    "* [3] Scripts to download - https://www.programmingvisualillusionsforeveryone.online/scripts.html"
   ]
  },
  {
   "cell_type": "markdown",
   "metadata": {},
   "source": [
    "# Writing a Script in the Coder Editor"
   ]
  },
  {
   "cell_type": "markdown",
   "metadata": {},
   "source": [
    "```python\n",
    "import math, numpy, random #to have handy system and math functions \n",
    "from psychopy import core, event, visual, gui #these are the PsychoPy modules\n",
    "```"
   ]
  },
  {
   "cell_type": "markdown",
   "metadata": {},
   "source": [
    "<img src=\"figures/cap3.1.png\" width=600 />"
   ]
  },
  {
   "cell_type": "markdown",
   "metadata": {},
   "source": [
    "# Creating a Python Object (a Window)"
   ]
  },
  {
   "cell_type": "markdown",
   "metadata": {},
   "source": [
    "```python\n",
    "myWin = visual.Window(color = 'white', \n",
    "                        units = 'pix', \n",
    "                        size = [1000, 1000], \n",
    "                        allowGUI = False, \n",
    "                        fullscr = False) #creates a window\n",
    "```"
   ]
  },
  {
   "cell_type": "markdown",
   "metadata": {},
   "source": [
    "# Our Canvas"
   ]
  },
  {
   "cell_type": "markdown",
   "metadata": {},
   "source": [
    "<img src=\"figures/cap3.2.png\" width=600 />"
   ]
  },
  {
   "cell_type": "markdown",
   "metadata": {},
   "source": [
    "# Creating a Python Object (a Clock)"
   ]
  },
  {
   "cell_type": "markdown",
   "metadata": {},
   "source": [
    "```python\n",
    "myClock = core.Clock() #this creates and starts a clock which we can later read\n",
    "\n",
    "timeNow = myClock.getTime() #this places the current time in a variable called timeNow\n",
    "\n",
    "myCircle.draw()\n",
    "\n",
    "```"
   ]
  },
  {
   "cell_type": "markdown",
   "metadata": {},
   "source": [
    "# A Setup for All Our Illusions"
   ]
  },
  {
   "cell_type": "markdown",
   "metadata": {},
   "source": [
    "```python\n",
    "myWin.close() #closes the window \n",
    "core.quit() #quits\n",
    "```"
   ]
  },
  {
   "cell_type": "markdown",
   "metadata": {},
   "source": [
    "```python\n",
    "aPoint = [0, 0]\n",
    "\n",
    "verticesOfSquare = [[2, 2], [-2, 2], [-2, -2], [2, -2]]\n",
    "\n",
    "verticesOfSquare[0]\n",
    "\n",
    "verticesOfSquare[1]\n",
    "\n",
    "verticesOfSquare[0][0] \n",
    "verticesOfSquare[0][1]\n",
    "\n",
    "```"
   ]
  },
  {
   "cell_type": "markdown",
   "metadata": {},
   "source": [
    "# Different Types of Functions"
   ]
  },
  {
   "cell_type": "markdown",
   "metadata": {},
   "source": [
    "```python\n",
    "core.quit()\n",
    "\n",
    "myCircle.draw()\n",
    "timeNow = myClock.getTime()\n",
    "\n",
    "myClock = core.Clock() #this creates and starts a clock which we can later read\n",
    "```"
   ]
  },
  {
   "cell_type": "markdown",
   "metadata": {},
   "source": [
    "# 실습 1"
   ]
  },
  {
   "cell_type": "code",
   "execution_count": 4,
   "metadata": {
    "collapsed": true
   },
   "outputs": [],
   "source": [
    "# 이 notebook에 코드를 작성. \n",
    "# 빈 화면을 제시해보자 "
   ]
  },
  {
   "cell_type": "markdown",
   "metadata": {},
   "source": [
    "# 실습 2"
   ]
  },
  {
   "cell_type": "code",
   "execution_count": null,
   "metadata": {
    "collapsed": true
   },
   "outputs": [],
   "source": [
    "# 실습1에서 만든 코드를 hello.py 라는 파일로 만들어서 이 notebook에서 스크립트를 실행.\n",
    "!python hello.py"
   ]
  },
  {
   "cell_type": "markdown",
   "metadata": {},
   "source": [
    "# 실습 3"
   ]
  },
  {
   "cell_type": "code",
   "execution_count": null,
   "metadata": {
    "collapsed": true
   },
   "outputs": [],
   "source": [
    "# 터미널창에서 커맨드로 실행."
   ]
  },
  {
   "cell_type": "markdown",
   "metadata": {},
   "source": [
    "# 참고자료\n",
    "* [1] Programming Visual Illusions for Everyone (Vision, Illusion and Perception) - https://www.amazon.com/Programming-Illusions-Everyone-Illusion-Perception/dp/3319640658\n",
    "* [2] Programming Visual Illusions for Everyone (Website) - https://www.programmingvisualillusionsforeveryone.online/index.html\n",
    "* [3] Scripts to download - https://www.programmingvisualillusionsforeveryone.online/scripts.html"
   ]
  }
 ],
 "metadata": {
  "kernelspec": {
   "display_name": "Python 2",
   "language": "python",
   "name": "python2"
  },
  "language_info": {
   "codemirror_mode": {
    "name": "ipython",
    "version": 2
   },
   "file_extension": ".py",
   "mimetype": "text/x-python",
   "name": "python",
   "nbconvert_exporter": "python",
   "pygments_lexer": "ipython2",
   "version": "2.7.13"
  }
 },
 "nbformat": 4,
 "nbformat_minor": 2
}
