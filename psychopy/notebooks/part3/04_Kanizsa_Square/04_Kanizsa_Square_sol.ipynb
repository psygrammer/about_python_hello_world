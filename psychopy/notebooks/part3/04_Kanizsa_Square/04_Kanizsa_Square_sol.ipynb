{
 "cells": [
  {
   "cell_type": "markdown",
   "metadata": {},
   "source": [
    "# 4. Kanizsa Square"
   ]
  },
  {
   "cell_type": "markdown",
   "metadata": {},
   "source": [
    "* 싸이그래머 / 어바웃 파이썬 : HelloWorld - PsychoPy [1,2,3]\n",
    "* 김무성"
   ]
  },
  {
   "cell_type": "markdown",
   "metadata": {},
   "source": [
    "# Contents\n",
    "* The Kanizsa.py Program\n",
    "* Extra Programming Challenge for Extra Fun"
   ]
  },
  {
   "cell_type": "code",
   "execution_count": 1,
   "metadata": {},
   "outputs": [
    {
     "name": "stdout",
     "output_type": "stream",
     "text": [
      "04_Kanizsa_Square.ipynb Kanizsa.py\r\n"
     ]
    }
   ],
   "source": [
    "!ls"
   ]
  },
  {
   "cell_type": "markdown",
   "metadata": {},
   "source": [
    "### 실행 방법 1"
   ]
  },
  {
   "cell_type": "markdown",
   "metadata": {},
   "source": [
    "터미널 열어서 다음 커맨드 <br>\n",
    "python Kanizsa.py"
   ]
  },
  {
   "cell_type": "markdown",
   "metadata": {},
   "source": [
    "### 실행 방법 2"
   ]
  },
  {
   "cell_type": "code",
   "execution_count": 32,
   "metadata": {},
   "outputs": [
    {
     "name": "stdout",
     "output_type": "stream",
     "text": [
      "1.7729 \tWARNING \tMonitor specification not found. Creating a temporary one...\r\n"
     ]
    }
   ],
   "source": [
    "!python Kanizsa.py"
   ]
  },
  {
   "cell_type": "markdown",
   "metadata": {},
   "source": [
    "#### The Kanizsa illusion"
   ]
  },
  {
   "cell_type": "markdown",
   "metadata": {},
   "source": [
    "<img src=\"figures/cap4.1.png\" width=600 />"
   ]
  },
  {
   "cell_type": "markdown",
   "metadata": {},
   "source": [
    "<img src=\"figures/cap4.2.png\" width=600 />"
   ]
  },
  {
   "cell_type": "markdown",
   "metadata": {},
   "source": [
    "<img src=\"figures/cap4.3.png\" width=600 />"
   ]
  },
  {
   "cell_type": "markdown",
   "metadata": {},
   "source": [
    "# The Kanizsa.py Program"
   ]
  },
  {
   "cell_type": "markdown",
   "metadata": {},
   "source": [
    "---------------------------"
   ]
  },
  {
   "cell_type": "markdown",
   "metadata": {},
   "source": [
    "### 기본 코드"
   ]
  },
  {
   "cell_type": "markdown",
   "metadata": {},
   "source": [
    "```python\n",
    "import math, numpy, random #to have handy system and math functions \n",
    "from psychopy import core, event, visual, gui #these are the PsychoPy modules\n",
    "\n",
    "myWin = visual.Window(color = 'white', units = 'pix', size = [1000, 1000], allowGUI = False, fullscr = False) # creates a window\n",
    "\n",
    "myClock = core.Clock() #this creates and starts a clock which we can later read\n",
    "\n",
    "```"
   ]
  },
  {
   "cell_type": "markdown",
   "metadata": {},
   "source": [
    "#### 실습 1 - 자극을 제시할 window를 만들어보자 (반드시 특정 시간이 지나면 저절로 창이 닫히게 만들 것)\n"
   ]
  },
  {
   "cell_type": "code",
   "execution_count": 6,
   "metadata": {},
   "outputs": [
    {
     "name": "stdout",
     "output_type": "stream",
     "text": [
      "1.3169 \tWARNING \tMonitor specification not found. Creating a temporary one...\n"
     ]
    },
    {
     "ename": "SystemExit",
     "evalue": "0",
     "output_type": "error",
     "traceback": [
      "An exception has occurred, use %tb to see the full traceback.\n",
      "\u001b[0;31mSystemExit\u001b[0m\u001b[0;31m:\u001b[0m 0\n"
     ]
    },
    {
     "name": "stderr",
     "output_type": "stream",
     "text": [
      "/Users/moodern/anaconda/envs/about_python_psychopy/lib/python2.7/site-packages/IPython/core/interactiveshell.py:2889: UserWarning: To exit: use 'exit', 'quit', or Ctrl-D.\n",
      "  warn(\"To exit: use 'exit', 'quit', or Ctrl-D.\", stacklevel=1)\n"
     ]
    }
   ],
   "source": [
    "# 해보자\n",
    "\n",
    "import math, numpy, random #handy system and math functions\n",
    "from psychopy import core, event, visual, gui #these are the psychopy modules\n",
    "\n",
    "myWin = visual.Window(color='white', units='pix', size=[1000,1000], allowGUI=False, fullscr=False)#creates a window\n",
    "myClock = core.Clock() #this creates and starts a clock which we can later read\n",
    "    \n",
    "core.wait(2)\n",
    "\n",
    "myWin.close() #closes the window\n",
    "core.quit() #quits"
   ]
  },
  {
   "cell_type": "markdown",
   "metadata": {},
   "source": [
    "-------------------"
   ]
  },
  {
   "cell_type": "markdown",
   "metadata": {},
   "source": [
    "### 원과 사각형을 창에 그리기(Next we create some new objects, in particular a circle and a square)"
   ]
  },
  {
   "cell_type": "markdown",
   "metadata": {},
   "source": [
    "#### 생성"
   ]
  },
  {
   "cell_type": "markdown",
   "metadata": {},
   "source": [
    "```python\n",
    "disk = visual.Circle(myWin, radius = 80, fillColor = 'black', lineColor = None)\n",
    "\n",
    "square = visual.Rect(myWin, width = 200, height = 200, fillColor = 'white', lineColor = None)\n",
    "```"
   ]
  },
  {
   "cell_type": "markdown",
   "metadata": {},
   "source": [
    "#### 생성된 오브젝트를 그린다"
   ]
  },
  {
   "cell_type": "markdown",
   "metadata": {},
   "source": [
    "```python\n",
    "disk.draw() \n",
    "square.draw()\n",
    "```"
   ]
  },
  {
   "cell_type": "markdown",
   "metadata": {},
   "source": [
    "#### 화면에 업데이트(flipping the buffers)"
   ]
  },
  {
   "cell_type": "markdown",
   "metadata": {},
   "source": [
    "draw 함수를 호출한 뒤에는, filp 함수를 호출해야 화면에 그려진다. "
   ]
  },
  {
   "cell_type": "markdown",
   "metadata": {},
   "source": [
    "```python\n",
    "myWin.filp()\n",
    "```"
   ]
  },
  {
   "cell_type": "markdown",
   "metadata": {},
   "source": [
    "<img src=\"figures/cap4.4.png\" width=600 />"
   ]
  },
  {
   "cell_type": "markdown",
   "metadata": {},
   "source": [
    "#### 실습 2 - 원과 사각형을 창에 그려보자"
   ]
  },
  {
   "cell_type": "code",
   "execution_count": 1,
   "metadata": {},
   "outputs": [
    {
     "name": "stdout",
     "output_type": "stream",
     "text": [
      "1.9879 \tWARNING \tMonitor specification not found. Creating a temporary one...\n"
     ]
    },
    {
     "ename": "SystemExit",
     "evalue": "0",
     "output_type": "error",
     "traceback": [
      "An exception has occurred, use %tb to see the full traceback.\n",
      "\u001b[0;31mSystemExit\u001b[0m\u001b[0;31m:\u001b[0m 0\n"
     ]
    },
    {
     "name": "stderr",
     "output_type": "stream",
     "text": [
      "/Users/moodern/anaconda/envs/about_python_psychopy/lib/python2.7/site-packages/IPython/core/interactiveshell.py:2889: UserWarning: To exit: use 'exit', 'quit', or Ctrl-D.\n",
      "  warn(\"To exit: use 'exit', 'quit', or Ctrl-D.\", stacklevel=1)\n"
     ]
    }
   ],
   "source": [
    "# 해보자\n",
    "\n",
    "import math, numpy, random #handy system and math functions\n",
    "from psychopy import core, event, visual, gui #these are the psychopy modules\n",
    "\n",
    "myWin = visual.Window(color='white', units='pix', size=[1000,1000], allowGUI=False, fullscr=False)#creates a window\n",
    "myClock = core.Clock() #this creates and starts a clock which we can later read\n",
    "\n",
    "disk = visual.Circle(myWin, radius=80, fillColor='black', lineColor=None)\n",
    "square =visual.Rect(myWin, width=200, height=200, fillColor='white', lineColor=None)\n",
    "\n",
    "disk.draw()\n",
    "myWin.flip()\n",
    "core.wait(2)\n",
    "\n",
    "square.draw()\n",
    "myWin.flip()\n",
    "core.wait(2)\n",
    "\n",
    "myWin.close() #closes the window\n",
    "core.quit() #quits\n"
   ]
  },
  {
   "cell_type": "markdown",
   "metadata": {},
   "source": [
    "-----------------------"
   ]
  },
  {
   "cell_type": "markdown",
   "metadata": {},
   "source": [
    "### 사각형을 가운데 놓고, 원 4개를 모서리쪽에 겹치게 그리기"
   ]
  },
  {
   "cell_type": "markdown",
   "metadata": {},
   "source": [
    "```python\n",
    "disk.setPos([-100, -100]) \n",
    "disk.draw() \n",
    "disk.setPos([-100, 100]) \n",
    "disk.draw() \n",
    "disk.setPos([100, 100]) \n",
    "disk.draw() \n",
    "disk.setPos([100, -100]) \n",
    "disk.draw()\n",
    "\n",
    "square.draw()\n",
    "```"
   ]
  },
  {
   "cell_type": "markdown",
   "metadata": {},
   "source": [
    "<img src=\"figures/cap4.5.png\" width=600 />"
   ]
  },
  {
   "cell_type": "markdown",
   "metadata": {},
   "source": [
    "#### 실습 3. 사각형을 가운데 놓고, 원 4개를 모서리쪽에 겹치게 그려보자"
   ]
  },
  {
   "cell_type": "code",
   "execution_count": 3,
   "metadata": {},
   "outputs": [
    {
     "name": "stdout",
     "output_type": "stream",
     "text": [
      "29.2535 \tWARNING \tMonitor specification not found. Creating a temporary one...\n"
     ]
    },
    {
     "ename": "SystemExit",
     "evalue": "0",
     "output_type": "error",
     "traceback": [
      "An exception has occurred, use %tb to see the full traceback.\n",
      "\u001b[0;31mSystemExit\u001b[0m\u001b[0;31m:\u001b[0m 0\n"
     ]
    }
   ],
   "source": [
    "# 해보자\n",
    "\n",
    "import math, numpy, random #handy system and math functions\n",
    "from psychopy import core, event, visual, gui #these are the psychopy modules\n",
    "\n",
    "myWin = visual.Window(color='white', units='pix', size=[1000,1000], allowGUI=False, fullscr=False)#creates a window\n",
    "myClock = core.Clock() #this creates and starts a clock which we can later read\n",
    "\n",
    "disk = visual.Circle(myWin, radius=80, fillColor='black', lineColor=None)\n",
    "square =visual.Rect(myWin, width=200, height=200, fillColor='white', lineColor=None)\n",
    "\n",
    "disk.setPos([-100, -100]) \n",
    "disk.draw() \n",
    "disk.setPos([-100, 100]) \n",
    "disk.draw() \n",
    "disk.setPos([100, 100]) \n",
    "disk.draw() \n",
    "disk.setPos([100, -100]) \n",
    "disk.draw()\n",
    "\n",
    "square.draw()\n",
    "\n",
    "myWin.flip()\n",
    "\n",
    "core.wait(5)\n",
    "\n",
    "myWin.close() #closes the window\n",
    "core.quit() #quits\n"
   ]
  },
  {
   "cell_type": "markdown",
   "metadata": {},
   "source": [
    "----------------------"
   ]
  },
  {
   "cell_type": "markdown",
   "metadata": {},
   "source": [
    "### ESC 키를 누르면 종료되도록 만들기"
   ]
  },
  {
   "cell_type": "markdown",
   "metadata": {},
   "source": [
    "```python\n",
    "\n",
    "finished = False \n",
    "while not finished:\n",
    "    \n",
    "    if event.getKeys(keyList = ['escape']): #pressing ESC quits the program\n",
    "    finished = True\n",
    "```"
   ]
  },
  {
   "cell_type": "markdown",
   "metadata": {},
   "source": [
    "#### 실습 4. ESC키를 누르면 종료되게 만들기"
   ]
  },
  {
   "cell_type": "code",
   "execution_count": 4,
   "metadata": {},
   "outputs": [
    {
     "name": "stdout",
     "output_type": "stream",
     "text": [
      "52.5826 \tWARNING \tMonitor specification not found. Creating a temporary one...\n"
     ]
    },
    {
     "ename": "SystemExit",
     "evalue": "0",
     "output_type": "error",
     "traceback": [
      "An exception has occurred, use %tb to see the full traceback.\n",
      "\u001b[0;31mSystemExit\u001b[0m\u001b[0;31m:\u001b[0m 0\n"
     ]
    }
   ],
   "source": [
    "# 해보자\n",
    "\n",
    "import math, numpy, random #handy system and math functions\n",
    "from psychopy import core, event, visual, gui #these are the psychopy modules\n",
    "\n",
    "myWin = visual.Window(color='white', units='pix', size=[1000,1000], allowGUI=False, fullscr=False)#creates a window\n",
    "myClock = core.Clock() #this creates and starts a clock which we can later read\n",
    "\n",
    "disk = visual.Circle(myWin, radius=80, fillColor='black', lineColor=None)\n",
    "square =visual.Rect(myWin, width=200, height=200, fillColor='white', lineColor=None)\n",
    "\n",
    "finished = False \n",
    "while not finished:\n",
    "    disk.setPos([-100, -100]) \n",
    "    disk.draw() \n",
    "    disk.setPos([-100, 100]) \n",
    "    disk.draw() \n",
    "    disk.setPos([100, 100]) \n",
    "    disk.draw() \n",
    "    disk.setPos([100, -100]) \n",
    "    disk.draw()\n",
    "\n",
    "    square.draw()\n",
    "\n",
    "    myWin.flip()\n",
    "\n",
    "    if event.getKeys(keyList = ['escape']): #pressing ESC quits the program\n",
    "        finished = True\n",
    "\n",
    "myWin.close() #closes the window\n",
    "core.quit() #quits\n"
   ]
  },
  {
   "cell_type": "markdown",
   "metadata": {},
   "source": [
    "--------------------"
   ]
  },
  {
   "cell_type": "markdown",
   "metadata": {},
   "source": [
    "### 사용자가 직접 사각형의 크기를 조정할 수 있게 만들기"
   ]
  },
  {
   "cell_type": "markdown",
   "metadata": {},
   "source": [
    "```python\n",
    "\n",
    "myScale = visual.RatingScale(myWin, pos = [0, -280], low = 10, high = 100, textSize = 0.5, lineColor = 'black', tickHeight = False,\n",
    "scale = None, showAccept = False, singleClick = True)\n",
    "\n",
    "information = visual.TextStim(myWin, pos = [0, -305], text = '', height = 18, color = 'black')\n",
    "\n",
    "line = visual.Rect(myWin, width = 2, height = 400, fillColor = 'black', lineColor = None)\n",
    "\n",
    "if myScale.noResponse == False: #some new value has been selected with the mouse\n",
    "    radius = myScale.getRating()\n",
    "    disk.setRadius(radius)\n",
    "    information.setText(str(radius))\n",
    "    myScale.reset()\n",
    "\n",
    "```"
   ]
  },
  {
   "cell_type": "markdown",
   "metadata": {},
   "source": [
    "#### 실습 5. RatingScale을 사용해서 사용자 입력받을 눈금 그리기"
   ]
  },
  {
   "cell_type": "code",
   "execution_count": 5,
   "metadata": {},
   "outputs": [
    {
     "name": "stdout",
     "output_type": "stream",
     "text": [
      "120.2510 \tWARNING \tMonitor specification not found. Creating a temporary one...\n"
     ]
    },
    {
     "ename": "SystemExit",
     "evalue": "0",
     "output_type": "error",
     "traceback": [
      "An exception has occurred, use %tb to see the full traceback.\n",
      "\u001b[0;31mSystemExit\u001b[0m\u001b[0;31m:\u001b[0m 0\n"
     ]
    }
   ],
   "source": [
    "# 해보자\n",
    "\n",
    "import math, numpy, random #handy system and math functions\n",
    "from psychopy import core, event, visual, gui #these are the psychopy modules\n",
    "\n",
    "myWin = visual.Window(color='white', units='pix', size=[1000,1000], allowGUI=False, fullscr=False)#creates a window\n",
    "myClock = core.Clock() #this creates and starts a clock which we can later read\n",
    "\n",
    "disk = visual.Circle(myWin, radius=80, fillColor='black', lineColor=None)\n",
    "square =visual.Rect(myWin, width=200, height=200, fillColor='white', lineColor=None)\n",
    "\n",
    "myScale = visual.RatingScale(myWin, pos = [0, -280], low = 10, high = 100, textSize = 0.5, lineColor = 'black', tickHeight=False, scale=None, showAccept=False, singleClick=True)\n",
    "\n",
    "finished = False \n",
    "while not finished:\n",
    "    disk.setPos([-100, -100]) \n",
    "    disk.draw() \n",
    "    disk.setPos([-100, 100]) \n",
    "    disk.draw() \n",
    "    disk.setPos([100, 100]) \n",
    "    disk.draw() \n",
    "    disk.setPos([100, -100]) \n",
    "    disk.draw()\n",
    "\n",
    "    square.draw()\n",
    "    myScale.draw()\n",
    "\n",
    "    myWin.flip()\n",
    "\n",
    "    if event.getKeys(keyList = ['escape']): #pressing ESC quits the program\n",
    "        finished = True\n",
    "\n",
    "myWin.close() #closes the window\n",
    "core.quit() #quits\n"
   ]
  },
  {
   "cell_type": "markdown",
   "metadata": {},
   "source": [
    "#### 실습 6. 눈금의 정보 표시"
   ]
  },
  {
   "cell_type": "code",
   "execution_count": 4,
   "metadata": {},
   "outputs": [
    {
     "name": "stdout",
     "output_type": "stream",
     "text": [
      "61.2346 \tWARNING \tMonitor specification not found. Creating a temporary one...\n"
     ]
    },
    {
     "ename": "SystemExit",
     "evalue": "0",
     "output_type": "error",
     "traceback": [
      "An exception has occurred, use %tb to see the full traceback.\n",
      "\u001b[0;31mSystemExit\u001b[0m\u001b[0;31m:\u001b[0m 0\n"
     ]
    }
   ],
   "source": [
    "# 해보자\n",
    "\n",
    "import math, numpy, random #handy system and math functions\n",
    "from psychopy import core, event, visual, gui #these are the psychopy modules\n",
    "\n",
    "myWin = visual.Window(color='white', units='pix', size=[1000,1000], allowGUI=False, fullscr=False)#creates a window\n",
    "myClock = core.Clock() #this creates and starts a clock which we can later read\n",
    "\n",
    "disk = visual.Circle(myWin, radius=80, fillColor='black', lineColor=None)\n",
    "square =visual.Rect(myWin, width=200, height=200, fillColor='white', lineColor=None)\n",
    "\n",
    "myScale = visual.RatingScale(myWin, pos = [0, -280], low = 10, high = 100, textSize = 0.5, lineColor = 'black', tickHeight=False, scale=None, showAccept=False, singleClick=True)\n",
    "information = visual.TextStim(myWin, pos = [0, -305], text = '', height = 18, color = 'black')\n",
    "\n",
    "finished = False \n",
    "while not finished:\n",
    "    disk.setPos([-100, -100]) \n",
    "    disk.draw() \n",
    "    disk.setPos([-100, 100]) \n",
    "    disk.draw() \n",
    "    disk.setPos([100, 100]) \n",
    "    disk.draw() \n",
    "    disk.setPos([100, -100]) \n",
    "    disk.draw()\n",
    "\n",
    "    square.draw()\n",
    "    information.draw()\n",
    "    myScale.draw()\n",
    "\n",
    "    myWin.flip()\n",
    "\n",
    "    if event.getKeys(keyList = ['escape']): #pressing ESC quits the program\n",
    "        finished = True\n",
    "\n",
    "myWin.close() #closes the window\n",
    "core.quit() #quits\n"
   ]
  },
  {
   "cell_type": "markdown",
   "metadata": {},
   "source": [
    "#### 실습 7. 사용자 입력받은 스케일로 4개의 원들 크기 조정하기"
   ]
  },
  {
   "cell_type": "code",
   "execution_count": 6,
   "metadata": {},
   "outputs": [
    {
     "name": "stdout",
     "output_type": "stream",
     "text": [
      "167.1432 \tWARNING \tMonitor specification not found. Creating a temporary one...\n"
     ]
    },
    {
     "ename": "SystemExit",
     "evalue": "0",
     "output_type": "error",
     "traceback": [
      "An exception has occurred, use %tb to see the full traceback.\n",
      "\u001b[0;31mSystemExit\u001b[0m\u001b[0;31m:\u001b[0m 0\n"
     ]
    }
   ],
   "source": [
    "# 해보자\n",
    "\n",
    "import math, numpy, random #handy system and math functions\n",
    "from psychopy import core, event, visual, gui #these are the psychopy modules\n",
    "\n",
    "myWin = visual.Window(color='white', units='pix', size=[1000,1000], allowGUI=False, fullscr=False)#creates a window\n",
    "myClock = core.Clock() #this creates and starts a clock which we can later read\n",
    "\n",
    "disk = visual.Circle(myWin, radius=80, fillColor='black', lineColor=None)\n",
    "square =visual.Rect(myWin, width=200, height=200, fillColor='white', lineColor=None)\n",
    "\n",
    "myScale = visual.RatingScale(myWin, pos = [0, -280], low = 10, high = 100, textSize = 0.5, lineColor = 'black', tickHeight=False, scale=None, showAccept=False, singleClick=True)\n",
    "information = visual.TextStim(myWin, pos = [0, -305], text = '', height = 18, color = 'black')\n",
    "\n",
    "finished = False \n",
    "while not finished:\n",
    "    disk.setPos([-100, -100]) \n",
    "    disk.draw() \n",
    "    disk.setPos([-100, 100]) \n",
    "    disk.draw() \n",
    "    disk.setPos([100, 100]) \n",
    "    disk.draw() \n",
    "    disk.setPos([100, -100]) \n",
    "    disk.draw()\n",
    "\n",
    "    square.draw()\n",
    "    information.draw()\n",
    "    myScale.draw()\n",
    "\n",
    "    myWin.flip()\n",
    "    \n",
    "    if myScale.noResponse == False: #some new value has been selected with the mouse\n",
    "        radius = myScale.getRating()\n",
    "        disk.setRadius(radius)\n",
    "        information.setText(str(radius))\n",
    "        myScale.reset()\n",
    "\n",
    "    if event.getKeys(keyList = ['escape']): #pressing ESC quits the program\n",
    "        finished = True\n",
    "\n",
    "myWin.close() #closes the window\n",
    "core.quit() #quits\n"
   ]
  },
  {
   "cell_type": "markdown",
   "metadata": {},
   "source": [
    "#### 실습 8. 가운데 수직선도 그려주기(최종)"
   ]
  },
  {
   "cell_type": "code",
   "execution_count": 34,
   "metadata": {},
   "outputs": [
    {
     "name": "stdout",
     "output_type": "stream",
     "text": [
      "5230.9076 \tWARNING \tMonitor specification not found. Creating a temporary one...\n"
     ]
    },
    {
     "ename": "SystemExit",
     "evalue": "0",
     "output_type": "error",
     "traceback": [
      "An exception has occurred, use %tb to see the full traceback.\n",
      "\u001b[0;31mSystemExit\u001b[0m\u001b[0;31m:\u001b[0m 0\n"
     ]
    }
   ],
   "source": [
    "# 해보자\n",
    "\n",
    "import math, numpy, random #handy system and math functions\n",
    "from psychopy import core, event, visual, gui #these are the psychopy modules\n",
    "\n",
    "myWin = visual.Window(color='white', units='pix', size=[1000,1000], allowGUI=False, fullscr=False)#creates a window\n",
    "myClock = core.Clock() #this creates and starts a clock which we can later read\n",
    "\n",
    "disk = visual.Circle(myWin, radius=80, fillColor='black', lineColor=None)\n",
    "square =visual.Rect(myWin, width=200, height=200, fillColor='white', lineColor=None)\n",
    "\n",
    "myScale = visual.RatingScale(myWin, pos = [0, -280], low = 10, high = 100, textSize = 0.5, lineColor = 'black', tickHeight=False, scale=None, showAccept=False, singleClick=True)\n",
    "information = visual.TextStim(myWin, pos = [0, -305], text = '', height = 18, color = 'black')\n",
    "\n",
    "line = visual.Rect(myWin, width = 2, height = 400, fillColor = 'black', lineColor = None)\n",
    "\n",
    "finished = False \n",
    "while not finished:\n",
    "    disk.setPos([-100, -100]) \n",
    "    disk.draw() \n",
    "    disk.setPos([-100, 100]) \n",
    "    disk.draw() \n",
    "    disk.setPos([100, 100]) \n",
    "    disk.draw() \n",
    "    disk.setPos([100, -100]) \n",
    "    disk.draw()\n",
    "\n",
    "    line.draw()\n",
    "    square.draw()\n",
    "    information.draw()\n",
    "    myScale.draw()\n",
    "\n",
    "    myWin.flip()\n",
    "    \n",
    "    if myScale.noResponse == False: #some new value has been selected with the mouse\n",
    "        radius = myScale.getRating()\n",
    "        disk.setRadius(radius)\n",
    "        information.setText(str(radius))\n",
    "        myScale.reset()\n",
    "\n",
    "    if event.getKeys(keyList = ['escape']): #pressing ESC quits the program\n",
    "        finished = True\n",
    "\n",
    "myWin.close() #closes the window\n",
    "core.quit() #quits\n"
   ]
  },
  {
   "cell_type": "markdown",
   "metadata": {},
   "source": [
    "# Extra Programming Challenge for Extra Fun"
   ]
  },
  {
   "cell_type": "markdown",
   "metadata": {},
   "source": [
    "The best way to fully understand a program is to change it and make it do something different. So here a couple of things you can try. The first is to make the disk 'grey' instead of 'black' to see if the Kanizsa square is still visible. You can do that using the parameters when you set up the objects. The second change is a bit more difficult; can you replace the square with a circle? That way you have a circle partly hidden by four circles. You would need to replace the object called square with a different type of object. To create this new circle object you need to look and copy the way that we have defined the disk. I suggest you try a radius of 100 pixels, and of course the fillColor needs to be white like it was for the square."
   ]
  },
  {
   "cell_type": "markdown",
   "metadata": {},
   "source": [
    "# 참고자료\n",
    "* [1] Programming Visual Illusions for Everyone (Vision, Illusion and Perception) - https://www.amazon.com/Programming-Illusions-Everyone-Illusion-Perception/dp/3319640658\n",
    "* [2] Programming Visual Illusions for Everyone (Website) - https://www.programmingvisualillusionsforeveryone.online/index.html\n",
    "* [3] Scripts to download - https://www.programmingvisualillusionsforeveryone.online/scripts.html"
   ]
  }
 ],
 "metadata": {
  "kernelspec": {
   "display_name": "Python 2",
   "language": "python",
   "name": "python2"
  },
  "language_info": {
   "codemirror_mode": {
    "name": "ipython",
    "version": 2
   },
   "file_extension": ".py",
   "mimetype": "text/x-python",
   "name": "python",
   "nbconvert_exporter": "python",
   "pygments_lexer": "ipython2",
   "version": "2.7.13"
  }
 },
 "nbformat": 4,
 "nbformat_minor": 2
}
