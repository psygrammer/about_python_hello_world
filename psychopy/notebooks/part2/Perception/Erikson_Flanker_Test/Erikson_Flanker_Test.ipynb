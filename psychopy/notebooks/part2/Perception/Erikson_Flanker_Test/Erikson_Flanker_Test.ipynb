{
 "cells": [
  {
   "cell_type": "markdown",
   "metadata": {},
   "source": [
    "## Erikson Flanker Test\n",
    "#### 2018 싸이그래머 어바웃파이썬 6회차 Psychopy \n",
    "#### Comments by Y.Lee\n",
    "\n",
    "참고: \n",
    "\n",
    "Author: Krisztina Peres\n",
    "10.04.2013.\n",
    "Estimated time of the task: 2-5 min\n",
    "Reference:\n",
    "Eriksen, B.A., Eriksen, C.W. (1974). Effects of noise letters upon the identification of a target letter in a nonsearch task. Perception and Psychophysics, 16, 143-149.\n",
    "Van Veen, V., Cohen, J. D., Botvinick, M. M., Stenger, V. A. & Carter, S. C. (2001). Anterior cingulate cortex, conflict monitoring, and levels of procession. NeuroImage, (14), 1302-1308.\n",
    "\n",
    "- Recommended readings\n",
    "Styles, E. (2006). The Psychology of Attention, 2.ed..New York, NY: Psychology Press.\n",
    "References\n",
    "\n",
    "Eriksen, B.A., Eriksen, C.W. (1974). Effects of noise letters upon the identification of a target letter in a nonsearch task. Perception and Psychophysics, 16, 143-149.\n",
    "\n",
    "Sanders, A. F. & Lamers, J. M. (2002). The Eriksen flanker effect revisited. Acta Psychologica, (109), 41-56.\n",
    "\n",
    "Styles, E. (2006). The Psychology of Attention, 2.ed..New York, NY: Psychology Press. Van Veen, V., Cohen, J. D., Botvinick, M. M., Stenger, V. A. & Carter, S. C. (2001). Anterior cingulate cortex, conflict monitoring, and levels of procession. NeuroImage, (14), 1302-1308.\n",
    "\n",
    "This work is licensed under a Creative Commons Attribution-ShareAlike 3.0 Unported License.\n"
   ]
  },
  {
   "cell_type": "markdown",
   "metadata": {},
   "source": [
    "## 차례\n",
    "\n",
    "- 실험 준비\n",
    "- 실험 실행\n",
    "- 실험 내용 소개\n",
    "- 소스 분석"
   ]
  },
  {
   "cell_type": "markdown",
   "metadata": {
    "collapsed": true
   },
   "source": [
    "## 실험 준비"
   ]
  },
  {
   "cell_type": "markdown",
   "metadata": {},
   "source": [
    "#### 참여자가 실험을 하는 동안 기록한 모든 내용을 저장해줄 1) 결과 기록(analyze_log) 파일과, 2) 실험 파일(py)을 준비한다\n",
    "1) analyze_log.py\n",
    "2) erikson_flanker_test.py\n"
   ]
  },
  {
   "cell_type": "markdown",
   "metadata": {},
   "source": [
    "## 실행방법\n",
    "\n",
    "둘 중 하나의 방법으로 위 실험 파일 두개를 열면 된다. "
   ]
  },
  {
   "cell_type": "markdown",
   "metadata": {},
   "source": [
    "방법 1)\n",
    "\n",
    "콘솔창을 열어서 \n",
    "\n",
    "python erikson_flanker_test.py\n",
    "\n",
    "과\n",
    "\n",
    "python analyze_log.py"
   ]
  },
  {
   "cell_type": "markdown",
   "metadata": {},
   "source": [
    "방법 2\n",
    "노트북에서 직접 실행"
   ]
  },
  {
   "cell_type": "code",
   "execution_count": 3,
   "metadata": {},
   "outputs": [
    {
     "name": "stdout",
     "output_type": "stream",
     "text": [
      "User Cancelled\n",
      "18.6681 \tERROR \tavbin.dll failed to load. Try importing psychopy.visual\n",
      "  as the first library (before anything that uses scipy)\n",
      "  and make sure that avbin is installed.\n"
     ]
    }
   ],
   "source": [
    "!python eriksen_flanker_test.py"
   ]
  },
  {
   "cell_type": "code",
   "execution_count": null,
   "metadata": {
    "collapsed": true
   },
   "outputs": [],
   "source": [
    "%ls"
   ]
  },
  {
   "cell_type": "markdown",
   "metadata": {
    "collapsed": true
   },
   "source": [
    "``` python\n",
    "import pandas as pd\n",
    "\n",
    "df = pd.read_csv(\"1_eriksen.csv\")\n",
    "\n",
    "df.head()\n",
    "\n",
    "import analyze_log\n",
    "\n",
    "#log file\n",
    "file_name = exp_info['participant']+'_eriksen.csv'\n",
    "\n",
    "log_file = open(file_name, 'a')# a simple text file with 'comma-separated-values'\n",
    "log_file.write('participant, condition, stimulus, response, RT, error\\n')\n",
    "\n",
    "file_name = \"1_eriksen_flanker.csv\"\n",
    "analyze_log.analyze_log(filename=file_name,indep_var='x_position',dep_var='response_x',\n",
    "function='mean',graph_types=['line'])\n",
    "\n",
    "```"
   ]
  },
  {
   "cell_type": "code",
   "execution_count": null,
   "metadata": {
    "collapsed": true,
    "scrolled": true
   },
   "outputs": [],
   "source": [
    "%ls"
   ]
  },
  {
   "cell_type": "markdown",
   "metadata": {
    "collapsed": true
   },
   "source": [
    "``` python\n",
    "#Pandas패키지 소환, data frame을 구성.\n",
    "df2=pd.read_csv(\"1_attention.csv_result.txt\")\n",
    "df2\n",
    "```"
   ]
  },
  {
   "cell_type": "markdown",
   "metadata": {},
   "source": [
    "## 내용 소개\n",
    "- Theoretical Background\n",
    "- Procedure\n",
    "- Expected Results\n"
   ]
  },
  {
   "cell_type": "markdown",
   "metadata": {},
   "source": [
    "출저: http://www.tankonyvtar.hu/en/tartalom/tamop412A/2011-0018_08_kiserletek/ch03.html#id535764\n",
    "\n",
    "예상 소요시간: 2-5 분\n",
    "\n",
    "## 이론적 배경\n",
    "\n",
    "Eriksen flanker test is a method to measure visual attention. It belongs to conflict paradigms: in these tasks the stimuli activates conflicting responses (Styles, 2006)[5]. In the Eriksen paradigm a five letter set is shown, but the participant has to respond only to the middle letter. The response should depend on the letter presented in the middle position, e.g., if middle letter is \"S\" then participant should push the key \"4\"; if \"H\" then key \"5\". Conflict is caused by neighbour (flanker) letters, because they activate other response than the letter in the middle position (e.g. SSHSS). In the conflict cases the reaction time increases compared to conditions, where only one letter was shown, or where the flanker letters are identical with the middle letter (e.g. SSSSS).\n",
    "\n",
    "Result of the paradigm is interpreted by continuous information process models, which means a stimulus can activate different responses at the same time in the brain. These responses can inhibit each other, as it happens in the Eriksen flanker test, where middle and flanker letters are in inhibitory relation. However, with the progress of processing the correct answer gets more activation, what finally generates the appropriate motor response. Although the interference can be detected with the appearance of incorrect responses, increased reaction times are more reliable signs of the inference (Sanders and Lamers, 2002)[6].\n",
    "\n",
    "\n",
    "<img src=\"http://www.antonellapavese.com/cog435/notes113.gif\" width=600/>\n",
    "\n",
    "해석 (의역 추가)\n",
    "\n",
    "Eriksen Flanker 검사는 시각적 주의를 측정하는 방법입니다. 그것은 (인지적 자원간의) 충돌 패러다임의 일부이다 :즉, 여기서 제시되는 자극은 서로 상반되는 반응을 촉발한다. (Styles, 2006). 이 실험에서는  한 세트(=5개의 글자)가 제시되지만 참여자는 중간에 위치한 글자가 무엇인지만 응답해야하는 과제이다. (예상되는 바로는) 참여자의 응답의 반응 속도는 중간 위치에 제시된 글자에 각각 배정된 키를 눌러야한다. 예를 들어, 중간 글자가 \"S\"이면 \"4\"키를, \"H\"이면 \"5\"를 눌러야한다. 이때, 일어날 수 있는 반응간의 충돌은 중간글자 외에 이웃 문자들이 방해를 하기때문에 (예를 들어 한 세트 \"SSHSS\"가 제시되었을때 S들이 H를 빨리 인식하게 하는데 '방해'하는 역할을 한다) 이외의 다른 응답을 하게끔 유도한다. 그 결과, 이러한 충돌로 인해 중간글자와 이웃글자가 일치하는 조건(예 : SSSSS)보다 중간글자와 이웃글자가 불일치하는 조건(예: SSHSS)에서 참여자의 응답 반응시간은 더 느려지게 된다. \n",
    "\n",
    "\n",
    "\n",
    "(구글 번역)\n",
    "패러다임의 결과는 지속적인 정보 처리 모델에 의해 해석됩니다. 즉, 자극은 뇌에서 동시에 다른 반응을 활성화 할 수 있음을 의미합니다. 이러한 반응은 Eriksen 플랭 커 테스트에서 발생하기 때문에 서로를 억제 할 수 있습니다. 중간 및 옆구리 글자는 억제 관계에 있습니다. 그러나 정교한 처리가 진행됨에 따라 올바른 답이 활성화되고 마침내 적절한 모터 응답이 생성됩니다. 간섭이 부정확 한 반응의 출현으로 검출 될 수 있지만, 반응 시간의 증가는 추론의 더 확실한 신호이다 (Sanders and Lamers, 2002)."
   ]
  },
  {
   "attachments": {
    "image.png": {
     "image/png": "[encoded data removed]"
    }
   },
   "cell_type": "markdown",
   "metadata": {},
   "source": [
    "## 절차\n",
    "\n",
    "<img src=\"https://www.frontiersin.org/files/Articles/133309/fnhum-09-00269-HTML/image_m/fnhum-09-00269-g001.jpg\" width=600/>\n",
    "\n",
    "In the original Eriksen and Eriksen (1974)[7] experiment, two independent variables were measured in six conditions (type of flanker letters, and space between them), which leads to high number of stimuli presentation. The present demonstration is based on a simpler version by van Veen, Cohen, Botvinick Stenger and Carter's (2001)[8], where only the type of the flanker letters were manipulated.\n",
    "\n",
    "In the study participants had to respond to the middle letter of a five letter stimuli set: if \"S\" or \"M\" were in the middle, they had to push key \"4\"; if \"P\" or \"H\" were the middle letters, then key \"5\" should be used. On the left and right side there were two-two letters (e.g. PPHPP). Three conditions were used:\n",
    "\n",
    "In the congruent condition (CO) middle and flanker letters were the same letters e.g. SSSSS.\n",
    "In the stimulus-incongruent (SI) condition, while the middle and the flanker letters were different, both of them activated the same answer, e.g., SSMSS: for both \"S\" and \"M\" letters the key \"4\" should be pressed.\n",
    "In the response-incongruent condition (RI) condition, the different flanker and target stimuli required different button presses., e.g., SSHSS, where for \"S\" right answer is key \"4\", for H right answer is key \"5\".\n",
    "After the instruction, 96 trials were used in six blocks (in one block there were 16 stimuli: all of the 16 combinations that is available from the four letters). In each block 50% of stimuli were from congruent condition (CO), 25-25% from the other two types of incongruent conditions (SI, RI). Stimuli were randomly presented. One letter set with a little arrow pointed to the middle letter, stayed for 300 ms. Then a fixation cross appeared until the participant gave a response. The interval between the response and the next stimulus was 11,700 ms. In the study response and reaction time were measured, and analysed. In the present demonstration 64 stimuli is presented.\n",
    "\n",
    "(구글 번역)\n",
    "원래의 Eriksen and Eriksen (1974) [7] 실험에서 두 가지 독립 변수가 여섯 가지 조건 (옆구리 문자 유형과 그 사이의 공간 유형)에서 측정되었으므로 많은 수의 자극 표현이 가능합니다. 현재의 시연은 van Veen, Cohen, Botvinick Stenger와 Carter (2001) [8]에 의해보다 단순한 버전을 기반으로하고 있으며, 여기에는 측면 문자의 유형 만 조작되었다.\n",
    "\n",
    "연구 참가자들은 5 글자 자극 세트의 중간 글자에 응답해야했습니다. \"S\"또는 \"M\"이 가운데에 있으면 \"4\"키를 눌러야했습니다. \"P\"또는 \"H\"가 중간 글자라면 \"5\"키를 사용해야합니다. 왼쪽과 오른쪽에는 글자 2 자 (예 : PPHPP)가있었습니다. 세 가지 조건이 사용되었습니다.\n",
    "\n",
    "세 가지 조건: \n",
    "\n",
    "#### 1) 합동 조건 (Congruent Condition: CO)에서, 중간 및 플랭커 글자는 동일한 글자이다. SSSSS.\n",
    "\n",
    "#### 2) 자극 - 부적합 (Stimulus-incongruent condition: SI) 상태에서 가운데와 옆줄 문자가 다른 동안 두 가지 모두 동일한 대답을 활성화합니다 (예 : SSMSS). \"S\"와 \"M\"문자 모두 키 \"4\"를 눌러야합니다 .\n",
    "\n",
    "#### 3) 응답 불일치 조건 (Response-incongruent condition: RI) 상태에서, 상이한 플 랭커 및 타겟 자극은 SSHSS와 같은 상이한 버튼 누름을 필요로하는데, 여기서 \"S\"정답은 키 \"4\"이고, H 정답은 키 \"5\"이다.\n",
    "\n",
    "지시 후에, 96 개의 시도가 6 개의 블록에서 사용되었습니다 (하나의 블록에는 16 개의 자극이있었습니다 : 16 개의 모든 조합이 4 개의 문자에서 가능합니다). 각 블록에서 50 %의 자극은 일치 조건 (CO)에서, 25-25 %는 다른 두 가지 유형의 부적절한 조건 (SI, RI)에서 발생했습니다. 자극은 무작위로 제시되었습니다. 작은 글씨로 된 한 글자는 중간 글자를 가리키며 300 밀리 초 동안 머물렀다. 그런 다음 참가자가 응답 할 때까지 고정 십자가가 나타납니다. 반응과 다음 자극 사이의 간격은 11,700ms였습니다. 연구 응답 및 반응 시간을 측정하고 분석했습니다. 현재 시연에서는 자극이 제시된다.\n",
    "\n",
    "\n",
    "## 예상 결과\n",
    "\n",
    "![image.png](attachment:image.png)\n",
    "\n",
    "We expect faster responses in the congruent condition (CO) than in the different response incongruent condition (RI). We expect the reaction time of the stimulus incongruent (SI) condition to be between the reaction times of the CA and the RI conditions. These results can be seen in the study of van Veen, Cohen, Botvinick, Stenger and Carter (2001).\n",
    "\n",
    "Figure 1. Mean reaction time for the middle letter by congruent flankers (CO); stimulus incongruent flankers (SI), and by response incongruent flankers (RI).\n",
    "\n",
    "(구글 번역)\n",
    "\n",
    "서로 다른 부적합 조건 (RI)보다 일치 조건 (CO)에서 더 빠른 응답을 기대합니다. 우리는 자극 부적절 (incongruent, SI) 조건의 반응 시간이 CA와 반응기 조건의 반응 시간 사이에있을 것으로 기대한다. 이 결과는 van Veen, Cohen, Botvinick, Stenger 및 Carter (2001)의 연구에서 볼 수있다.\n",
    "\n",
    "그림 1. 일치하는 이웃 문자 (CO)에 의한 중간 글자의 평균 반응 시간; 자극 부적절한 측면 (SI), 부적절한 측면 (RI)에 의해 나타납니다."
   ]
  },
  {
   "cell_type": "markdown",
   "metadata": {},
   "source": [
    "## 소스 분석"
   ]
  },
  {
   "cell_type": "markdown",
   "metadata": {},
   "source": [
    "##### eriksen_flanker_task.py"
   ]
  },
  {
   "cell_type": "markdown",
   "metadata": {
    "collapsed": true
   },
   "source": [
    "#### 라이브러리들"
   ]
  },
  {
   "cell_type": "code",
   "execution_count": 1,
   "metadata": {
    "collapsed": true
   },
   "outputs": [],
   "source": [
    "# -*- coding: utf-8 -*-\n",
    "# Imports\n",
    "from psychopy import visual, core, gui, event\n",
    "#import analyze_log, \n",
    "import random"
   ]
  },
  {
   "cell_type": "markdown",
   "metadata": {},
   "source": [
    "#### 윈도우 생성"
   ]
  },
  {
   "cell_type": "code",
   "execution_count": null,
   "metadata": {
    "collapsed": true
   },
   "outputs": [],
   "source": [
    "#자극이 제시될 '창'이 필요함. 윈도우 사이즈와 속성 등을 정의해주어야함. \n",
    "\n",
    "#여기서 윈도우 크기는 testmonitor size를 참조하거나 또는 자신의 모니터 환경을 확인한 후 직접 넣을 수 있음. Psychopy Builder Mode의 경우, <Experiments -> Devices -> Monitor> 에서 Testmonitor의 파라미터를 바꿀 수 있음. Builder Mode에서 Coder Mode로 전환할 때 testmonitor error가 뜨는 경우 window size가 모니터 사이즈/비율과 맞지않아서 생길 수 있으니 이 점을 먼저 확인하는 것이 좋음. \n",
    "\n",
    "#윈도우 정의 및 생성\n",
    "\n",
    "win = visual.Window([800,480], allowGUI=True, fullscr=False, waitBlanking=True, monitor='testMonitor', units='pix') # Create window\n",
    "\n",
    "win.flip() # 윈도우 생성\n",
    "core.wait(1) # 잠시 멈추기 (숫자는 초(sec)단위)\n",
    "\n",
    "win.close() # 윈도우 닫기"
   ]
  },
  {
   "cell_type": "markdown",
   "metadata": {},
   "source": [
    "#### 안내문 제시하기\n",
    "\n",
    "안내문이 제시된 화면 생성하기 (Creating an instruction page)\n",
    "\"In the following task you will see letters. You have to pay attention only to the middle letter.\\n\\nIf this letter is 'S' or 'M', press key '1'!\\nIf the middle letter is 'P' or 'H', press key '9'!\"\n",
    "\n",
    "(번역)\n",
    "\"이번 실험에서는 화면의 가운데에 여러개의 문자가 제시됩니다. 화면에 나타난 문자가 'S'또는 'M'이면 '1'키를 누르십시오! 중간 문자가 'P'또는 'H'인 경우 키 '9'를 누르십시오.\""
   ]
  },
  {
   "cell_type": "code",
   "execution_count": null,
   "metadata": {
    "collapsed": true
   },
   "outputs": [],
   "source": [
    "# 안내문\n",
    "# Language specific components\n",
    "def _(string):\n",
    "    # You should use texts dictionary to strore the strings, and set exp_info['language'] to specify the language\n",
    "    return texts[string][exp_info['language']]\n",
    "\n",
    "texts = {\n",
    "    'instr':\n",
    "        {'en':\"In the following task you will see letters. You have to pay attention only to the middle letter.\\n\\nIf this letter is 'S' or 'M', press key '1'!\\nIf the middle letter is 'P' or 'H', press key '9'!\",\n",
    "        'hu':u\"A következő feladatban egy-egy betűsort fogsz látni. A betűsorból csak a középső betűre kell figyelned.\\n\\nHa a középső betű 'S' vagy 'M', nyomd meg az '1'-es billentyűt!\\nHa a középső betű 'P' vagy 'H', a 9-es billentyűd nyomd meg!\"},\n",
    "}\n",
    "\n",
    "\n",
    "exp_info = {'participant':'participant_ID',\n",
    "    'language': texts.values()[0].keys()} # default parameters of the experiment\n",
    "\n",
    "# Setting some parameters on GUI\n",
    "dlg = gui.DlgFromDict(exp_info, title='Eriksen flanker test',\n",
    "   order = ['participant', 'language'],\n",
    "    tip = {'participant':'Identifier of the participant.',\n",
    "        'language':'Language of the instructions.',})\n",
    "if not dlg.OK:\n",
    "    print 'User Cancelled'\n",
    "    core.quit()\n",
    "    \n",
    "\n",
    "win = visual.Window([1366,768], allowGUI=True, fullscr=False, waitBlanking=True, monitor='testMonitor', units='pix') # Create window\n",
    "\n",
    "instruction = visual.TextStim(win, pos=[0,2], wrapWidth=30, text=_('instr'))\n",
    "\n",
    "instruction.draw()\n",
    "win.flip()\n",
    "event.waitKeys()\n",
    "\n",
    "win.flip()\n",
    "core.wait(1)\n",
    "\n",
    "win.close()"
   ]
  },
  {
   "cell_type": "code",
   "execution_count": null,
   "metadata": {
    "collapsed": true
   },
   "outputs": [],
   "source": [
    "texts"
   ]
  },
  {
   "cell_type": "code",
   "execution_count": null,
   "metadata": {
    "collapsed": true
   },
   "outputs": [],
   "source": [
    "exp_info"
   ]
  },
  {
   "cell_type": "markdown",
   "metadata": {},
   "source": [
    "## 실험 컴포넌트 만들기"
   ]
  },
  {
   "cell_type": "markdown",
   "metadata": {},
   "source": [
    "### 자극 종류 설정 "
   ]
  },
  {
   "cell_type": "code",
   "execution_count": null,
   "metadata": {
    "collapsed": true
   },
   "outputs": [],
   "source": [
    "#제시할 글자 리스트 설정. \n",
    "letterlist=list('SMPH')"
   ]
  },
  {
   "cell_type": "code",
   "execution_count": null,
   "metadata": {
    "collapsed": true
   },
   "outputs": [],
   "source": [
    "letterlist"
   ]
  },
  {
   "cell_type": "markdown",
   "metadata": {},
   "source": [
    "### 조건별 회수 설정 "
   ]
  },
  {
   "cell_type": "code",
   "execution_count": null,
   "metadata": {
    "collapsed": true
   },
   "outputs": [],
   "source": [
    "conditions = ['congruent']*20 + ['stim_incong']*10 + ['resp_incong']*10\n",
    "random.shuffle(conditions)\n",
    "print(conditions)"
   ]
  },
  {
   "cell_type": "markdown",
   "metadata": {},
   "source": [
    "### 조건 설정"
   ]
  },
  {
   "cell_type": "code",
   "execution_count": null,
   "metadata": {
    "collapsed": true
   },
   "outputs": [],
   "source": [
    "for condition in conditions:\n",
    "    # generate stimuli\n",
    "    mid=random.randint(0,3) # mid=middle letter\n",
    "    # flank: letters next to the middle letter (neighbour letters)\n",
    "    if condition == 'congruent':# 50% of the stimuli are identical letters\n",
    "        flank = mid\n",
    "    elif condition == 'stim_incong': # 25% of the different letters belong to the same response group as the middle letter\n",
    "        if mid==0:\n",
    "            flank=1\n",
    "        elif mid==1:\n",
    "            flank=0\n",
    "        elif mid==2:\n",
    "            flank=3\n",
    "        elif mid==3:\n",
    "            flank=2\n",
    "    elif condition == 'resp_incong': # 25% of the different letters belong to the other response group relative to the middle letter\n",
    "        if mid in [0,1]:\n",
    "            flank=random.randint(2,3)\n",
    "        elif mid in [2,3]:\n",
    "            flank=random.randint(0,1)\n",
    "\n",
    "    text=letterlist[flank]*2 + letterlist[mid] + letterlist[flank]*2 # generated stimuli\n",
    "    print(text)"
   ]
  },
  {
   "cell_type": "markdown",
   "metadata": {},
   "source": [
    "### 반응 설정"
   ]
  },
  {
   "cell_type": "markdown",
   "metadata": {},
   "source": [
    "```python\n",
    "response=event.waitKeys()[0]\n",
    "    rt = trial_clock.getTime() # store reaction time 반응시간\n",
    "    if response=='escape': # stops experiment if esc is pressed \n",
    "        core.quit()\n",
    "    correct_response = '1' if letterlist[mid] in ['S', 'M'] else '9' #디폴트는 1 (P또는 H일 경우), or 9 (S또는 M일 경우)\n",
    "    log_file.write('%s, %s,%s,%s,%s,%d\\n' %(exp_info['participant'], condition, text, response, rt, correct_response!=response))\n",
    "```"
   ]
  },
  {
   "cell_type": "code",
   "execution_count": 2,
   "metadata": {},
   "outputs": [
    {
     "name": "stdout",
     "output_type": "stream",
     "text": [
      "0.8241 \tERROR \tavbin.dll failed to load. Try importing psychopy.visual\n",
      "  as the first library (before anything that uses scipy)\n",
      "  and make sure that avbin is installed.\n"
     ]
    },
    {
     "ename": "SystemExit",
     "evalue": "0",
     "output_type": "error",
     "traceback": [
      "An exception has occurred, use %tb to see the full traceback.\n",
      "\u001b[1;31mSystemExit\u001b[0m\u001b[1;31m:\u001b[0m 0\n"
     ]
    },
    {
     "name": "stderr",
     "output_type": "stream",
     "text": [
      "C:\\Users\\Yoon_LGlaptop\\Anaconda2\\envs\\about_python_psychopy\\lib\\site-packages\\IPython\\core\\interactiveshell.py:2890: UserWarning: To exit: use 'exit', 'quit', or Ctrl-D.\n",
      "  warn(\"To exit: use 'exit', 'quit', or Ctrl-D.\", stacklevel=1)\n"
     ]
    }
   ],
   "source": [
    "#-*- coding: utf-8 -*-\n",
    "\n",
    "\"\"\"\n",
    "Eriksen flanker test\n",
    "Author of the demo: Krisztina Peres\n",
    "Date of the first published version: 2012 November 30\n",
    "Date of the last modification: 3 July 2013\n",
    "\n",
    "Copyright 2013 Krisztina Peres\n",
    "Licensed under the MIT License. You may obtain a copy of the License at http://opensource.org/licenses/MIT\n",
    "\"\"\"\n",
    "\n",
    "#Imports\n",
    "from psychopy import visual, core, gui,event\n",
    "import random\n",
    "\n",
    "# Language specific components\n",
    "def _(string):\n",
    "    # You should use texts dictionary to strore the strings, and set exp_info['language'] to specify the language\n",
    "    return texts[string][exp_info['language']]\n",
    "\n",
    "texts = {\n",
    "    'instr':\n",
    "        {'en':\"In the following task you will see letters. You have to pay attention only to the middle letter.\\n\\nIf this letter is 'S' or 'M', press key '1'!\\nIf the middle letter is 'P' or 'H', press key '9'!\",\n",
    "        'hu':u\"A következő feladatban egy-egy betűsort fogsz látni. A betűsorból csak a középső betűre kell figyelned.\\n\\nHa a középső betű 'S' vagy 'M', nyomd meg az '1'-es billentyűt!\\nHa a középső betű 'P' vagy 'H', a 9-es billentyűd nyomd meg!\"},\n",
    "}\n",
    "\n",
    "\n",
    "exp_info = {'participant':'participant_ID',\n",
    "    'language': texts.values()[0].keys()} # default parameters of the experiment\n",
    "\n",
    "# Setting some parameters on GUI\n",
    "dlg = gui.DlgFromDict(exp_info, title='Eriksen flanker test',\n",
    "   order = ['participant', 'language'],\n",
    "    tip = {'participant':'Identifier of the participant.',\n",
    "        'language':'Language of the instructions.',})\n",
    "if not dlg.OK:\n",
    "    print 'User Cancelled'\n",
    "    core.quit()\n",
    "\n",
    "#log file\n",
    "file_name = exp_info['participant']+'_eriksen.csv'\n",
    "\n",
    "log_file = open(file_name, 'a')# a simple text file with 'comma-separated-values'\n",
    "log_file.write('participant, condition, stimulus, response, RT, error\\n')\n",
    "\n",
    "#create window and stimuli\n",
    "win = visual.Window([1366,768],allowGUI=True, fullscr=False, waitBlanking=True, monitor='testMonitor', units='deg')\n",
    "trial_clock=core.Clock()\n",
    "\n",
    "#stimuli\n",
    "instruction = visual.TextStim(win, pos=[0,2], wrapWidth=30, text=_('instr'))\n",
    "fix_cross = visual.TextStim(win, text=\"+\", pos=(0,0), height=1, color='black')\n",
    "word_text = visual.TextStim(win, pos=(0,0))\n",
    "letterlist=list('SMPH')\n",
    "arrow = visual.ShapeStim(win, lineColor='black', lineWidth=2.0, fillColor='black', vertices=((-0.05,-0.2), (0.05, -0.2), (0.05, 0.0), (0.1, 0.0), (0, 0.2), (-0.1, 0), (-0.05, 0)), closeShape=True, pos= [0,-1], interpolate=True)\n",
    "\n",
    "#experiment\n",
    "instruction.draw()\n",
    "win.flip()\n",
    "event.waitKeys()\n",
    "\n",
    "conditions = ['congruent']*20 + ['stim_incong']*10 + ['resp_incong']*10\n",
    "random.shuffle(conditions)\n",
    "\n",
    "for condition in conditions:\n",
    "    # generate stimuli\n",
    "    mid=random.randint(0,3) # mid=middle letter\n",
    "    # flank: letters next to the middle letter (neighbour letters)\n",
    "    if condition == 'congruent':# 50% of the stimuli are identical letters\n",
    "        flank = mid\n",
    "    elif condition == 'stim_incong': # 25% of the different letters belong to the same response group as the middle letter\n",
    "        if mid==0:\n",
    "            flank=1\n",
    "        elif mid==1:\n",
    "            flank=0\n",
    "        elif mid==2:\n",
    "            flank=3\n",
    "        elif mid==3:\n",
    "            flank=2\n",
    "    elif condition == 'resp_incong': # 25% of the different letters belong to the other response group relative to the middle letter\n",
    "        if mid in [0,1]:\n",
    "            flank=random.randint(2,3)\n",
    "        elif mid in [2,3]:\n",
    "            flank=random.randint(0,1)\n",
    "\n",
    "    text=letterlist[flank]*2 + letterlist[mid] + letterlist[flank]*2 # generated stimuli\n",
    "    fix_cross.draw()\n",
    "    win.flip()\n",
    "    core.wait(0.2)\n",
    "    word_text.setText(text)\n",
    "    word_text.draw()\n",
    "    arrow.draw() # indicates the target (middle) letter\n",
    "    win.flip()\n",
    "    trial_clock.reset()\n",
    "    core.wait(0.3)\n",
    "    win.flip()\n",
    "    \n",
    "    response=event.waitKeys()[0]\n",
    "    rt = trial_clock.getTime() # store reaction time\n",
    "    if response=='escape': # stops experiment if esc is pressed\n",
    "        core.quit()\n",
    "    correct_response = '1' if letterlist[mid] in ['S', 'M'] else '9'\n",
    "    log_file.write('%s, %s,%s,%s,%s,%d\\n' %(exp_info['participant'], condition, text, response, rt, correct_response!=response))\n",
    "    win.flip()\n",
    "    core.wait(0.5)\n",
    "    \n",
    "log_file.close()\n",
    "\n",
    "core.quit()\n",
    "win.close()"
   ]
  },
  {
   "cell_type": "code",
   "execution_count": 1,
   "metadata": {},
   "outputs": [
    {
     "ename": "NameError",
     "evalue": "name 'analyze_log' is not defined",
     "output_type": "error",
     "traceback": [
      "\u001b[1;31m---------------------------------------------------------------------------\u001b[0m",
      "\u001b[1;31mNameError\u001b[0m                                 Traceback (most recent call last)",
      "\u001b[1;32m<ipython-input-1-2f66af364a3c>\u001b[0m in \u001b[0;36m<module>\u001b[1;34m()\u001b[0m\n\u001b[0;32m      2\u001b[0m \u001b[1;31m# Analyze data\u001b[0m\u001b[1;33m\u001b[0m\u001b[1;33m\u001b[0m\u001b[0m\n\u001b[0;32m      3\u001b[0m \u001b[1;31m# 로그파일 분석\u001b[0m\u001b[1;33m\u001b[0m\u001b[1;33m\u001b[0m\u001b[0m\n\u001b[1;32m----> 4\u001b[1;33m analyze_log.analyze_log (filename=file_name, \n\u001b[0m\u001b[0;32m      5\u001b[0m                          \u001b[0mindep_var\u001b[0m\u001b[1;33m=\u001b[0m\u001b[1;34m'condition'\u001b[0m\u001b[1;33m,\u001b[0m \u001b[0mdep_var\u001b[0m\u001b[1;33m=\u001b[0m\u001b[1;34m'RT'\u001b[0m\u001b[1;33m,\u001b[0m \u001b[0mfunction\u001b[0m\u001b[1;33m=\u001b[0m\u001b[1;34m'median'\u001b[0m\u001b[1;33m,\u001b[0m \u001b[0mfilt_cond\u001b[0m \u001b[1;33m=\u001b[0m \u001b[1;34m'$error$==0'\u001b[0m\u001b[1;33m,\u001b[0m\u001b[1;33m\u001b[0m\u001b[0m\n\u001b[0;32m      6\u001b[0m                          graph_types=['boxplot', 'bar'])\n",
      "\u001b[1;31mNameError\u001b[0m: name 'analyze_log' is not defined"
     ]
    }
   ],
   "source": [
    "#그 외\n",
    "# Analyze data\n",
    "# 로그파일 분석\n",
    "analyze_log.analyze_log (filename=file_name, \n",
    "                         indep_var='condition', dep_var='RT', function='median', filt_cond = '$error$==0',\n",
    "                         graph_types=['boxplot', 'bar'])"
   ]
  }
 ],
 "metadata": {
  "kernelspec": {
   "display_name": "about_python_psychopy",
   "language": "python",
   "name": "about_python_psychopy"
  },
  "language_info": {
   "codemirror_mode": {
    "name": "ipython",
    "version": 2
   },
   "file_extension": ".py",
   "mimetype": "text/x-python",
   "name": "python",
   "nbconvert_exporter": "python",
   "pygments_lexer": "ipython2",
   "version": "2.7.13"
  }
 },
 "nbformat": 4,
 "nbformat_minor": 2
}
