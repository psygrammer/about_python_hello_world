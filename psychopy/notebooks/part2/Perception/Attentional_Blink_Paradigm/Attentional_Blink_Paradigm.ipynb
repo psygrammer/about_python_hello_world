{
 "cells": [
  {
   "cell_type": "markdown",
   "metadata": {},
   "source": [
    "# Attentional Blink Paradigm"
   ]
  },
  {
   "cell_type": "markdown",
   "metadata": {},
   "source": [
    "* 어바웃 파이썬 : 겨울방학 특강 - PsychoPy (1, 2)\n",
    "* 김무성     "
   ]
  },
  {
   "cell_type": "markdown",
   "metadata": {},
   "source": [
    "#### 참고\n",
    "* Created by Gábor Lengyel\n",
    "* Date of creation: 2013.06.10.\n",
    "* Experiment software: PsychoPy\n",
    "* Estimated running time: 10 minute\n",
    "* Reference for the original experiment: Raymond, J. E., Shapiro, K. L., and Arnell, K. M. (1992). Temporary suppression of visual processing in an RSVP task: An attentional blink? Journal of Experimental Psychology: Human Perception and Performance, 18, 849–860.\n",
    "\n",
    "다음 사이트의 자료를 기반으로 작성됨. ()는 레퍼런스 번호, []는 원래 자료의 레퍼런스 번호.\n",
    "* (1) (영어버전) Cognitive Psychology Experiments Demonstrations - http://www.tankonyvtar.hu/hu/tartalom/tamop412A/2011-0018_08_kiserletek/adatok.html\n",
    "* (2) (원래 사이트, 소스코드 있음) Kognitív gyakorlatok - https://sites.google.com/site/kognitivgyakorlatok/"
   ]
  },
  {
   "cell_type": "markdown",
   "metadata": {},
   "source": [
    "# 차례\n",
    "* 준비단계\n",
    "* 실행방법\n",
    "* 내용 소개\n",
    "* 소스 분석"
   ]
  },
  {
   "cell_type": "markdown",
   "metadata": {},
   "source": [
    "# 준비단계\n",
    "\n",
    "## 필요한 파일들\n",
    "* analyze_log.py \n",
    "* attentional_blink.py"
   ]
  },
  {
   "cell_type": "code",
   "execution_count": 1,
   "metadata": {},
   "outputs": [
    {
     "name": "stdout",
     "output_type": "stream",
     "text": [
      "Attentional_Blink_Paradigm.ipynb  attentional_blink.py\r\n",
      "analyze_log.py                    \u001b[34mfigures\u001b[m\u001b[m/\r\n",
      "analyze_log.pyc\r\n"
     ]
    }
   ],
   "source": [
    "%ls"
   ]
  },
  {
   "cell_type": "markdown",
   "metadata": {},
   "source": [
    "# 실행방법"
   ]
  },
  {
   "cell_type": "markdown",
   "metadata": {},
   "source": [
    "### 실행 방법 1 \n",
    "콘솔창을 열어서 \n",
    "\n",
    "```\n",
    "python attentional_blink.py\n",
    "```\n",
    "\n",
    "그리고\n",
    "```\n",
    "python analyze_log.py\n",
    "```"
   ]
  },
  {
   "cell_type": "markdown",
   "metadata": {},
   "source": [
    "### 실행 방법 2"
   ]
  },
  {
   "cell_type": "code",
   "execution_count": 1,
   "metadata": {},
   "outputs": [
    {
     "name": "stdout",
     "output_type": "stream",
     "text": [
      "0 [('A', 'black'), ('D', 'black'), ('Z', 'black'), ('G', 'black'), ('K', 'black'), ('M', 'black'), ('T', 'black'), ('I', 'black'), ('S', 'white'), ('C', 'black'), ('J', 'black'), ('E', 'black'), ('U', 'black'), ('N', 'black'), ('L', 'black'), ('Q', 'black'), ('H', 'black')]\n",
      "0 [('A', 'black'), ('D', 'black'), ('Z', 'black'), ('G', 'black'), ('K', 'black'), ('M', 'black'), ('T', 'black'), ('I', 'black'), ('S', 'black'), ('C', 'black'), ('J', 'black'), ('E', 'black'), ('U', 'white'), ('N', 'black'), ('L', 'black'), ('Q', 'black'), ('H', 'black'), ('B', 'black'), ('Y', 'black'), ('V', 'black'), ('W', 'black')]\n",
      "2 [('A', 'black'), ('D', 'black'), ('Z', 'black'), ('G', 'black'), ('K', 'black'), ('M', 'black'), ('T', 'black'), ('I', 'black'), ('S', 'black'), ('C', 'black'), ('J', 'black'), ('E', 'black'), ('U', 'black'), ('N', 'white'), ('L', 'black'), ('Q', 'black'), ('H', 'black'), ('B', 'black'), ('Y', 'black'), ('V', 'black'), ('X', 'black'), ('O', 'black')]\n",
      "2 [('A', 'black'), ('D', 'black'), ('Z', 'black'), ('G', 'black'), ('K', 'black'), ('M', 'black'), ('T', 'black'), ('I', 'black'), ('S', 'black'), ('C', 'black'), ('J', 'black'), ('E', 'black'), ('U', 'black'), ('N', 'white'), ('L', 'black'), ('Q', 'black'), ('H', 'black'), ('B', 'black'), ('Y', 'black'), ('V', 'black'), ('X', 'black'), ('O', 'black')]\n",
      "Experiment interrupted\n",
      "34.3875 \tWARNING \tCouldn't measure a consistent frame rate.\n",
      "  - Is your graphics card set to sync to vertical blank?\n",
      "  - Are you running other processes on your computer?\n",
      "\n",
      "34.5382 \tWARNING \tt of last frame was 150.94ms (=1/6)\n",
      "36.4061 \tWARNING \tt of last frame was 1867.88ms (=1/0)\n",
      "36.6051 \tWARNING \tt of last frame was 198.96ms (=1/5)\n",
      "36.6363 \tWARNING \tt of last frame was 31.18ms (=1/32)\n",
      "36.7221 \tWARNING \tMultiple dropped frames have occurred - I'll stop bothering you about them!\n"
     ]
    }
   ],
   "source": [
    "# 노트북에서 직접 실행\n",
    "!python attentional_blink.py"
   ]
  },
  {
   "cell_type": "code",
   "execution_count": 3,
   "metadata": {},
   "outputs": [
    {
     "name": "stdout",
     "output_type": "stream",
     "text": [
      "1_attention.csv                   analyze_log.pyc\r\n",
      "2_attention.csv                   attentional_blink.py\r\n",
      "Attentional_Blink_Paradigm.ipynb  \u001b[34mfigures\u001b[m\u001b[m/\r\n",
      "analyze_log.py\r\n"
     ]
    }
   ],
   "source": [
    "%ls"
   ]
  },
  {
   "cell_type": "code",
   "execution_count": 4,
   "metadata": {
    "collapsed": true
   },
   "outputs": [],
   "source": [
    "import pandas as pd"
   ]
  },
  {
   "cell_type": "code",
   "execution_count": 5,
   "metadata": {
    "collapsed": true
   },
   "outputs": [],
   "source": [
    "df = pd.read_csv(\"1_attention.csv\")"
   ]
  },
  {
   "cell_type": "code",
   "execution_count": 6,
   "metadata": {},
   "outputs": [
    {
     "data": {
      "text/html": [
       "<div>\n",
       "<style>\n",
       "    .dataframe thead tr:only-child th {\n",
       "        text-align: right;\n",
       "    }\n",
       "\n",
       "    .dataframe thead th {\n",
       "        text-align: left;\n",
       "    }\n",
       "\n",
       "    .dataframe tbody tr th {\n",
       "        vertical-align: top;\n",
       "    }\n",
       "</style>\n",
       "<table border=\"1\" class=\"dataframe\">\n",
       "  <thead>\n",
       "    <tr style=\"text-align: right;\">\n",
       "      <th></th>\n",
       "      <th>participant</th>\n",
       "      <th>condition</th>\n",
       "      <th>white_letter</th>\n",
       "      <th>x_position</th>\n",
       "      <th>response_white_letter</th>\n",
       "      <th>response_x</th>\n",
       "      <th>RT_1</th>\n",
       "      <th>RT_2</th>\n",
       "    </tr>\n",
       "  </thead>\n",
       "  <tbody>\n",
       "    <tr>\n",
       "      <th>0</th>\n",
       "      <td>1</td>\n",
       "      <td>\"experimental_condition\"</td>\n",
       "      <td>Y</td>\n",
       "      <td>0</td>\n",
       "      <td>y</td>\n",
       "      <td>1</td>\n",
       "      <td>4.0011</td>\n",
       "      <td>17.4771</td>\n",
       "    </tr>\n",
       "    <tr>\n",
       "      <th>1</th>\n",
       "      <td>1</td>\n",
       "      <td>\"experimental_condition\"</td>\n",
       "      <td>Q</td>\n",
       "      <td>4</td>\n",
       "      <td>q</td>\n",
       "      <td>1</td>\n",
       "      <td>5.3458</td>\n",
       "      <td>3.6523</td>\n",
       "    </tr>\n",
       "  </tbody>\n",
       "</table>\n",
       "</div>"
      ],
      "text/plain": [
       "   participant                  condition  white_letter   x_position  \\\n",
       "0            1   \"experimental_condition\"             Y            0   \n",
       "1            1   \"experimental_condition\"             Q            4   \n",
       "\n",
       "   response_white_letter   response_x    RT_1     RT_2  \n",
       "0                      y            1  4.0011  17.4771  \n",
       "1                      q            1  5.3458   3.6523  "
      ]
     },
     "execution_count": 6,
     "metadata": {},
     "output_type": "execute_result"
    }
   ],
   "source": [
    "df.head()"
   ]
  },
  {
   "cell_type": "code",
   "execution_count": 7,
   "metadata": {
    "collapsed": true
   },
   "outputs": [],
   "source": [
    "import analyze_log"
   ]
  },
  {
   "cell_type": "code",
   "execution_count": 8,
   "metadata": {},
   "outputs": [
    {
     "name": "stdout",
     "output_type": "stream",
     "text": [
      "independent: x_position, dependent: response_x, filter:  \n",
      "group, n, mean\n",
      "0.0, 1, 1.000000\n",
      "4.0, 1, 1.000000\n"
     ]
    },
    {
     "data": {
      "image/png": "[encoded data removed]",
      "text/plain": [
       "<matplotlib.figure.Figure at 0x117af0d50>"
      ]
     },
     "metadata": {},
     "output_type": "display_data"
    }
   ],
   "source": [
    "file_name = \"1_attention.csv\"\n",
    "analyze_log.analyze_log (filename=file_name,\n",
    "                         indep_var='x_position', dep_var='response_x', function='mean', \n",
    "                         graph_types=['line'])\n"
   ]
  },
  {
   "cell_type": "code",
   "execution_count": 9,
   "metadata": {},
   "outputs": [
    {
     "name": "stdout",
     "output_type": "stream",
     "text": [
      "1_attention.csv                   analyze_log.py\r\n",
      "1_attention.csv_result.txt        analyze_log.pyc\r\n",
      "2_attention.csv                   attentional_blink.py\r\n",
      "Attentional_Blink_Paradigm.ipynb  \u001b[34mfigures\u001b[m\u001b[m/\r\n"
     ]
    }
   ],
   "source": [
    "%ls"
   ]
  },
  {
   "cell_type": "code",
   "execution_count": 10,
   "metadata": {
    "collapsed": true
   },
   "outputs": [],
   "source": [
    "df2 = pd.read_csv(\"1_attention.csv_result.txt\")"
   ]
  },
  {
   "cell_type": "code",
   "execution_count": 11,
   "metadata": {},
   "outputs": [
    {
     "data": {
      "text/html": [
       "<div>\n",
       "<style>\n",
       "    .dataframe thead tr:only-child th {\n",
       "        text-align: right;\n",
       "    }\n",
       "\n",
       "    .dataframe thead th {\n",
       "        text-align: left;\n",
       "    }\n",
       "\n",
       "    .dataframe tbody tr th {\n",
       "        vertical-align: top;\n",
       "    }\n",
       "</style>\n",
       "<table border=\"1\" class=\"dataframe\">\n",
       "  <thead>\n",
       "    <tr style=\"text-align: right;\">\n",
       "      <th></th>\n",
       "      <th>independent: x_position</th>\n",
       "      <th>dependent: response_x</th>\n",
       "      <th>filter:</th>\n",
       "    </tr>\n",
       "  </thead>\n",
       "  <tbody>\n",
       "    <tr>\n",
       "      <th>0</th>\n",
       "      <td>group</td>\n",
       "      <td>n</td>\n",
       "      <td>mean</td>\n",
       "    </tr>\n",
       "    <tr>\n",
       "      <th>1</th>\n",
       "      <td>0.0</td>\n",
       "      <td>1</td>\n",
       "      <td>1.000000</td>\n",
       "    </tr>\n",
       "    <tr>\n",
       "      <th>2</th>\n",
       "      <td>4.0</td>\n",
       "      <td>1</td>\n",
       "      <td>1.000000</td>\n",
       "    </tr>\n",
       "  </tbody>\n",
       "</table>\n",
       "</div>"
      ],
      "text/plain": [
       "  independent: x_position  dependent: response_x  filter:  \n",
       "0                   group                      n       mean\n",
       "1                     0.0                      1   1.000000\n",
       "2                     4.0                      1   1.000000"
      ]
     },
     "execution_count": 11,
     "metadata": {},
     "output_type": "execute_result"
    }
   ],
   "source": [
    "df2"
   ]
  },
  {
   "cell_type": "markdown",
   "metadata": {},
   "source": [
    "# 내용 소개\n",
    "* Theoretical background\n",
    "* Procedure\n",
    "* Expected results"
   ]
  },
  {
   "cell_type": "markdown",
   "metadata": {},
   "source": [
    "#### 참고\n",
    "* (3) Attentional blink(Wikipedia) - https://en.wikipedia.org/wiki/Attentional_blink\n",
    "* (4) Attentional Blink Paradigm (Kutas Lab) - http://kutaslab.ucsd.edu/people/kutas/279/pdfs/COGS279.05.16.13.pdf"
   ]
  },
  {
   "cell_type": "markdown",
   "metadata": {},
   "source": [
    "## Theoretical background"
   ]
  },
  {
   "cell_type": "markdown",
   "metadata": {},
   "source": [
    "Rapid serial visual presentation (RSVP) is a specific paradigm in which visual stimuli are presented in rapid succession in the same location of the display. Usually the stimuli are letters, digits, words or pictures and each of them is shown for 100 ms. In these RSVP paradigm the task of the participants is to identify one or more target stimuli from the shown sequence of the stimuli. In a single detection task the participant has to identify only one stimulus from the stream of the stimuli. For example, the participant's task is to name the letter that was white in the stream of black letters. In multiple-task RSVP the participant has to detect two or more stimuli from the stream of the stimuli For example, the participant identifies the white letter (as the first target) in the stream of back letters, then as a second task the participant have to detect a black X in the same stream (Raymond, Shapiro and Arnell, 1992)[1]. With multiple-task RSVP it was revealed that there is an impaired perception of the second target stimulus if it is presented 180 ms after the first stimulus and it lasts for approximately 500 ms (Zhang, Zhou, and Martens, 2011)[2]. First Broadbent and Broadbent (1987) found this phenomenon in a multiple-task RSVP and later Raymond and his colleagues (1992) named it attentional blink (AB) (Raymond et al., 1992).\n",
    "<br><구글번역 : RSVP (Rapid serial visual presentation)는 디스플레이의 동일한 위치에서 시각적 자극이 빠르게 연속적으로 표시되는 특정 패러다임입니다. 보통 자극은 글자, 숫자, 단어 또는 그림이며 각각 100ms 동안 표시됩니다. 이러한 RSVP 패러다임에서 참가자의 작업은 자극의 표시된 순서에서 하나 이상의 목표 자극을 식별하는 것입니다. 단일 탐지 작업에서 참가자는 자극 스트림에서 하나의 자극 만 식별해야합니다. 예를 들어, 참가자의 임무는 검은 글자의 흐름에서 흰색 인 편지의 이름을 지정하는 것입니다. 참가자는 자극의 흐름에서 두 개 이상의 자극을 감지해야합니다. 예를 들어, 참가자는 뒷 글자의 흐름에서 흰색 문자를 (첫 번째 대상으로) 식별 한 다음 참가자가 두 번째 작업으로 (Raymond, Shapiro and Arnell, 1992) [1]. 다중 작업 회귀 분석에서는 첫 번째 자극 후 180ms 동안 제시되고 약 500ms 동안 지속되는 경우 두 번째 대상 자극에 대한 손상된 인식이 있음이 밝혀졌습니다 (Zhang, Zhou, and Martens, 2011) [2]. First Broadbent와 Broadbent (1987)는 다중 - 작업 RSVP에서이 현상을 발견하였고 나중에 레이몬드 (Raymond)와 그의 동료들 (1992)은주의 점멸이라고 명명했다 (Raymond et al., 1992).>\n",
    "\n",
    "Raymond and his colleagues (1992) established a model for the phenomenon. If we pay attention to an object in RSVP it causes a temporary suppression of visual processing. The identification of the first target stimulus interferes with a next non-target stimulus, then the second target cannot be processed due to this interference which lasts approximately 500 ms. AB emerges only when a new visual input appears before the perception process of the first target stimulus is complete. In such case the first target stimulus and the stimulus immediately after it will be processed together and leads to confusion if the features of the two stimuli are similar to each other. In order to avoid further confusion the visual attention shuts down for a period of time until the undergoing perception processes are complete. This results in the AB phenomenon (Raymond et al., 1992).\n",
    "<br><구글 번역 : Raymond와 그의 동료 (1992)는이 현상에 대한 모델을 수립했다. RSVP의 객체에주의를 기울이면 시각적 처리가 일시적으로 억제됩니다. 제 1 목표 자극의 식별은 다음 비 - 목표 자극을 방해하고, 제 2 목표는 약 500 ms 지속되는 이러한 간섭으로 인해 처리 될 수 없다. AB는 첫 번째 대상 자극의 인식 프로세스가 완료되기 전에 새로운 시각적 입력이 나타나는 경우에만 표시됩니다. 이 경우 첫 번째 대상 자극과 그 자극은 함께 처리되어 두 자극의 특징이 서로 비슷하면 혼란을 겪습니다. 더 혼란을 피하기 위해, 시각 지각 과정은 지각 과정이 완료 될 때까지 일정 기간 동안 종료됩니다. 이것은 AB 현상을 일으킨다 (Raymond et al., 1992).>\n",
    "\n",
    "There are some alternative models for AB, which can be read in extended theoretical background section.\n",
    "<br><구글 번역 : 확장 이론적 배경 섹션에서 읽을 수있는 AB에 대한 몇 가지 대안 모델이 있습니다.>"
   ]
  },
  {
   "cell_type": "markdown",
   "metadata": {},
   "source": [
    "<img src=\"figures/fig1.png\" width=600 />"
   ]
  },
  {
   "cell_type": "markdown",
   "metadata": {},
   "source": [
    "<img src=\"figures/fig2.png\" width=600 />"
   ]
  },
  {
   "cell_type": "markdown",
   "metadata": {},
   "source": [
    "## Procedure"
   ]
  },
  {
   "cell_type": "markdown",
   "metadata": {},
   "source": [
    "In the original Eriksen and Eriksen (1974)[7] experiment, two independent variables were measured in six conditions (type of flanker letters, and space between them), which leads to high number of stimuli presentation. The present demonstration is based on a simpler version by van Veen, Cohen, Botvinick Stenger and Carter's (2001)[8], where only the type of the flanker letters were manipulated.\n",
    "<br><구글 번역 : 원래의 Eriksen and Eriksen (1974) [7] 실험에서 두 가지 독립 변수가 여섯 가지 조건 (옆구리 문자 유형과 그 사이의 공간 유형)에서 측정되었으므로 많은 수의 자극 표현이 가능합니다. 현재의 시연은 van Veen, Cohen, Botvinick Stenger와 Carter (2001) [8]에 의해보다 단순한 버전을 기반으로하고 있으며, 여기에는 측면 문자의 유형 만 조작되었다.>\n",
    "\n",
    "In the study participants had to respond to the middle letter of a five letter stimuli set: if \"S\" or \"M\" were in the middle, they had to push key \"4\"; if \"P\" or \"H\" were the middle letters, then key \"5\" should be used. On the left and right side there were two-two letters (e.g. PPHPP). Three conditions were used:\n",
    "<br><구글 번역 : 연구 참가자들은 5 글자 자극 세트의 중간 글자에 응답해야했습니다. \"S\"또는 \"M\"이 가운데에 있으면 \"4\"키를 눌러야했습니다. \"P\"또는 \"H\"가 중간 글자라면 \"5\"키를 사용해야합니다. 왼쪽과 오른쪽에는 글자 2 자 (예 : PPHPP)가있었습니다. 세 가지 조건이 사용되었습니다.>\n",
    "\n",
    "In the congruent condition (CO) middle and flanker letters were the same letters e.g. SSSSS.\n",
    "<br><구글 번역 : 합동 조건 (CO)에서, 중간 및 플랭커 글자는 동일한 글자이다. SSSSS.>\n",
    "\n",
    "In the stimulus-incongruent (SI) condition, while the middle and the flanker letters were different, both of them activated the same answer, e.g., SSMSS: for both \"S\" and \"M\" letters the key \"4\" should be pressed.\n",
    "<br><구글 번역 : 자극 - 부적합 (SI) 상태에서 가운데와 옆줄 문자가 다른 동안 두 가지 모두 동일한 대답을 활성화합니다 (예 : SSMSS). \"S\"와 \"M\"문자 모두 키 \"4\"를 눌러야합니다 .>\n",
    "\n",
    "In the response-incongruent condition (RI) condition, the different flanker and target stimuli required different button presses., e.g., SSHSS, where for \"S\" right answer is key \"4\", for H right answer is key \"5\".\n",
    "<br><구글 번역 : 반응 불일치 조건 (RI) 상태에서, 상이한 플 랭커 및 타겟 자극은 SSHSS와 같은 상이한 버튼 누름을 필요로하는데, 여기서 \"S\"정답은 키 \"4\"이고, H 정답은 키 \"5\"이다.>\n",
    "\n",
    "After the instruction, 96 trials were used in six blocks (in one block there were 16 stimuli: all of the 16 combinations that is available from the four letters). In each block 50% of stimuli were from congruent condition (CO), 25-25% from the other two types of incongruent conditions (SI, RI). Stimuli were randomly presented. One letter set with a little arrow pointed to the middle letter, stayed for 300 ms. Then a fixation cross appeared until the participant gave a response. The interval between the response and the next stimulus was 11,700 ms. In the study response and reaction time were measured, and analysed. In the present demonstration 64 stimuli is presented.\n",
    "<br><구글 번역 : 지시 후에, 96 개의 시도가 6 개의 블록에서 사용되었습니다 (하나의 블록에는 16 개의 자극이있었습니다 : 16 개의 모든 조합이 4 개의 문자에서 가능합니다). 각 블록에서 50 %의 자극은 일치 조건 (CO)에서, 25-25 %는 다른 두 가지 유형의 부적절한 조건 (SI, RI)에서 발생했습니다. 자극은 무작위로 제시되었습니다. 작은 글씨로 된 한 글자는 중간 글자를 가리키며 300 밀리 초 동안 머물렀다. 그런 다음 참가자가 응답 할 때까지 고정 십자가가 나타납니다. 반응과 다음 자극 사이의 간격은 11,700ms였습니다. 연구 응답 및 반응 시간을 측정하고 분석했습니다. 현재 시연에서는 자극이 제시된다.>"
   ]
  },
  {
   "cell_type": "markdown",
   "metadata": {},
   "source": [
    "## Expected results"
   ]
  },
  {
   "cell_type": "markdown",
   "metadata": {},
   "source": [
    "We expect faster responses in the congruent condition (CO) than in the different response incongruent condition (RI). We expect the reaction time of the stimulus incongruent (SI) condition to be between the reaction times of the CA and the RI conditions. These results can be seen in the study of van Veen, Cohen, Botvinick, Stenger and Carter (2001).\n",
    "<br><구글 번역 : 우리는 서로 다른 부적합 조건 (RI)보다 일치 조건 (CO)에서 더 빠른 응답을 기대합니다. 우리는 자극 부적절 (incongruent, SI) 조건의 반응 시간이 CA와 반응기 조건의 반응 시간 사이에있을 것으로 기대한다. 이 결과는 van Veen, Cohen, Botvinick, Stenger 및 Carter (2001)의 연구에서 볼 수있다.>"
   ]
  },
  {
   "cell_type": "markdown",
   "metadata": {},
   "source": [
    "<img src=\"figures/fig3.png\" width=600 />"
   ]
  },
  {
   "cell_type": "markdown",
   "metadata": {},
   "source": [
    "# 소스 분석"
   ]
  },
  {
   "cell_type": "markdown",
   "metadata": {},
   "source": [
    "### attentional_blink.py"
   ]
  },
  {
   "cell_type": "markdown",
   "metadata": {},
   "source": [
    "#### 라이브러리들"
   ]
  },
  {
   "cell_type": "code",
   "execution_count": 13,
   "metadata": {
    "collapsed": true
   },
   "outputs": [],
   "source": [
    "# -*- coding: utf-8 -*-\n",
    "# Imports\n",
    "from psychopy import visual, core, event, gui\n",
    "#import analyze_log, \n",
    "import random"
   ]
  },
  {
   "cell_type": "markdown",
   "metadata": {},
   "source": [
    "------------------------------"
   ]
  },
  {
   "cell_type": "markdown",
   "metadata": {},
   "source": [
    "#### 윈도우 생성 "
   ]
  },
  {
   "cell_type": "code",
   "execution_count": 14,
   "metadata": {},
   "outputs": [
    {
     "name": "stdout",
     "output_type": "stream",
     "text": [
      "81.5981 \tWARNING \tCouldn't measure a consistent frame rate.\n",
      "  - Is your graphics card set to sync to vertical blank?\n",
      "  - Are you running other processes on your computer?\n",
      "\n",
      "81.6404 \tWARNING \tt of last frame was 42.52ms (=1/23)\n"
     ]
    }
   ],
   "source": [
    "win = visual.Window([1200,600], allowGUI=True, fullscr=False, waitBlanking=True, monitor='testMonitor', units='pix') # Create window\n",
    "\n",
    "win.flip() # 윈도우 생성\n",
    "core.wait(0.5) # 잠시 멈추기\n",
    "\n",
    "win.close() # 윈도우 닫기"
   ]
  },
  {
   "cell_type": "markdown",
   "metadata": {},
   "source": [
    "------------------------------"
   ]
  },
  {
   "cell_type": "markdown",
   "metadata": {},
   "source": [
    "#### 안내문 제시하기 "
   ]
  },
  {
   "cell_type": "code",
   "execution_count": 15,
   "metadata": {
    "collapsed": true
   },
   "outputs": [],
   "source": [
    "\n",
    "win = visual.Window([1200,600], allowGUI=True, fullscr=False, waitBlanking=True, monitor='testMonitor', units='pix') # Create window\n",
    "\n",
    "text_inst = 'In the following task you will see black colored numbers appearing on the display rapidly after each other. You have two tasks. First you have to detect a white letter and remember what letter it was. Second, you have to decide whether there was a black X among the letters. When all letters were presented you have to type what letter was the white one, then you have to press the \"right arrow key\" if there was a black X and press \"left arrow key\" if there was no black X. Press any key to continue.'\n",
    "\n",
    "# Instruction\n",
    "text_instruction = visual.TextStim(win, pos=[0,0], text=text_inst)\n",
    "text_instruction.draw()\n",
    "win.flip() # draw the instruction\n",
    "event.waitKeys() # wait for key press to continue\n",
    "\n",
    "win.flip() # 깨끗한 윈도우 생성\n",
    "core.wait(0.5) # 잠시 멈추기\n",
    "\n",
    "win.close() # 윈도우 닫기"
   ]
  },
  {
   "cell_type": "markdown",
   "metadata": {},
   "source": [
    "------------------------------"
   ]
  },
  {
   "cell_type": "markdown",
   "metadata": {},
   "source": [
    "#### 실험 조건에 따라 안내문 제시하기 "
   ]
  },
  {
   "cell_type": "code",
   "execution_count": 16,
   "metadata": {
    "collapsed": true
   },
   "outputs": [],
   "source": [
    "exp_info = {'participant':'participant_ID',\n",
    "    'language': 'en',\n",
    "    'experiment': 'experimental_condition'}"
   ]
  },
  {
   "cell_type": "code",
   "execution_count": 18,
   "metadata": {},
   "outputs": [
    {
     "data": {
      "text/plain": [
       "'en'"
      ]
     },
     "execution_count": 18,
     "metadata": {},
     "output_type": "execute_result"
    }
   ],
   "source": [
    "exp_info['language']"
   ]
  },
  {
   "cell_type": "code",
   "execution_count": 19,
   "metadata": {
    "collapsed": true
   },
   "outputs": [],
   "source": [
    "# Language specific components\n",
    "def _(string):\n",
    "    # You should use texts dictionary to strore the strings, and set exp_info['language'] to specify the language\n",
    "    return texts[string][exp_info['language']]\n",
    "\n",
    "texts = {\n",
    "    'instr_experimental_condition':\n",
    "        {'en':'In the following task you will see black colored numbers appearing on the display rapidly after each other. You have two tasks. First you have to detect a white letter and remember what letter it was. Second, you have to decide whether there was a black X among the letters. When all letters were presented you have to type what letter was the white one, then you have to press the \"right arrow key\" if there was a black X and press \"left arrow key\" if there was no black X. Press any key to continue.',\n",
    "        'hu':u'A következőkben fekete betűket fogsz látni a képernyőn. A betűk gyorsan egymás után jelennek majd meg. Két feladatod lesz. A fekete betűk között lesz egy fehér is, és azt kell majd megmondanod, milyen betű volt a fehér betű. Aztán azt kell eldöntened, hogy látál-e feket X-et a betűk között. A betűk felvillanása le kell nyomnod azt a betűt, amilyen a fehér betű volt, majd amennyiben láttál fekete X-et nyomgd meg az \"jobb kurzormozgató nyílat\" gombot, ha nem láttál fekete X-et nyomd meg az \"bal kurzormozgató nyílat\" gombot. Nyomj egy gombot, ha kezdhetjük.'},\n",
    "    'instr_control_condition':\n",
    "        {'en':'In the following task you will see black colored numbers appearing on the display rapidly after each other. You have to decide whether there was a black X among the letters. After the letters you have to push \"right arrow key\" if there was a black X among the letters and push \"left arrow key\" if there was no black X. Press any key to continue.',\n",
    "        'hu':u'A következőkben fekete betűket fogsz látni a képernyőn. A betűk gyorsan egymás után jelennek majd meg. Azt kell eldöntened, hogy látál-e feket X-et a betűk között. A betűk felvillanása után, amennyiben láttál fekete X-et nyomgd meg az \"jobb kurzormozgató nyílat\" gombot, ha nem láttál fekete X-et nyomd meg az \"bal kurzormozgató nyílat\" gombot. Nyomj egy gombot, ha kezdhetjük.'},\n",
    "    'instr_response_target_1':\n",
    "        {'en':'Please press the button that you think the white letter was.',\n",
    "        'hu':u'Nyomd meg azt a billentyűt a billyentyűzeten, amilyen szerinted fehér betű volt'},\n",
    "    'instr_response_target_2':\n",
    "        {'en':'Please press \"right arrow key\" if there was an X in the letter stream, and press \"left arrow key\" if there was no X.',\n",
    "        'hu':u'Nyomd meg a \"jobb kurzormozgató nyílat\", amennyiben láttál X-t a betűk között, ha nem láttál nyomd meg az \"bal kurzormozgató nyílat\"'},\n",
    "}\n",
    "\n"
   ]
  },
  {
   "cell_type": "code",
   "execution_count": 20,
   "metadata": {
    "collapsed": true
   },
   "outputs": [],
   "source": [
    "\n",
    "win = visual.Window([1200,600], allowGUI=True, fullscr=False, waitBlanking=True, monitor='testMonitor', units='pix') # Create window\n",
    "\n",
    "# Instruction\n",
    "if exp_info['experiment']=='experimental_condition':\n",
    "    text_inst = _('instr_experimental_condition')\n",
    "    text_instruction = visual.TextStim(win, pos=[0,0], text=text_inst)\n",
    "else:\n",
    "    text_inst = _('instr_control_condition')\n",
    "    text_instruction = visual.TextStim(win, pos=[0,0], text=text_inst)\n",
    "text_instruction.draw()\n",
    "win.flip() # draw the instruction\n",
    "event.waitKeys() # wait for key press to continue\n",
    "\n",
    "win.flip() # 깨끗한 윈도우 생성\n",
    "core.wait(0.5) # 잠시 멈추기\n",
    "\n",
    "win.close() # 윈도우 닫기"
   ]
  },
  {
   "cell_type": "markdown",
   "metadata": {},
   "source": [
    "------------------------------"
   ]
  },
  {
   "cell_type": "markdown",
   "metadata": {},
   "source": [
    "#### 설정박스로 설정을 받아서 안내문 제시하기"
   ]
  },
  {
   "cell_type": "code",
   "execution_count": 21,
   "metadata": {},
   "outputs": [
    {
     "name": "stdout",
     "output_type": "stream",
     "text": [
      "320.1074 \tWARNING \tCouldn't measure a consistent frame rate.\n",
      "  - Is your graphics card set to sync to vertical blank?\n",
      "  - Are you running other processes on your computer?\n",
      "\n",
      "320.1999 \tWARNING \tt of last frame was 92.65ms (=1/10)\n",
      "324.5021 \tWARNING \tt of last frame was 4302.23ms (=1/0)\n"
     ]
    }
   ],
   "source": [
    "# Language specific components\n",
    "def _(string):\n",
    "    # You should use texts dictionary to strore the strings, and set exp_info['language'] to specify the language\n",
    "    return texts[string][exp_info['language']]\n",
    "texts = {\n",
    "    'instr_experimental_condition':\n",
    "        {'en':'In the following task you will see black colored numbers appearing on the display rapidly after each other. You have two tasks. First you have to detect a white letter and remember what letter it was. Second, you have to decide whether there was a black X among the letters. When all letters were presented you have to type what letter was the white one, then you have to press the \"right arrow key\" if there was a black X and press \"left arrow key\" if there was no black X. Press any key to continue.',\n",
    "        'hu':u'A következőkben fekete betűket fogsz látni a képernyőn. A betűk gyorsan egymás után jelennek majd meg. Két feladatod lesz. A fekete betűk között lesz egy fehér is, és azt kell majd megmondanod, milyen betű volt a fehér betű. Aztán azt kell eldöntened, hogy látál-e feket X-et a betűk között. A betűk felvillanása le kell nyomnod azt a betűt, amilyen a fehér betű volt, majd amennyiben láttál fekete X-et nyomgd meg az \"jobb kurzormozgató nyílat\" gombot, ha nem láttál fekete X-et nyomd meg az \"bal kurzormozgató nyílat\" gombot. Nyomj egy gombot, ha kezdhetjük.'},\n",
    "    'instr_control_condition':\n",
    "        {'en':'In the following task you will see black colored numbers appearing on the display rapidly after each other. You have to decide whether there was a black X among the letters. After the letters you have to push \"right arrow key\" if there was a black X among the letters and push \"left arrow key\" if there was no black X. Press any key to continue.',\n",
    "        'hu':u'A következőkben fekete betűket fogsz látni a képernyőn. A betűk gyorsan egymás után jelennek majd meg. Azt kell eldöntened, hogy látál-e feket X-et a betűk között. A betűk felvillanása után, amennyiben láttál fekete X-et nyomgd meg az \"jobb kurzormozgató nyílat\" gombot, ha nem láttál fekete X-et nyomd meg az \"bal kurzormozgató nyílat\" gombot. Nyomj egy gombot, ha kezdhetjük.'},\n",
    "    'instr_response_target_1':\n",
    "        {'en':'Please press the button that you think the white letter was.',\n",
    "        'hu':u'Nyomd meg azt a billentyűt a billyentyűzeten, amilyen szerinted fehér betű volt'},\n",
    "    'instr_response_target_2':\n",
    "        {'en':'Please press \"right arrow key\" if there was an X in the letter stream, and press \"left arrow key\" if there was no X.',\n",
    "        'hu':u'Nyomd meg a \"jobb kurzormozgató nyílat\", amennyiben láttál X-t a betűk között, ha nem láttál nyomd meg az \"bal kurzormozgató nyílat\"'},\n",
    "}\n",
    "\n",
    "exp_info = {'participant':'participant_ID',\n",
    "    'language': texts.values()[0].keys(),\n",
    "    'experiment':['experimental_condition', 'control_condition'],}\n",
    "\n",
    "# Setting some parameters on GUI\n",
    "dlg = gui.DlgFromDict(exp_info, title='exp_title',\n",
    "   order = ['participant', 'language', 'experiment'],\n",
    "    tip = {'participant':'Identifier of the participant.',\n",
    "        'language':'Language of the instructions.',\n",
    "        'experiment':'Experimental or control condition of the experiment'})\n",
    "if not dlg.OK:\n",
    "    print 'User Cancelled'\n",
    "    core.quit()\n",
    "    \n",
    "win = visual.Window([1200,600], allowGUI=True, fullscr=False, waitBlanking=True, monitor='testMonitor', units='pix') # Create window\n",
    "\n",
    "# Instruction\n",
    "if exp_info['experiment']=='experimental_condition':\n",
    "    text_inst = _('instr_experimental_condition')\n",
    "    text_instruction = visual.TextStim(win, pos=[0,0], text=text_inst)\n",
    "else:\n",
    "    text_inst = _('instr_control_condition')\n",
    "    text_instruction = visual.TextStim(win, pos=[0,0], text=text_inst)\n",
    "text_instruction.draw()\n",
    "win.flip() # draw the instruction\n",
    "event.waitKeys() # wait for key press to continue\n",
    "\n",
    "win.flip() # 깨끗한 윈도우 생성\n",
    "core.wait(0.5) # 잠시 멈추기\n",
    "\n",
    "win.close() # 윈도우 닫기"
   ]
  },
  {
   "cell_type": "markdown",
   "metadata": {},
   "source": [
    "------------------------------"
   ]
  },
  {
   "cell_type": "markdown",
   "metadata": {},
   "source": [
    "#### 글자 자극 뿌리기"
   ]
  },
  {
   "cell_type": "code",
   "execution_count": 22,
   "metadata": {},
   "outputs": [
    {
     "data": {
      "text/plain": [
       "['A',\n",
       " 'B',\n",
       " 'C',\n",
       " 'D',\n",
       " 'E',\n",
       " 'F',\n",
       " 'G',\n",
       " 'H',\n",
       " 'I',\n",
       " 'J',\n",
       " 'K',\n",
       " 'L',\n",
       " 'M',\n",
       " 'N',\n",
       " 'O',\n",
       " 'P',\n",
       " 'Q',\n",
       " 'R',\n",
       " 'S',\n",
       " 'T',\n",
       " 'U',\n",
       " 'V',\n",
       " 'W',\n",
       " 'X',\n",
       " 'Y',\n",
       " 'Z']"
      ]
     },
     "execution_count": 22,
     "metadata": {},
     "output_type": "execute_result"
    }
   ],
   "source": [
    "# Stimuli\n",
    "available_letters = map(chr, range(65, 91)) # letters of the English alphabet in uppercase\n",
    "available_letters"
   ]
  },
  {
   "cell_type": "code",
   "execution_count": 23,
   "metadata": {},
   "outputs": [
    {
     "data": {
      "text/plain": [
       "['A',\n",
       " 'B',\n",
       " 'C',\n",
       " 'D',\n",
       " 'E',\n",
       " 'F',\n",
       " 'G',\n",
       " 'H',\n",
       " 'I',\n",
       " 'J',\n",
       " 'K',\n",
       " 'L',\n",
       " 'M',\n",
       " 'N',\n",
       " 'O',\n",
       " 'P',\n",
       " 'Q',\n",
       " 'R',\n",
       " 'S',\n",
       " 'T',\n",
       " 'U',\n",
       " 'V',\n",
       " 'W',\n",
       " 'Y',\n",
       " 'Z']"
      ]
     },
     "execution_count": 23,
     "metadata": {},
     "output_type": "execute_result"
    }
   ],
   "source": [
    "del available_letters [23] # removing X from the alphabet\n",
    "available_letters"
   ]
  },
  {
   "cell_type": "code",
   "execution_count": 24,
   "metadata": {},
   "outputs": [
    {
     "data": {
      "text/plain": [
       "['T',\n",
       " 'S',\n",
       " 'I',\n",
       " 'O',\n",
       " 'V',\n",
       " 'B',\n",
       " 'K',\n",
       " 'U',\n",
       " 'L',\n",
       " 'C',\n",
       " 'N',\n",
       " 'F',\n",
       " 'H',\n",
       " 'D',\n",
       " 'A',\n",
       " 'J',\n",
       " 'Q',\n",
       " 'Z',\n",
       " 'G',\n",
       " 'R',\n",
       " 'P',\n",
       " 'Y',\n",
       " 'W',\n",
       " 'E',\n",
       " 'M']"
      ]
     },
     "execution_count": 24,
     "metadata": {},
     "output_type": "execute_result"
    }
   ],
   "source": [
    "random.shuffle(available_letters) # Randomize list\n",
    "available_letters"
   ]
  },
  {
   "cell_type": "code",
   "execution_count": 25,
   "metadata": {
    "collapsed": true
   },
   "outputs": [],
   "source": [
    "# Stimuli\n",
    "available_letters = map(chr, range(65, 91)) # letters of the English alphabet in uppercase\n",
    "del available_letters [23] # removing X from the alphabet\n",
    "random.shuffle(available_letters) # Randomize list"
   ]
  },
  {
   "cell_type": "code",
   "execution_count": 26,
   "metadata": {},
   "outputs": [
    {
     "data": {
      "text/plain": [
       "'S'"
      ]
     },
     "execution_count": 26,
     "metadata": {},
     "output_type": "execute_result"
    }
   ],
   "source": [
    "letter = available_letters[0]\n",
    "letter"
   ]
  },
  {
   "cell_type": "code",
   "execution_count": 27,
   "metadata": {},
   "outputs": [
    {
     "name": "stdout",
     "output_type": "stream",
     "text": [
      "447.5730 \tWARNING \tCouldn't measure a consistent frame rate.\n",
      "  - Is your graphics card set to sync to vertical blank?\n",
      "  - Are you running other processes on your computer?\n",
      "\n",
      "447.6498 \tWARNING \tt of last frame was 76.96ms (=1/12)\n",
      "448.7350 \tWARNING \tt of last frame was 1085.22ms (=1/0)\n"
     ]
    }
   ],
   "source": [
    "# Language specific components\n",
    "def _(string):\n",
    "    # You should use texts dictionary to strore the strings, and set exp_info['language'] to specify the language\n",
    "    return texts[string][exp_info['language']]\n",
    "texts = {\n",
    "    'instr_experimental_condition':\n",
    "        {'en':'In the following task you will see black colored numbers appearing on the display rapidly after each other. You have two tasks. First you have to detect a white letter and remember what letter it was. Second, you have to decide whether there was a black X among the letters. When all letters were presented you have to type what letter was the white one, then you have to press the \"right arrow key\" if there was a black X and press \"left arrow key\" if there was no black X. Press any key to continue.',\n",
    "        'hu':u'A következőkben fekete betűket fogsz látni a képernyőn. A betűk gyorsan egymás után jelennek majd meg. Két feladatod lesz. A fekete betűk között lesz egy fehér is, és azt kell majd megmondanod, milyen betű volt a fehér betű. Aztán azt kell eldöntened, hogy látál-e feket X-et a betűk között. A betűk felvillanása le kell nyomnod azt a betűt, amilyen a fehér betű volt, majd amennyiben láttál fekete X-et nyomgd meg az \"jobb kurzormozgató nyílat\" gombot, ha nem láttál fekete X-et nyomd meg az \"bal kurzormozgató nyílat\" gombot. Nyomj egy gombot, ha kezdhetjük.'},\n",
    "    'instr_control_condition':\n",
    "        {'en':'In the following task you will see black colored numbers appearing on the display rapidly after each other. You have to decide whether there was a black X among the letters. After the letters you have to push \"right arrow key\" if there was a black X among the letters and push \"left arrow key\" if there was no black X. Press any key to continue.',\n",
    "        'hu':u'A következőkben fekete betűket fogsz látni a képernyőn. A betűk gyorsan egymás után jelennek majd meg. Azt kell eldöntened, hogy látál-e feket X-et a betűk között. A betűk felvillanása után, amennyiben láttál fekete X-et nyomgd meg az \"jobb kurzormozgató nyílat\" gombot, ha nem láttál fekete X-et nyomd meg az \"bal kurzormozgató nyílat\" gombot. Nyomj egy gombot, ha kezdhetjük.'},\n",
    "    'instr_response_target_1':\n",
    "        {'en':'Please press the button that you think the white letter was.',\n",
    "        'hu':u'Nyomd meg azt a billentyűt a billyentyűzeten, amilyen szerinted fehér betű volt'},\n",
    "    'instr_response_target_2':\n",
    "        {'en':'Please press \"right arrow key\" if there was an X in the letter stream, and press \"left arrow key\" if there was no X.',\n",
    "        'hu':u'Nyomd meg a \"jobb kurzormozgató nyílat\", amennyiben láttál X-t a betűk között, ha nem láttál nyomd meg az \"bal kurzormozgató nyílat\"'},\n",
    "}\n",
    "\n",
    "exp_info = {'participant':'participant_ID',\n",
    "    'language': texts.values()[0].keys(),\n",
    "    'experiment':['experimental_condition', 'control_condition'],}\n",
    "\n",
    "# Setting some parameters on GUI\n",
    "dlg = gui.DlgFromDict(exp_info, title='exp_title',\n",
    "   order = ['participant', 'language', 'experiment'],\n",
    "    tip = {'participant':'Identifier of the participant.',\n",
    "        'language':'Language of the instructions.',\n",
    "        'experiment':'Experimental or control condition of the experiment'})\n",
    "if not dlg.OK:\n",
    "    print 'User Cancelled'\n",
    "    core.quit()\n",
    "    \n",
    "win = visual.Window([1200,600], allowGUI=True, fullscr=False, waitBlanking=True, monitor='testMonitor', units='pix') # Create window\n",
    "\n",
    "# Experiment\n",
    "letter_text = visual.TextStim(win, height=50, pos=[0,0], color = 'black')\n",
    "letter_text.setText(letter)\n",
    "\n",
    "# Instruction\n",
    "if exp_info['experiment']=='experimental_condition':\n",
    "    text_inst = _('instr_experimental_condition')\n",
    "    text_instruction = visual.TextStim(win, pos=[0,0], text=text_inst)\n",
    "else:\n",
    "    text_inst = _('instr_control_condition')\n",
    "    text_instruction = visual.TextStim(win, pos=[0,0], text=text_inst)\n",
    "text_instruction.draw()\n",
    "win.flip() # draw the instruction\n",
    "event.waitKeys() # wait for key press to continue\n",
    "\n",
    "win.flip() # 깨끗한 윈도우 생성\n",
    "\n",
    "letter_text.draw()\n",
    "win.flip()\n",
    "\n",
    "core.wait(0.1) # 잠시 멈추기\n",
    "\n",
    "win.close() # 윈도우 닫기"
   ]
  },
  {
   "cell_type": "markdown",
   "metadata": {},
   "source": [
    "-------------------------------"
   ]
  },
  {
   "cell_type": "markdown",
   "metadata": {},
   "source": [
    "#### 글자 연속으로 뿌리기"
   ]
  },
  {
   "cell_type": "code",
   "execution_count": 28,
   "metadata": {
    "collapsed": true
   },
   "outputs": [],
   "source": [
    "# Stimuli\n",
    "available_letters = map(chr, range(65, 91)) # letters of the English alphabet in uppercase\n",
    "del available_letters [23] # removing X from the alphabet\n",
    "random.shuffle(available_letters) # Randomize list"
   ]
  },
  {
   "cell_type": "code",
   "execution_count": 29,
   "metadata": {
    "collapsed": true
   },
   "outputs": [],
   "source": [
    "# Generate letter stream with colors\n",
    "letter_stream = available_letters [0: random.randrange(16, 24)] #getting the first 7-15 (random) elements of the letter stream\n",
    "colors = ['black']*len(letter_stream)\n",
    "colors[-9] = 'white'"
   ]
  },
  {
   "cell_type": "code",
   "execution_count": 30,
   "metadata": {},
   "outputs": [
    {
     "name": "stdout",
     "output_type": "stream",
     "text": [
      "A\n",
      "N\n",
      "H\n",
      "R\n",
      "U\n",
      "T\n",
      "L\n",
      "V\n",
      "B\n",
      "J\n",
      "E\n",
      "W\n",
      "F\n",
      "I\n",
      "O\n",
      "K\n",
      "S\n",
      "D\n",
      "P\n",
      "M\n",
      "Q\n"
     ]
    }
   ],
   "source": [
    "for letter in letter_stream :\n",
    "    print(letter)"
   ]
  },
  {
   "cell_type": "code",
   "execution_count": 31,
   "metadata": {},
   "outputs": [
    {
     "name": "stdout",
     "output_type": "stream",
     "text": [
      "black\n",
      "black\n",
      "black\n",
      "black\n",
      "black\n",
      "black\n",
      "black\n",
      "black\n",
      "black\n",
      "black\n",
      "black\n",
      "black\n",
      "white\n",
      "black\n",
      "black\n",
      "black\n",
      "black\n",
      "black\n",
      "black\n",
      "black\n",
      "black\n"
     ]
    }
   ],
   "source": [
    "for color in colors :\n",
    "    print(color)"
   ]
  },
  {
   "cell_type": "code",
   "execution_count": 32,
   "metadata": {},
   "outputs": [
    {
     "name": "stdout",
     "output_type": "stream",
     "text": [
      "A\n",
      "black\n",
      "N\n",
      "black\n",
      "H\n",
      "black\n",
      "R\n",
      "black\n",
      "U\n",
      "black\n",
      "T\n",
      "black\n",
      "L\n",
      "black\n",
      "V\n",
      "black\n",
      "B\n",
      "black\n",
      "J\n",
      "black\n",
      "E\n",
      "black\n",
      "W\n",
      "black\n",
      "F\n",
      "white\n",
      "I\n",
      "black\n",
      "O\n",
      "black\n",
      "K\n",
      "black\n",
      "S\n",
      "black\n",
      "D\n",
      "black\n",
      "P\n",
      "black\n",
      "M\n",
      "black\n",
      "Q\n",
      "black\n"
     ]
    }
   ],
   "source": [
    "for letter, color in zip(letter_stream, colors):\n",
    "    print(letter)\n",
    "    print(color)"
   ]
  },
  {
   "cell_type": "code",
   "execution_count": 34,
   "metadata": {
    "collapsed": true
   },
   "outputs": [],
   "source": [
    "fixation_duration=0.2\n",
    "letter_duration=0.2"
   ]
  },
  {
   "cell_type": "code",
   "execution_count": 35,
   "metadata": {},
   "outputs": [
    {
     "name": "stdout",
     "output_type": "stream",
     "text": [
      "700.8775 \tWARNING \tCouldn't measure a consistent frame rate.\n",
      "  - Is your graphics card set to sync to vertical blank?\n",
      "  - Are you running other processes on your computer?\n",
      "\n",
      "700.9587 \tWARNING \tt of last frame was 81.40ms (=1/12)\n",
      "702.2839 \tWARNING \tt of last frame was 1325.24ms (=1/0)\n",
      "702.5164 \tWARNING \tt of last frame was 216.45ms (=1/4)\n",
      "702.7325 \tWARNING \tt of last frame was 216.10ms (=1/4)\n",
      "702.9585 \tWARNING \tMultiple dropped frames have occurred - I'll stop bothering you about them!\n"
     ]
    }
   ],
   "source": [
    "# Language specific components\n",
    "def _(string):\n",
    "    # You should use texts dictionary to strore the strings, and set exp_info['language'] to specify the language\n",
    "    return texts[string][exp_info['language']]\n",
    "texts = {\n",
    "    'instr_experimental_condition':\n",
    "        {'en':'In the following task you will see black colored numbers appearing on the display rapidly after each other. You have two tasks. First you have to detect a white letter and remember what letter it was. Second, you have to decide whether there was a black X among the letters. When all letters were presented you have to type what letter was the white one, then you have to press the \"right arrow key\" if there was a black X and press \"left arrow key\" if there was no black X. Press any key to continue.',\n",
    "        'hu':u'A következőkben fekete betűket fogsz látni a képernyőn. A betűk gyorsan egymás után jelennek majd meg. Két feladatod lesz. A fekete betűk között lesz egy fehér is, és azt kell majd megmondanod, milyen betű volt a fehér betű. Aztán azt kell eldöntened, hogy látál-e feket X-et a betűk között. A betűk felvillanása le kell nyomnod azt a betűt, amilyen a fehér betű volt, majd amennyiben láttál fekete X-et nyomgd meg az \"jobb kurzormozgató nyílat\" gombot, ha nem láttál fekete X-et nyomd meg az \"bal kurzormozgató nyílat\" gombot. Nyomj egy gombot, ha kezdhetjük.'},\n",
    "    'instr_control_condition':\n",
    "        {'en':'In the following task you will see black colored numbers appearing on the display rapidly after each other. You have to decide whether there was a black X among the letters. After the letters you have to push \"right arrow key\" if there was a black X among the letters and push \"left arrow key\" if there was no black X. Press any key to continue.',\n",
    "        'hu':u'A következőkben fekete betűket fogsz látni a képernyőn. A betűk gyorsan egymás után jelennek majd meg. Azt kell eldöntened, hogy látál-e feket X-et a betűk között. A betűk felvillanása után, amennyiben láttál fekete X-et nyomgd meg az \"jobb kurzormozgató nyílat\" gombot, ha nem láttál fekete X-et nyomd meg az \"bal kurzormozgató nyílat\" gombot. Nyomj egy gombot, ha kezdhetjük.'},\n",
    "    'instr_response_target_1':\n",
    "        {'en':'Please press the button that you think the white letter was.',\n",
    "        'hu':u'Nyomd meg azt a billentyűt a billyentyűzeten, amilyen szerinted fehér betű volt'},\n",
    "    'instr_response_target_2':\n",
    "        {'en':'Please press \"right arrow key\" if there was an X in the letter stream, and press \"left arrow key\" if there was no X.',\n",
    "        'hu':u'Nyomd meg a \"jobb kurzormozgató nyílat\", amennyiben láttál X-t a betűk között, ha nem láttál nyomd meg az \"bal kurzormozgató nyílat\"'},\n",
    "}\n",
    "\n",
    "exp_info = {'participant':'participant_ID',\n",
    "    'language': texts.values()[0].keys(),\n",
    "    'experiment':['experimental_condition', 'control_condition'],}\n",
    "\n",
    "# Setting some parameters on GUI\n",
    "dlg = gui.DlgFromDict(exp_info, title='exp_title',\n",
    "   order = ['participant', 'language', 'experiment'],\n",
    "    tip = {'participant':'Identifier of the participant.',\n",
    "        'language':'Language of the instructions.',\n",
    "        'experiment':'Experimental or control condition of the experiment'})\n",
    "if not dlg.OK:\n",
    "    print 'User Cancelled'\n",
    "    core.quit()\n",
    "    \n",
    "win = visual.Window([1200,600], allowGUI=True, fullscr=False, waitBlanking=True, monitor='testMonitor', units='pix') # Create window\n",
    "\n",
    "# Experiment\n",
    "letter_text = visual.TextStim(win, height=50, pos=[0,0], color = 'black')\n",
    "letter_text.setText(letter)\n",
    "\n",
    "# Instruction\n",
    "if exp_info['experiment']=='experimental_condition':\n",
    "    text_inst = _('instr_experimental_condition')\n",
    "    text_instruction = visual.TextStim(win, pos=[0,0], text=text_inst)\n",
    "else:\n",
    "    text_inst = _('instr_control_condition')\n",
    "    text_instruction = visual.TextStim(win, pos=[0,0], text=text_inst)\n",
    "text_instruction.draw()\n",
    "win.flip() # draw the instruction\n",
    "event.waitKeys() # wait for key press to continue\n",
    "\n",
    "win.flip() # 깨끗한 윈도우 생성\n",
    "\n",
    "letter_text.setText('+')\n",
    "letter_text.draw()\n",
    "win.flip()\n",
    "core.wait(fixation_duration)\n",
    "\n",
    "for letter, color in zip(letter_stream, colors):\n",
    "    letter_text.setText(letter)\n",
    "    letter_text.setColor(color)\n",
    "    letter_text.draw()\n",
    "    win.flip()\n",
    "    core.wait(letter_duration)\n",
    "    win.flip()\n",
    "    \n",
    "core.wait(0.1) # 잠시 멈추기\n",
    "\n",
    "win.close() # 윈도우 닫기"
   ]
  },
  {
   "cell_type": "markdown",
   "metadata": {},
   "source": [
    "-----------------------"
   ]
  },
  {
   "cell_type": "markdown",
   "metadata": {},
   "source": [
    "#### 랜덤하게 타겟 자극 X 껴넣기"
   ]
  },
  {
   "cell_type": "code",
   "execution_count": 37,
   "metadata": {
    "collapsed": true
   },
   "outputs": [],
   "source": [
    "#random factor\n",
    "x_positions = [0]*16 + range(1,9)*5\n",
    "random.shuffle(x_positions) # Randomize list"
   ]
  },
  {
   "cell_type": "code",
   "execution_count": 40,
   "metadata": {},
   "outputs": [
    {
     "name": "stdout",
     "output_type": "stream",
     "text": [
      "3\n",
      "4\n"
     ]
    }
   ],
   "source": [
    "for x_position in x_positions[:2] :\n",
    "    print(x_position)"
   ]
  },
  {
   "cell_type": "code",
   "execution_count": 41,
   "metadata": {},
   "outputs": [
    {
     "name": "stdout",
     "output_type": "stream",
     "text": [
      "3 [('K', 'black'), ('U', 'black'), ('H', 'black'), ('O', 'black'), ('S', 'black'), ('C', 'black'), ('T', 'black'), ('F', 'black'), ('Y', 'black'), ('J', 'white'), ('R', 'black'), ('P', 'black'), ('Q', 'black'), ('Z', 'black'), ('A', 'black'), ('X', 'black'), ('I', 'black'), ('G', 'black')]\n",
      "4 [('K', 'black'), ('U', 'black'), ('H', 'black'), ('O', 'black'), ('S', 'black'), ('C', 'black'), ('T', 'black'), ('F', 'black'), ('Y', 'black'), ('J', 'black'), ('R', 'white'), ('P', 'black'), ('Q', 'black'), ('Z', 'black'), ('A', 'black'), ('X', 'black'), ('I', 'black'), ('G', 'black'), ('V', 'black')]\n"
     ]
    }
   ],
   "source": [
    "fixation_duration=0.2\n",
    "letter_duration=0.2\n",
    "interstimulus_duration = 0.3\n",
    "\n",
    "# Stimuli\n",
    "available_letters = map(chr, range(65, 91)) # letters of the English alphabet in uppercase\n",
    "del available_letters [23] # removing X from the alphabet\n",
    "random.shuffle(available_letters) # Randomize list\n",
    "\n",
    "# Language specific components\n",
    "def _(string):\n",
    "    # You should use texts dictionary to strore the strings, and set exp_info['language'] to specify the language\n",
    "    return texts[string][exp_info['language']]\n",
    "texts = {\n",
    "    'instr_experimental_condition':\n",
    "        {'en':'In the following task you will see black colored numbers appearing on the display rapidly after each other. You have two tasks. First you have to detect a white letter and remember what letter it was. Second, you have to decide whether there was a black X among the letters. When all letters were presented you have to type what letter was the white one, then you have to press the \"right arrow key\" if there was a black X and press \"left arrow key\" if there was no black X. Press any key to continue.',\n",
    "        'hu':u'A következőkben fekete betűket fogsz látni a képernyőn. A betűk gyorsan egymás után jelennek majd meg. Két feladatod lesz. A fekete betűk között lesz egy fehér is, és azt kell majd megmondanod, milyen betű volt a fehér betű. Aztán azt kell eldöntened, hogy látál-e feket X-et a betűk között. A betűk felvillanása le kell nyomnod azt a betűt, amilyen a fehér betű volt, majd amennyiben láttál fekete X-et nyomgd meg az \"jobb kurzormozgató nyílat\" gombot, ha nem láttál fekete X-et nyomd meg az \"bal kurzormozgató nyílat\" gombot. Nyomj egy gombot, ha kezdhetjük.'},\n",
    "    'instr_control_condition':\n",
    "        {'en':'In the following task you will see black colored numbers appearing on the display rapidly after each other. You have to decide whether there was a black X among the letters. After the letters you have to push \"right arrow key\" if there was a black X among the letters and push \"left arrow key\" if there was no black X. Press any key to continue.',\n",
    "        'hu':u'A következőkben fekete betűket fogsz látni a képernyőn. A betűk gyorsan egymás után jelennek majd meg. Azt kell eldöntened, hogy látál-e feket X-et a betűk között. A betűk felvillanása után, amennyiben láttál fekete X-et nyomgd meg az \"jobb kurzormozgató nyílat\" gombot, ha nem láttál fekete X-et nyomd meg az \"bal kurzormozgató nyílat\" gombot. Nyomj egy gombot, ha kezdhetjük.'},\n",
    "    'instr_response_target_1':\n",
    "        {'en':'Please press the button that you think the white letter was.',\n",
    "        'hu':u'Nyomd meg azt a billentyűt a billyentyűzeten, amilyen szerinted fehér betű volt'},\n",
    "    'instr_response_target_2':\n",
    "        {'en':'Please press \"right arrow key\" if there was an X in the letter stream, and press \"left arrow key\" if there was no X.',\n",
    "        'hu':u'Nyomd meg a \"jobb kurzormozgató nyílat\", amennyiben láttál X-t a betűk között, ha nem láttál nyomd meg az \"bal kurzormozgató nyílat\"'},\n",
    "}\n",
    "\n",
    "exp_info = {'participant':'participant_ID',\n",
    "    'language': texts.values()[0].keys(),\n",
    "    'experiment':['experimental_condition', 'control_condition'],}\n",
    "\n",
    "# Setting some parameters on GUI\n",
    "dlg = gui.DlgFromDict(exp_info, title='exp_title',\n",
    "   order = ['participant', 'language', 'experiment'],\n",
    "    tip = {'participant':'Identifier of the participant.',\n",
    "        'language':'Language of the instructions.',\n",
    "        'experiment':'Experimental or control condition of the experiment'})\n",
    "if not dlg.OK:\n",
    "    print 'User Cancelled'\n",
    "    core.quit()\n",
    "    \n",
    "win = visual.Window([1200,600], allowGUI=True, fullscr=False, waitBlanking=True, monitor='testMonitor', units='pix') # Create window\n",
    "\n",
    "# Experiment\n",
    "letter_text = visual.TextStim(win, height=50, pos=[0,0], color = 'black')\n",
    "\n",
    "# Instruction\n",
    "if exp_info['experiment']=='experimental_condition':\n",
    "    text_inst = _('instr_experimental_condition')\n",
    "    text_instruction = visual.TextStim(win, pos=[0,0], text=text_inst)\n",
    "else:\n",
    "    text_inst = _('instr_control_condition')\n",
    "    text_instruction = visual.TextStim(win, pos=[0,0], text=text_inst)\n",
    "text_instruction.draw()\n",
    "win.flip() # draw the instruction\n",
    "event.waitKeys() # wait for key press to continue\n",
    "\n",
    "win.flip() # 깨끗한 윈도우 생성\n",
    "\n",
    "for x_position in x_positions[:2] : \n",
    "\n",
    "    # Generate letter stream with colors\n",
    "    letter_stream = available_letters [0: random.randrange(16, 24)] #getting the first 7-15 (random) elements of the letter stream\n",
    "    colors = ['black']*len(letter_stream)\n",
    "    colors[-9] = 'white'\n",
    "    if x_position:\n",
    "        letter_stream[-x_position] = 'X'\n",
    "    print x_position, zip(letter_stream, colors)\n",
    "    \n",
    "    letter_text.setText('+')\n",
    "    letter_text.draw()\n",
    "    win.flip()\n",
    "    core.wait(fixation_duration)\n",
    "    for letter, color in zip(letter_stream, colors):\n",
    "        letter_text.setText(letter)\n",
    "        letter_text.setColor(color)\n",
    "        letter_text.draw()\n",
    "        win.flip()\n",
    "        core.wait(letter_duration)\n",
    "        win.flip()\n",
    "        core.wait(interstimulus_duration)\n",
    "    \n",
    "core.wait(0.1) # 잠시 멈추기\n",
    "\n",
    "win.close() # 윈도우 닫기\n"
   ]
  },
  {
   "cell_type": "markdown",
   "metadata": {},
   "source": [
    "----------------------------"
   ]
  },
  {
   "cell_type": "markdown",
   "metadata": {},
   "source": [
    "#### 반응을 키보드로 입력받기"
   ]
  },
  {
   "cell_type": "code",
   "execution_count": 42,
   "metadata": {},
   "outputs": [
    {
     "name": "stdout",
     "output_type": "stream",
     "text": [
      "0 [('K', 'black'), ('D', 'black'), ('A', 'black'), ('P', 'black'), ('W', 'black'), ('N', 'black'), ('S', 'black'), ('F', 'black'), ('C', 'black'), ('O', 'black'), ('Q', 'black'), ('U', 'white'), ('G', 'black'), ('E', 'black'), ('Y', 'black'), ('Z', 'black'), ('I', 'black'), ('R', 'black'), ('J', 'black'), ('L', 'black')]\n",
      "8 [('K', 'black'), ('D', 'black'), ('A', 'black'), ('P', 'black'), ('W', 'black'), ('N', 'black'), ('S', 'black'), ('F', 'black'), ('C', 'black'), ('O', 'white'), ('X', 'black'), ('U', 'black'), ('G', 'black'), ('E', 'black'), ('Y', 'black'), ('Z', 'black'), ('I', 'black'), ('R', 'black')]\n",
      "987.4710 \tWARNING \tCouldn't measure a consistent frame rate.\n",
      "  - Is your graphics card set to sync to vertical blank?\n",
      "  - Are you running other processes on your computer?\n",
      "\n",
      "987.5475 \tWARNING \tt of last frame was 76.70ms (=1/13)\n",
      "989.4824 \tWARNING \tt of last frame was 1934.91ms (=1/0)\n",
      "989.6979 \tWARNING \tt of last frame was 199.66ms (=1/5)\n",
      "989.7206 \tWARNING \tt of last frame was 22.71ms (=1/44)\n",
      "989.8037 \tWARNING \tMultiple dropped frames have occurred - I'll stop bothering you about them!\n"
     ]
    }
   ],
   "source": [
    "fixation_duration=0.18\n",
    "letter_duration=0.015\n",
    "interstimulus_duration=0.075\n",
    "\n",
    "# Stimuli\n",
    "available_letters = map(chr, range(65, 91)) # letters of the English alphabet in uppercase\n",
    "del available_letters [23] # removing X from the alphabet\n",
    "random.shuffle(available_letters) # Randomize list\n",
    "\n",
    "#random factor\n",
    "x_positions = [0]*16 + range(1,9)*5\n",
    "random.shuffle(x_positions) # Randomize list\n",
    "\n",
    "# Language specific components\n",
    "def _(string):\n",
    "    # You should use texts dictionary to strore the strings, and set exp_info['language'] to specify the language\n",
    "    return texts[string][exp_info['language']]\n",
    "texts = {\n",
    "    'instr_experimental_condition':\n",
    "        {'en':'In the following task you will see black colored numbers appearing on the display rapidly after each other. You have two tasks. First you have to detect a white letter and remember what letter it was. Second, you have to decide whether there was a black X among the letters. When all letters were presented you have to type what letter was the white one, then you have to press the \"right arrow key\" if there was a black X and press \"left arrow key\" if there was no black X. Press any key to continue.',\n",
    "        'hu':u'A következőkben fekete betűket fogsz látni a képernyőn. A betűk gyorsan egymás után jelennek majd meg. Két feladatod lesz. A fekete betűk között lesz egy fehér is, és azt kell majd megmondanod, milyen betű volt a fehér betű. Aztán azt kell eldöntened, hogy látál-e feket X-et a betűk között. A betűk felvillanása le kell nyomnod azt a betűt, amilyen a fehér betű volt, majd amennyiben láttál fekete X-et nyomgd meg az \"jobb kurzormozgató nyílat\" gombot, ha nem láttál fekete X-et nyomd meg az \"bal kurzormozgató nyílat\" gombot. Nyomj egy gombot, ha kezdhetjük.'},\n",
    "    'instr_control_condition':\n",
    "        {'en':'In the following task you will see black colored numbers appearing on the display rapidly after each other. You have to decide whether there was a black X among the letters. After the letters you have to push \"right arrow key\" if there was a black X among the letters and push \"left arrow key\" if there was no black X. Press any key to continue.',\n",
    "        'hu':u'A következőkben fekete betűket fogsz látni a képernyőn. A betűk gyorsan egymás után jelennek majd meg. Azt kell eldöntened, hogy látál-e feket X-et a betűk között. A betűk felvillanása után, amennyiben láttál fekete X-et nyomgd meg az \"jobb kurzormozgató nyílat\" gombot, ha nem láttál fekete X-et nyomd meg az \"bal kurzormozgató nyílat\" gombot. Nyomj egy gombot, ha kezdhetjük.'},\n",
    "    'instr_response_target_1':\n",
    "        {'en':'Please press the button that you think the white letter was.',\n",
    "        'hu':u'Nyomd meg azt a billentyűt a billyentyűzeten, amilyen szerinted fehér betű volt'},\n",
    "    'instr_response_target_2':\n",
    "        {'en':'Please press \"right arrow key\" if there was an X in the letter stream, and press \"left arrow key\" if there was no X.',\n",
    "        'hu':u'Nyomd meg a \"jobb kurzormozgató nyílat\", amennyiben láttál X-t a betűk között, ha nem láttál nyomd meg az \"bal kurzormozgató nyílat\"'},\n",
    "}\n",
    "\n",
    "exp_info = {'participant':'participant_ID',\n",
    "    'language': texts.values()[0].keys(),\n",
    "    'experiment':['experimental_condition', 'control_condition'],}\n",
    "\n",
    "# Setting some parameters on GUI\n",
    "dlg = gui.DlgFromDict(exp_info, title='exp_title',\n",
    "   order = ['participant', 'language', 'experiment'],\n",
    "    tip = {'participant':'Identifier of the participant.',\n",
    "        'language':'Language of the instructions.',\n",
    "        'experiment':'Experimental or control condition of the experiment'})\n",
    "if not dlg.OK:\n",
    "    print 'User Cancelled'\n",
    "    core.quit()\n",
    "    \n",
    "win = visual.Window([1200,600], allowGUI=True, fullscr=False, waitBlanking=True, monitor='testMonitor', units='pix') # Create window\n",
    "\n",
    "# Experiment\n",
    "letter_text = visual.TextStim(win, height=50, pos=[0,0], color = 'black')\n",
    "\n",
    "# Instruction\n",
    "if exp_info['experiment']=='experimental_condition':\n",
    "    text_inst = _('instr_experimental_condition')\n",
    "    text_instruction = visual.TextStim(win, pos=[0,0], text=text_inst)\n",
    "else:\n",
    "    text_inst = _('instr_control_condition')\n",
    "    text_instruction = visual.TextStim(win, pos=[0,0], text=text_inst)\n",
    "text_instruction.draw()\n",
    "win.flip() # draw the instruction\n",
    "event.waitKeys() # wait for key press to continue\n",
    "\n",
    "win.flip() # 깨끗한 윈도우 생성\n",
    "\n",
    "for x_position in x_positions[:2] : \n",
    "\n",
    "    # Generate letter stream with colors\n",
    "    letter_stream = available_letters [0: random.randrange(16, 24)] #getting the first 7-15 (random) elements of the letter stream\n",
    "    colors = ['black']*len(letter_stream)\n",
    "    colors[-9] = 'white'\n",
    "    if x_position:\n",
    "        letter_stream[-x_position] = 'X'\n",
    "    print x_position, zip(letter_stream, colors)\n",
    "    \n",
    "    letter_text.setText('+')\n",
    "    letter_text.draw()\n",
    "    win.flip()\n",
    "    core.wait(fixation_duration)\n",
    "    for letter, color in zip(letter_stream, colors):\n",
    "        letter_text.setText(letter)\n",
    "        letter_text.setColor(color)\n",
    "        letter_text.draw()\n",
    "        win.flip()\n",
    "        core.wait(letter_duration)\n",
    "        win.flip()\n",
    "        core.wait(interstimulus_duration)\n",
    "    \n",
    "    if exp_info['experiment']=='experimental_condition':\n",
    "        text_instruction = visual.TextStim(win, pos=[0,0], text=_('instr_response_target_1')) # text for the answer\n",
    "        text_instruction.draw()\n",
    "        win.flip() # draw the instruction\n",
    "        response_1=event.waitKeys()[0]\n",
    "        if response_1=='escape':\n",
    "            print 'Experiment interrupted'\n",
    "            core.quit()\n",
    "    \n",
    "    text_instruction = visual.TextStim(win, pos=[0,0], text=_('instr_response_target_2')) #text for the answer\n",
    "    text_instruction.draw()\n",
    "    win.flip() # draw the instruction\n",
    "    response_2=event.waitKeys()[0]\n",
    "    if response_2=='escape':\n",
    "        print 'Experiment interrupted'\n",
    "        core.quit()\n",
    "        \n",
    "    event.clearEvents()\n",
    "    win.flip() # show a clean window\n",
    "    core.wait(0.5) # ITI    \n",
    "\n",
    "\n",
    "win.close() # 윈도우 닫기\n"
   ]
  },
  {
   "cell_type": "markdown",
   "metadata": {},
   "source": [
    "------------------------"
   ]
  },
  {
   "cell_type": "markdown",
   "metadata": {},
   "source": [
    "#### 로그 파일 생성, 반응을 기록하기"
   ]
  },
  {
   "cell_type": "code",
   "execution_count": 43,
   "metadata": {},
   "outputs": [
    {
     "name": "stdout",
     "output_type": "stream",
     "text": [
      "ls: mytestlog.csv: No such file or directory\r\n"
     ]
    }
   ],
   "source": [
    "%ls mytestlog.csv"
   ]
  },
  {
   "cell_type": "code",
   "execution_count": 44,
   "metadata": {
    "collapsed": true
   },
   "outputs": [],
   "source": [
    "# Open log file to write\n",
    "file_name = \"mytestlog.csv\"\n",
    "\n",
    "log_file = open(file_name, 'a')\n",
    "log_file.write('participant, condition, white_letter, x_position, response_white_letter, response_x, RT_1, RT_2\\n') # Heading\n",
    "\n",
    "log_file.write('\"%s\", \"%s\", %s, %d, %s, %d, %.4f, %.4f\\n' \n",
    "               %(\"1\", \"experimental_condition\", \"Y\", \n",
    "                 2, \"x\", \n",
    "                 1, 1.63, 0.7879))\n",
    "log_file.close()"
   ]
  },
  {
   "cell_type": "code",
   "execution_count": 45,
   "metadata": {},
   "outputs": [
    {
     "name": "stdout",
     "output_type": "stream",
     "text": [
      "mytestlog.csv\r\n"
     ]
    }
   ],
   "source": [
    "%ls mytestlog.csv"
   ]
  },
  {
   "cell_type": "code",
   "execution_count": 46,
   "metadata": {},
   "outputs": [
    {
     "data": {
      "text/html": [
       "<div>\n",
       "<style>\n",
       "    .dataframe thead tr:only-child th {\n",
       "        text-align: right;\n",
       "    }\n",
       "\n",
       "    .dataframe thead th {\n",
       "        text-align: left;\n",
       "    }\n",
       "\n",
       "    .dataframe tbody tr th {\n",
       "        vertical-align: top;\n",
       "    }\n",
       "</style>\n",
       "<table border=\"1\" class=\"dataframe\">\n",
       "  <thead>\n",
       "    <tr style=\"text-align: right;\">\n",
       "      <th></th>\n",
       "      <th>participant</th>\n",
       "      <th>condition</th>\n",
       "      <th>white_letter</th>\n",
       "      <th>x_position</th>\n",
       "      <th>response_white_letter</th>\n",
       "      <th>response_x</th>\n",
       "      <th>RT_1</th>\n",
       "      <th>RT_2</th>\n",
       "    </tr>\n",
       "  </thead>\n",
       "  <tbody>\n",
       "    <tr>\n",
       "      <th>0</th>\n",
       "      <td>1</td>\n",
       "      <td>\"experimental_condition\"</td>\n",
       "      <td>Y</td>\n",
       "      <td>2</td>\n",
       "      <td>x</td>\n",
       "      <td>1</td>\n",
       "      <td>1.63</td>\n",
       "      <td>0.7879</td>\n",
       "    </tr>\n",
       "  </tbody>\n",
       "</table>\n",
       "</div>"
      ],
      "text/plain": [
       "   participant                  condition  white_letter   x_position  \\\n",
       "0            1   \"experimental_condition\"             Y            2   \n",
       "\n",
       "   response_white_letter   response_x   RT_1    RT_2  \n",
       "0                      x            1   1.63  0.7879  "
      ]
     },
     "execution_count": 46,
     "metadata": {},
     "output_type": "execute_result"
    }
   ],
   "source": [
    "import pandas as pd\n",
    "df = pd.read_csv(\"mytestlog.csv\")\n",
    "df"
   ]
  },
  {
   "cell_type": "code",
   "execution_count": 49,
   "metadata": {},
   "outputs": [
    {
     "data": {
      "text/html": [
       "<div>\n",
       "<style>\n",
       "    .dataframe thead tr:only-child th {\n",
       "        text-align: right;\n",
       "    }\n",
       "\n",
       "    .dataframe thead th {\n",
       "        text-align: left;\n",
       "    }\n",
       "\n",
       "    .dataframe tbody tr th {\n",
       "        vertical-align: top;\n",
       "    }\n",
       "</style>\n",
       "<table border=\"1\" class=\"dataframe\">\n",
       "  <thead>\n",
       "    <tr style=\"text-align: right;\">\n",
       "      <th></th>\n",
       "      <th>participant</th>\n",
       "      <th>condition</th>\n",
       "      <th>white_letter</th>\n",
       "      <th>x_position</th>\n",
       "      <th>response_white_letter</th>\n",
       "      <th>response_x</th>\n",
       "      <th>RT_1</th>\n",
       "      <th>RT_2</th>\n",
       "    </tr>\n",
       "  </thead>\n",
       "  <tbody>\n",
       "    <tr>\n",
       "      <th>0</th>\n",
       "      <td>1</td>\n",
       "      <td>\"experimental_condition\"</td>\n",
       "      <td>Y</td>\n",
       "      <td>2</td>\n",
       "      <td>x</td>\n",
       "      <td>1</td>\n",
       "      <td>1.6300</td>\n",
       "      <td>0.7879</td>\n",
       "    </tr>\n",
       "    <tr>\n",
       "      <th>1</th>\n",
       "      <td>1</td>\n",
       "      <td>\"experimental_condition\"</td>\n",
       "      <td>Y</td>\n",
       "      <td>2</td>\n",
       "      <td>x</td>\n",
       "      <td>1</td>\n",
       "      <td>1.6300</td>\n",
       "      <td>0.7879</td>\n",
       "    </tr>\n",
       "    <tr>\n",
       "      <th>2</th>\n",
       "      <td>participant</td>\n",
       "      <td>condition</td>\n",
       "      <td>white_letter</td>\n",
       "      <td>x_position</td>\n",
       "      <td>response_white_letter</td>\n",
       "      <td>response_x</td>\n",
       "      <td>RT_1</td>\n",
       "      <td>RT_2</td>\n",
       "    </tr>\n",
       "    <tr>\n",
       "      <th>3</th>\n",
       "      <td>1</td>\n",
       "      <td>\"experimental_condition\"</td>\n",
       "      <td>Y</td>\n",
       "      <td>2</td>\n",
       "      <td>x</td>\n",
       "      <td>1</td>\n",
       "      <td>1.6300</td>\n",
       "      <td>0.7879</td>\n",
       "    </tr>\n",
       "    <tr>\n",
       "      <th>4</th>\n",
       "      <td>1</td>\n",
       "      <td>\"experimental_condition\"</td>\n",
       "      <td>Y</td>\n",
       "      <td>2</td>\n",
       "      <td>x</td>\n",
       "      <td>1</td>\n",
       "      <td>1.6300</td>\n",
       "      <td>0.7879</td>\n",
       "    </tr>\n",
       "  </tbody>\n",
       "</table>\n",
       "</div>"
      ],
      "text/plain": [
       "   participant                  condition   white_letter   x_position  \\\n",
       "0            1   \"experimental_condition\"              Y            2   \n",
       "1            1   \"experimental_condition\"              Y            2   \n",
       "2  participant                  condition   white_letter   x_position   \n",
       "3            1   \"experimental_condition\"              Y            2   \n",
       "4            1   \"experimental_condition\"              Y            2   \n",
       "\n",
       "    response_white_letter   response_x     RT_1     RT_2  \n",
       "0                       x            1   1.6300   0.7879  \n",
       "1                       x            1   1.6300   0.7879  \n",
       "2   response_white_letter   response_x     RT_1     RT_2  \n",
       "3                       x            1   1.6300   0.7879  \n",
       "4                       x            1   1.6300   0.7879  "
      ]
     },
     "execution_count": 49,
     "metadata": {},
     "output_type": "execute_result"
    }
   ],
   "source": [
    "# Open log file to write\n",
    "file_name = \"mytestlog2.csv\"\n",
    "\n",
    "log_file = open(file_name, 'a')\n",
    "log_file.write('participant, condition, white_letter, x_position, response_white_letter, response_x, RT_1, RT_2\\n') # Heading\n",
    "\n",
    "log_file.write('\"%s\", \"%s\", %s, %d, %s, %d, %.4f, %.4f\\n' \n",
    "               %(\"1\", \"experimental_condition\", \"Y\", \n",
    "                 2, \"x\", \n",
    "                 1, 1.63, 0.7879))\n",
    "\n",
    "log_file.write('\"%s\", \"%s\", %s, %d, %s, %d, %.4f, %.4f\\n' \n",
    "               %(\"1\", \"experimental_condition\", \"Y\", \n",
    "                 2, \"x\", \n",
    "                 1, 1.63, 0.7879))\n",
    "log_file.close()\n",
    "\n",
    "import pandas as pd\n",
    "df = pd.read_csv(\"mytestlog2.csv\")\n",
    "df"
   ]
  },
  {
   "cell_type": "code",
   "execution_count": 50,
   "metadata": {},
   "outputs": [
    {
     "name": "stdout",
     "output_type": "stream",
     "text": [
      "5 [('E', 'black'), ('L', 'black'), ('Q', 'black'), ('K', 'black'), ('V', 'black'), ('J', 'black'), ('Y', 'black'), ('O', 'black'), ('F', 'black'), ('C', 'black'), ('H', 'white'), ('D', 'black'), ('G', 'black'), ('A', 'black'), ('X', 'black'), ('W', 'black'), ('Z', 'black'), ('S', 'black'), ('P', 'black')]\n",
      "6 [('E', 'black'), ('L', 'black'), ('Q', 'black'), ('K', 'black'), ('V', 'black'), ('J', 'black'), ('Y', 'black'), ('O', 'black'), ('F', 'black'), ('C', 'black'), ('H', 'black'), ('D', 'black'), ('G', 'white'), ('A', 'black'), ('R', 'black'), ('X', 'black'), ('Z', 'black'), ('S', 'black'), ('P', 'black'), ('M', 'black'), ('U', 'black')]\n",
      "1233.6969 \tWARNING \tCouldn't measure a consistent frame rate.\n",
      "  - Is your graphics card set to sync to vertical blank?\n",
      "  - Are you running other processes on your computer?\n",
      "\n",
      "1233.7782 \tWARNING \tt of last frame was 81.59ms (=1/12)\n",
      "1234.7978 \tWARNING \tt of last frame was 1019.55ms (=1/0)\n",
      "1235.0136 \tWARNING \tt of last frame was 200.06ms (=1/4)\n",
      "1235.0464 \tWARNING \tt of last frame was 32.82ms (=1/30)\n",
      "1235.1301 \tWARNING \tMultiple dropped frames have occurred - I'll stop bothering you about them!\n"
     ]
    }
   ],
   "source": [
    "fixation_duration=0.18\n",
    "letter_duration=0.015\n",
    "interstimulus_duration=0.075\n",
    "\n",
    "# Stimuli\n",
    "available_letters = map(chr, range(65, 91)) # letters of the English alphabet in uppercase\n",
    "del available_letters [23] # removing X from the alphabet\n",
    "random.shuffle(available_letters) # Randomize list\n",
    "\n",
    "#random factor\n",
    "x_positions = [0]*16 + range(1,9)*5\n",
    "random.shuffle(x_positions) # Randomize list\n",
    "\n",
    "# Language specific components\n",
    "def _(string):\n",
    "    # You should use texts dictionary to strore the strings, and set exp_info['language'] to specify the language\n",
    "    return texts[string][exp_info['language']]\n",
    "texts = {\n",
    "    'instr_experimental_condition':\n",
    "        {'en':'In the following task you will see black colored numbers appearing on the display rapidly after each other. You have two tasks. First you have to detect a white letter and remember what letter it was. Second, you have to decide whether there was a black X among the letters. When all letters were presented you have to type what letter was the white one, then you have to press the \"right arrow key\" if there was a black X and press \"left arrow key\" if there was no black X. Press any key to continue.',\n",
    "        'hu':u'A következőkben fekete betűket fogsz látni a képernyőn. A betűk gyorsan egymás után jelennek majd meg. Két feladatod lesz. A fekete betűk között lesz egy fehér is, és azt kell majd megmondanod, milyen betű volt a fehér betű. Aztán azt kell eldöntened, hogy látál-e feket X-et a betűk között. A betűk felvillanása le kell nyomnod azt a betűt, amilyen a fehér betű volt, majd amennyiben láttál fekete X-et nyomgd meg az \"jobb kurzormozgató nyílat\" gombot, ha nem láttál fekete X-et nyomd meg az \"bal kurzormozgató nyílat\" gombot. Nyomj egy gombot, ha kezdhetjük.'},\n",
    "    'instr_control_condition':\n",
    "        {'en':'In the following task you will see black colored numbers appearing on the display rapidly after each other. You have to decide whether there was a black X among the letters. After the letters you have to push \"right arrow key\" if there was a black X among the letters and push \"left arrow key\" if there was no black X. Press any key to continue.',\n",
    "        'hu':u'A következőkben fekete betűket fogsz látni a képernyőn. A betűk gyorsan egymás után jelennek majd meg. Azt kell eldöntened, hogy látál-e feket X-et a betűk között. A betűk felvillanása után, amennyiben láttál fekete X-et nyomgd meg az \"jobb kurzormozgató nyílat\" gombot, ha nem láttál fekete X-et nyomd meg az \"bal kurzormozgató nyílat\" gombot. Nyomj egy gombot, ha kezdhetjük.'},\n",
    "    'instr_response_target_1':\n",
    "        {'en':'Please press the button that you think the white letter was.',\n",
    "        'hu':u'Nyomd meg azt a billentyűt a billyentyűzeten, amilyen szerinted fehér betű volt'},\n",
    "    'instr_response_target_2':\n",
    "        {'en':'Please press \"right arrow key\" if there was an X in the letter stream, and press \"left arrow key\" if there was no X.',\n",
    "        'hu':u'Nyomd meg a \"jobb kurzormozgató nyílat\", amennyiben láttál X-t a betűk között, ha nem láttál nyomd meg az \"bal kurzormozgató nyílat\"'},\n",
    "}\n",
    "\n",
    "exp_info = {'participant':'participant_ID',\n",
    "    'language': texts.values()[0].keys(),\n",
    "    'experiment':['experimental_condition', 'control_condition'],}\n",
    "\n",
    "# Setting some parameters on GUI\n",
    "dlg = gui.DlgFromDict(exp_info, title='exp_title',\n",
    "   order = ['participant', 'language', 'experiment'],\n",
    "    tip = {'participant':'Identifier of the participant.',\n",
    "        'language':'Language of the instructions.',\n",
    "        'experiment':'Experimental or control condition of the experiment'})\n",
    "if not dlg.OK:\n",
    "    print 'User Cancelled'\n",
    "    core.quit()\n",
    "    \n",
    "win = visual.Window([1200,600], allowGUI=True, fullscr=False, waitBlanking=True, monitor='testMonitor', units='pix') # Create window\n",
    "\n",
    "# Experiment\n",
    "letter_text = visual.TextStim(win, height=50, pos=[0,0], color = 'black')\n",
    "\n",
    "# Open log file to write\n",
    "file_name = exp_info['participant']+'_attention.csv'\n",
    "\n",
    "log_file = open(file_name, 'a')\n",
    "if exp_info['experiment']=='experimental_condition':\n",
    "    log_file.write('participant, condition, white_letter, x_position, response_white_letter, response_x\\n') # Heading\n",
    "else:\n",
    "    log_file.write('participant, condition, white_letter, x_position, response_x\\n') # Heading\n",
    "\n",
    "\n",
    "# Instruction\n",
    "if exp_info['experiment']=='experimental_condition':\n",
    "    text_inst = _('instr_experimental_condition')\n",
    "    text_instruction = visual.TextStim(win, pos=[0,0], text=text_inst)\n",
    "else:\n",
    "    text_inst = _('instr_control_condition')\n",
    "    text_instruction = visual.TextStim(win, pos=[0,0], text=text_inst)\n",
    "text_instruction.draw()\n",
    "win.flip() # draw the instruction\n",
    "event.waitKeys() # wait for key press to continue\n",
    "\n",
    "win.flip() # 깨끗한 윈도우 생성\n",
    "\n",
    "for x_position in x_positions[:2] : \n",
    "\n",
    "    # Generate letter stream with colors\n",
    "    letter_stream = available_letters [0: random.randrange(16, 24)] #getting the first 7-15 (random) elements of the letter stream\n",
    "    colors = ['black']*len(letter_stream)\n",
    "    colors[-9] = 'white'\n",
    "    if x_position:\n",
    "        letter_stream[-x_position] = 'X'\n",
    "    print x_position, zip(letter_stream, colors)\n",
    "    \n",
    "    letter_text.setText('+')\n",
    "    letter_text.draw()\n",
    "    win.flip()\n",
    "    core.wait(fixation_duration)\n",
    "    for letter, color in zip(letter_stream, colors):\n",
    "        letter_text.setText(letter)\n",
    "        letter_text.setColor(color)\n",
    "        letter_text.draw()\n",
    "        win.flip()\n",
    "        core.wait(letter_duration)\n",
    "        win.flip()\n",
    "        core.wait(interstimulus_duration)\n",
    "    \n",
    "    if exp_info['experiment']=='experimental_condition':\n",
    "        text_instruction = visual.TextStim(win, pos=[0,0], text=_('instr_response_target_1')) # text for the answer\n",
    "        text_instruction.draw()\n",
    "        win.flip() # draw the instruction\n",
    "        response_1=event.waitKeys()[0]\n",
    "        if response_1=='escape':\n",
    "            print 'Experiment interrupted'\n",
    "            core.quit()\n",
    "    \n",
    "    text_instruction = visual.TextStim(win, pos=[0,0], text=_('instr_response_target_2')) #text for the answer\n",
    "    text_instruction.draw()\n",
    "    win.flip() # draw the instruction\n",
    "    response_2=event.waitKeys()[0]\n",
    "    if response_2=='escape':\n",
    "        print 'Experiment interrupted'\n",
    "        core.quit()\n",
    "    \n",
    "    response_x = 1 if response_2 == 'right' else 0\n",
    "    position_x = 0 if x_position <0 else x_position\n",
    "    \n",
    "    if exp_info['experiment']=='experimental_condition':           \n",
    "        log_file.write('\"%s\", \"%s\", %s, %d, %s, %d\\n' %(exp_info['participant'],exp_info['experiment'], letter_stream[-9], position_x, response_1, response_x))\n",
    "    else:                   \n",
    "        log_file.write('\"%s\", \"%s\", %s, %d, %d\\n' %(exp_info['participant'],exp_info['experiment'], letter_stream[-9], position_x, response_x))\n",
    "\n",
    "    \n",
    "    event.clearEvents()\n",
    "    win.flip() # show a clean window\n",
    "    core.wait(0.5) # ITI    \n",
    "\n",
    "\n",
    "win.close() # 윈도우 닫기\n",
    "\n",
    "log_file.close()"
   ]
  },
  {
   "cell_type": "code",
   "execution_count": 51,
   "metadata": {},
   "outputs": [
    {
     "name": "stdout",
     "output_type": "stream",
     "text": [
      "0_attention.csv\r\n"
     ]
    }
   ],
   "source": [
    "%ls 0_attention.csv"
   ]
  },
  {
   "cell_type": "code",
   "execution_count": 52,
   "metadata": {},
   "outputs": [
    {
     "data": {
      "text/html": [
       "<div>\n",
       "<style>\n",
       "    .dataframe thead tr:only-child th {\n",
       "        text-align: right;\n",
       "    }\n",
       "\n",
       "    .dataframe thead th {\n",
       "        text-align: left;\n",
       "    }\n",
       "\n",
       "    .dataframe tbody tr th {\n",
       "        vertical-align: top;\n",
       "    }\n",
       "</style>\n",
       "<table border=\"1\" class=\"dataframe\">\n",
       "  <thead>\n",
       "    <tr style=\"text-align: right;\">\n",
       "      <th></th>\n",
       "      <th>participant</th>\n",
       "      <th>condition</th>\n",
       "      <th>white_letter</th>\n",
       "      <th>x_position</th>\n",
       "      <th>response_white_letter</th>\n",
       "      <th>response_x</th>\n",
       "    </tr>\n",
       "  </thead>\n",
       "  <tbody>\n",
       "    <tr>\n",
       "      <th>0</th>\n",
       "      <td>0</td>\n",
       "      <td>\"experimental_condition\"</td>\n",
       "      <td>H</td>\n",
       "      <td>5</td>\n",
       "      <td>h</td>\n",
       "      <td>0</td>\n",
       "    </tr>\n",
       "    <tr>\n",
       "      <th>1</th>\n",
       "      <td>0</td>\n",
       "      <td>\"experimental_condition\"</td>\n",
       "      <td>G</td>\n",
       "      <td>6</td>\n",
       "      <td>g</td>\n",
       "      <td>1</td>\n",
       "    </tr>\n",
       "  </tbody>\n",
       "</table>\n",
       "</div>"
      ],
      "text/plain": [
       "   participant                  condition  white_letter   x_position  \\\n",
       "0            0   \"experimental_condition\"             H            5   \n",
       "1            0   \"experimental_condition\"             G            6   \n",
       "\n",
       "   response_white_letter   response_x  \n",
       "0                      h            0  \n",
       "1                      g            1  "
      ]
     },
     "execution_count": 52,
     "metadata": {},
     "output_type": "execute_result"
    }
   ],
   "source": [
    "import pandas as pd\n",
    "df = pd.read_csv(\"0_attention.csv\")\n",
    "df"
   ]
  },
  {
   "cell_type": "markdown",
   "metadata": {},
   "source": [
    "------------------------"
   ]
  },
  {
   "cell_type": "markdown",
   "metadata": {},
   "source": [
    "#### 반응시간 측정"
   ]
  },
  {
   "cell_type": "code",
   "execution_count": 53,
   "metadata": {},
   "outputs": [
    {
     "data": {
      "text/plain": [
       "4.982948303222656e-05"
      ]
     },
     "execution_count": 53,
     "metadata": {},
     "output_type": "execute_result"
    }
   ],
   "source": [
    "trial_clock = core.Clock()\n",
    "RT = trial_clock.getTime()\n",
    "RT"
   ]
  },
  {
   "cell_type": "code",
   "execution_count": 54,
   "metadata": {},
   "outputs": [
    {
     "data": {
      "text/plain": [
       "0.500262975692749"
      ]
     },
     "execution_count": 54,
     "metadata": {},
     "output_type": "execute_result"
    }
   ],
   "source": [
    "trial_clock = core.Clock()\n",
    "core.wait(0.5)\n",
    "RT = trial_clock.getTime()\n",
    "RT"
   ]
  },
  {
   "cell_type": "code",
   "execution_count": 55,
   "metadata": {},
   "outputs": [
    {
     "name": "stdout",
     "output_type": "stream",
     "text": [
      "0.50018787384\n",
      "1.00072002411\n"
     ]
    }
   ],
   "source": [
    "trial_clock = core.Clock()\n",
    "core.wait(0.5)\n",
    "RT = trial_clock.getTime()\n",
    "print(RT)\n",
    "\n",
    "core.wait(0.5)\n",
    "RT = trial_clock.getTime()\n",
    "print(RT)"
   ]
  },
  {
   "cell_type": "code",
   "execution_count": 56,
   "metadata": {},
   "outputs": [
    {
     "name": "stdout",
     "output_type": "stream",
     "text": [
      "0.50129199028\n",
      "0.500291824341\n"
     ]
    }
   ],
   "source": [
    "trial_clock = core.Clock()\n",
    "core.wait(0.5)\n",
    "RT = trial_clock.getTime()\n",
    "print(RT)\n",
    "\n",
    "trial_clock.reset()\n",
    "core.wait(0.5)\n",
    "RT = trial_clock.getTime()\n",
    "print(RT)"
   ]
  },
  {
   "cell_type": "code",
   "execution_count": 57,
   "metadata": {},
   "outputs": [
    {
     "name": "stdout",
     "output_type": "stream",
     "text": [
      "4 [('H', 'black'), ('Z', 'black'), ('N', 'black'), ('E', 'black'), ('W', 'black'), ('T', 'black'), ('D', 'black'), ('P', 'black'), ('O', 'black'), ('V', 'black'), ('U', 'black'), ('C', 'black'), ('R', 'black'), ('F', 'white'), ('I', 'black'), ('M', 'black'), ('Y', 'black'), ('L', 'black'), ('X', 'black'), ('J', 'black'), ('Q', 'black'), ('S', 'black')]\n",
      "1 [('H', 'black'), ('Z', 'black'), ('N', 'black'), ('E', 'black'), ('W', 'black'), ('T', 'black'), ('D', 'black'), ('P', 'black'), ('O', 'black'), ('V', 'white'), ('U', 'black'), ('C', 'black'), ('R', 'black'), ('F', 'black'), ('I', 'black'), ('M', 'black'), ('Y', 'black'), ('X', 'black')]\n",
      "1389.5418 \tWARNING \tCouldn't measure a consistent frame rate.\n",
      "  - Is your graphics card set to sync to vertical blank?\n",
      "  - Are you running other processes on your computer?\n",
      "\n",
      "1389.6223 \tWARNING \tt of last frame was 80.78ms (=1/12)\n",
      "1390.6494 \tWARNING \tt of last frame was 1027.15ms (=1/0)\n",
      "1390.8648 \tWARNING \tt of last frame was 199.69ms (=1/5)\n",
      "1390.8987 \tWARNING \tt of last frame was 33.94ms (=1/29)\n",
      "1390.9977 \tWARNING \tMultiple dropped frames have occurred - I'll stop bothering you about them!\n"
     ]
    }
   ],
   "source": [
    "fixation_duration=0.18\n",
    "letter_duration=0.015\n",
    "interstimulus_duration=0.075\n",
    "\n",
    "# Stimuli\n",
    "available_letters = map(chr, range(65, 91)) # letters of the English alphabet in uppercase\n",
    "del available_letters [23] # removing X from the alphabet\n",
    "random.shuffle(available_letters) # Randomize list\n",
    "\n",
    "#random factor\n",
    "x_positions = [0]*16 + range(1,9)*5\n",
    "random.shuffle(x_positions) # Randomize list\n",
    "\n",
    "trial_clock = core.Clock()\n",
    "\n",
    "# Language specific components\n",
    "def _(string):\n",
    "    # You should use texts dictionary to strore the strings, and set exp_info['language'] to specify the language\n",
    "    return texts[string][exp_info['language']]\n",
    "texts = {\n",
    "    'instr_experimental_condition':\n",
    "        {'en':'In the following task you will see black colored numbers appearing on the display rapidly after each other. You have two tasks. First you have to detect a white letter and remember what letter it was. Second, you have to decide whether there was a black X among the letters. When all letters were presented you have to type what letter was the white one, then you have to press the \"right arrow key\" if there was a black X and press \"left arrow key\" if there was no black X. Press any key to continue.',\n",
    "        'hu':u'A következőkben fekete betűket fogsz látni a képernyőn. A betűk gyorsan egymás után jelennek majd meg. Két feladatod lesz. A fekete betűk között lesz egy fehér is, és azt kell majd megmondanod, milyen betű volt a fehér betű. Aztán azt kell eldöntened, hogy látál-e feket X-et a betűk között. A betűk felvillanása le kell nyomnod azt a betűt, amilyen a fehér betű volt, majd amennyiben láttál fekete X-et nyomgd meg az \"jobb kurzormozgató nyílat\" gombot, ha nem láttál fekete X-et nyomd meg az \"bal kurzormozgató nyílat\" gombot. Nyomj egy gombot, ha kezdhetjük.'},\n",
    "    'instr_control_condition':\n",
    "        {'en':'In the following task you will see black colored numbers appearing on the display rapidly after each other. You have to decide whether there was a black X among the letters. After the letters you have to push \"right arrow key\" if there was a black X among the letters and push \"left arrow key\" if there was no black X. Press any key to continue.',\n",
    "        'hu':u'A következőkben fekete betűket fogsz látni a képernyőn. A betűk gyorsan egymás után jelennek majd meg. Azt kell eldöntened, hogy látál-e feket X-et a betűk között. A betűk felvillanása után, amennyiben láttál fekete X-et nyomgd meg az \"jobb kurzormozgató nyílat\" gombot, ha nem láttál fekete X-et nyomd meg az \"bal kurzormozgató nyílat\" gombot. Nyomj egy gombot, ha kezdhetjük.'},\n",
    "    'instr_response_target_1':\n",
    "        {'en':'Please press the button that you think the white letter was.',\n",
    "        'hu':u'Nyomd meg azt a billentyűt a billyentyűzeten, amilyen szerinted fehér betű volt'},\n",
    "    'instr_response_target_2':\n",
    "        {'en':'Please press \"right arrow key\" if there was an X in the letter stream, and press \"left arrow key\" if there was no X.',\n",
    "        'hu':u'Nyomd meg a \"jobb kurzormozgató nyílat\", amennyiben láttál X-t a betűk között, ha nem láttál nyomd meg az \"bal kurzormozgató nyílat\"'},\n",
    "}\n",
    "\n",
    "exp_info = {'participant':'participant_ID',\n",
    "    'language': texts.values()[0].keys(),\n",
    "    'experiment':['experimental_condition', 'control_condition'],}\n",
    "\n",
    "# Setting some parameters on GUI\n",
    "dlg = gui.DlgFromDict(exp_info, title='exp_title',\n",
    "   order = ['participant', 'language', 'experiment'],\n",
    "    tip = {'participant':'Identifier of the participant.',\n",
    "        'language':'Language of the instructions.',\n",
    "        'experiment':'Experimental or control condition of the experiment'})\n",
    "if not dlg.OK:\n",
    "    print 'User Cancelled'\n",
    "    core.quit()\n",
    "    \n",
    "win = visual.Window([1200,600], allowGUI=True, fullscr=False, waitBlanking=True, monitor='testMonitor', units='pix') # Create window\n",
    "\n",
    "# Experiment\n",
    "letter_text = visual.TextStim(win, height=50, pos=[0,0], color = 'black')\n",
    "\n",
    "# Open log file to write\n",
    "file_name = exp_info['participant']+'_attention.csv'\n",
    "\n",
    "log_file = open(file_name, 'a')\n",
    "if exp_info['experiment']=='experimental_condition':\n",
    "    log_file.write('participant, condition, white_letter, x_position, response_white_letter, response_x, RT_1, RT_2\\n') # Heading\n",
    "else:\n",
    "    log_file.write('participant, condition, white_letter, x_position, response_x, RT_2\\n') # Heading\n",
    "\n",
    "\n",
    "# Instruction\n",
    "if exp_info['experiment']=='experimental_condition':\n",
    "    text_inst = _('instr_experimental_condition')\n",
    "    text_instruction = visual.TextStim(win, pos=[0,0], text=text_inst)\n",
    "else:\n",
    "    text_inst = _('instr_control_condition')\n",
    "    text_instruction = visual.TextStim(win, pos=[0,0], text=text_inst)\n",
    "text_instruction.draw()\n",
    "win.flip() # draw the instruction\n",
    "event.waitKeys() # wait for key press to continue\n",
    "\n",
    "win.flip() # 깨끗한 윈도우 생성\n",
    "\n",
    "for x_position in x_positions[:2] : \n",
    "\n",
    "    # Generate letter stream with colors\n",
    "    letter_stream = available_letters [0: random.randrange(16, 24)] #getting the first 7-15 (random) elements of the letter stream\n",
    "    colors = ['black']*len(letter_stream)\n",
    "    colors[-9] = 'white'\n",
    "    if x_position:\n",
    "        letter_stream[-x_position] = 'X'\n",
    "    print x_position, zip(letter_stream, colors)\n",
    "    \n",
    "    letter_text.setText('+')\n",
    "    letter_text.draw()\n",
    "    win.flip()\n",
    "    core.wait(fixation_duration)\n",
    "    for letter, color in zip(letter_stream, colors):\n",
    "        letter_text.setText(letter)\n",
    "        letter_text.setColor(color)\n",
    "        letter_text.draw()\n",
    "        win.flip()\n",
    "        core.wait(letter_duration)\n",
    "        win.flip()\n",
    "        core.wait(interstimulus_duration)\n",
    "    \n",
    "    if exp_info['experiment']=='experimental_condition':\n",
    "        text_instruction = visual.TextStim(win, pos=[0,0], text=_('instr_response_target_1')) # text for the answer\n",
    "        text_instruction.draw()\n",
    "        win.flip() # draw the instruction\n",
    "        trial_clock.reset()\n",
    "        response_1=event.waitKeys()[0]\n",
    "        RT_1 = trial_clock.getTime()\n",
    "        if response_1=='escape':\n",
    "            print 'Experiment interrupted'\n",
    "            core.quit()\n",
    "    \n",
    "    text_instruction = visual.TextStim(win, pos=[0,0], text=_('instr_response_target_2')) #text for the answer\n",
    "    text_instruction.draw()\n",
    "    win.flip() # draw the instruction\n",
    "    trial_clock.reset()\n",
    "    response_2=event.waitKeys()[0]\n",
    "    RT_2= trial_clock.getTime()\n",
    "    if response_2=='escape':\n",
    "        print 'Experiment interrupted'\n",
    "        core.quit()\n",
    "    \n",
    "    if exp_info['experiment']=='experimental_condition':           \n",
    "        log_file.write('\"%s\", \"%s\", %s, %d, %s, %d, %.4f, %.4f\\n' %(exp_info['participant'],exp_info['experiment'], letter_stream[-9], position_x, response_1, response_x, RT_1, RT_2))\n",
    "    else:                   \n",
    "        log_file.write('\"%s\", \"%s\", %s, %d, %d, %.4f\\n' %(exp_info['participant'],exp_info['experiment'], letter_stream[-9], position_x, response_x, RT_2))\n",
    "    \n",
    "    event.clearEvents()\n",
    "    win.flip() # show a clean window\n",
    "    core.wait(0.5) # ITI    \n",
    "\n",
    "\n",
    "win.close() # 윈도우 닫기\n",
    "\n",
    "log_file.close()"
   ]
  },
  {
   "cell_type": "code",
   "execution_count": 58,
   "metadata": {},
   "outputs": [
    {
     "name": "stdout",
     "output_type": "stream",
     "text": [
      "100_attention.csv\r\n"
     ]
    }
   ],
   "source": [
    "%ls 100_attention.csv"
   ]
  },
  {
   "cell_type": "code",
   "execution_count": 59,
   "metadata": {},
   "outputs": [
    {
     "data": {
      "text/html": [
       "<div>\n",
       "<style>\n",
       "    .dataframe thead tr:only-child th {\n",
       "        text-align: right;\n",
       "    }\n",
       "\n",
       "    .dataframe thead th {\n",
       "        text-align: left;\n",
       "    }\n",
       "\n",
       "    .dataframe tbody tr th {\n",
       "        vertical-align: top;\n",
       "    }\n",
       "</style>\n",
       "<table border=\"1\" class=\"dataframe\">\n",
       "  <thead>\n",
       "    <tr style=\"text-align: right;\">\n",
       "      <th></th>\n",
       "      <th>participant</th>\n",
       "      <th>condition</th>\n",
       "      <th>white_letter</th>\n",
       "      <th>x_position</th>\n",
       "      <th>response_white_letter</th>\n",
       "      <th>response_x</th>\n",
       "      <th>RT_1</th>\n",
       "      <th>RT_2</th>\n",
       "    </tr>\n",
       "  </thead>\n",
       "  <tbody>\n",
       "    <tr>\n",
       "      <th>0</th>\n",
       "      <td>100</td>\n",
       "      <td>\"experimental_condition\"</td>\n",
       "      <td>F</td>\n",
       "      <td>6</td>\n",
       "      <td>rshift</td>\n",
       "      <td>1</td>\n",
       "      <td>1.4155</td>\n",
       "      <td>1.8087</td>\n",
       "    </tr>\n",
       "    <tr>\n",
       "      <th>1</th>\n",
       "      <td>100</td>\n",
       "      <td>\"experimental_condition\"</td>\n",
       "      <td>V</td>\n",
       "      <td>6</td>\n",
       "      <td>v</td>\n",
       "      <td>1</td>\n",
       "      <td>0.4578</td>\n",
       "      <td>0.4895</td>\n",
       "    </tr>\n",
       "  </tbody>\n",
       "</table>\n",
       "</div>"
      ],
      "text/plain": [
       "   participant                  condition  white_letter   x_position  \\\n",
       "0          100   \"experimental_condition\"             F            6   \n",
       "1          100   \"experimental_condition\"             V            6   \n",
       "\n",
       "   response_white_letter   response_x    RT_1    RT_2  \n",
       "0                 rshift            1  1.4155  1.8087  \n",
       "1                      v            1  0.4578  0.4895  "
      ]
     },
     "execution_count": 59,
     "metadata": {},
     "output_type": "execute_result"
    }
   ],
   "source": [
    "import pandas as pd\n",
    "df = pd.read_csv(\"100_attention.csv\")\n",
    "df"
   ]
  },
  {
   "cell_type": "markdown",
   "metadata": {},
   "source": [
    "----------------------------"
   ]
  },
  {
   "cell_type": "code",
   "execution_count": 60,
   "metadata": {},
   "outputs": [
    {
     "name": "stdout",
     "output_type": "stream",
     "text": [
      "independent: x_position, dependent: response_x, filter:  \n",
      "group, n, mean\n",
      "6.0, 2, 1.000000\n"
     ]
    },
    {
     "data": {
      "image/png": "[encoded data removed]",
      "text/plain": [
       "<matplotlib.figure.Figure at 0x127d2ae10>"
      ]
     },
     "metadata": {},
     "output_type": "display_data"
    }
   ],
   "source": [
    "#### 로그파일 분석 (소스해석은 나중에)\n",
    "import analyze_log\n",
    "file_name = \"100_attention.csv\"\n",
    "analyze_log.analyze_log (filename=file_name,\n",
    "                         indep_var='x_position', dep_var='response_x', function='mean', \n",
    "                         graph_types=['line'])\n"
   ]
  },
  {
   "cell_type": "markdown",
   "metadata": {},
   "source": [
    "# 참고자료\n",
    "* (1) (영어버전) Cognitive Psychology Experiments Demonstrations - http://www.tankonyvtar.hu/hu/tartalom/tamop412A/2011-0018_08_kiserletek/adatok.html\n",
    "* (2) (원래 사이트, 소스코드 있음) Kognitív gyakorlatok - https://sites.google.com/site/kognitivgyakorlatok/\n",
    "* (3) Attentional blink(Wikipedia) - https://en.wikipedia.org/wiki/Attentional_blink\n",
    "* (4) Attentional Blink Paradigm (Kutas Lab) - http://kutaslab.ucsd.edu/people/kutas/279/pdfs/COGS279.05.16.13.pdf"
   ]
  }
 ],
 "metadata": {
  "kernelspec": {
   "display_name": "Python 2",
   "language": "python",
   "name": "python2"
  },
  "language_info": {
   "codemirror_mode": {
    "name": "ipython",
    "version": 2
   },
   "file_extension": ".py",
   "mimetype": "text/x-python",
   "name": "python",
   "nbconvert_exporter": "python",
   "pygments_lexer": "ipython2",
   "version": "2.7.13"
  }
 },
 "nbformat": 4,
 "nbformat_minor": 2
}
