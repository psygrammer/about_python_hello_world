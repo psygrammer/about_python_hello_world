{
 "cells": [
  {
   "cell_type": "markdown",
   "metadata": {},
   "source": [
    "#### Corsi Memory Test"
   ]
  },
  {
   "cell_type": "markdown",
   "metadata": {},
   "source": [
    "#### 2018 싸이그래머 어바웃파이썬 Part 2 4회차 Psychopy"
   ]
  },
  {
   "cell_type": "markdown",
   "metadata": {},
   "source": [
    "Comments by Y.Lee"
   ]
  },
  {
   "cell_type": "markdown",
   "metadata": {},
   "source": [
    "출저: \n",
    "Created by Krisztina Peres\n",
    "2013. June 28.\n",
    "Experiment software: PsychoPy\n",
    "Estimated running time: 2-5 minutes\n",
    "Reference for the original experiment:\n",
    "Vandierendonck, A., Kemps, E., Fastame, M. C., & Szmalec, A. (2004). Working memory components of the Corsi blocks task. British journal of psychology (London, England : 1953), 95(Pt 1), 57–79. doi:10.1348/000712604322779460\n",
    "\n",
    "참고: \n",
    "Baddeley, A. D. (2002). Is Working Memory Still Working? European Psychologist, 7(2), 85–97. doi:10.1027//1016-9040.7.2.85\n",
    "Vandierendonck, A., Kemps, E., Fastame, M. C., & Szmalec, A. (2004). Working memory components of the Corsi blocks task. British journal of psychology (London, England : 1953), 95(Pt 1), 57–79. doi:10.1348/000712604322779460"
   ]
  },
  {
   "cell_type": "markdown",
   "metadata": {},
   "source": [
    "## 차례\n",
    "\n",
    "- 실험 준비\n",
    "- 실험 실행\n",
    "- 실험 내용 소개\n",
    "- 소스 분석"
   ]
  },
  {
   "cell_type": "markdown",
   "metadata": {},
   "source": [
    "## 실험 준비\n",
    "\n",
    "### 실험 내용을 기록 및 저장해줄 1) 결과 기록 (analyze_log) 파일과 2) 실험 파일(.py)을 준비한다. \n",
    "1) analyze_log.py\n",
    "2) corsi_test.py\n"
   ]
  },
  {
   "cell_type": "markdown",
   "metadata": {},
   "source": [
    "## 실행 방법\n",
    "\n",
    "둘 중 하나의 방법으로 위 실험 파일 두개를 열면 된다. \n",
    "\n",
    "방법 1) \n",
    "\n",
    "콘솔창을 열어서\n",
    "\n",
    "```  \n",
    "python corsi_test.py\n",
    "```\n",
    "과\n",
    "``` \n",
    "python analyze_log.py \n",
    "```\n",
    "를 입력하여 실행\n",
    "\n"
   ]
  },
  {
   "cell_type": "markdown",
   "metadata": {},
   "source": [
    "방법 2) 노트북에서 직접 실행"
   ]
  },
  {
   "cell_type": "code",
   "execution_count": 1,
   "metadata": {},
   "outputs": [],
   "source": [
    "!python corsi_test.py"
   ]
  },
  {
   "cell_type": "markdown",
   "metadata": {},
   "source": [
    "#### 이론적 배경\n",
    "<img src=\"https://upload.wikimedia.org/wikipedia/commons/7/70/Corsiblock.png\" width=400>\n",
    "\n",
    "*The Corsi block test assesses the capacity of the visual-spatial sketchpad within the working memory. The screen shows nine irregularly placed blocks. At the beginning of the experiment, a sequence is played: the blocks of that sequence are lit up one by one. The participant is required to reproduce the order of those block by pointing to the blocks in the correct order. When participants reproduced sequence correctly, the sequence length increased with one block on the next trial. When they failed to reproduce the sequence, the sequence length decreased with one block. The score is the maximum reproduced sequence-length.*\n",
    "\n",
    "*According to Baddeley’s memory model, working memory contains two types of components: an executive control and specific buffers (e.g. visuo-spatial sketchpad, phonological loop) (Baddeley, 2002). The Corsi test supposed to challenge the visuo-spatial sketchpad, because this type of buffer is responsible for temporarily maintaining and manipulating visuospatial information. Results of Corsi test is supposed to give information about one’s visual span (Baddeley, 2002)*\n",
    "\n",
    "구글 번역: \n",
    "Corsi 블록 테스트는 작업 메모리 내에서 시각적 공간 스케치 패드의 용량을 평가합니다. 화면에 불규칙하게 배치 된 블록이 9 개 표시됩니다. 실험 초기에 시퀀스가 ​​재생됩니다. 즉, 해당 시퀀스의 블록이 하나씩 켜집니다. 참가자는 올바른 순서로 블록을 가리켜 블록의 순서를 재현해야합니다. 참가자가 서열을 올바르게 재현 할 때 서열 길이는 다음 시험에서 1 블록 증가했다. 그들이 서열을 재현하는데 실패 할 때, 서열 길이는 하나의 블록으로 감소 하였다. 스코어는 재생 된 최대 시퀀스 길이입니다.\n",
    "\n",
    "Baddeley의 메모리 모델에 따르면 작업 메모리에는 실행 제어 및 특정 버퍼 (예 : 시각적 공간 스케치 패드, 음운 루프)의 두 가지 유형의 구성 요소가 포함됩니다 (Baddeley, 2002). Corsi 테스트는 visuo-spatial 스케치 패드에 도전하기로되어 있습니다.이 버퍼 유형은 시각적 정보를 일시적으로 유지 관리하고 조작하기 때문입니다. Corsi 테스트의 결과는 시각적 범위에 대한 정보를 제공하기로되어 있습니다 (Baddeley, 2002).\n"
   ]
  },
  {
   "cell_type": "markdown",
   "metadata": {},
   "source": [
    "#### 절차\n",
    "\n",
    "<img src = \"http://3.bp.blogspot.com/-olE0HnbuBm0/UVHWWldCMlI/AAAAAAAAH-s/QVpzQ4Z2ERU/s1600/1-s2.0-S0167876099000392-gr2.gif\" width=400>\n",
    "\n",
    "*The present demonstration of the Corsi test is based on the experiment of Vandierendonck, Kemps, Fastame, & Szmalec (2004). In the experiment, a sequence is presented by lighting up the blocks one by one. Each block is lit up for 1 second, the inter-item interval is 500 ms. The first sequence consists of five blocks. When participants reproduce sequence correctly, by clicking the blocks in the correct order, the sequence length is increased with one block on the next trial. When they failed to reproduce the sequence, the sequence length is decreased with one block. The minimum sequence length is two blocks, the maximum is nine. Score of the experiment is the maximum sequence length, which a participant fulfilled correctly.*\n",
    "\n",
    "구글 번역: Corsi 테스트의 현재 시연은 Vandierendonck, Kemps, Fastame, & Szmalec (2004)의 실험을 기반으로합니다. 실험에서 블록을 하나씩 켜서 시퀀스를 표시합니다. 각 블록은 1 초 동안 켜지고 항목 간 간격은 500ms입니다. 첫 번째 시퀀스는 5 개의 블록으로 구성됩니다. 참가자가 순서를 올바르게 재현 할 때 올바른 순서로 블록을 클릭하면 다음 시험판에서 한 블록 씩 순서 길이가 늘어납니다. 시퀀스를 재생산하지 못했을 때 시퀀스 길이는 한 블록으로 줄어 듭니다. 최소 시퀀스 길이는 2 블록이며 최대 값은 9입니다. 실험의 점수는 참가자가 올바르게 수행 한 최대 시퀀스 길이입니다.\n",
    "\n",
    "#### 예상결과\n",
    "\n",
    "*It is expected that with greater memory load (more block to remember) the performance will be poorer.*\n",
    "\n",
    "구글 번역: 더 큰 메모리로드 (더 많은 블록 기억)로 성능이 떨어질 것으로 예상됩니다. (의역: 즉, 블록의 갯수가 늘어날 수록 점수가 떨어짐)\n"
   ]
  },
  {
   "cell_type": "markdown",
   "metadata": {},
   "source": [
    "## 소스 분석"
   ]
  },
  {
   "cell_type": "markdown",
   "metadata": {},
   "source": [
    "corsi_test.py"
   ]
  },
  {
   "cell_type": "markdown",
   "metadata": {},
   "source": [
    "#### 라이브러리들"
   ]
  },
  {
   "cell_type": "code",
   "execution_count": 3,
   "metadata": {
    "collapsed": true
   },
   "outputs": [],
   "source": [
    "# -*- coding: utf-8 -*-\n",
    "# Imports\n",
    "from psychopy import visual, core, event, gui\n",
    "# Import analyze_log\n",
    "import random"
   ]
  },
  {
   "cell_type": "markdown",
   "metadata": {},
   "source": [
    "#### 참여자 ID 기록창"
   ]
  },
  {
   "cell_type": "markdown",
   "metadata": {},
   "source": [
    "### 안내문(설명문) 제시하기:\n",
    "\n",
    "안내문이 제시된 화면 생성하기 (Creating an instruction page):\n",
    "*In the following task you have to remember a sequence of flashing boxes that will appear on the screen one after the other.\\nWhen the sequence is over, you have to click on the boxes in the same order as they were flashed. If you are ready, click on 'Done' button!\\n\\nIf you are correct, in the next trial one more box will lit up in the sequence.\\nIf you make a mistake then the next sequence of boxes will be one shorter.\\n\\nAfter three errors, the test will end.\",*\n",
    "\n",
    "*\n",
    "다음 작업에서는 깜박이는 상자를 차례로 기억해야합니다. 순서가 끝나면 깜박이는 것과 같은 순서로 상자를 클릭해야합니다. 준비가 되었으면 '완료'버튼을 클릭하십시오! 정확하다면 다음 시험판에서 한 번 더 상자에 순서대로 불이 들어옵니다. 실수를하면 다음 상자 순서가 짧아집니다 세 가지 오류가 발생하면 테스트가 종료됩니다.\n",
    "*\n"
   ]
  },
  {
   "cell_type": "code",
   "execution_count": 12,
   "metadata": {
    "scrolled": true
   },
   "outputs": [],
   "source": [
    "#안내문 내용\n",
    "texts = {\n",
    "    'instr':\n",
    "        {'en':\"In the following task you have to remember a sequence of flashing boxes that will appear on the screen one after the other.\\nWhen the sequence is over, you have to click on the boxes in the same order as they were flashed. If you are ready, click on 'Done' button!\\n\\nIf you are correct, in the next trial one more box will lit up in the sequence.\\nIf you make a mistake then the next sequence of boxes will be one shorter.\\n\\nAfter three errors, the test will end.\",\n",
    "        'hu':u\"A következő feladatban egymás után felvillanó négyzetek sorrendjét kell megjegyezned. Ha már nem villan fel több négyzet, kattints rájuk ugyanabban a sorrendben, ahogy a bemutatás alatt felvillantak. Ha végeztél, kattints a 'KÉSZ' gombra.\\n\\nHa helyesen válaszoltál, a következő feladatban eggyel több négyzet fog felvillani.\\nHa hibáztál, akkor pedig eggyel kevesebb felvillanó négyzet lesz.\\n\\nHárom hiba után vége a tesztnek.\"},\n",
    "    'exit':\n",
    "        {'en': 'Done',\n",
    "         'hu': u'Kész'}\n",
    "}"
   ]
  },
  {
   "cell_type": "code",
   "execution_count": null,
   "metadata": {
    "collapsed": true
   },
   "outputs": [],
   "source": [
    "texts"
   ]
  },
  {
   "cell_type": "code",
   "execution_count": 5,
   "metadata": {
    "scrolled": false
   },
   "outputs": [
    {
     "ename": "NameError",
     "evalue": "name 'exp_info' is not defined",
     "output_type": "error",
     "traceback": [
      "\u001b[1;31m---------------------------------------------------------------------------\u001b[0m",
      "\u001b[1;31mNameError\u001b[0m                                 Traceback (most recent call last)",
      "\u001b[1;32m<ipython-input-5-dfac94d99f19>\u001b[0m in \u001b[0;36m<module>\u001b[1;34m()\u001b[0m\n\u001b[0;32m      1\u001b[0m \u001b[1;31m#참여자 ID 윈도우\u001b[0m\u001b[1;33m\u001b[0m\u001b[1;33m\u001b[0m\u001b[0m\n\u001b[1;32m----> 2\u001b[1;33m \u001b[0mexp_info\u001b[0m\u001b[1;33m\u001b[0m\u001b[0m\n\u001b[0m",
      "\u001b[1;31mNameError\u001b[0m: name 'exp_info' is not defined"
     ]
    }
   ],
   "source": [
    "#참여자 ID 윈도우\n",
    "exp_info = exp_info = {'participant':'participant_ID',\n",
    "    'language': texts.values()[0].keys()} # default parameters of the experiment"
   ]
  },
  {
   "cell_type": "code",
   "execution_count": null,
   "metadata": {
    "collapsed": true
   },
   "outputs": [],
   "source": [
    "exp_info"
   ]
  },
  {
   "cell_type": "code",
   "execution_count": 4,
   "metadata": {
    "scrolled": true
   },
   "outputs": [
    {
     "name": "stdout",
     "output_type": "stream",
     "text": [
      "1.4458 \tERROR \tavbin.dll failed to load. Try importing psychopy.visual\n",
      "  as the first library (before anything that uses scipy)\n",
      "  and make sure that avbin is installed.\n"
     ]
    }
   ],
   "source": [
    "#화면에 넣기\n",
    "\n",
    "#안내문\n",
    "# Language specific components\n",
    "def _(string):\n",
    "    # You should use texts dictionary to strore the strings, and set exp_info['language'] to specify the language\n",
    "    return texts[string][exp_info['language']]\n",
    "texts = {\n",
    "    'instr':\n",
    "        {'en':\"In the following task you have to remember a sequence of flashing boxes that will appear on the screen one after the other.\\nWhen the sequence is over, you have to click on the boxes in the same order as they were flashed. If you are ready, click on 'Done' button!\\n\\nIf you are correct, in the next trial one more box will lit up in the sequence.\\nIf you make a mistake then the next sequence of boxes will be one shorter.\\n\\nAfter three errors, the test will end.\",\n",
    "        'hu':u\"A következő feladatban egymás után felvillanó négyzetek sorrendjét kell megjegyezned. Ha már nem villan fel több négyzet, kattints rájuk ugyanabban a sorrendben, ahogy a bemutatás alatt felvillantak. Ha végeztél, kattints a 'KÉSZ' gombra.\\n\\nHa helyesen válaszoltál, a következő feladatban eggyel több négyzet fog felvillani.\\nHa hibáztál, akkor pedig eggyel kevesebb felvillanó négyzet lesz.\\n\\nHárom hiba után vége a tesztnek.\"},\n",
    "    'exit':\n",
    "        {'en': 'Done',\n",
    "         'hu': u'Kész'}\n",
    "}\n",
    "\n",
    "#참여자 ID 윈도우\n",
    "exp_info = {'participant':'participant_ID',\n",
    "    'language': texts.values()[0].keys()} # default parameters of the experiment\n",
    "\n",
    "# Setting some parameters on GUI\n",
    "dlg = gui.DlgFromDict(exp_info, title='Corsi Test',\n",
    "   order = ['participant', 'language'],\n",
    "    tip = {'participant':'Identifier of the participant.',\n",
    "        'language':'Language of the instructions.',})\n",
    "if not dlg.OK:\n",
    "    print 'User Cancelled'\n",
    "    core.quit()\n",
    "\n",
    "#create window (윈도우 생성)    \n",
    "win = visual.Window([1366,768],allowGUI=True,fullscr=False,waitBlanking=True,monitor='testMonitor',units='pix')\n",
    "\n",
    "instruction = visual.TextStim(win, pos=[0,2], wrapWidth=100, text=_('instr'))\n",
    "\n",
    "instruction.draw()\n",
    "win.flip()\n",
    "event.waitKeys()\n",
    "\n",
    "win.flip()\n",
    "core.wait(1)\n",
    "\n",
    "win.close()"
   ]
  },
  {
   "cell_type": "markdown",
   "metadata": {},
   "source": [
    "## 실험 컴포넌트 만들기"
   ]
  },
  {
   "cell_type": "markdown",
   "metadata": {},
   "source": [
    "### 자극 종류 설정"
   ]
  },
  {
   "cell_type": "markdown",
   "metadata": {},
   "source": [
    "### 필요한 자극(재료)들:\n",
    "\n",
    "- 자극의 모양 (도형? 사진?)!\n",
    "\n",
    "- 상자의 크기 \n",
    "\n",
    "- 상자의 위치 \n",
    "\n",
    "- 상자 개수\n",
    "\n",
    "- 상자 크기\n",
    "\n",
    "- 상자의 색깔\n",
    "\n",
    "- 선택 후 피드백 색깔\n",
    "\n",
    "- 선택 후 화면 전환 방법 ('(선택)완료' 버튼)\n",
    "\n",
    "... "
   ]
  },
  {
   "cell_type": "code",
   "execution_count": 87,
   "metadata": {},
   "outputs": [
    {
     "ename": "TypeError",
     "evalue": "'list' object is not callable",
     "output_type": "error",
     "traceback": [
      "\u001b[1;31m---------------------------------------------------------------------------\u001b[0m",
      "\u001b[1;31mTypeError\u001b[0m                                 Traceback (most recent call last)",
      "\u001b[1;32m<ipython-input-87-827d4956d9e2>\u001b[0m in \u001b[0;36m<module>\u001b[1;34m()\u001b[0m\n\u001b[0;32m     18\u001b[0m \u001b[0mexit_box\u001b[0m \u001b[1;33m=\u001b[0m \u001b[0mvisual\u001b[0m\u001b[1;33m.\u001b[0m\u001b[0mRect\u001b[0m\u001b[1;33m(\u001b[0m\u001b[0mwin\u001b[0m\u001b[1;33m,\u001b[0m \u001b[0mpos\u001b[0m\u001b[1;33m=\u001b[0m\u001b[1;33m[\u001b[0m\u001b[1;36m0\u001b[0m\u001b[1;33m,\u001b[0m\u001b[1;33m-\u001b[0m\u001b[1;36m10\u001b[0m\u001b[1;33m]\u001b[0m\u001b[1;33m,\u001b[0m \u001b[0mwidth\u001b[0m\u001b[1;33m=\u001b[0m\u001b[1;36m3\u001b[0m\u001b[1;33m,\u001b[0m \u001b[0mheight\u001b[0m\u001b[1;33m=\u001b[0m\u001b[1;36m1\u001b[0m\u001b[1;33m)\u001b[0m\u001b[1;33m\u001b[0m\u001b[0m\n\u001b[0;32m     19\u001b[0m \u001b[1;31m# '선택 완료'라는 텍스트의 위치 (버튼 박스 내)\u001b[0m\u001b[1;33m\u001b[0m\u001b[1;33m\u001b[0m\u001b[0m\n\u001b[1;32m---> 20\u001b[1;33m \u001b[0mexit_text\u001b[0m \u001b[1;33m=\u001b[0m \u001b[0mvisual\u001b[0m\u001b[1;33m.\u001b[0m\u001b[0mTextStim\u001b[0m\u001b[1;33m(\u001b[0m\u001b[0mwin\u001b[0m\u001b[1;33m,\u001b[0m \u001b[0mpos\u001b[0m \u001b[1;33m=\u001b[0m \u001b[1;33m[\u001b[0m\u001b[1;36m0\u001b[0m\u001b[1;33m,\u001b[0m\u001b[1;33m-\u001b[0m\u001b[1;36m10\u001b[0m\u001b[1;33m]\u001b[0m\u001b[1;33m,\u001b[0m \u001b[0mtext\u001b[0m \u001b[1;33m=\u001b[0m \u001b[0m_\u001b[0m\u001b[1;33m(\u001b[0m\u001b[1;34m'exit'\u001b[0m\u001b[1;33m)\u001b[0m\u001b[1;33m)\u001b[0m\u001b[1;33m\u001b[0m\u001b[0m\n\u001b[0m\u001b[0;32m     21\u001b[0m \u001b[1;33m\u001b[0m\u001b[0m\n\u001b[0;32m     22\u001b[0m \u001b[1;31m#깜빡임 갯수와 순서 지정\u001b[0m\u001b[1;33m\u001b[0m\u001b[1;33m\u001b[0m\u001b[0m\n",
      "\u001b[1;31mTypeError\u001b[0m: 'list' object is not callable"
     ]
    }
   ],
   "source": [
    "#윈도우\n",
    "win = visual.Window([1366, 768], allowGUI=True, fullscr=False, waitBlanking=True, monitor='testMonitor', units='deg') # Create window\n",
    "#응답 설정: 마우스로 클릭\n",
    "\n",
    "mouse=event.Mouse(visible=True,win=win)\n",
    "\n",
    "#상자 크기 (단위는 pixel)\n",
    "box_size=3\n",
    "\n",
    "#상자 위치 (총 9개 제시)\n",
    "box_positions = [[-26, -102], [98, -104], [-118, -63], [74, -28], [-45, -23], [-135, 31], [134, 44], [54, 92], [-11, 38]]\n",
    "\n",
    "#상자 자극 설정\n",
    "#class psychopy.visual.Rect(win, width=0.5, height=0.5, **kwargs)\n",
    "boxes = [visual.Rect(win, pos=[box_pos[0]/15, box_pos[1]/15], width=box_size, height=box_size) for box_pos in box_positions]\n",
    "\n",
    "#'선택 완료' 버튼 박스\n",
    "exit_box = visual.Rect(win, pos=[0,-10], width=3, height=1)\n",
    "# '선택 완료'라는 텍스트의 위치 (버튼 박스 내)\n",
    "exit_text = visual.TextStim(win, pos = [0,-10], text = _('exit'))\n",
    "\n",
    "#깜빡임 갯수와 순서 지정\n",
    "test_series = [\n",
    "[[0,1], [3,2], [4,1]],\n",
    "[[1,2,3], [5,3,7], [3,2,8]],\n",
    "[[0,3,1,7], [4,7,5,1], [0,8,5,3]],\n",
    "[[8,1,5,3,6], [6,4,5,2,0], [0,5,1,4,7]],\n",
    "[[4,1,6,7,8,2], [7,0,2,5,1,3], [6,8,1,0,3,5]],\n",
    "[[7,1,0,3,4,6,2], [2,6,8,1,4,0,5], [5,3,1,8,4,0,7]],\n",
    "[[5,0,3,7,2,1,8,4], [7,6,0,3,1,5,4,8], [6,1,4,3,5,2,0,7]],\n",
    "[[7,5,2,8,6,4,1,0,3], [5,8,6,2,0,1,4,3,7], [0,3,4,1,7,6,8,5,2]],\n",
    "]\n",
    "\n",
    "win.flip()\n",
    "core.wait(1)\n",
    "\n",
    "win.close()"
   ]
  },
  {
   "cell_type": "code",
   "execution_count": 31,
   "metadata": {},
   "outputs": [
    {
     "data": {
      "text/plain": [
       "[[8, 1, 5, 3, 6], [6, 4, 5, 2, 0], [0, 5, 1, 4, 7]]"
      ]
     },
     "execution_count": 31,
     "metadata": {},
     "output_type": "execute_result"
    }
   ],
   "source": [
    "test_series[3]"
   ]
  },
  {
   "cell_type": "markdown",
   "metadata": {},
   "source": [
    "참고: 다른 모양의 자극을 생성하고싶다면 *ShapeStim* Class를 추천\n",
    "``` python\n",
    "class psychopy.visual.ShapeStim(win, units='', lineWidth=1.5, lineColor='white', lineColorSpace='rgb', fillColor=None, fillColorSpace='rgb', vertices=((-0.5, 0), (0, 0.5), (0.5, 0)), windingRule=None, closeShape=True, pos=(0, 0), size=1, ori=0.0, opacity=1.0, contrast=1.0, depth=0, interpolate=True, name=None, autoLog=None, autoDraw=False)\n",
    "```\n",
    "출저: http://www.psychopy.org/api/visual/shapestim.html#psychopy.visual.ShapeStim"
   ]
  },
  {
   "cell_type": "code",
   "execution_count": 13,
   "metadata": {
    "collapsed": true
   },
   "outputs": [],
   "source": [
    "# Open log file to write\n",
    "# 기록 파일 이름 \n",
    "file_name = exp_info['participant']+'_corsi.csv'\n",
    "log_file = open(file_name, 'a')\n",
    "#기록 파일 내 포함될 변인과 헤드 이름 \n",
    "log_file.write('participant, series, responses, errors\\n') # Heading"
   ]
  },
  {
   "cell_type": "code",
   "execution_count": 2,
   "metadata": {
    "scrolled": true
   },
   "outputs": [
    {
     "ename": "NameError",
     "evalue": "name 'visual' is not defined",
     "output_type": "error",
     "traceback": [
      "\u001b[1;31m---------------------------------------------------------------------------\u001b[0m",
      "\u001b[1;31mNameError\u001b[0m                                 Traceback (most recent call last)",
      "\u001b[1;32m<ipython-input-2-3c331510ff87>\u001b[0m in \u001b[0;36m<module>\u001b[1;34m()\u001b[0m\n\u001b[0;32m      1\u001b[0m \u001b[1;31m# Instruction\u001b[0m\u001b[1;33m\u001b[0m\u001b[1;33m\u001b[0m\u001b[0m\n\u001b[1;32m----> 2\u001b[1;33m \u001b[0mtext_instruction\u001b[0m \u001b[1;33m=\u001b[0m \u001b[0mvisual\u001b[0m\u001b[1;33m.\u001b[0m\u001b[0mTextStim\u001b[0m\u001b[1;33m(\u001b[0m\u001b[0mwin\u001b[0m\u001b[1;33m,\u001b[0m \u001b[0mwrapWidth\u001b[0m\u001b[1;33m=\u001b[0m \u001b[1;36m30\u001b[0m\u001b[1;33m,\u001b[0m \u001b[0mpos\u001b[0m\u001b[1;33m=\u001b[0m\u001b[1;33m[\u001b[0m\u001b[1;36m0\u001b[0m\u001b[1;33m,\u001b[0m\u001b[1;36m0\u001b[0m\u001b[1;33m]\u001b[0m\u001b[1;33m,\u001b[0m \u001b[0mtext\u001b[0m\u001b[1;33m=\u001b[0m\u001b[0m_\u001b[0m\u001b[1;33m(\u001b[0m\u001b[1;34m'instr'\u001b[0m\u001b[1;33m)\u001b[0m\u001b[1;33m)\u001b[0m \u001b[1;31m# Text object\u001b[0m\u001b[1;33m\u001b[0m\u001b[0m\n\u001b[0m\u001b[0;32m      3\u001b[0m \u001b[0mtext_instruction\u001b[0m\u001b[1;33m.\u001b[0m\u001b[0mdraw\u001b[0m\u001b[1;33m(\u001b[0m\u001b[1;33m)\u001b[0m\u001b[1;33m\u001b[0m\u001b[0m\n\u001b[0;32m      4\u001b[0m \u001b[0mwin\u001b[0m\u001b[1;33m.\u001b[0m\u001b[0mflip\u001b[0m\u001b[1;33m(\u001b[0m\u001b[1;33m)\u001b[0m\u001b[1;33m\u001b[0m\u001b[0m\n\u001b[0;32m      5\u001b[0m \u001b[0mevent\u001b[0m\u001b[1;33m.\u001b[0m\u001b[0mwaitKeys\u001b[0m\u001b[1;33m(\u001b[0m\u001b[1;33m)\u001b[0m\u001b[1;33m\u001b[0m\u001b[0m\n",
      "\u001b[1;31mNameError\u001b[0m: name 'visual' is not defined"
     ]
    }
   ],
   "source": [
    "# Instruction\n",
    "text_instruction = visual.TextStim(win, wrapWidth= 30, pos=[0,0], text=_('instr')) # Text object\n",
    "text_instruction.draw()\n",
    "win.flip()\n",
    "event.waitKeys()\n",
    "\n",
    "#Experiment\n",
    "def draw_boxes(colors):\n",
    "    for box, color in zip(boxes, colors):\n",
    "        box.setFillColor(color)\n",
    "        box.draw()\n",
    "\n",
    "test_i = 0\n",
    "#test_series 배열 중 첫 번째 배열부터 시작\n",
    "error_n = 0\n",
    "#오류 수도 디폴트 값이 0\n",
    "max_n = 0\n",
    "#최대 값(점수)도 디폴트 값이 0\n",
    "\n",
    "while True:\n",
    "    rand_item = random.choice(range(3)) #3개의 배열씩 선택\n",
    "    # Present the series\n",
    "    #시퀀스 제시 \n",
    "    mouse.setVisible(False)\n",
    "    draw_boxes(['green']*len(boxes))\n",
    "    win.flip()\n",
    "    core.wait(1)\n",
    "    for item in test_series[test_i][rand_item]: #선택된 배열 속 [test_i]번째 순서\n",
    "\n",
    "        colors = ['green']*len(boxes)\n",
    "        colors[item] = 'white'\n",
    "        draw_boxes(colors)\n",
    "        win.flip()\n",
    "        core.wait(1)\n",
    "\n",
    "        colors = ['green']*len(boxes)\n",
    "        draw_boxes(colors)\n",
    "        win.flip()\n",
    "        core.wait(0.2)\n",
    "\n",
    "    # Participant chooses boxes\n",
    "    # 이제 참여자가 응답을 할 차례\n",
    "    mouse.setVisible(True)\n",
    "    colors = ['green']*len(boxes)\n",
    "    draw_boxes(colors)\n",
    "    exit_box.draw() #완료버튼 제시\n",
    "    exit_text.draw() #'완료'텍스트 제시\n",
    "    win.flip()\n",
    "    responses = [] #빈 응답에서 append를 통해 축척\n",
    "    while True:\n",
    "        if sum(mouse.getPressed()):\n",
    "            box_pressed = [box.contains(mouse.getPos()) for box in boxes]\n",
    "            if sum(box_pressed):\n",
    "                colors[box_pressed.index(True)] = 'white'\n",
    "                if not (box_pressed.index(True) in responses):\n",
    "                    responses.append(box_pressed.index(True))\n",
    "            draw_boxes(colors)\n",
    "            exit_box.draw()\n",
    "            exit_text.draw()\n",
    "            win.flip()\n",
    "            if exit_box.contains(mouse.getPos()):\n",
    "                break\n",
    "    win.flip()\n",
    "    core.wait(1)\n",
    "    errors = [int(i!=j) for i, j in zip(test_series[test_i][rand_item], responses)]\n",
    "    log_file.write('\"%s\", task, %s, %s, %s\\n' %(exp_info['participant'], test_series[test_i][rand_item], responses, errors))\n",
    "    if errors == []: errors = [1] #전혀 값이 없을 때\n",
    "    \n",
    "    if not sum(errors) and test_i == (len(test_series)-1): #에러가 없고 맨 마지막 실행일 경우\n",
    "        max_n += 1 #최대 상자 개수 + 1\n",
    "        if max_n == 2: #최대 상자 개수 = 2\n",
    "            break\n",
    "    if sum(errors): \n",
    "        error_n += 1 \n",
    "        if error_n==3: \n",
    "            break\n",
    "    \n",
    "    if sum(errors) and test_i!=0: #첫 실행이 아닐 때\n",
    "        test_i -= 1 #박스 재현수를 줄임\n",
    "    elif not sum(errors) and test_i<(len(test_series)-1): #줄인 상태에서 정답을 맞췄다면, 맨 마지막 실행X\n",
    "        test_i += 1 #박스 개수 증가 + alpha\n",
    "        \n",
    "win.flip()\n",
    "core.wait(1)\n",
    "\n",
    "win.close()"
   ]
  },
  {
   "cell_type": "code",
   "execution_count": null,
   "metadata": {
    "collapsed": true
   },
   "outputs": [],
   "source": [
    "!python corsi_test.py"
   ]
  },
  {
   "cell_type": "markdown",
   "metadata": {},
   "source": [
    "#random_item 테스트 \n",
    "``` python\n",
    "import random\n",
    "ran_item = random.choice(range(3))\n",
    "ran_item\n",
    "\n",
    "for item in test_series[test_i][rand_item]:\n",
    "    print item\n",
    "```"
   ]
  },
  {
   "cell_type": "markdown",
   "metadata": {},
   "source": [
    "#상자 개수 설정 테스트\n",
    "``` python\n",
    "['green']*9\n",
    "#['green']*len(boxes)\n",
    "```"
   ]
  }
 ],
 "metadata": {
  "kernelspec": {
   "display_name": "about_python_psychopy",
   "language": "python",
   "name": "about_python_psychopy"
  },
  "language_info": {
   "codemirror_mode": {
    "name": "ipython",
    "version": 2
   },
   "file_extension": ".py",
   "mimetype": "text/x-python",
   "name": "python",
   "nbconvert_exporter": "python",
   "pygments_lexer": "ipython2",
   "version": "2.7.13"
  }
 },
 "nbformat": 4,
 "nbformat_minor": 2
}
