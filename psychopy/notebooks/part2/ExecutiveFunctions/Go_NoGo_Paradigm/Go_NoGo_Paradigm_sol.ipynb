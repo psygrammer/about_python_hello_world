{
 "cells": [
  {
   "cell_type": "markdown",
   "metadata": {},
   "source": [
    "# Go/no go paradigm"
   ]
  },
  {
   "cell_type": "markdown",
   "metadata": {},
   "source": [
    "* 어바웃 파이썬 : 겨울방학 특강 - PsychoPy (1, 2)\n",
    "* 김무성     "
   ]
  },
  {
   "cell_type": "markdown",
   "metadata": {},
   "source": [
    "#### 참고\n",
    "* Created by Krisztina Peres\n",
    "* Date of creation: 2013.06.19.\n",
    "* Experiment software: PsychoPy\n",
    "* Estimated running time: 2-5 minute\n",
    "* Reference for the original experiment: Miller, J., Schäffer, R., and Hackley, S. A. (1991). Effects of preliminary information in a Go versus No-go task. Acta psychologica, 76(3), 241-92. Retrieved from http://www.ncbi.nlm.nih.gov/pubmed/1927576\n",
    "\n",
    "다음 사이트의 자료를 기반으로 작성됨. ()는 레퍼런스 번호, []는 원래 자료의 레퍼런스 번호.\n",
    "* (1) (영어버전) Cognitive Psychology Experiments Demonstrations - http://www.tankonyvtar.hu/hu/tartalom/tamop412A/2011-0018_08_kiserletek/adatok.html\n",
    "* (2) (원래 사이트, 소스코드 있음) Kognitív gyakorlatok - https://sites.google.com/site/kognitivgyakorlatok/"
   ]
  },
  {
   "cell_type": "markdown",
   "metadata": {},
   "source": [
    "# 차례\n",
    "* 준비단계\n",
    "* 실행방법\n",
    "* 내용 소개\n",
    "* 소스 분석"
   ]
  },
  {
   "cell_type": "markdown",
   "metadata": {},
   "source": [
    "# 준비단계\n",
    "\n",
    "## 필요한 파일들\n",
    "* analyze_log.py \n",
    "* go_nogo.py"
   ]
  },
  {
   "cell_type": "code",
   "execution_count": 1,
   "metadata": {},
   "outputs": [
    {
     "name": "stdout",
     "output_type": "stream",
     "text": [
      "Go_NoGo_Paradigm.ipynb  analyze_log.py          go_nogo.py\r\n"
     ]
    }
   ],
   "source": [
    "%ls"
   ]
  },
  {
   "cell_type": "markdown",
   "metadata": {},
   "source": [
    "# 실행방법"
   ]
  },
  {
   "cell_type": "markdown",
   "metadata": {},
   "source": [
    "### 실행 방법 1 \n",
    "콘솔창을 열어서 \n",
    "\n",
    "```\n",
    "python go_nogo.py\n",
    "```\n",
    "\n",
    "그리고\n",
    "```\n",
    "python analyze_log.py\n",
    "```"
   ]
  },
  {
   "cell_type": "markdown",
   "metadata": {},
   "source": [
    "### 실행 방법 2"
   ]
  },
  {
   "cell_type": "code",
   "execution_count": 2,
   "metadata": {
    "collapsed": true
   },
   "outputs": [],
   "source": [
    "# 노트북에서 직접 실행\n",
    "!python go_nogo.py"
   ]
  },
  {
   "cell_type": "code",
   "execution_count": 2,
   "metadata": {},
   "outputs": [
    {
     "name": "stdout",
     "output_type": "stream",
     "text": [
      "1_go_nogo.csv           analyze_log.py          go_nogo.py\r\n",
      "Go_NoGo_Paradigm.ipynb  analyze_log.pyc\r\n"
     ]
    }
   ],
   "source": [
    "%ls"
   ]
  },
  {
   "cell_type": "code",
   "execution_count": 5,
   "metadata": {
    "collapsed": true
   },
   "outputs": [],
   "source": [
    "import pandas as pd"
   ]
  },
  {
   "cell_type": "code",
   "execution_count": 6,
   "metadata": {
    "collapsed": true
   },
   "outputs": [],
   "source": [
    "df = pd.read_csv(\"1_go_nogo.csv\")"
   ]
  },
  {
   "cell_type": "code",
   "execution_count": 7,
   "metadata": {},
   "outputs": [
    {
     "data": {
      "text/html": [
       "<div>\n",
       "<style>\n",
       "    .dataframe thead tr:only-child th {\n",
       "        text-align: right;\n",
       "    }\n",
       "\n",
       "    .dataframe thead th {\n",
       "        text-align: left;\n",
       "    }\n",
       "\n",
       "    .dataframe tbody tr th {\n",
       "        vertical-align: top;\n",
       "    }\n",
       "</style>\n",
       "<table border=\"1\" class=\"dataframe\">\n",
       "  <thead>\n",
       "    <tr style=\"text-align: right;\">\n",
       "      <th></th>\n",
       "      <th>participant</th>\n",
       "      <th>color</th>\n",
       "      <th>response</th>\n",
       "      <th>RT</th>\n",
       "      <th>error</th>\n",
       "    </tr>\n",
       "  </thead>\n",
       "  <tbody>\n",
       "    <tr>\n",
       "      <th>0</th>\n",
       "      <td>1</td>\n",
       "      <td>green</td>\n",
       "      <td>none</td>\n",
       "      <td>-1.0000</td>\n",
       "      <td>1</td>\n",
       "    </tr>\n",
       "    <tr>\n",
       "      <th>1</th>\n",
       "      <td>1</td>\n",
       "      <td>green</td>\n",
       "      <td>space</td>\n",
       "      <td>0.4407</td>\n",
       "      <td>0</td>\n",
       "    </tr>\n",
       "    <tr>\n",
       "      <th>2</th>\n",
       "      <td>1</td>\n",
       "      <td>blue</td>\n",
       "      <td>none</td>\n",
       "      <td>-1.0000</td>\n",
       "      <td>0</td>\n",
       "    </tr>\n",
       "    <tr>\n",
       "      <th>3</th>\n",
       "      <td>1</td>\n",
       "      <td>blue</td>\n",
       "      <td>none</td>\n",
       "      <td>-1.0000</td>\n",
       "      <td>0</td>\n",
       "    </tr>\n",
       "    <tr>\n",
       "      <th>4</th>\n",
       "      <td>1</td>\n",
       "      <td>blue</td>\n",
       "      <td>none</td>\n",
       "      <td>-1.0000</td>\n",
       "      <td>0</td>\n",
       "    </tr>\n",
       "  </tbody>\n",
       "</table>\n",
       "</div>"
      ],
      "text/plain": [
       "   participant   color  response      RT   error\n",
       "0            1   green      none -1.0000       1\n",
       "1            1   green     space  0.4407       0\n",
       "2            1    blue      none -1.0000       0\n",
       "3            1    blue      none -1.0000       0\n",
       "4            1    blue      none -1.0000       0"
      ]
     },
     "execution_count": 7,
     "metadata": {},
     "output_type": "execute_result"
    }
   ],
   "source": [
    "df.head()"
   ]
  },
  {
   "cell_type": "code",
   "execution_count": 8,
   "metadata": {
    "collapsed": true
   },
   "outputs": [],
   "source": [
    "import analyze_log"
   ]
  },
  {
   "cell_type": "code",
   "execution_count": 9,
   "metadata": {},
   "outputs": [
    {
     "name": "stdout",
     "output_type": "stream",
     "text": [
      "independent: color, dependent: error, filter:  \n",
      "group, n, mean\n",
      "blue, 10, 0.000000\n",
      "green, 10, 0.100000\n"
     ]
    },
    {
     "data": {
      "image/png": "[encoded data removed]",
      "text/plain": [
       "<matplotlib.figure.Figure at 0x11b638cd0>"
      ]
     },
     "metadata": {},
     "output_type": "display_data"
    }
   ],
   "source": [
    "file_name = \"1_go_nogo.csv\"\n",
    "analyze_log.analyze_log (filename=file_name, \n",
    "                         indep_var='color', dep_var='error', function='mean',\n",
    "                         graph_types=['bar'])"
   ]
  },
  {
   "cell_type": "code",
   "execution_count": 10,
   "metadata": {},
   "outputs": [
    {
     "name": "stdout",
     "output_type": "stream",
     "text": [
      "1_go_nogo.csv             analyze_log.py            go_nogo.py\r\n",
      "1_go_nogo.csv_result.txt  analyze_log.pyc\r\n",
      "Go_NoGo_Paradigm.ipynb    \u001b[34mfigures\u001b[m\u001b[m/\r\n"
     ]
    }
   ],
   "source": [
    "%ls"
   ]
  },
  {
   "cell_type": "code",
   "execution_count": 11,
   "metadata": {
    "collapsed": true
   },
   "outputs": [],
   "source": [
    "df2 = pd.read_csv(\"1_go_nogo.csv_result.txt\")"
   ]
  },
  {
   "cell_type": "code",
   "execution_count": 12,
   "metadata": {},
   "outputs": [
    {
     "data": {
      "text/html": [
       "<div>\n",
       "<style>\n",
       "    .dataframe thead tr:only-child th {\n",
       "        text-align: right;\n",
       "    }\n",
       "\n",
       "    .dataframe thead th {\n",
       "        text-align: left;\n",
       "    }\n",
       "\n",
       "    .dataframe tbody tr th {\n",
       "        vertical-align: top;\n",
       "    }\n",
       "</style>\n",
       "<table border=\"1\" class=\"dataframe\">\n",
       "  <thead>\n",
       "    <tr style=\"text-align: right;\">\n",
       "      <th></th>\n",
       "      <th>independent: color</th>\n",
       "      <th>dependent: error</th>\n",
       "      <th>filter:</th>\n",
       "    </tr>\n",
       "  </thead>\n",
       "  <tbody>\n",
       "    <tr>\n",
       "      <th>0</th>\n",
       "      <td>group</td>\n",
       "      <td>n</td>\n",
       "      <td>mean</td>\n",
       "    </tr>\n",
       "    <tr>\n",
       "      <th>1</th>\n",
       "      <td>blue</td>\n",
       "      <td>10</td>\n",
       "      <td>0.000000</td>\n",
       "    </tr>\n",
       "    <tr>\n",
       "      <th>2</th>\n",
       "      <td>green</td>\n",
       "      <td>10</td>\n",
       "      <td>0.100000</td>\n",
       "    </tr>\n",
       "  </tbody>\n",
       "</table>\n",
       "</div>"
      ],
      "text/plain": [
       "  independent: color  dependent: error  filter:  \n",
       "0              group                 n       mean\n",
       "1               blue                10   0.000000\n",
       "2              green                10   0.100000"
      ]
     },
     "execution_count": 12,
     "metadata": {},
     "output_type": "execute_result"
    }
   ],
   "source": [
    "df2"
   ]
  },
  {
   "cell_type": "markdown",
   "metadata": {},
   "source": [
    "# 내용 소개\n",
    "* Theoretical background\n",
    "* Procedure\n",
    "* Expected results"
   ]
  },
  {
   "cell_type": "markdown",
   "metadata": {},
   "source": [
    "#### 참고\n",
    "* (3) Go/no go (Wikipedia) - https://en.wikipedia.org/wiki/Go/no_go#Psychology"
   ]
  },
  {
   "cell_type": "markdown",
   "metadata": {},
   "source": [
    "## Theoretical background"
   ]
  },
  {
   "cell_type": "markdown",
   "metadata": {},
   "source": [
    "The go/no-go paradigm is a selective reaction test, in which participants have to respond only to one of the two alternative stimuli (the go stimulus), while the participant shouldn’t respond to the other stimulus (the no-go stimulus). Donders was the first to use this paradigm. He measured the speed of mental processes (Donders, 1969)[9]. According to his subtraction method, selective reaction time (deciding about response depending on the stimuli) takes longer than a simple reaction time, because besides perceptual analysis and response execution, there is a third stage in selective reaction task: response selection/decision stage (Miller, Schäffer, and Hackley, 1991)[10].\n",
    "<br><구글번역 : \n",
    "go/no-go 패러다임은 참여자가 두 가지 대안 자극 중 하나 (고 자극)에 대해서만 응답해야하는 반면 참여자는 다른 자극에 반응해서는 안되는 선택적 반응 테스트입니다 ). Donders는 이 패러다임을 처음으로 사용했습니다. 그는 정신적 과정의 속도를 측정했다 (Donders, 1969) [9]. 그의 감산 방법에 따르면, 지각 분석과 반응 실행 외에도 선택 반응 과제의 세 번째 단계가 있기 때문에 선택 반응 시간 (자극에 따라 반응을 결정하는 데 걸리는 시간)이 간단한 반응 시간보다 오래 걸립니다. 응답 선택 / 결정 단계 ( Miller, Schäffer, and Hackley, 1991) [10].>\n",
    "\n",
    "Nowadays go/no-go task is generally used to measure inhibition processes, because participants have to withhold response, when a no-go stimulus is presented, what requires inhibition control. The index of inhibitory control is the probability of executing a response on a no-go trial (ratio of false alarms) and reaction time difference between the no-go response and the to go response (Verbruggen and Logan, 2008)[11].\n",
    "<br><구글 번역 + 의역: 요즘 go/no-go 작업은 일반적으로 제어 프로세스를 측정하는 데 사용됩니다. 참가자는 응답을 보류해야하므로 no-go 자극이 표시되고 억제 제어가 필요한 것입니다. 억제 제어(inhibitory control)의 지표는 1) no-go trial (false alarm의 비율)에서의 응답 버튼을 누를 확률과, 2) no-go response와 to go response 사이의 반응 시간 차이이다. (Verbruggen and Logan, 2008) [11].>"
   ]
  },
  {
   "cell_type": "markdown",
   "metadata": {},
   "source": [
    "<img src=\"https://ars.els-cdn.com/content/image/1-s2.0-S0926641003001447-gr1.jpg\" width=600 />"
   ]
  },
  {
   "cell_type": "markdown",
   "metadata": {},
   "source": [
    "<img src=\"https://ars.els-cdn.com/content/image/1-s2.0-S221315821300137X-gr1.jpg\" width=600 />"
   ]
  },
  {
   "cell_type": "markdown",
   "metadata": {},
   "source": [
    "## Procedure"
   ]
  },
  {
   "cell_type": "markdown",
   "metadata": {},
   "source": [
    "The present demonstration is based on the experiment of Miller, Schäffer, and Hackley (1991), but without preliminary cue stimuli. In the demonstration there are two types of stimuli: a green circle and a blue circle. Participants have to respond only to the green circle.\n",
    "<br><구글 번역 : 현재의 시연은 Miller, Schäffer, and Hackley (1991)의 실험에 기초하지만 예비 큐 자극은 없다. 데모에는 두 가지 유형의 자극이 있습니다. 녹색 원과 파란색 원입니다. 참가자는 녹색 원에만 응답해야합니다.>\n",
    "\n",
    "200 ms before the stimulus onset there is a fixation cross on the screen. Then, a green or blue circle appears, visible for 700 ms or until response. Interstimulus interval is 300 ms (+200 ms fixation cross).\n",
    "<br><구글 번역 : 자극이 나타나기 200 ms 전에 화면에 고정 십자가가 있습니다. 그런 다음 녹색 또는 파란색 원이 나타나고 응답이 나타날 때까지 700ms 동안 표시됩니다. interstimulus 간격은 300 밀리미터 (+200 밀리미터 고정 십자가)입니다.>"
   ]
  },
  {
   "cell_type": "markdown",
   "metadata": {},
   "source": [
    "## Expected results"
   ]
  },
  {
   "cell_type": "markdown",
   "metadata": {},
   "source": [
    "After the end of the demonstration participants can see their error rates for each condition. There are two types of error: false alarms and missing response. For the inhibition control false alarms are more informative than misses.\n",
    "<br><구글 번역 : 데모가 끝나면 참가자는 각 조건에 대한 오류율을 볼 수 있습니다. 오류 유형에는 허위 경보와 누락 된 응답의 두 가지 유형이 있습니다. 억제 제어의 경우 거짓 경보는 미스보다 유익합니다.>"
   ]
  },
  {
   "cell_type": "markdown",
   "metadata": {},
   "source": [
    "# 소스 분석"
   ]
  },
  {
   "cell_type": "markdown",
   "metadata": {},
   "source": [
    "### go_nogo.py"
   ]
  },
  {
   "cell_type": "markdown",
   "metadata": {},
   "source": [
    "#### 라이브러리들"
   ]
  },
  {
   "cell_type": "code",
   "execution_count": 2,
   "metadata": {
    "collapsed": true
   },
   "outputs": [],
   "source": [
    "# -*- coding: utf-8 -*-\n",
    "# Imports\n",
    "from psychopy import visual, core, event, gui\n",
    "#import analyze_log, \n",
    "import random"
   ]
  },
  {
   "cell_type": "markdown",
   "metadata": {},
   "source": [
    "------------------------------"
   ]
  },
  {
   "cell_type": "markdown",
   "metadata": {},
   "source": [
    "#### 윈도우 생성 "
   ]
  },
  {
   "cell_type": "code",
   "execution_count": 3,
   "metadata": {},
   "outputs": [
    {
     "name": "stdout",
     "output_type": "stream",
     "text": [
      "13.1732 \tWARNING \tCouldn't measure a consistent frame rate.\n",
      "  - Is your graphics card set to sync to vertical blank?\n",
      "  - Are you running other processes on your computer?\n",
      "\n",
      "13.2144 \tWARNING \tt of last frame was 41.41ms (=1/24)\n"
     ]
    }
   ],
   "source": [
    "win = visual.Window([1366,768], allowGUI=True, fullscr=False, waitBlanking=True, monitor='testMonitor', units='deg') # Create window\n",
    "\n",
    "win.flip() # 윈도우 생성\n",
    "core.wait(0.5) # 잠시 멈추기\n",
    "\n",
    "win.close() # 윈도우 닫기"
   ]
  },
  {
   "cell_type": "markdown",
   "metadata": {},
   "source": [
    "------------------------------"
   ]
  },
  {
   "cell_type": "markdown",
   "metadata": {},
   "source": [
    "#### 안내문 제시하기 "
   ]
  },
  {
   "cell_type": "code",
   "execution_count": 4,
   "metadata": {},
   "outputs": [
    {
     "data": {
      "text/plain": [
       "\"In the following task you will see a green and a blue circle.\\n\\nYou have to press key 'space' just in the case, when you see the green circle.\\nDon't do anything, when you see the blue circle!\""
      ]
     },
     "execution_count": 4,
     "metadata": {},
     "output_type": "execute_result"
    }
   ],
   "source": [
    "\"In the following task you will see a green and a blue circle.\\n\\nYou have to press key 'space' just in the case, when you see the green circle.\\nDon't do anything, when you see the blue circle!\""
   ]
  },
  {
   "cell_type": "code",
   "execution_count": 5,
   "metadata": {},
   "outputs": [
    {
     "name": "stdout",
     "output_type": "stream",
     "text": [
      "200.0117 \tWARNING \tCouldn't measure a consistent frame rate.\n",
      "  - Is your graphics card set to sync to vertical blank?\n",
      "  - Are you running other processes on your computer?\n",
      "\n",
      "200.1358 \tWARNING \tt of last frame was 124.32ms (=1/8)\n",
      "203.6936 \tWARNING \tt of last frame was 3557.75ms (=1/0)\n"
     ]
    }
   ],
   "source": [
    "\n",
    "win = visual.Window([1366,768], allowGUI=True, fullscr=False, waitBlanking=True, monitor='testMonitor', units='deg') # Create window\n",
    "\n",
    "text_inst = \"In the following task you will see a green and a blue circle.\\n\\nYou have to press key 'space' just in the case, when you see the green circle.\\nDon't do anything, when you see the blue circle!\"\n",
    "\n",
    "# Instruction\n",
    "text_instruction = visual.TextStim(win, pos=[0,0], text=text_inst)\n",
    "text_instruction.draw()\n",
    "win.flip() # draw the instruction\n",
    "event.waitKeys() # wait for key press to continue\n",
    "\n",
    "win.flip() # 깨끗한 윈도우 생성\n",
    "core.wait(0.5) # 잠시 멈추기\n",
    "\n",
    "win.close() # 윈도우 닫기"
   ]
  },
  {
   "cell_type": "markdown",
   "metadata": {},
   "source": [
    "------------------------------"
   ]
  },
  {
   "cell_type": "markdown",
   "metadata": {},
   "source": [
    "#### 실험 조건에 따라 안내문 제시하기 "
   ]
  },
  {
   "cell_type": "code",
   "execution_count": 8,
   "metadata": {
    "collapsed": true
   },
   "outputs": [],
   "source": [
    "#'participant':'participant_ID'\n",
    "#'language': 'en' or 'kr'\n",
    "exp_info = {}"
   ]
  },
  {
   "cell_type": "code",
   "execution_count": 9,
   "metadata": {
    "collapsed": true
   },
   "outputs": [],
   "source": [
    "exp_info = {'participant':'participant_ID',\n",
    "            'language':'en'}"
   ]
  },
  {
   "cell_type": "code",
   "execution_count": 10,
   "metadata": {},
   "outputs": [
    {
     "data": {
      "text/plain": [
       "'en'"
      ]
     },
     "execution_count": 10,
     "metadata": {},
     "output_type": "execute_result"
    }
   ],
   "source": [
    "exp_info['language']"
   ]
  },
  {
   "cell_type": "code",
   "execution_count": 11,
   "metadata": {
    "collapsed": true
   },
   "outputs": [],
   "source": [
    "# Language specific components\n",
    "def _(string):\n",
    "    # You should use texts dictionary to strore the strings, and set exp_info['language'] to specify the language\n",
    "    return texts[string][exp_info['language']]\n",
    "\n",
    "texts = {\n",
    "    'instr':\n",
    "        {'en':\"In the following task you will see a green and a blue circle.\\n\\nYou have to press key 'space' just in the case, when you see the green circle.\\nDon't do anything, when you see the blue circle!\",\n",
    "        'kr':u\"다음 작업에서는 녹색과 파란색 원이 표시됩니다.\\n\\n사례에서 녹색 원이 표시되면 '스페이스'키를 눌러야합니다. \\n파란색 원이 표시되면 아무 것도하지 마십시오.!\"},\n",
    "}"
   ]
  },
  {
   "cell_type": "code",
   "execution_count": 12,
   "metadata": {},
   "outputs": [
    {
     "name": "stdout",
     "output_type": "stream",
     "text": [
      "287.9741 \tWARNING \tCouldn't measure a consistent frame rate.\n",
      "  - Is your graphics card set to sync to vertical blank?\n",
      "  - Are you running other processes on your computer?\n",
      "\n",
      "288.0378 \tWARNING \tt of last frame was 63.94ms (=1/15)\n",
      "288.7636 \tWARNING \tt of last frame was 725.83ms (=1/1)\n"
     ]
    }
   ],
   "source": [
    "\n",
    "win = visual.Window([1366,768], allowGUI=True, fullscr=False, waitBlanking=True, monitor='testMonitor', units='deg') # Create window\n",
    "\n",
    "# Instruction\n",
    "text_inst = _('instr')\n",
    "text_instruction = visual.TextStim(win, pos=[0,0], text=text_inst)\n",
    "text_instruction.draw()\n",
    "win.flip() # draw the instruction\n",
    "event.waitKeys() # wait for key press to continue\n",
    "\n",
    "win.flip() # 깨끗한 윈도우 생성\n",
    "core.wait(0.5) # 잠시 멈추기\n",
    "\n",
    "win.close() # 윈도우 닫기"
   ]
  },
  {
   "cell_type": "markdown",
   "metadata": {},
   "source": [
    "------------------------------"
   ]
  },
  {
   "cell_type": "code",
   "execution_count": 20,
   "metadata": {},
   "outputs": [
    {
     "data": {
      "text/plain": [
       "['kr', 'en']"
      ]
     },
     "execution_count": 20,
     "metadata": {},
     "output_type": "execute_result"
    }
   ],
   "source": [
    "texts.values()[0].keys()"
   ]
  },
  {
   "cell_type": "markdown",
   "metadata": {},
   "source": [
    "#### 설정박스로 설정을 받아서 안내문 제시하기"
   ]
  },
  {
   "cell_type": "code",
   "execution_count": 21,
   "metadata": {},
   "outputs": [
    {
     "name": "stdout",
     "output_type": "stream",
     "text": [
      "555.0716 \tWARNING \tCouldn't measure a consistent frame rate.\n",
      "  - Is your graphics card set to sync to vertical blank?\n",
      "  - Are you running other processes on your computer?\n",
      "\n",
      "555.1252 \tWARNING \tt of last frame was 53.83ms (=1/18)\n",
      "556.2254 \tWARNING \tt of last frame was 1100.20ms (=1/0)\n"
     ]
    }
   ],
   "source": [
    "# Language specific components\n",
    "def _(string):\n",
    "    # You should use texts dictionary to strore the strings, and set exp_info['language'] to specify the language\n",
    "    return texts[string][exp_info['language']]\n",
    "\n",
    "texts = {\n",
    "    'instr':\n",
    "        {'en':\"In the following task you will see a green and a blue circle.\\n\\nYou have to press key 'space' just in the case, when you see the green circle.\\nDon't do anything, when you see the blue circle!\",\n",
    "        'kr':u\"다음 작업에서는 녹색과 파란색 원이 표시됩니다.\\n\\n사례에서 녹색 원이 표시되면 '스페이스'키를 눌러야합니다. \\n파란색 원이 표시되면 아무 것도하지 마십시오.!\"},\n",
    "}\n",
    "\n",
    "exp_info = {'participant':'participant_ID',\n",
    "    'language': texts.values()[0].keys()} # default parameters of the experiment\n",
    "\n",
    "\n",
    "# Setting some parameters on GUI\n",
    "dlg = gui.DlgFromDict(exp_info, title='Go-Nogo',\n",
    "   order = ['participant', 'language'],\n",
    "    tip = {'participant':'Identifier of the participant.',\n",
    "        'language':'Language of the instructions.',})\n",
    "if not dlg.OK:\n",
    "    print 'User Cancelled'\n",
    "    core.quit()\n",
    "    \n",
    "win = visual.Window([1366,768], allowGUI=True, fullscr=False, waitBlanking=True, monitor='testMonitor', units='deg') # Create window\n",
    "\n",
    "# Instruction\n",
    "text_inst = _('instr')\n",
    "text_instruction = visual.TextStim(win, pos=[0,0], text=text_inst)\n",
    "text_instruction.draw()\n",
    "win.flip() # draw the instruction\n",
    "event.waitKeys() # wait for key press to continue\n",
    "\n",
    "win.flip() # 깨끗한 윈도우 생성\n",
    "core.wait(0.5) # 잠시 멈추기\n",
    "\n",
    "win.close() # 윈도우 닫기"
   ]
  },
  {
   "cell_type": "markdown",
   "metadata": {},
   "source": [
    "------------------------------"
   ]
  },
  {
   "cell_type": "markdown",
   "metadata": {},
   "source": [
    "#### + 자극 제시 후 시각 자극 하나 뿌리기"
   ]
  },
  {
   "cell_type": "code",
   "execution_count": 2,
   "metadata": {
    "collapsed": true
   },
   "outputs": [],
   "source": [
    "# Language specific components\n",
    "def _(string):\n",
    "    # You should use texts dictionary to strore the strings, and set exp_info['language'] to specify the language\n",
    "    return texts[string][exp_info['language']]\n",
    "\n",
    "texts = {\n",
    "    'instr':\n",
    "        {'en':\"In the following task you will see a green and a blue circle.\\n\\nYou have to press key 'space' just in the case, when you see the green circle.\\nDon't do anything, when you see the blue circle!\",\n",
    "        'kr':u\"다음 작업에서는 녹색과 파란색 원이 표시됩니다.\\n\\n사례에서 녹색 원이 표시되면 '스페이스'키를 눌러야합니다. \\n파란색 원이 표시되면 아무 것도하지 마십시오.!\"},\n",
    "}\n",
    "\n",
    "\n",
    "exp_info = {'participant':'participant_ID',\n",
    "    'language': texts.values()[0].keys()} # default parameters of the experiment\n",
    "\n",
    "\n",
    "# Setting some parameters on GUI\n",
    "dlg = gui.DlgFromDict(exp_info, title='Go-Nogo',\n",
    "   order = ['participant', 'language'],\n",
    "    tip = {'participant':'Identifier of the participant.',\n",
    "        'language':'Language of the instructions.',})\n",
    "if not dlg.OK:\n",
    "    print 'User Cancelled'\n",
    "    core.quit()\n",
    "    \n",
    "    \n",
    "win = visual.Window([1366,768], allowGUI=True, fullscr=False, waitBlanking=True, monitor='testMonitor', units='deg') # Create window\n",
    "\n",
    "\n",
    "# Instruction\n",
    "text_inst = _('instr')\n",
    "text_instruction = visual.TextStim(win, pos=[0,0], text=text_inst)\n",
    "text_instruction.draw()\n",
    "win.flip() # draw the instruction\n",
    "event.waitKeys() # wait for key press to continue\n",
    "\n",
    "win.flip() # 깨끗한 윈도우 생성\n",
    "\n",
    "# Experiment\n",
    "# Stimuli\n",
    "# + 자극 \n",
    "fix_cross = visual.TextStim(win, text=\"+\", pos=(0,0), height=1, color='black')\n",
    "# 원 자극 \n",
    "stimulus = visual.Circle(win, radius=2, edges=32)\n",
    "\n",
    "core.wait(0.5)\n",
    "\n",
    "# 무선화된 색 배열 : green 10개, blue 10개 \n",
    "stimuli = ['green', 'blue']*10\n",
    "random.shuffle(stimuli)\n",
    "\n",
    "color_stim = stimuli[0]\n",
    "color_stim\n",
    "\n",
    "# + 자극 제시\n",
    "fix_cross.draw()\n",
    "win.flip()\n",
    "core.wait(0.2)\n",
    "\n",
    "# 자극 제시\n",
    "stimulus.setFillColor(color_stim)\n",
    "stimulus.setLineColor(color_stim)\n",
    "stimulus.draw()\n",
    "win.flip()\n",
    "\n",
    "core.wait(0.1) # 잠시 멈추기\n",
    "\n",
    "win.close() # 윈도우 닫기"
   ]
  },
  {
   "cell_type": "markdown",
   "metadata": {},
   "source": [
    "-------------------------------"
   ]
  },
  {
   "cell_type": "markdown",
   "metadata": {},
   "source": [
    "#### 시각 랜덤하게 연속으로 뿌리기"
   ]
  },
  {
   "cell_type": "code",
   "execution_count": 4,
   "metadata": {},
   "outputs": [
    {
     "name": "stdout",
     "output_type": "stream",
     "text": [
      "blue\n",
      "blue\n",
      "green\n",
      "green\n",
      "green\n",
      "blue\n",
      "green\n",
      "blue\n",
      "green\n",
      "blue\n",
      "green\n",
      "blue\n",
      "green\n",
      "blue\n",
      "blue\n",
      "green\n",
      "blue\n",
      "blue\n",
      "green\n",
      "green\n"
     ]
    }
   ],
   "source": [
    "stimuli = ['green', 'blue']*10\n",
    "random.shuffle(stimuli)\n",
    "\n",
    "for color_stim in stimuli :\n",
    "    print(color_stim)"
   ]
  },
  {
   "cell_type": "code",
   "execution_count": 5,
   "metadata": {
    "collapsed": true
   },
   "outputs": [],
   "source": [
    "# Language specific components\n",
    "def _(string):\n",
    "    # You should use texts dictionary to strore the strings, and set exp_info['language'] to specify the language\n",
    "    return texts[string][exp_info['language']]\n",
    "\n",
    "texts = {\n",
    "    'instr':\n",
    "        {'en':\"In the following task you will see a green and a blue circle.\\n\\nYou have to press key 'space' just in the case, when you see the green circle.\\nDon't do anything, when you see the blue circle!\",\n",
    "        'kr':u\"다음 작업에서는 녹색과 파란색 원이 표시됩니다.\\n\\n사례에서 녹색 원이 표시되면 '스페이스'키를 눌러야합니다. \\n파란색 원이 표시되면 아무 것도하지 마십시오.!\"},\n",
    "}\n",
    "\n",
    "\n",
    "exp_info = {'participant':'participant_ID',\n",
    "    'language': texts.values()[0].keys()} # default parameters of the experiment\n",
    "\n",
    "\n",
    "# Setting some parameters on GUI\n",
    "dlg = gui.DlgFromDict(exp_info, title='Go-Nogo',\n",
    "   order = ['participant', 'language'],\n",
    "    tip = {'participant':'Identifier of the participant.',\n",
    "        'language':'Language of the instructions.',})\n",
    "if not dlg.OK:\n",
    "    print 'User Cancelled'\n",
    "    core.quit()\n",
    "    \n",
    "    \n",
    "win = visual.Window([1366,768], allowGUI=True, fullscr=False, waitBlanking=True, monitor='testMonitor', units='deg') # Create window\n",
    "\n",
    "\n",
    "# Instruction\n",
    "text_inst = _('instr')\n",
    "text_instruction = visual.TextStim(win, pos=[0,0], text=text_inst)\n",
    "text_instruction.draw()\n",
    "win.flip() # draw the instruction\n",
    "event.waitKeys() # wait for key press to continue\n",
    "\n",
    "win.flip() # 깨끗한 윈도우 생성\n",
    "\n",
    "# Experiment\n",
    "# Stimuli\n",
    "# + 자극 \n",
    "fix_cross = visual.TextStim(win, text=\"+\", pos=(0,0), height=1, color='black')\n",
    "# 원 자극 \n",
    "stimulus = visual.Circle(win, radius=2, edges=32)\n",
    "\n",
    "core.wait(0.5)\n",
    "\n",
    "# 무선화된 색 배열 : green 10개, blue 10개 \n",
    "stimuli = ['green', 'blue']*10\n",
    "random.shuffle(stimuli)\n",
    "\n",
    "for color_stim in stimuli:\n",
    "    # + 자극 제시\n",
    "    fix_cross.draw()\n",
    "    win.flip()\n",
    "    core.wait(0.2)\n",
    "\n",
    "    # 자극 제시\n",
    "    stimulus.setFillColor(color_stim)\n",
    "    stimulus.setLineColor(color_stim)\n",
    "    stimulus.draw()\n",
    "    win.flip()\n",
    "    \n",
    "    core.wait(0.3)\n",
    "    \n",
    "\n",
    "core.wait(0.1) # 잠시 멈추기\n",
    "\n",
    "win.close() # 윈도우 닫기"
   ]
  },
  {
   "cell_type": "markdown",
   "metadata": {},
   "source": [
    "-----------------------"
   ]
  },
  {
   "cell_type": "markdown",
   "metadata": {},
   "source": [
    "#### 반응을 키보드로 입력받기"
   ]
  },
  {
   "cell_type": "code",
   "execution_count": 2,
   "metadata": {},
   "outputs": [
    {
     "name": "stdout",
     "output_type": "stream",
     "text": [
      "1, green, space, 0\n",
      "\n",
      "1, green, space, 0\n",
      "\n",
      "1, blue, none, 0\n",
      "\n",
      "1, blue, none, 0\n",
      "\n",
      "1, green, space, 0\n",
      "\n",
      "1, blue, none, 0\n",
      "\n",
      "1, green, space, 0\n",
      "\n",
      "1, blue, none, 0\n",
      "\n",
      "1, blue, none, 0\n",
      "\n",
      "1, green, space, 0\n",
      "\n",
      "1, green, none, 1\n",
      "\n",
      "1, blue, none, 0\n",
      "\n",
      "1, green, space, 0\n",
      "\n",
      "1, blue, none, 0\n",
      "\n",
      "1, green, space, 0\n",
      "\n",
      "1, blue, none, 0\n",
      "\n",
      "1, blue, none, 0\n",
      "\n",
      "1, green, space, 0\n",
      "\n",
      "1, green, space, 0\n",
      "\n",
      "1, blue, none, 0\n",
      "\n"
     ]
    }
   ],
   "source": [
    "# Language specific components\n",
    "def _(string):\n",
    "    # You should use texts dictionary to strore the strings, and set exp_info['language'] to specify the language\n",
    "    return texts[string][exp_info['language']]\n",
    "\n",
    "texts = {\n",
    "    'instr':\n",
    "        {'en':\"In the following task you will see a green and a blue circle.\\n\\nYou have to press key 'space' just in the case, when you see the green circle.\\nDon't do anything, when you see the blue circle!\",\n",
    "        'kr':u\"다음 작업에서는 녹색과 파란색 원이 표시됩니다.\\n\\n사례에서 녹색 원이 표시되면 '스페이스'키를 눌러야합니다. \\n파란색 원이 표시되면 아무 것도하지 마십시오.!\"},\n",
    "}\n",
    "\n",
    "\n",
    "exp_info = {'participant':'participant_ID',\n",
    "    'language': texts.values()[0].keys()} # default parameters of the experiment\n",
    "\n",
    "\n",
    "# Setting some parameters on GUI\n",
    "dlg = gui.DlgFromDict(exp_info, title='Go-Nogo',\n",
    "   order = ['participant', 'language'],\n",
    "    tip = {'participant':'Identifier of the participant.',\n",
    "        'language':'Language of the instructions.',})\n",
    "if not dlg.OK:\n",
    "    print 'User Cancelled'\n",
    "    core.quit()\n",
    "    \n",
    "    \n",
    "win = visual.Window([1366,768], allowGUI=True, fullscr=False, waitBlanking=True, monitor='testMonitor', units='deg') # Create window\n",
    "\n",
    "\n",
    "# Instruction\n",
    "text_inst = _('instr')\n",
    "text_instruction = visual.TextStim(win, pos=[0,0], text=text_inst)\n",
    "text_instruction.draw()\n",
    "win.flip() # draw the instruction\n",
    "event.waitKeys() # wait for key press to continue\n",
    "\n",
    "win.flip() # 깨끗한 윈도우 생성\n",
    "\n",
    "# Experiment\n",
    "# Stimuli\n",
    "# + 자극 \n",
    "fix_cross = visual.TextStim(win, text=\"+\", pos=(0,0), height=1, color='black')\n",
    "# 원 자극 \n",
    "stimulus = visual.Circle(win, radius=2, edges=32)\n",
    "\n",
    "core.wait(0.5)\n",
    "\n",
    "# 무선화된 색 배열 : green 10개, blue 10개 \n",
    "stimuli = ['green', 'blue']*10\n",
    "random.shuffle(stimuli)\n",
    "\n",
    "for color_stim in stimuli:\n",
    "    # + 자극 제시\n",
    "    fix_cross.draw()\n",
    "    win.flip()\n",
    "    core.wait(0.2)\n",
    "\n",
    "    # 자극 제시\n",
    "    stimulus.setFillColor(color_stim)\n",
    "    stimulus.setLineColor(color_stim)\n",
    "    stimulus.draw()\n",
    "    win.flip()\n",
    "    \n",
    "    keylist=event.waitKeys(maxWait=0.7)\n",
    "    if keylist is not None:\n",
    "        response=keylist[0]\n",
    "        if response=='escape': # stops experiment if esc is pressed\n",
    "            core.quit()\n",
    "        else:\n",
    "            error = 0 if color_stim=='green' else 1\n",
    "    else:\n",
    "        response='none'\n",
    "        rt=-1\n",
    "        error = 1 if color_stim=='green' else 0\n",
    "    \n",
    "    win.flip()\n",
    "    core.wait(0.3)\n",
    "    print('%s, %s, %s, %s\\n' %(exp_info['participant'],color_stim, response, error))\n",
    "\n",
    "\n",
    "core.wait(0.1) # 잠시 멈추기\n",
    "\n",
    "win.close() # 윈도우 닫기"
   ]
  },
  {
   "cell_type": "markdown",
   "metadata": {},
   "source": [
    "-----------------------"
   ]
  },
  {
   "cell_type": "markdown",
   "metadata": {},
   "source": [
    "#### 반응 시간을 측정하고, 지금까지의 사용자 행동 데이터를 로그 파일에 기록하기 "
   ]
  },
  {
   "cell_type": "code",
   "execution_count": 3,
   "metadata": {
    "collapsed": true
   },
   "outputs": [],
   "source": [
    "# 원 소스 참조, 각자 도전~"
   ]
  },
  {
   "cell_type": "markdown",
   "metadata": {},
   "source": [
    "# 참고자료\n",
    "* (1) (영어버전) Cognitive Psychology Experiments Demonstrations - http://www.tankonyvtar.hu/hu/tartalom/tamop412A/2011-0018_08_kiserletek/adatok.html\n",
    "* (2) (원래 사이트, 소스코드 있음) Kognitív gyakorlatok - https://sites.google.com/site/kognitivgyakorlatok/\n",
    "* (3) Go/no go (Wikipedia) - https://en.wikipedia.org/wiki/Go/no_go#Psychology"
   ]
  }
 ],
 "metadata": {
  "kernelspec": {
   "display_name": "Python 2",
   "language": "python",
   "name": "python2"
  },
  "language_info": {
   "codemirror_mode": {
    "name": "ipython",
    "version": 2
   },
   "file_extension": ".py",
   "mimetype": "text/x-python",
   "name": "python",
   "nbconvert_exporter": "python",
   "pygments_lexer": "ipython2",
   "version": "2.7.13"
  }
 },
 "nbformat": 4,
 "nbformat_minor": 2
}
