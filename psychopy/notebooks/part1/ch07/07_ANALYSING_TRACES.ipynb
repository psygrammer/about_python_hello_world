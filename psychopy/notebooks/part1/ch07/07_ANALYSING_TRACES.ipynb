{
 "cells": [
  {
   "cell_type": "markdown",
   "metadata": {},
   "source": [
    "# 7. ANALYSING TRACES"
   ]
  },
  {
   "cell_type": "markdown",
   "metadata": {},
   "source": [
    "* 어바웃 파이썬 : 11월 - PsychoPy [1]\n",
    "* 김무성"
   ]
  },
  {
   "cell_type": "markdown",
   "metadata": {},
   "source": [
    "# Contents\n",
    "* Introduction \n",
    "    - Pupil Size\n",
    "    - PyGaze Analyser\n",
    "* Read eye-tracker data\n",
    "* Plot your first trace\n",
    "* Averaging traces"
   ]
  },
  {
   "cell_type": "markdown",
   "metadata": {},
   "source": [
    "#### 준비단계 \n",
    "* ../ 폴더의 setup.ipynb 실행한 후"
   ]
  },
  {
   "cell_type": "code",
   "execution_count": 3,
   "metadata": {},
   "outputs": [
    {
     "name": "stdout",
     "output_type": "stream",
     "text": [
      "07_ANALYSING_TRACES.ipynb\r\n"
     ]
    }
   ],
   "source": [
    "# 현재 디렉토리 확인 \n",
    "%ls"
   ]
  },
  {
   "cell_type": "code",
   "execution_count": 4,
   "metadata": {},
   "outputs": [
    {
     "name": "stdout",
     "output_type": "stream",
     "text": [
      "\u001b[34mPEP_all-in-one\u001b[m\u001b[m/       all-in-one.zip        \u001b[34mch07\u001b[m\u001b[m/\r\n",
      "README.md             \u001b[34mch03\u001b[m\u001b[m/                 hello_psychopy.ipynb\r\n",
      "Untitled.ipynb        \u001b[34mch04\u001b[m\u001b[m/                 new.txt\r\n",
      "Untitled1.ipynb       \u001b[34mch05\u001b[m\u001b[m/                 result.txt\r\n",
      "all-in-one (1).zip    \u001b[34mch06\u001b[m\u001b[m/                 setup.ipynb\r\n"
     ]
    }
   ],
   "source": [
    "# 실습 관련 책의 코드와 데이터\n",
    "%ls .."
   ]
  },
  {
   "cell_type": "code",
   "execution_count": 10,
   "metadata": {},
   "outputs": [
    {
     "name": "stdout",
     "output_type": "stream",
     "text": [
      "../PEP_all-in-one/Chapter_07/code:\r\n",
      "Analysing_traces.zip\r\n",
      "\r\n",
      "../PEP_all-in-one/Chapter_07/data:\r\n",
      "ED_pupil.asc\r\n",
      "\r\n",
      "../PEP_all-in-one/Chapter_07/files:\r\n",
      "Analysing_traces_output.png\r\n"
     ]
    }
   ],
   "source": [
    "%ls ../PEP_all-in-one/Chapter_07/* "
   ]
  },
  {
   "cell_type": "code",
   "execution_count": 11,
   "metadata": {
    "collapsed": true
   },
   "outputs": [],
   "source": [
    "# 실습 파일 가져오자\n",
    "%cp -r ../PEP_all-in-one/Chapter_07 ."
   ]
  },
  {
   "cell_type": "code",
   "execution_count": 13,
   "metadata": {},
   "outputs": [
    {
     "name": "stdout",
     "output_type": "stream",
     "text": [
      "07_ANALYSING_TRACES.ipynb\r\n",
      "\r\n",
      "Chapter_07:\r\n",
      "\u001b[34mcode\u001b[m\u001b[m/  \u001b[34mdata\u001b[m\u001b[m/  \u001b[34mfiles\u001b[m\u001b[m/\r\n"
     ]
    }
   ],
   "source": [
    "%ls * "
   ]
  },
  {
   "cell_type": "markdown",
   "metadata": {},
   "source": [
    "# Scripts"
   ]
  },
  {
   "cell_type": "code",
   "execution_count": 1,
   "metadata": {},
   "outputs": [
    {
     "name": "stdout",
     "output_type": "stream",
     "text": [
      "/Users/moodern/work/00_aboutpython_psychopy/ch07/Chapter_07/code\n"
     ]
    }
   ],
   "source": [
    "# 작업 디렉토리 이동 \n",
    "%cd Chapter_07/code/"
   ]
  },
  {
   "cell_type": "code",
   "execution_count": 15,
   "metadata": {},
   "outputs": [
    {
     "name": "stdout",
     "output_type": "stream",
     "text": [
      "Analysing_traces.zip\r\n"
     ]
    }
   ],
   "source": [
    "%ls"
   ]
  },
  {
   "cell_type": "code",
   "execution_count": 16,
   "metadata": {},
   "outputs": [],
   "source": [
    "# 압축파일을 풀기위한 패키지\n",
    "import zipfile"
   ]
  },
  {
   "cell_type": "code",
   "execution_count": 17,
   "metadata": {
    "collapsed": true
   },
   "outputs": [],
   "source": [
    "all_zip = zipfile.ZipFile('Analysing_traces.zip')\n",
    "all_zip.extractall('./')\n",
    "all_zip.close()"
   ]
  },
  {
   "cell_type": "code",
   "execution_count": 18,
   "metadata": {},
   "outputs": [
    {
     "name": "stdout",
     "output_type": "stream",
     "text": [
      "\u001b[34mAnalysing_traces\u001b[m\u001b[m/     Analysing_traces.zip\r\n"
     ]
    }
   ],
   "source": [
    "%ls "
   ]
  },
  {
   "cell_type": "code",
   "execution_count": 2,
   "metadata": {},
   "outputs": [
    {
     "name": "stdout",
     "output_type": "stream",
     "text": [
      "/Users/moodern/work/00_aboutpython_psychopy/ch07/Chapter_07/code/Analysing_traces\n"
     ]
    }
   ],
   "source": [
    "# 작업 디렉토리 이동\n",
    "%cd Analysing_traces/"
   ]
  },
  {
   "cell_type": "code",
   "execution_count": null,
   "metadata": {},
   "outputs": [],
   "source": [
    "%ls"
   ]
  },
  {
   "cell_type": "code",
   "execution_count": 26,
   "metadata": {},
   "outputs": [],
   "source": [
    "%cp ../../data/ED_pupil.asc ."
   ]
  },
  {
   "cell_type": "code",
   "execution_count": 27,
   "metadata": {},
   "outputs": [
    {
     "name": "stdout",
     "output_type": "stream",
     "text": [
      "ED_pupil.asc    analysis.py     \u001b[34mpygazeanalyser\u001b[m\u001b[m/\r\n"
     ]
    }
   ],
   "source": [
    "%ls"
   ]
  },
  {
   "cell_type": "markdown",
   "metadata": {},
   "source": [
    "### 실행 방법 1. \n",
    "콘솔창을 열어서 \n",
    "python analysis.py "
   ]
  },
  {
   "cell_type": "markdown",
   "metadata": {},
   "source": [
    "### 실행 방법 2."
   ]
  },
  {
   "cell_type": "code",
   "execution_count": 28,
   "metadata": {},
   "outputs": [
    {
     "name": "stdout",
     "output_type": "stream",
     "text": [
      "Traceback (most recent call last):\r\n",
      "  File \"analysis.py\", line 32, in <module>\r\n",
      "    baseline = data[i]['size'][t1i:t2i]\r\n",
      "TypeError: only integer scalar arrays can be converted to a scalar index\r\n"
     ]
    }
   ],
   "source": [
    "# 노트북에서 직접 실행\n",
    "!python analysis.py"
   ]
  },
  {
   "cell_type": "markdown",
   "metadata": {},
   "source": [
    "### 실행 방법 3."
   ]
  },
  {
   "cell_type": "code",
   "execution_count": 4,
   "metadata": {
    "collapsed": true
   },
   "outputs": [],
   "source": [
    "import numpy\n",
    "from matplotlib import pyplot\n",
    "from scipy.stats import ttest_rel\n",
    "from pygazeanalyser.edfreader import read_edf\n",
    "\n",
    "# read data file\n",
    "data = read_edf('ED_pupil.asc', 'PUPIL_TRIALSTART', \\\n",
    "    stop='pupdata_stop')"
   ]
  },
  {
   "cell_type": "code",
   "execution_count": 16,
   "metadata": {},
   "outputs": [],
   "source": [
    "i = 0\n",
    "\n",
    "t0, msg = data[i]['events']['msg'][0]\n",
    "if 'black' in msg:\n",
    "    trialtype = 'black'\n",
    "elif 'white' in msg:\n",
    "    trialtype = 'white'\n",
    "    \n",
    "# get the timestamps of baseline and monitor change\n",
    "t1, msg = data[i]['events']['msg'][1]\n",
    "t2, msg = data[i]['events']['msg'][2]\n",
    "# turn the timestamps into index numbers\n",
    "t1i = numpy.where(data[i]['trackertime'] == t1)[0]\n",
    "t2i = numpy.where(data[i]['trackertime'] == t2)[0]"
   ]
  },
  {
   "cell_type": "code",
   "execution_count": 17,
   "metadata": {},
   "outputs": [
    {
     "data": {
      "text/plain": [
       "array([0])"
      ]
     },
     "execution_count": 17,
     "metadata": {},
     "output_type": "execute_result"
    }
   ],
   "source": [
    "t1i"
   ]
  },
  {
   "cell_type": "code",
   "execution_count": 11,
   "metadata": {},
   "outputs": [],
   "source": [
    "import numpy\n",
    "from matplotlib import pyplot\n",
    "from scipy.stats import ttest_rel\n",
    "from pygazeanalyser.edfreader import read_edf\n",
    "\n",
    "# read data file\n",
    "data = read_edf('ED_pupil.asc', 'PUPIL_TRIALSTART', \\\n",
    "    stop='pupdata_stop')\n",
    "\n",
    "\n",
    "# create a new dict to contain traces\n",
    "traces = {'black':[], 'white':[]}\n",
    "\n",
    "# loop through all trials\n",
    "n_trials = len(data)\n",
    "\n",
    "for i in range(n_trials):\n",
    "    \n",
    "    # check the trial type\n",
    "    t0, msg = data[i]['events']['msg'][0]\n",
    "    if 'black' in msg:\n",
    "        trialtype = 'black'\n",
    "    elif 'white' in msg:\n",
    "        trialtype = 'white'\n",
    "    \n",
    "    # get the timestamps of baseline and monitor change\n",
    "    t1, msg = data[i]['events']['msg'][1]\n",
    "    t2, msg = data[i]['events']['msg'][2]\n",
    "    # turn the timestamps into index numbers\n",
    "    t1i = numpy.where(data[i]['trackertime'] == t1)[0][0] # <- here\n",
    "    t2i = numpy.where(data[i]['trackertime'] == t2)[0][0] # <- here\n",
    "    \n",
    "    \n",
    "    \n",
    "    # get the baseline trace\n",
    "    baseline = data[i]['size'][t1i:t2i]\n",
    "    # get the pupil change trace (2000 samples)\n",
    "    trace = data[i]['size'][t2i:t2i+2000]\n",
    "    \n",
    "    # divide the pupil trace by the baseline median\n",
    "    trace = trace / numpy.median(baseline)\n",
    "    \n",
    "    # add the trace to the list for this trial type\n",
    "    traces[trialtype].append(trace)\n",
    "    \n",
    "# convert lists to NumPy arrays\n",
    "traces['black'] = numpy.array(traces['black'])\n",
    "traces['white'] = numpy.array(traces['white'])\n",
    "\n",
    "# create an empty dict to contain mean and SEM\n",
    "avgs = {'black':{}, 'white':{}}\n",
    "# loop through both conditions\n",
    "for con in ['black', 'white']:\n",
    "    # calculate the number of trials in this condition\n",
    "    n_trials = len(traces[con])\n",
    "    # calculate the average trace in this condition\n",
    "    avgs[con]['M'] = numpy.mean(traces[con], axis=0)\n",
    "    # calculate the standard deviation in this condition\n",
    "    sd = numpy.std(traces[con], axis=0)\n",
    "    # calculate the standard error in this condition\n",
    "    avgs[con]['SEM'] = sd / numpy.sqrt(n_trials)\n",
    "\n",
    "# do a t-test on every timepoint\n",
    "t, p = ttest_rel(traces['black'], traces['white'], axis=0)\n",
    "\n",
    "# Bonferroni-corrected alpha\n",
    "alpha = 0.05 / len(t)\n",
    "\n",
    "# define the plotting colours\n",
    "cols = {'black':'#204a87', 'white':'#c4a000'}\n",
    "# create a new figure with a single axis\n",
    "fig, ax = pyplot.subplots(figsize=(19.2,10.8), dpi=100.0)\n",
    "\n",
    "# loop through the conditions\n",
    "for con in ['black', 'white']:\n",
    "    # create x-values\n",
    "    x = range(len(avgs[con]['M']))\n",
    "    # plot the mean trace\n",
    "    ax.plot(x, avgs[con]['M'], '-', color=cols[con], \\\n",
    "        label=con)\n",
    "    # plot the standard error of the mean shading\n",
    "    y1 = avgs[con]['M'] + avgs[con]['SEM']\n",
    "    y2 = avgs[con]['M'] - avgs[con]['SEM']\n",
    "    ax.fill_between(x, y1, y2, color=cols[con], alpha=0.3)\n",
    "\n",
    "# create y arrays\n",
    "y1 = numpy.zeros(len(x))\n",
    "y2 = numpy.ones(len(x)) * 2\n",
    "# shade significant difference between traces\n",
    "ax.fill_between(x, y1, y2, where=p<alpha, \\\n",
    "    color='#babdb6', alpha=0.2)\n",
    "\n",
    "# set axes limits\n",
    "ax.set_xlim([0, 2000])\n",
    "ax.set_ylim([0, 2])\n",
    "# set axis labels\n",
    "ax.set_xlabel('time (ms)')\n",
    "ax.set_ylabel('proportional pupil size change')\n",
    "# add legend\n",
    "ax.legend(loc='upper left')\n",
    "\n",
    "fig.savefig('pupil_traces.png')"
   ]
  },
  {
   "cell_type": "code",
   "execution_count": 12,
   "metadata": {},
   "outputs": [
    {
     "name": "stdout",
     "output_type": "stream",
     "text": [
      "ED_pupil.asc      analysis.py       pupil_traces.png  \u001b[34mpygazeanalyser\u001b[m\u001b[m/\r\n"
     ]
    }
   ],
   "source": [
    "%ls"
   ]
  },
  {
   "cell_type": "code",
   "execution_count": 14,
   "metadata": {},
   "outputs": [
    {
     "data": {
      "image/png": "[encoded data removed]",
      "text/plain": [
       "<IPython.core.display.Image object>"
      ]
     },
     "execution_count": 14,
     "metadata": {},
     "output_type": "execute_result"
    }
   ],
   "source": [
    "from IPython.display import Image\n",
    "Image(\"pupil_traces.png\")"
   ]
  },
  {
   "cell_type": "markdown",
   "metadata": {},
   "source": [
    "# Introduction \n",
    "* Pupil Size\n",
    "* PyGaze Analyser"
   ]
  },
  {
   "cell_type": "markdown",
   "metadata": {},
   "source": [
    "## Pupil Size"
   ]
  },
  {
   "cell_type": "markdown",
   "metadata": {},
   "source": [
    "In this section, you will use an example dataset of pupillometry measurements. You can download it from the companion website <http://www.routledge.com/cw/dalmaijer/>. Put this file in a new empty folder.\n",
    "\n",
    "The data was collected in a very straightforward experimental design: participants looked at a computer monitor that had a grey fixation dot. Every few seconds the display changed from black to white, or vice versa.\n",
    "\n",
    "The effect of lighting on pupil size is rather strong: The pupil contracts when the eyes are exposed to bright light, and it dilates when there is little light. The pupil is a bit slow to respond, though. Usually, a change in pupil size becomes apparent after about half a second (or a little under).\n",
    "\n",
    "The data in the example file was collected with an EyeLink 1000 (SR Research Ltd). This is an eye tracker: a fancy camera that can recognise and follow eyes, and can measure the diameter (and surface area) of pupils. The EyeLink 1000 operates at 1000 Hz, which means that it provides one snapshot of the pupil diameter every millisecond.\n",
    "\n",
    "(이 절에서는 Pupillometry 측정의 예제 데이터 세트를 사용합니다. 컴패니언 웹 사이트 http://www.routledge.com/cw/dalmaijer/ 에서 다운로드 할 수 있습니다. 이 파일을 새 빈 폴더에 넣으십시오.\n",
    "데이터는 매우 간단한 실험 디자인으로 수집되었습니다. 참가자는 회색 고정 점이있는 컴퓨터 모니터를 보았습니다. 몇 초마다 디스플레이가 검은 색에서 흰색으로 또는 그 반대로 변경되었습니다.\n",
    "\n",
    "동공 크기에 대한 조명 효과는 다소 강하다 : 눈이 밝은 빛에 노출되면 눈금이 줄어들고 빛이 거의 없을 때 눈꺼풀이 넓어진다. 그러나 학생은 약간 느리게 반응합니다. 보통, 학생의 크기 변화는 약 0.5 초 후 (또는 약간 아래) 명백해진다.\n",
    "\n",
    "예제 파일의 데이터는 EyeLink 1000 (SR Research Ltd)으로 수집되었습니다. 이것은 눈 추적기입니다. 눈을 인식하고 따라갈 수있는 멋진 카메라이며, 학생의 지름 (및 표면적)을 측정 할 수 있습니다. EyeLink 1000은 1000Hz에서 작동합니다. 즉, 밀리 초마다 동공 지름의 스냅 샷을 제공합니다.)"
   ]
  },
  {
   "cell_type": "code",
   "execution_count": 19,
   "metadata": {},
   "outputs": [
    {
     "name": "stdout",
     "output_type": "stream",
     "text": [
      "ED_pupil.asc      analysis.py       pupil_traces.png  \u001b[34mpygazeanalyser\u001b[m\u001b[m/\r\n"
     ]
    }
   ],
   "source": [
    "%ls"
   ]
  },
  {
   "cell_type": "code",
   "execution_count": 28,
   "metadata": {},
   "outputs": [
    {
     "name": "stdout",
     "output_type": "stream",
     "text": [
      "** CONVERTED FROM ED_pupil.edf using edfapi 3.1 Win32 Apr 29 2011 on Thu Oct 30 14:41:17 2014\r",
      "\r\n",
      "** DATE: Thu Oct 30 15:23:53 2014\r",
      "\r\n",
      "** TYPE: EDF_FILE BINARY EVENT SAMPLE TAGGED\r",
      "\r\n",
      "** VERSION: EYELINK II 1\r",
      "\r\n",
      "** SOURCE: EYELINK CL\r",
      "\r\n",
      "** EYELINK II CL v4.56 Aug 18 2010\r",
      "\r\n",
      "** CAMERA: EyeLink CL Version 1.4 Sensor=BKA\r",
      "\r\n",
      "** SERIAL NUMBER: CL1-65C02\r",
      "\r\n",
      "** CAMERA_CONFIG: 65C02120.SCD\r",
      "\r\n",
      "**\r",
      "\r\n",
      "\r",
      "\r\n",
      "MSG\t449116 !CAL \r",
      "\r\n",
      ">>>>>>> CALIBRATION (HV9,P-CR) FOR LEFT: <<<<<<<<<\r",
      "\r\n",
      "MSG\t449116 !CAL Calibration points:  \r",
      "\r\n",
      "MSG\t449116 !CAL -23.1, -65.1         0,     17   \r",
      "\r\n",
      "MSG\t449116 !CAL -24.8, -90.9         0,  -2319   \r",
      "\r\n",
      "MSG\t449116 !CAL -24.2, -41.6         0,   2457   \r",
      "\r\n",
      "MSG\t449117 !CAL -69.2, -63.1     -3394,     17   \r",
      "\r\n",
      "MSG\t449117 !CAL  19.4, -65.4      3394,     17   \r",
      "\r\n",
      "MSG\t449117 !CAL -70.8, -89.0     -3322,  -2319   \r",
      "\r\n",
      "MSG\t449117 !CAL  19.8, -91.4      3322,  -2319   \r",
      "\r\n",
      "MSG\t449117 !CAL -67.1, -40.1     -3469,   2457   \r",
      "\r\n",
      "MSG\t449117 !CAL  17.6, -43.4      3469,   2457   \r",
      "\r\n",
      "MSG\t449117 !CAL eye check box: (L,R,T,B)\r",
      "\r\n",
      "\t  -80    29   -97   -35\r",
      "\r\n",
      "\r",
      "\r\n",
      "MSG\t449117 !CAL href cal range: (L,R,T,B)\r",
      "\r\n",
      "\t-5203  5203 -3513  3651\r",
      "\r\n",
      "\r",
      "\r\n",
      "MSG\t449117 !CAL Cal coeff:(X=a+bx+cy+dxx+eyy,Y=f+gx+goaly+ixx+jyy)\r",
      "\r\n",
      "  -3.0529e-05  76.84 -0.52011  0.071691  0.18125 \r",
      "\r\n",
      "   16.884  2.3745  97.431 -0.0425\r",
      "\r\n",
      "MSG\t449117 !CAL Prenormalize: offx, offy = -23.087 -65.144\r",
      "\r\n",
      "\r",
      "\r\n",
      "MSG\t449118 !CAL Quadrant center: centx, centy = \r",
      "\r\n",
      "  -3.0544e-05  16.884\r",
      "\r\n",
      "\r",
      "\r\n",
      "MSG\t449118 !CAL Corner correction:\r",
      "\r\n",
      "   7.9286e-06,  6.1666e-06 \r",
      "\r\n",
      "   2.8941e-05, -2.0907e-06 \r",
      "\r\n",
      "   4.259e-05, -3.3198e-06 \r",
      "\r\n",
      "   1.9668e-05,  2.2303e-05 \r",
      "\r\n",
      "\r",
      "\r\n",
      "MSG\t449118 !CAL Gains: cx:92.595 lx:94.058 rx:100.207\r",
      "\r\n",
      "MSG\t449118 !CAL Gains: cy:146.301 ty:92.971 by:136.954\r",
      "\r\n",
      "MSG\t449118 !CAL Resolution (upd) at screen center: X=2.8, Y=1.8\r",
      "\r\n",
      "MSG\t449118 !CAL Gain Change Proportion: X: 0.065 Y: 0.473\r",
      "\r\n",
      "MSG\t449119 !CAL Gain Ratio (Gy/Gx) = 1.580\r",
      "\r\n",
      "MSG\t449119 !CAL Cross-Gain Ratios: X=0.008, Y=0.025 \r",
      "\r\n",
      "MSG\t449119 !CAL Quadrant fixup[0] = 0.014,0.011\r",
      "\r\n"
     ]
    }
   ],
   "source": [
    "!head -n 50 ED_pupil.asc "
   ]
  },
  {
   "cell_type": "markdown",
   "metadata": {},
   "source": [
    "## PyGaze Analyser"
   ]
  },
  {
   "cell_type": "markdown",
   "metadata": {},
   "source": [
    "To read the EyeLink’s data file, you can use PyGaze Analyser. You can download the package from http://www.routledge.com/cw/dalmaijer. After downloading the zipped archive, unzip it and copy the folder called ‘pygazeanalyser’ to your new analysis folder (where the example data file is).\n",
    "\n",
    "PyGaze Analyser is currently a relatively simple library that can extract data from EyeLink, EyeTribe, and SensoMotoric Instruments (SMI) files. In addition, it provides functions for high-level plotting of gaze fixation data, which can produce fancy pictures. You will encounter these in a later section.\n"
   ]
  },
  {
   "cell_type": "markdown",
   "metadata": {},
   "source": [
    "# Read eye-tracker data"
   ]
  },
  {
   "cell_type": "code",
   "execution_count": 29,
   "metadata": {
    "collapsed": true
   },
   "outputs": [],
   "source": [
    "%matplotlib inline\n",
    "\n",
    "import numpy\n",
    "from matplotlib import pyplot\n",
    "from scipy.stats import ttest_rel\n",
    "from pygazeanalyser.edfreader import read_edf\n"
   ]
  },
  {
   "cell_type": "code",
   "execution_count": 30,
   "metadata": {
    "collapsed": true
   },
   "outputs": [],
   "source": [
    "# read data file\n",
    "data = read_edf('ED_pupil.asc', 'PUPIL_TRIALSTART', \\\n",
    "    stop='pupdata_stop')"
   ]
  },
  {
   "cell_type": "markdown",
   "metadata": {},
   "source": [
    "This reads the file, and stores its contents in a new variable (data). This variable is quite large and quite complex, so an explanation is in order. data is a list that contains values of single trials (one trial per index). In this case there were 50 trials, so len(data)==50. You can refer to a single trial by using data[n], where n is the trial number.\n",
    "\n",
    "Each single trial is represented by a dict. These dicts always have the same six keys. The first are ‘trackertime’ and ‘time’. Both of these are NumPy arrays that contain the timestamps of all data samples. The timestamps in ‘trackertime’ are in the time that the eye tracker reported. The timestamps in ‘time’ start at 0 in every trial.\n",
    "\n",
    "The next three keys are ‘x’, ‘y’, and ‘size’. These are all NumPy arrays. ‘x’ contains samples of the horizontal gaze position, and ‘y’ of the vertical gaze position (that is: at which pixel on the monitor a participant was looking). ‘size’ contains samples of the pupil size. These can represent either the pupil surface area, or the pupil diameter (which depends on the EyeLink’s settings during testing). Pupil size was measured in arbitrary units, which are relative to the specific setup and participant. Note that these units do not quite mean anything in the real world, and that you can’t compare them between participants.\n",
    "\n",
    "(이것은 파일을 읽고 그 내용을 새로운 변수 (데이터)에 저장합니다. 이 변수는 상당히 크고 복잡하기 때문에 설명이 순서대로 이루어집니다. 데이터는 단일 시도 (인덱스 당 하나의 평가판) 값을 포함하는 목록입니다. 이 경우 50 건의 시련이 있었기 때문에 len (data) == 50이됩니다. 데이터 [n]을 사용하여 단일 평가판을 참조 할 수 있습니다. 여기서 n은 평가판 번호입니다.\n",
    "\n",
    "각각의 단일 재판은 dict로 표시됩니다. 이 dicts에는 항상 동일한 6 개의 열쇠가있다. 첫 번째는 'trackertime'과 'time'입니다. 이 두 가지 모두 모든 데이터 샘플의 타임 스탬프가 포함 된 NumPy 배열입니다. 'trackertime'의 타임 스탬프는 아이 추적기가보고 한 시간입니다. 'time'의 타임 스탬프는 모든 평가판에서 0부터 시작합니다.\n",
    "\n",
    "다음 세 개의 키는 'x', 'y'및 '크기'입니다. 이것들은 모두 NumPy 배열입니다. 'x'는 수평 시선 위치의 샘플과 수직 시선 위치의 'y'를 포함합니다 (즉, 참가자가 모니터의 어느 픽셀을 보는지). '크기'는 동공 크기의 샘플을 포함합니다. 이들은 동공 표면 영역 또는 동공 지름을 나타낼 수 있습니다 (테스트 중 EyeLink의 설정에 따라 다름). 동공 크기는 특정 설정 및 참가자와 관련된 임의의 단위로 측정되었습니다. 이 단위는 실제 세계에서는 의미가 없으며 참가자간에 비교할 수 없다는 점에 유의하십시오.)"
   ]
  },
  {
   "cell_type": "code",
   "execution_count": 32,
   "metadata": {},
   "outputs": [
    {
     "data": {
      "text/plain": [
       "{'events': {'Eblk': [],\n",
       "  'Efix': [[476144, 479160, 3017, 520.8, 379.5]],\n",
       "  'Esac': [],\n",
       "  'Sblk': [],\n",
       "  'Sfix': [],\n",
       "  'Ssac': [],\n",
       "  'msg': [[476461, 'PUPIL_TRIALSTART, colour=black\\n'],\n",
       "   [476461, 'baseline_start\\n'],\n",
       "   [476661, 'pupdata_start\\n']]},\n",
       " 'size': array([ 5139.,  5133.,  5132., ...,  8833.,  8834.,  8835.]),\n",
       " 'time': array([   0,    1,    2, ..., 2698, 2699, 2700]),\n",
       " 'trackertime': array([476461, 476462, 476463, ..., 479159, 479160, 479161]),\n",
       " 'x': array([ 527.8,  527.8,  527.7, ...,  518.2,  518.3,  518.5]),\n",
       " 'y': array([ 362.2,  362.1,  362.1, ...,  396.6,  396.5,  396.5])}"
      ]
     },
     "execution_count": 32,
     "metadata": {},
     "output_type": "execute_result"
    }
   ],
   "source": [
    "data[0]"
   ]
  },
  {
   "cell_type": "code",
   "execution_count": 34,
   "metadata": {},
   "outputs": [
    {
     "data": {
      "text/plain": [
       "[[476461, 'PUPIL_TRIALSTART, colour=black\\n'],\n",
       " [476461, 'baseline_start\\n'],\n",
       " [476661, 'pupdata_start\\n']]"
      ]
     },
     "execution_count": 34,
     "metadata": {},
     "output_type": "execute_result"
    }
   ],
   "source": [
    "data[0]['events']['msg']"
   ]
  },
  {
   "cell_type": "markdown",
   "metadata": {},
   "source": [
    "As you can see, this is a list of all logged events. Each event is a list itself, containing a timestamp (in trackertime!) and the actual message.\n"
   ]
  },
  {
   "cell_type": "markdown",
   "metadata": {},
   "source": [
    "# Plot your first trace"
   ]
  },
  {
   "cell_type": "code",
   "execution_count": 35,
   "metadata": {},
   "outputs": [
    {
     "data": {
      "text/plain": [
       "array([ 5139.,  5133.,  5132., ...,  8833.,  8834.,  8835.])"
      ]
     },
     "execution_count": 35,
     "metadata": {},
     "output_type": "execute_result"
    }
   ],
   "source": [
    "data[0]['size']"
   ]
  },
  {
   "cell_type": "code",
   "execution_count": 36,
   "metadata": {},
   "outputs": [
    {
     "data": {
      "image/png": "[encoded data removed]",
      "text/plain": [
       "<matplotlib.figure.Figure at 0x10e713c18>"
      ]
     },
     "metadata": {},
     "output_type": "display_data"
    }
   ],
   "source": [
    "# This plots the pupil size in the first trial, \n",
    "# and marks every sample with a circle marker (‘o’).\n",
    "pyplot.plot(data[0]['size'], 'o')\n",
    "pyplot.show()"
   ]
  },
  {
   "cell_type": "code",
   "execution_count": 37,
   "metadata": {},
   "outputs": [
    {
     "data": {
      "text/plain": [
       "[476461, 'PUPIL_TRIALSTART, colour=black\\n']"
      ]
     },
     "execution_count": 37,
     "metadata": {},
     "output_type": "execute_result"
    }
   ],
   "source": [
    "data[0]['events']['msg'][0]"
   ]
  },
  {
   "cell_type": "code",
   "execution_count": 38,
   "metadata": {},
   "outputs": [
    {
     "data": {
      "text/plain": [
       "[476461, 'baseline_start\\n']"
      ]
     },
     "execution_count": 38,
     "metadata": {},
     "output_type": "execute_result"
    }
   ],
   "source": [
    "data[0]['events']['msg'][1]"
   ]
  },
  {
   "cell_type": "code",
   "execution_count": 39,
   "metadata": {},
   "outputs": [
    {
     "data": {
      "text/plain": [
       "[476661, 'pupdata_start\\n']"
      ]
     },
     "execution_count": 39,
     "metadata": {},
     "output_type": "execute_result"
    }
   ],
   "source": [
    "data[0]['events']['msg'][2]"
   ]
  },
  {
   "cell_type": "code",
   "execution_count": 40,
   "metadata": {
    "collapsed": true
   },
   "outputs": [],
   "source": [
    "t1, msg = data[0]['events']['msg'][1]"
   ]
  },
  {
   "cell_type": "code",
   "execution_count": 41,
   "metadata": {},
   "outputs": [
    {
     "data": {
      "text/plain": [
       "476461"
      ]
     },
     "execution_count": 41,
     "metadata": {},
     "output_type": "execute_result"
    }
   ],
   "source": [
    "t1"
   ]
  },
  {
   "cell_type": "code",
   "execution_count": 42,
   "metadata": {},
   "outputs": [
    {
     "data": {
      "text/plain": [
       "'baseline_start\\n'"
      ]
     },
     "execution_count": 42,
     "metadata": {},
     "output_type": "execute_result"
    }
   ],
   "source": [
    "msg"
   ]
  },
  {
   "cell_type": "code",
   "execution_count": 63,
   "metadata": {
    "collapsed": true
   },
   "outputs": [],
   "source": [
    "t2, msg = data[0]['events']['msg'][2]"
   ]
  },
  {
   "cell_type": "code",
   "execution_count": 43,
   "metadata": {},
   "outputs": [
    {
     "data": {
      "text/plain": [
       "(array([0]),)"
      ]
     },
     "execution_count": 43,
     "metadata": {},
     "output_type": "execute_result"
    }
   ],
   "source": [
    "# With NumPy’s where function, \n",
    "# you can find the index numbers \n",
    "# for which a certain logical statement is True. \n",
    "# Type this into the Interpreter:\n",
    "numpy.where(data[0]['trackertime'] == t1)"
   ]
  },
  {
   "cell_type": "code",
   "execution_count": 44,
   "metadata": {},
   "outputs": [
    {
     "data": {
      "text/plain": [
       "array([476461, 476462, 476463, ..., 479159, 479160, 479161])"
      ]
     },
     "execution_count": 44,
     "metadata": {},
     "output_type": "execute_result"
    }
   ],
   "source": [
    "data[0]['trackertime']"
   ]
  },
  {
   "cell_type": "code",
   "execution_count": 45,
   "metadata": {},
   "outputs": [
    {
     "data": {
      "text/plain": [
       "array([ True, False, False, ..., False, False, False], dtype=bool)"
      ]
     },
     "execution_count": 45,
     "metadata": {},
     "output_type": "execute_result"
    }
   ],
   "source": [
    "data[0]['trackertime'] == t1"
   ]
  },
  {
   "cell_type": "code",
   "execution_count": 47,
   "metadata": {},
   "outputs": [
    {
     "data": {
      "text/plain": [
       "(array([0]),)"
      ]
     },
     "execution_count": 47,
     "metadata": {},
     "output_type": "execute_result"
    }
   ],
   "source": [
    "numpy.where(data[0]['trackertime'] == t1)"
   ]
  },
  {
   "cell_type": "code",
   "execution_count": 48,
   "metadata": {},
   "outputs": [
    {
     "data": {
      "text/plain": [
       "array([0])"
      ]
     },
     "execution_count": 48,
     "metadata": {},
     "output_type": "execute_result"
    }
   ],
   "source": [
    "numpy.where(data[0]['trackertime'] == t1)[0]"
   ]
  },
  {
   "cell_type": "code",
   "execution_count": 49,
   "metadata": {},
   "outputs": [
    {
     "data": {
      "text/plain": [
       "0"
      ]
     },
     "execution_count": 49,
     "metadata": {},
     "output_type": "execute_result"
    }
   ],
   "source": [
    "numpy.where(data[0]['trackertime'] == t1)[0][0]"
   ]
  },
  {
   "cell_type": "code",
   "execution_count": null,
   "metadata": {
    "collapsed": true
   },
   "outputs": [],
   "source": [
    "# The variables t1i and t2i now refer \n",
    "# to the index number \n",
    "# of sample arrays(‘time’, ‘trackertime’, ‘x’, ‘y’, and ‘size’) \n",
    "# that correspond to t1 (baseline start) and t2 (monitor change). \n",
    "# You can use these indices to select the baseline, \n",
    "# and the pupil response to a monitor change. \n",
    "# Type the following in the Interpreter:"
   ]
  },
  {
   "cell_type": "code",
   "execution_count": 53,
   "metadata": {},
   "outputs": [
    {
     "data": {
      "text/plain": [
       "array([0])"
      ]
     },
     "execution_count": 53,
     "metadata": {},
     "output_type": "execute_result"
    }
   ],
   "source": [
    "t1i = numpy.where(data[0]['trackertime'] == t1)[0]\n",
    "t1i"
   ]
  },
  {
   "cell_type": "code",
   "execution_count": 55,
   "metadata": {},
   "outputs": [],
   "source": [
    "t2i = numpy.where(data[0]['trackertime'] == t2)[0]"
   ]
  },
  {
   "cell_type": "code",
   "execution_count": 56,
   "metadata": {},
   "outputs": [
    {
     "data": {
      "text/plain": [
       "array([ 5139.,  5133.,  5132., ...,  8833.,  8834.,  8835.])"
      ]
     },
     "execution_count": 56,
     "metadata": {},
     "output_type": "execute_result"
    }
   ],
   "source": [
    "data[0]['size']"
   ]
  },
  {
   "cell_type": "code",
   "execution_count": 57,
   "metadata": {},
   "outputs": [
    {
     "ename": "TypeError",
     "evalue": "only integer scalar arrays can be converted to a scalar index",
     "output_type": "error",
     "traceback": [
      "\u001b[0;31m---------------------------------------------------------------------------\u001b[0m",
      "\u001b[0;31mTypeError\u001b[0m                                 Traceback (most recent call last)",
      "\u001b[0;32m<ipython-input-57-001247ffb8ff>\u001b[0m in \u001b[0;36m<module>\u001b[0;34m()\u001b[0m\n\u001b[0;32m----> 1\u001b[0;31m \u001b[0mbaseline\u001b[0m \u001b[0;34m=\u001b[0m \u001b[0mdata\u001b[0m\u001b[0;34m[\u001b[0m\u001b[0;36m0\u001b[0m\u001b[0;34m]\u001b[0m\u001b[0;34m[\u001b[0m\u001b[0;34m'size'\u001b[0m\u001b[0;34m]\u001b[0m\u001b[0;34m[\u001b[0m\u001b[0mt1i\u001b[0m\u001b[0;34m:\u001b[0m\u001b[0mt2i\u001b[0m\u001b[0;34m]\u001b[0m\u001b[0;34m\u001b[0m\u001b[0m\n\u001b[0m",
      "\u001b[0;31mTypeError\u001b[0m: only integer scalar arrays can be converted to a scalar index"
     ]
    }
   ],
   "source": [
    "baseline = data[0]['size'][t1i:t2i]"
   ]
  },
  {
   "cell_type": "code",
   "execution_count": 58,
   "metadata": {
    "collapsed": true
   },
   "outputs": [],
   "source": [
    "t1i = numpy.where(data[0]['trackertime'] == t1)[0][0]\n",
    "t2i = numpy.where(data[0]['trackertime'] == t2)[0][0]"
   ]
  },
  {
   "cell_type": "code",
   "execution_count": 61,
   "metadata": {},
   "outputs": [
    {
     "name": "stdout",
     "output_type": "stream",
     "text": [
      "0\n",
      "200\n"
     ]
    }
   ],
   "source": [
    "print(t1i)\n",
    "print(t2i)"
   ]
  },
  {
   "cell_type": "code",
   "execution_count": 59,
   "metadata": {
    "collapsed": true
   },
   "outputs": [],
   "source": [
    "baseline = data[0]['size'][t1i:t2i]"
   ]
  },
  {
   "cell_type": "code",
   "execution_count": 60,
   "metadata": {},
   "outputs": [
    {
     "data": {
      "text/plain": [
       "array([ 5139.,  5133.,  5132.,  5131.,  5132.,  5131.,  5131.,  5132.,\n",
       "        5128.,  5124.,  5124.,  5128.,  5132.,  5132.,  5132.,  5131.,\n",
       "        5132.,  5133.,  5135.,  5135.,  5133.,  5132.,  5132.,  5133.,\n",
       "        5134.,  5135.,  5136.,  5137.,  5137.,  5137.,  5133.,  5129.,\n",
       "        5127.,  5130.,  5132.,  5132.,  5135.,  5139.,  5142.,  5141.,\n",
       "        5135.,  5129.,  5127.,  5131.,  5132.,  5129.,  5126.,  5131.,\n",
       "        5134.,  5140.,  5142.,  5145.,  5145.,  5143.,  5134.,  5125.,\n",
       "        5121.,  5124.,  5127.,  5134.,  5140.,  5143.,  5138.,  5134.,\n",
       "        5133.,  5131.,  5129.,  5134.,  5140.,  5143.,  5140.,  5139.,\n",
       "        5140.,  5142.,  5147.,  5152.,  5154.,  5154.,  5153.,  5152.,\n",
       "        5147.,  5143.,  5142.,  5142.,  5142.,  5146.,  5148.,  5147.,\n",
       "        5143.,  5141.,  5141.,  5141.,  5137.,  5134.,  5133.,  5136.,\n",
       "        5140.,  5138.,  5134.,  5134.,  5138.,  5141.,  5138.,  5134.,\n",
       "        5133.,  5133.,  5134.,  5133.,  5132.,  5133.,  5136.,  5140.,\n",
       "        5140.,  5141.,  5142.,  5142.,  5142.,  5142.,  5142.,  5141.,\n",
       "        5141.,  5142.,  5143.,  5140.,  5138.,  5138.,  5141.,  5143.,\n",
       "        5145.,  5148.,  5151.,  5152.,  5152.,  5152.,  5152.,  5152.,\n",
       "        5152.,  5152.,  5152.,  5148.,  5145.,  5143.,  5145.,  5148.,\n",
       "        5151.,  5155.,  5157.,  5154.,  5150.,  5147.,  5153.,  5157.,\n",
       "        5159.,  5161.,  5162.,  5163.,  5164.,  5165.,  5164.,  5163.,\n",
       "        5163.,  5164.,  5164.,  5162.,  5160.,  5162.,  5163.,  5163.,\n",
       "        5163.,  5163.,  5164.,  5166.,  5167.,  5168.,  5166.,  5165.,\n",
       "        5165.,  5165.,  5167.,  5172.,  5177.,  5182.,  5184.,  5186.,\n",
       "        5188.,  5185.,  5181.,  5178.,  5178.,  5178.,  5184.,  5190.,\n",
       "        5194.,  5191.,  5189.,  5189.,  5190.,  5191.,  5193.,  5194.])"
      ]
     },
     "execution_count": 60,
     "metadata": {},
     "output_type": "execute_result"
    }
   ],
   "source": [
    "baseline"
   ]
  },
  {
   "cell_type": "code",
   "execution_count": 62,
   "metadata": {
    "collapsed": true
   },
   "outputs": [],
   "source": [
    "trace = data[0]['size'][t2i:]"
   ]
  },
  {
   "cell_type": "markdown",
   "metadata": {},
   "source": [
    "However, you don’t have to use an artificial eye. Pupil size is known to fluctuate over time. In fact, it decreases quite dramatically during the course of most (boring) experiments. Therefore, researchers often calculate the proportional change in pupil size. This is the pupil size divided by the average (or median) pupil size during a baseline period. It reflects the relative increase or decrease in pupil size. You can calculate this by typing the following line in the Interpreter, and hitting Enter.\n",
    "(그러나 인공 눈을 사용할 필요는 없습니다. 동공 크기는 시간이 지남에 따라 변동하는 것으로 알려져 있습니다. 사실, 그것은 대부분의 (지루한) 실험 과정에서 상당히 극적으로 감소합니다. 따라서 연구자들은 종종 동공 크기의 비례 변화를 계산합니다. 이것은 기준선 기간 동안 동공 크기를 평균 (또는 중앙값) 학생 크기로 나눈 값입니다. 이는 학생의 상대적 크기의 증가 또는 감소를 반영합니다. 인터프리터에서 다음 줄을 입력하고 Enter 키를 눌러 계산할 수 있습니다.)"
   ]
  },
  {
   "cell_type": "code",
   "execution_count": 64,
   "metadata": {
    "collapsed": true
   },
   "outputs": [],
   "source": [
    "prop_trace = trace / numpy.median(baseline)"
   ]
  },
  {
   "cell_type": "code",
   "execution_count": 65,
   "metadata": {},
   "outputs": [
    {
     "data": {
      "text/plain": [
       "array([ 1.01108518,  1.01186309,  1.01283547, ...,  1.71781408,\n",
       "        1.71800856,  1.71820303])"
      ]
     },
     "execution_count": 65,
     "metadata": {},
     "output_type": "execute_result"
    }
   ],
   "source": [
    "prop_trace"
   ]
  },
  {
   "cell_type": "code",
   "execution_count": 66,
   "metadata": {},
   "outputs": [
    {
     "data": {
      "image/png": "[encoded data removed]",
      "text/plain": [
       "<matplotlib.figure.Figure at 0x10ebf7f60>"
      ]
     },
     "metadata": {},
     "output_type": "display_data"
    }
   ],
   "source": [
    "pyplot.plot(prop_trace, '-')\n",
    "pyplot.show()"
   ]
  },
  {
   "cell_type": "markdown",
   "metadata": {},
   "source": [
    "# Averaging traces"
   ]
  },
  {
   "cell_type": "markdown",
   "metadata": {},
   "source": [
    "The next step is to loop through all traces, and collect all pupil responses to changes in monitor luminance. These changes would be light-to-dark in black screen trials, and dark-to-light in white screen trials. Open your analysis.py from the previous chapter in an Editor. Add the following lines:\n",
    "(다음 단계는 모든 추적을 반복하고 모니터 밝기의 변화에 대한 모든 동공 응답을 수집하는 것입니다. 이러한 변화는 검은 화면 시합에서 어둡거나 흰색 화면 시연에서 어둡거나 어두울 것입니다)"
   ]
  },
  {
   "cell_type": "code",
   "execution_count": 70,
   "metadata": {
    "collapsed": true
   },
   "outputs": [],
   "source": [
    "# create a new dict to contain traces\n",
    "traces = {'black':[], 'white':[]}\n",
    "\n",
    "# loop through all trials\n",
    "n_trials = len(data)\n",
    "\n",
    "for i in range(n_trials):\n",
    "    \n",
    "    # check the trial type\n",
    "    t0, msg = data[i]['events']['msg'][0]\n",
    "    if 'black' in msg:\n",
    "        trialtype = 'black'\n",
    "    elif 'white' in msg:\n",
    "        trialtype = 'white'\n",
    "    \n",
    "    # get the timestamps of baseline and monitor change\n",
    "    t1, msg = data[i]['events']['msg'][1]\n",
    "    t2, msg = data[i]['events']['msg'][2]\n",
    "    # turn the timestamps into index numbers\n",
    "    t1i = numpy.where(data[i]['trackertime'] == t1)[0][0] # <- here\n",
    "    t2i = numpy.where(data[i]['trackertime'] == t2)[0][0] # <- here\n",
    "    \n",
    "    \n",
    "    \n",
    "    # get the baseline trace\n",
    "    baseline = data[i]['size'][t1i:t2i]\n",
    "    # get the pupil change trace (2000 samples)\n",
    "    trace = data[i]['size'][t2i:t2i+2000]\n",
    "    \n",
    "    # divide the pupil trace by the baseline median\n",
    "    trace = trace / numpy.median(baseline)\n",
    "    \n",
    "    # add the trace to the list for this trial type\n",
    "    traces[trialtype].append(trace)\n"
   ]
  },
  {
   "cell_type": "code",
   "execution_count": 71,
   "metadata": {},
   "outputs": [],
   "source": [
    "# convert lists to NumPy arrays\n",
    "traces['black'] = numpy.array(traces['black'])\n",
    "traces['white'] = numpy.array(traces['white'])\n",
    "\n",
    "# create an empty dict to contain mean and SEM\n",
    "avgs = {'black':{}, 'white':{}}\n",
    "# loop through both conditions\n",
    "for con in ['black', 'white']:\n",
    "    # calculate the number of trials in this condition\n",
    "    n_trials = len(traces[con])\n",
    "    # calculate the average trace in this condition\n",
    "    avgs[con]['M'] = numpy.mean(traces[con], axis=0)\n",
    "    # calculate the standard deviation in this condition\n",
    "    sd = numpy.std(traces[con], axis=0)\n",
    "    # calculate the standard error in this condition\n",
    "    avgs[con]['SEM'] = sd / numpy.sqrt(n_trials)"
   ]
  },
  {
   "cell_type": "code",
   "execution_count": 72,
   "metadata": {
    "collapsed": true
   },
   "outputs": [],
   "source": [
    "# do a t-test on every timepoint\n",
    "t, p = ttest_rel(traces['black'], traces['white'], axis=0)"
   ]
  },
  {
   "cell_type": "code",
   "execution_count": 73,
   "metadata": {
    "collapsed": true
   },
   "outputs": [],
   "source": [
    "# Bonferroni-corrected alpha\n",
    "alpha = 0.05 / len(t)"
   ]
  },
  {
   "cell_type": "code",
   "execution_count": 74,
   "metadata": {},
   "outputs": [
    {
     "data": {
      "image/png": "[encoded data removed]",
      "text/plain": [
       "<matplotlib.figure.Figure at 0x10dece668>"
      ]
     },
     "metadata": {},
     "output_type": "display_data"
    }
   ],
   "source": [
    "# define the plotting colours\n",
    "cols = {'black':'#204a87', 'white':'#c4a000'}\n",
    "# create a new figure with a single axis\n",
    "fig, ax = pyplot.subplots(figsize=(19.2,10.8), dpi=100.0)\n",
    "\n",
    "# loop through the conditions\n",
    "for con in ['black', 'white']:\n",
    "    # create x-values\n",
    "    x = range(len(avgs[con]['M']))\n",
    "    # plot the mean trace\n",
    "    ax.plot(x, avgs[con]['M'], '-', color=cols[con], \\\n",
    "        label=con)\n",
    "    # plot the standard error of the mean shading\n",
    "    y1 = avgs[con]['M'] + avgs[con]['SEM']\n",
    "    y2 = avgs[con]['M'] - avgs[con]['SEM']\n",
    "    ax.fill_between(x, y1, y2, color=cols[con], alpha=0.3)\n",
    "\n",
    "# create y arrays\n",
    "y1 = numpy.zeros(len(x))\n",
    "y2 = numpy.ones(len(x)) * 2\n",
    "# shade significant difference between traces\n",
    "ax.fill_between(x, y1, y2, where=p<alpha, \\\n",
    "    color='#babdb6', alpha=0.2)\n",
    "\n",
    "# set axes limits\n",
    "ax.set_xlim([0, 2000])\n",
    "ax.set_ylim([0, 2])\n",
    "# set axis labels\n",
    "ax.set_xlabel('time (ms)')\n",
    "ax.set_ylabel('proportional pupil size change')\n",
    "# add legend\n",
    "ax.legend(loc='upper left')\n",
    "\n",
    "fig.savefig('pupil_traces.png')"
   ]
  },
  {
   "cell_type": "markdown",
   "metadata": {
    "collapsed": true
   },
   "source": [
    "# 참고자료\n",
    "* [1] Python for Experimental Psychologists - https://www.amazon.com/Python-Experimental-Psychologists-Edwin-Dalmaijer/dp/1138671576\n",
    "* [2] 책 정보 & 코드 - http://www.pygaze.org/pep/\n",
    "* [3] 코드 한번에 받기 - http://www.pygaze.org/resources/downloads/PEP/all-in-one.zip\n",
    "    "
   ]
  }
 ],
 "metadata": {
  "kernelspec": {
   "display_name": "Python 3",
   "language": "python",
   "name": "python3"
  },
  "language_info": {
   "codemirror_mode": {
    "name": "ipython",
    "version": 3
   },
   "file_extension": ".py",
   "mimetype": "text/x-python",
   "name": "python",
   "nbconvert_exporter": "python",
   "pygments_lexer": "ipython3",
   "version": "3.6.2"
  }
 },
 "nbformat": 4,
 "nbformat_minor": 2
}
