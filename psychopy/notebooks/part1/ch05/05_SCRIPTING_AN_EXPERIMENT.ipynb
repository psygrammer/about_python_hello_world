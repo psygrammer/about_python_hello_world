{
 "cells": [
  {
   "cell_type": "markdown",
   "metadata": {},
   "source": [
    "# 5. SCRIPTING AN EXPERIMENT"
   ]
  },
  {
   "cell_type": "markdown",
   "metadata": {},
   "source": [
    "* 어바웃 파이썬 : 9월 - PsychoPy [1]\n",
    "* 김무성"
   ]
  },
  {
   "cell_type": "markdown",
   "metadata": {},
   "source": [
    "# Contents\n",
    "* Constants \n",
    "* Creating Screens \n",
    "* Instructions Screen \n",
    "* A single trial\n",
    "* For loop \n",
    "* Logging values \n",
    "* Display timing \n",
    "* Randomisation\n",
    "* Make some noise"
   ]
  },
  {
   "cell_type": "markdown",
   "metadata": {},
   "source": [
    "#### 준비단계 \n",
    "* ../ 폴더의 setup.ipynb 실행한 후"
   ]
  },
  {
   "cell_type": "code",
   "execution_count": 2,
   "metadata": {},
   "outputs": [
    {
     "name": "stdout",
     "output_type": "stream",
     "text": [
      "05_SCRIPTING_AN_EXPERIMENT.ipynb  \u001b[34mChapter_05\u001b[m\u001b[m/\r\n"
     ]
    }
   ],
   "source": [
    "# 현재 디렉토리 확인 \n",
    "%ls"
   ]
  },
  {
   "cell_type": "code",
   "execution_count": 3,
   "metadata": {},
   "outputs": [
    {
     "name": "stdout",
     "output_type": "stream",
     "text": [
      "\u001b[34mPEP_all-in-one\u001b[m\u001b[m/       all-in-one.zip        new.txt\r\n",
      "README.md             \u001b[34mch03\u001b[m\u001b[m/                 result.txt\r\n",
      "Untitled.ipynb        \u001b[34mch04\u001b[m\u001b[m/                 setup.ipynb\r\n",
      "Untitled1.ipynb       \u001b[34mch05\u001b[m\u001b[m/\r\n",
      "all-in-one (1).zip    hello_psychopy.ipynb\r\n"
     ]
    }
   ],
   "source": [
    "# 실습 관련 책의 코드와 데이터\n",
    "%ls .."
   ]
  },
  {
   "cell_type": "code",
   "execution_count": 4,
   "metadata": {},
   "outputs": [
    {
     "name": "stdout",
     "output_type": "stream",
     "text": [
      "01_Single_trial_PsychoPy.zip      02_Whole_experiment_PsychoPy.zip\r\n",
      "01_Single_trial_PyGaze.zip        02_Whole_experiment_PyGaze.zip\r\n"
     ]
    }
   ],
   "source": [
    "%ls ../PEP_all-in-one/Chapter_05/code/"
   ]
  },
  {
   "cell_type": "code",
   "execution_count": 5,
   "metadata": {
    "collapsed": true
   },
   "outputs": [],
   "source": [
    "# 실습 파일 가져오자\n",
    "%cp -r ../PEP_all-in-one/Chapter_05 ."
   ]
  },
  {
   "cell_type": "code",
   "execution_count": 6,
   "metadata": {},
   "outputs": [
    {
     "name": "stdout",
     "output_type": "stream",
     "text": [
      "05_SCRIPTING_AN_EXPERIMENT.ipynb  \u001b[34mChapter_05\u001b[m\u001b[m/\r\n"
     ]
    }
   ],
   "source": [
    "%ls"
   ]
  },
  {
   "cell_type": "markdown",
   "metadata": {},
   "source": [
    "# Scripts"
   ]
  },
  {
   "cell_type": "code",
   "execution_count": 7,
   "metadata": {},
   "outputs": [
    {
     "name": "stdout",
     "output_type": "stream",
     "text": [
      "/Users/moodern/work/00_aboutpython_psychopy/ch05/Chapter_05/code\n"
     ]
    }
   ],
   "source": [
    "# 작업 디렉토리 이동 \n",
    "%cd Chapter_05/code/"
   ]
  },
  {
   "cell_type": "code",
   "execution_count": 8,
   "metadata": {},
   "outputs": [
    {
     "name": "stdout",
     "output_type": "stream",
     "text": [
      "\u001b[34m01_Single_trial_PsychoPy\u001b[m\u001b[m/         02_Whole_experiment_PsychoPy.zip\r\n",
      "01_Single_trial_PsychoPy.zip      02_Whole_experiment_PyGaze.zip\r\n",
      "01_Single_trial_PyGaze.zip\r\n"
     ]
    }
   ],
   "source": [
    "%ls"
   ]
  },
  {
   "cell_type": "code",
   "execution_count": 9,
   "metadata": {
    "collapsed": true
   },
   "outputs": [],
   "source": [
    "# 압축파일을 풀기위한 패키지\n",
    "import zipfile"
   ]
  },
  {
   "cell_type": "code",
   "execution_count": 10,
   "metadata": {
    "collapsed": true
   },
   "outputs": [],
   "source": [
    "all_zip = zipfile.ZipFile('01_Single_trial_PsychoPy.zip')\n",
    "all_zip.extractall('./')\n",
    "all_zip.close()"
   ]
  },
  {
   "cell_type": "code",
   "execution_count": 11,
   "metadata": {},
   "outputs": [
    {
     "name": "stdout",
     "output_type": "stream",
     "text": [
      "\u001b[34m01_Single_trial_PsychoPy\u001b[m\u001b[m/         02_Whole_experiment_PsychoPy.zip\r\n",
      "01_Single_trial_PsychoPy.zip      02_Whole_experiment_PyGaze.zip\r\n",
      "01_Single_trial_PyGaze.zip\r\n"
     ]
    }
   ],
   "source": [
    "%ls"
   ]
  },
  {
   "cell_type": "code",
   "execution_count": 12,
   "metadata": {},
   "outputs": [
    {
     "name": "stdout",
     "output_type": "stream",
     "text": [
      "/Users/moodern/work/00_aboutpython_psychopy/ch05/Chapter_05/code/01_Single_trial_PsychoPy\n"
     ]
    }
   ],
   "source": [
    "# 작업 디렉토리 이동\n",
    "%cd 01_Single_trial_PsychoPy/"
   ]
  },
  {
   "cell_type": "code",
   "execution_count": 13,
   "metadata": {},
   "outputs": [
    {
     "name": "stdout",
     "output_type": "stream",
     "text": [
      "\u001b[34m__pycache__\u001b[m\u001b[m/   constants.py   constants.pyc  experiment.py\r\n"
     ]
    }
   ],
   "source": [
    "%ls"
   ]
  },
  {
   "cell_type": "markdown",
   "metadata": {},
   "source": [
    "### 실행 방법 1. \n",
    "콘솔창을 열어서 \n",
    "python experiment.py  "
   ]
  },
  {
   "cell_type": "markdown",
   "metadata": {},
   "source": [
    "### 실행 방법 2."
   ]
  },
  {
   "cell_type": "code",
   "execution_count": 14,
   "metadata": {},
   "outputs": [
    {
     "name": "stdout",
     "output_type": "stream",
     "text": [
      "1.2987 \tWARNING \tMonitor specification not found. Creating a temporary one...\r\n",
      "1.3043 \tWARNING \tUser requested fullscreen with size [1920 1080], but screen is actually [1280, 800]. Using actual size\r\n"
     ]
    }
   ],
   "source": [
    "# 노트북에서 직접 실행\n",
    "!python experiment.py"
   ]
  },
  {
   "cell_type": "markdown",
   "metadata": {},
   "source": [
    "### 실행 방법 3."
   ]
  },
  {
   "cell_type": "code",
   "execution_count": 3,
   "metadata": {},
   "outputs": [
    {
     "name": "stdout",
     "output_type": "stream",
     "text": [
      "1.0539 \tWARNING \tMonitor specification not found. Creating a temporary one...\n"
     ]
    }
   ],
   "source": [
    "from psychopy import visual\n",
    "from psychopy.core import wait\n",
    "\n",
    "win = visual.Window()\n",
    "    \n",
    "wait(2)\n",
    "\n",
    "win.close()"
   ]
  },
  {
   "cell_type": "markdown",
   "metadata": {},
   "source": [
    "# Posner cueing task"
   ]
  },
  {
   "cell_type": "markdown",
   "metadata": {},
   "source": [
    "#### 참고자료 \n",
    "* Disorders of Visual Attention - http://psiexp.ss.uci.edu/research/teachingP140C/Lectures2010/2010_Attention_part2.ppt"
   ]
  },
  {
   "cell_type": "markdown",
   "metadata": {},
   "source": [
    "<img src=\"figures/posner.png\" width=600 />"
   ]
  },
  {
   "cell_type": "markdown",
   "metadata": {},
   "source": [
    "# Constants "
   ]
  },
  {
   "cell_type": "markdown",
   "metadata": {},
   "source": [
    "### Time to define some constants! Create a new folder, and open a new Python script: constants.py."
   ]
  },
  {
   "cell_type": "markdown",
   "metadata": {},
   "source": [
    "### Start by defining the constants that you should be familiar with by now:"
   ]
  },
  {
   "cell_type": "markdown",
   "metadata": {},
   "source": [
    "#### PyGaze code"
   ]
  },
  {
   "cell_type": "code",
   "execution_count": 2,
   "metadata": {
    "collapsed": true
   },
   "outputs": [],
   "source": [
    "# the Display size should match the monitor resolution\n",
    "\n",
    "# the Display type should be set to 'psychopy' for this one\n",
    "\n",
    "# foreground and background"
   ]
  },
  {
   "cell_type": "markdown",
   "metadata": {},
   "source": [
    "#### PsychoPy code"
   ]
  },
  {
   "cell_type": "code",
   "execution_count": 4,
   "metadata": {
    "collapsed": true
   },
   "outputs": [],
   "source": [
    "# the Display size should match the monitor resolution\n",
    "\n",
    "# foreground and background"
   ]
  },
  {
   "cell_type": "markdown",
   "metadata": {},
   "source": [
    "### You should also consider the conditions in this experiment. \n",
    "* Or rather: all the things that will vary between trials. \n",
    "* Both the cue and the target can appear on either the left or the right.\n",
    "* There is also the SOA, which could be either 100 or 900 ms. \n",
    "* And then there is the target, which could be an E or an F."
   ]
  },
  {
   "cell_type": "markdown",
   "metadata": {},
   "source": [
    "#### PyGaze code"
   ]
  },
  {
   "cell_type": "code",
   "execution_count": 5,
   "metadata": {
    "collapsed": true
   },
   "outputs": [],
   "source": [
    "# potential cue locations\n",
    "\n",
    "# potential target locations\n",
    "\n",
    "# potential SOAs\n",
    "\n",
    "# potential targets"
   ]
  },
  {
   "cell_type": "markdown",
   "metadata": {},
   "source": [
    "#### PsychoPy code"
   ]
  },
  {
   "cell_type": "code",
   "execution_count": 6,
   "metadata": {
    "collapsed": true
   },
   "outputs": [],
   "source": [
    "# potential cue locations\n",
    "\n",
    "# potential target locations\n",
    "\n",
    "# potential SOAs\n",
    "    \n",
    "# potential targets"
   ]
  },
  {
   "cell_type": "markdown",
   "metadata": {},
   "source": [
    "### In addition, let’s think about the timing of this experiment. Each trial will consist of five different screens shown in Table 5.1."
   ]
  },
  {
   "cell_type": "markdown",
   "metadata": {},
   "source": [
    "<img src=\"figures/table5.1.png\" width=600 />"
   ]
  },
  {
   "cell_type": "markdown",
   "metadata": {},
   "source": [
    "<img src=\"figures/posner.png\" width=600 />"
   ]
  },
  {
   "cell_type": "markdown",
   "metadata": {},
   "source": [
    "### Before you go on to draw these screens, you could put their timing into the constants. Remember, in PyGaze times are in milliseconds, whereas in PsychoPy they are in seconds:\n"
   ]
  },
  {
   "cell_type": "markdown",
   "metadata": {},
   "source": [
    "#### PyGaze code"
   ]
  },
  {
   "cell_type": "code",
   "execution_count": 7,
   "metadata": {
    "collapsed": true
   },
   "outputs": [],
   "source": [
    "# fixation time at the start of a trial\n",
    "\n",
    "# duration of the cue Screen\n",
    "\n",
    "# duration of the feedback Screen\n"
   ]
  },
  {
   "cell_type": "markdown",
   "metadata": {},
   "source": [
    "#### PsychoPy code"
   ]
  },
  {
   "cell_type": "code",
   "execution_count": 8,
   "metadata": {
    "collapsed": true
   },
   "outputs": [],
   "source": [
    "# fixation time at the start of a trial\n",
    "\n",
    "# duration of the cue Screen\n",
    "\n",
    "# duration of the feedback Screen\n"
   ]
  },
  {
   "cell_type": "markdown",
   "metadata": {},
   "source": [
    "# Creating Screens "
   ]
  },
  {
   "cell_type": "markdown",
   "metadata": {},
   "source": [
    "### Open a new Python script file, experiment.py, and save it in the same folder as constants.py."
   ]
  },
  {
   "cell_type": "markdown",
   "metadata": {},
   "source": [
    "### Start the experiment.py script by importing all the libraries you need. Make sure to import everything from constants.py, as you will need most constants defined there:\n"
   ]
  },
  {
   "cell_type": "markdown",
   "metadata": {},
   "source": [
    "#### PyGaze code"
   ]
  },
  {
   "cell_type": "code",
   "execution_count": 9,
   "metadata": {
    "collapsed": true
   },
   "outputs": [],
   "source": [
    "### importing all the libraries you need"
   ]
  },
  {
   "cell_type": "markdown",
   "metadata": {},
   "source": [
    "#### PsychoPy code"
   ]
  },
  {
   "cell_type": "code",
   "execution_count": 10,
   "metadata": {
    "collapsed": true
   },
   "outputs": [],
   "source": [
    "### importing all the libraries you need"
   ]
  },
  {
   "cell_type": "markdown",
   "metadata": {},
   "source": [
    "### Next, create all the instances that you will need throughout the experiment: a Display for addressing the monitor, and a Keyboard to collect responses:"
   ]
  },
  {
   "cell_type": "markdown",
   "metadata": {},
   "source": [
    "#### PyGaze code"
   ]
  },
  {
   "cell_type": "code",
   "execution_count": 11,
   "metadata": {
    "collapsed": true
   },
   "outputs": [],
   "source": [
    "# create a Display to deal with the monitor\n",
    "\n",
    "# create a Keyboard to collect responses"
   ]
  },
  {
   "cell_type": "markdown",
   "metadata": {},
   "source": [
    "#### PsychoPy code"
   ]
  },
  {
   "cell_type": "code",
   "execution_count": 12,
   "metadata": {
    "collapsed": true
   },
   "outputs": [],
   "source": [
    "# create a Window to deal with the monitor"
   ]
  },
  {
   "cell_type": "markdown",
   "metadata": {},
   "source": [
    "# Instructions Screen "
   ]
  },
  {
   "cell_type": "markdown",
   "metadata": {},
   "source": [
    "### This is an easy one: create a new Screen and write some instructions on it (PyGaze), or create a new text stimulus (PsychoPy). "
   ]
  },
  {
   "cell_type": "markdown",
   "metadata": {},
   "source": [
    "#### PyGaze code"
   ]
  },
  {
   "cell_type": "code",
   "execution_count": 13,
   "metadata": {
    "collapsed": true
   },
   "outputs": [],
   "source": [
    "# define the instructions\n",
    "\n",
    "# create a new Screen\n",
    "\n",
    "# draw the instructions on the Screen"
   ]
  },
  {
   "cell_type": "markdown",
   "metadata": {},
   "source": [
    "#### PsychoPy code"
   ]
  },
  {
   "cell_type": "code",
   "execution_count": 14,
   "metadata": {
    "collapsed": true
   },
   "outputs": [],
   "source": [
    "# define the instructions\n",
    "\n",
    "# create a new text stimulus"
   ]
  },
  {
   "cell_type": "markdown",
   "metadata": {},
   "source": [
    "### Fixation screen"
   ]
  },
  {
   "cell_type": "markdown",
   "metadata": {},
   "source": [
    "### A fixation screen is also something you have encountered before.\n",
    "* You can use the Screen’s draw_fixation method to draw a fixation mark of the type of your choice (a fixation cross, in this example),\n",
    "     - which will default to a central position (so you don’t have to specify the pos keyword)."
   ]
  },
  {
   "cell_type": "markdown",
   "metadata": {},
   "source": [
    "#### PyGaze code"
   ]
  },
  {
   "cell_type": "code",
   "execution_count": 15,
   "metadata": {
    "collapsed": true
   },
   "outputs": [],
   "source": [
    "# create a new Screen\n",
    "  \n",
    "# draw a fixation cross in the centre"
   ]
  },
  {
   "cell_type": "markdown",
   "metadata": {},
   "source": [
    "#### PsychoPy code"
   ]
  },
  {
   "cell_type": "code",
   "execution_count": 16,
   "metadata": {
    "collapsed": true
   },
   "outputs": [],
   "source": [
    "# create a Circle stimulus for fixation purposes"
   ]
  },
  {
   "cell_type": "markdown",
   "metadata": {},
   "source": [
    "<img src=\"figures/fig5.2.png\" width=600 />"
   ]
  },
  {
   "cell_type": "markdown",
   "metadata": {},
   "source": [
    "### As in Figure 5.2, two boxes will be visible throughout the entire experiment: \n",
    "* one to the left of the fixation cross, and one to the right. \n",
    "* The locations of these boxes are not defined yet. \n",
    "* Because you will use these locations often, it is a good idea to define them in the constants. \n",
    "* This has the benefit that you can edit them in one place to change your entire experiment at once. \n",
    "* Include the following in constants.py:"
   ]
  },
  {
   "cell_type": "markdown",
   "metadata": {},
   "source": [
    "#### PyGaze code"
   ]
  },
  {
   "cell_type": "code",
   "execution_count": 18,
   "metadata": {
    "collapsed": true
   },
   "outputs": [],
   "source": [
    "# define the boxes' width and height (same number: they're square!)\n",
    "\n",
    "# define the boxes' centre coordinates"
   ]
  },
  {
   "cell_type": "markdown",
   "metadata": {},
   "source": [
    "#### PsychoPy code"
   ]
  },
  {
   "cell_type": "code",
   "execution_count": 17,
   "metadata": {
    "collapsed": true
   },
   "outputs": [],
   "source": [
    "# define the boxes' width and height (same number: they're square!)\n",
    "    \n",
    "# define the boxes' centre coordinates    "
   ]
  },
  {
   "cell_type": "markdown",
   "metadata": {},
   "source": [
    "### Now that you have defined their locations, it is time to draw the boxes on the fixation Screen. \n",
    "* You can draw rectangles by using the Screen’s draw_rect method in PyGaze. \n",
    "* In PsychoPy, you can create two Rect stimuli for the left and right boxes. \n",
    "* Add the following to experiment.py:"
   ]
  },
  {
   "cell_type": "markdown",
   "metadata": {},
   "source": [
    "#### PyGaze code"
   ]
  },
  {
   "cell_type": "code",
   "execution_count": 19,
   "metadata": {
    "collapsed": true
   },
   "outputs": [],
   "source": [
    "# draw the left box\n",
    "\n",
    "# draw the right box"
   ]
  },
  {
   "cell_type": "markdown",
   "metadata": {},
   "source": [
    "#### PsychoPy code"
   ]
  },
  {
   "cell_type": "code",
   "execution_count": 20,
   "metadata": {
    "collapsed": true
   },
   "outputs": [],
   "source": [
    "# create the left box\n",
    "\n",
    "# create the right box"
   ]
  },
  {
   "cell_type": "markdown",
   "metadata": {},
   "source": [
    "### Cue Screen"
   ]
  },
  {
   "cell_type": "markdown",
   "metadata": {},
   "source": [
    "<img src=\"figures/fig5.3.png\" width=600 />"
   ]
  },
  {
   "cell_type": "markdown",
   "metadata": {},
   "source": [
    "* The cue screen will look almost exactly the same as the fixation Screen.\n",
    "* The only difference is that one of the two boxes will have a thicker outline. \n",
    "* Because the cue can appear on either the left or the right side, you will have to prepare both! \n",
    "* The most elegant way to do this, is by creating a dict to hold screens or stimuli for both options:"
   ]
  },
  {
   "cell_type": "markdown",
   "metadata": {},
   "source": [
    "#### PyGaze code"
   ]
  },
  {
   "cell_type": "code",
   "execution_count": 21,
   "metadata": {
    "collapsed": true
   },
   "outputs": [],
   "source": [
    "# create a dict with two new Screens for the cues"
   ]
  },
  {
   "cell_type": "markdown",
   "metadata": {},
   "source": [
    "#### PsychoPy code"
   ]
  },
  {
   "cell_type": "code",
   "execution_count": null,
   "metadata": {
    "collapsed": true
   },
   "outputs": [],
   "source": [
    "# create an empty dict to hold both cue stimuli"
   ]
  },
  {
   "cell_type": "markdown",
   "metadata": {},
   "source": [
    "### As was mentioned before: the cue screens look almost exactly like the fixation screen. Fortunately, PyGaze allows you to copy one Screen onto another, by using the Screen class’ copy method. \n",
    "* After copying the fixation Screen to both cue Screens, all that is left to do is to draw the thicker outline for the cue (a penwidth of 8 instead of 3).\n",
    "\n",
    "### In PsychoPy, you can define the stimuli for the left and the right cue separately. \n",
    "* You will have to redraw all the basic stimuli (fixation mark, left box, and right box) between each Window flip, though."
   ]
  },
  {
   "cell_type": "markdown",
   "metadata": {},
   "source": [
    "#### PyGaze code"
   ]
  },
  {
   "cell_type": "code",
   "execution_count": 22,
   "metadata": {
    "collapsed": true
   },
   "outputs": [],
   "source": [
    "# copy the fixation Screen to both cue Screens\n",
    "\n",
    "# draw the cue boxes with thicker penwidths"
   ]
  },
  {
   "cell_type": "markdown",
   "metadata": {},
   "source": [
    "#### PsychoPy code"
   ]
  },
  {
   "cell_type": "code",
   "execution_count": 23,
   "metadata": {
    "collapsed": true
   },
   "outputs": [],
   "source": [
    "# create the left box\n",
    "\n",
    "# create the right box"
   ]
  },
  {
   "cell_type": "markdown",
   "metadata": {},
   "source": [
    "### Target screen"
   ]
  },
  {
   "cell_type": "code",
   "execution_count": null,
   "metadata": {
    "collapsed": true
   },
   "outputs": [],
   "source": [
    "# 교재 참조할 것"
   ]
  },
  {
   "cell_type": "markdown",
   "metadata": {},
   "source": [
    "<img src='figures/fig5.4.png' width=600 />"
   ]
  },
  {
   "cell_type": "markdown",
   "metadata": {},
   "source": [
    "### Feedback screen"
   ]
  },
  {
   "cell_type": "code",
   "execution_count": null,
   "metadata": {
    "collapsed": true
   },
   "outputs": [],
   "source": [
    "# 교재 참조할 것"
   ]
  },
  {
   "cell_type": "markdown",
   "metadata": {},
   "source": [
    "<img src=\"figures/fig5.5.png\" width=600 />"
   ]
  },
  {
   "cell_type": "markdown",
   "metadata": {},
   "source": [
    "# A single trial"
   ]
  },
  {
   "cell_type": "markdown",
   "metadata": {},
   "source": [
    "### In this section, you will continue to work on experiment.py. You just created all the Screens or stimuli, and earlier you set the timing for each screen in constants.py, so now you should be ready to create a single trial and run through it."
   ]
  },
  {
   "cell_type": "markdown",
   "metadata": {},
   "source": [
    "### Before the trials start, you will need to add the instructions (otherwise participants will not get what you want them to do). This is why you created the instructions screen:\n"
   ]
  },
  {
   "cell_type": "markdown",
   "metadata": {},
   "source": [
    "#### PyGaze code"
   ]
  },
  {
   "cell_type": "code",
   "execution_count": 24,
   "metadata": {
    "collapsed": true
   },
   "outputs": [],
   "source": [
    "# present the instructions\n",
    "\n",
    "# wait for any old keypress"
   ]
  },
  {
   "cell_type": "markdown",
   "metadata": {},
   "source": [
    "#### PsychoPy code"
   ]
  },
  {
   "cell_type": "code",
   "execution_count": null,
   "metadata": {
    "collapsed": true
   },
   "outputs": [],
   "source": [
    "# present the instructions\n",
    "\n",
    "# wait for any old keypress"
   ]
  },
  {
   "cell_type": "markdown",
   "metadata": {},
   "source": [
    "### The keypress at the end is to make sure participants have time to read the instructions. They can press any key to start the experiment after they finish reading. Each trial will begin with the fixation screen:"
   ]
  },
  {
   "cell_type": "markdown",
   "metadata": {},
   "source": [
    "#### PyGaze code"
   ]
  },
  {
   "cell_type": "code",
   "execution_count": 25,
   "metadata": {
    "collapsed": true
   },
   "outputs": [],
   "source": [
    "# show the fixation Screen\n",
    "\n",
    "# wait for a bit"
   ]
  },
  {
   "cell_type": "markdown",
   "metadata": {},
   "source": [
    "#### PsychoPy code"
   ]
  },
  {
   "cell_type": "code",
   "execution_count": null,
   "metadata": {
    "collapsed": true
   },
   "outputs": [],
   "source": [
    "# draw the fixation mark, and the left and right boxes\n",
    "\n",
    "# update the monitor\n",
    "\n",
    "# wait for a bit"
   ]
  },
  {
   "cell_type": "markdown",
   "metadata": {},
   "source": [
    "### Let’s continue with the cue:"
   ]
  },
  {
   "cell_type": "markdown",
   "metadata": {},
   "source": [
    "#### PyGaze code"
   ]
  },
  {
   "cell_type": "code",
   "execution_count": 26,
   "metadata": {
    "collapsed": true
   },
   "outputs": [],
   "source": [
    "# show a cue Screen\n",
    "\n",
    "# wait for a little bit"
   ]
  },
  {
   "cell_type": "markdown",
   "metadata": {},
   "source": [
    "#### PsychoPy code"
   ]
  },
  {
   "cell_type": "code",
   "execution_count": 27,
   "metadata": {
    "collapsed": true
   },
   "outputs": [],
   "source": [
    "# draw the fixation mark, and the left and right boxes\n",
    "\n",
    "# draw a cue\n",
    "\n",
    "# update the monitor\n",
    "\n",
    "# wait for a little bit"
   ]
  },
  {
   "cell_type": "markdown",
   "metadata": {},
   "source": [
    "### This will show the cue on the left, and then wait for the very brief cue duration, before moving on to another fixation display:"
   ]
  },
  {
   "cell_type": "markdown",
   "metadata": {},
   "source": [
    "#### PyGaze code"
   ]
  },
  {
   "cell_type": "code",
   "execution_count": 28,
   "metadata": {
    "collapsed": true
   },
   "outputs": [],
   "source": [
    "# show the fixation Screen again\n",
    "\n",
    "# wait for the SOA minus the cue duration"
   ]
  },
  {
   "cell_type": "markdown",
   "metadata": {},
   "source": [
    "#### PsychoPy code"
   ]
  },
  {
   "cell_type": "code",
   "execution_count": 29,
   "metadata": {
    "collapsed": true
   },
   "outputs": [],
   "source": [
    "# draw the fixation mark, and the left and right boxes\n",
    "\n",
    "# update the monitor\n",
    "\n",
    "# wait for the SOA minus the cue duration"
   ]
  },
  {
   "cell_type": "markdown",
   "metadata": {},
   "source": [
    "### You subtract the cue duration from the SOA (100 milliseconds, in this example), because it concerns the stimulus onset asynchrony: the difference between the onsets of the cue and the target. Speaking of which:\n"
   ]
  },
  {
   "cell_type": "markdown",
   "metadata": {},
   "source": [
    "#### PyGaze code"
   ]
  },
  {
   "cell_type": "code",
   "execution_count": 32,
   "metadata": {
    "collapsed": true
   },
   "outputs": [],
   "source": [
    "# show a target Screen\n"
   ]
  },
  {
   "cell_type": "markdown",
   "metadata": {},
   "source": [
    "#### PsychoPy code"
   ]
  },
  {
   "cell_type": "code",
   "execution_count": 33,
   "metadata": {
    "collapsed": true
   },
   "outputs": [],
   "source": [
    "# draw the fixation mark, and the left and right boxes\n",
    "\n",
    "# draw a target stimulus\n",
    "\n",
    "# update the monitor"
   ]
  },
  {
   "cell_type": "markdown",
   "metadata": {},
   "source": [
    "### Which brings you to collecting a response. The only allowed keys are ‘e’ and ‘f’. Their names are lower- case letters, so they need to be converted to upper-case to be compared to the upper-cased targets:\n"
   ]
  },
  {
   "cell_type": "markdown",
   "metadata": {},
   "source": [
    "#### PyGaze code"
   ]
  },
  {
   "cell_type": "code",
   "execution_count": 34,
   "metadata": {
    "collapsed": true
   },
   "outputs": [],
   "source": [
    "# wait for a response\n",
    "\n",
    "# wait for a response"
   ]
  },
  {
   "cell_type": "markdown",
   "metadata": {},
   "source": [
    "#### PsychoPy code"
   ]
  },
  {
   "cell_type": "code",
   "execution_count": 35,
   "metadata": {
    "collapsed": true
   },
   "outputs": [],
   "source": [
    "# wait for a response\n",
    "\n",
    "# select the first response from the response list\n",
    "\n",
    "# turn the lowercase response into uppercase"
   ]
  },
  {
   "cell_type": "markdown",
   "metadata": {},
   "source": [
    "### After the response comes in, it’s time to compare the response with the actual target (‘E’ in the current example). You can also calculate the reaction time: it is the difference between the onset of the target and the time of the key press:"
   ]
  },
  {
   "cell_type": "markdown",
   "metadata": {},
   "source": [
    "#### Same code for PyGaze and PsychoPy"
   ]
  },
  {
   "cell_type": "code",
   "execution_count": 36,
   "metadata": {
    "collapsed": true
   },
   "outputs": [],
   "source": [
    "# check if the response was correct"
   ]
  },
  {
   "cell_type": "markdown",
   "metadata": {},
   "source": [
    "### The final part of a single trial, is to give the participant feedback. The feedback Screens and stimuli are coded 0 (incorrect) and 1 (correct). This coding corresponds with the value of your correct variable, so you can use that to select the appropriate feedback Screen or stimulus:"
   ]
  },
  {
   "cell_type": "markdown",
   "metadata": {},
   "source": [
    "#### PyGaze code"
   ]
  },
  {
   "cell_type": "code",
   "execution_count": 37,
   "metadata": {
    "collapsed": true
   },
   "outputs": [],
   "source": [
    "# show the appropriate feedback Screen\n",
    "\n",
    "# wait for a bit to allow the participant to see the feedback"
   ]
  },
  {
   "cell_type": "markdown",
   "metadata": {},
   "source": [
    "#### PsychoPy code"
   ]
  },
  {
   "cell_type": "code",
   "execution_count": 38,
   "metadata": {
    "collapsed": true
   },
   "outputs": [],
   "source": [
    "# show the appropriate feedback stimulus\n",
    "\n",
    "# wait for a bit to allow the participant to see the feedback"
   ]
  },
  {
   "cell_type": "markdown",
   "metadata": {},
   "source": [
    "### And after all this, it is time to close the Display:"
   ]
  },
  {
   "cell_type": "markdown",
   "metadata": {},
   "source": [
    "#### Same code for PyGaze and PsychoPy"
   ]
  },
  {
   "cell_type": "code",
   "execution_count": 39,
   "metadata": {
    "collapsed": true
   },
   "outputs": [],
   "source": [
    "# shut down the experiment"
   ]
  },
  {
   "cell_type": "markdown",
   "metadata": {},
   "source": [
    "# For loop "
   ]
  },
  {
   "cell_type": "markdown",
   "metadata": {},
   "source": [
    "### At this point, you have only created a single trial. If you want a whole experiment, you could copy-paste the single-trial code about 200 times. Or you could read on a bit, and learn about the magic of the for loop."
   ]
  },
  {
   "cell_type": "code",
   "execution_count": null,
   "metadata": {
    "collapsed": true
   },
   "outputs": [],
   "source": [
    "for i in range(10) :\n",
    "    print(i)"
   ]
  },
  {
   "cell_type": "code",
   "execution_count": null,
   "metadata": {
    "collapsed": true
   },
   "outputs": [],
   "source": [
    "import time\n",
    "    for i in range(10):\n",
    "        print(i)\n",
    "        time.sleep(1)"
   ]
  },
  {
   "cell_type": "code",
   "execution_count": null,
   "metadata": {
    "collapsed": true
   },
   "outputs": [],
   "source": [
    "my_letters = ['k', 'i', 'e', 'k', 'e', 'b', 'o', 'e']\n",
    "for letter in my_letters:\n",
    "    print(letter)\n",
    "    time.sleep(1)"
   ]
  },
  {
   "cell_type": "code",
   "execution_count": null,
   "metadata": {
    "collapsed": true
   },
   "outputs": [],
   "source": [
    "a = [ [1, 2, 3], ['a', 'b', 'c']]\n",
    "for l in a:\n",
    "    print(l)\n",
    "    time.sleep(1)"
   ]
  },
  {
   "cell_type": "code",
   "execution_count": null,
   "metadata": {
    "collapsed": true
   },
   "outputs": [],
   "source": [
    "a = [ [1, 2, 3], ['a', 'b', 'c']]\n",
    "for l in a:\n",
    "    for thing in l:\n",
    "        print(thing)\n",
    "        time.sleep(1)"
   ]
  },
  {
   "cell_type": "markdown",
   "metadata": {},
   "source": [
    "### Perhaps a more structured way of moving through nested lists, is by using the range function to for- loop through all their index numbers:"
   ]
  },
  {
   "cell_type": "code",
   "execution_count": null,
   "metadata": {
    "collapsed": true
   },
   "outputs": [],
   "source": [
    "a = [ [1, 2, 3], ['a', 'b', 'c']]\n",
    "for i in range(len(a)):\n",
    "    for j in range(len(a[i])):\n",
    "        print(a[i][j])\n",
    "        time.sleep(1)"
   ]
  },
  {
   "cell_type": "markdown",
   "metadata": {},
   "source": [
    "### For loop through trials"
   ]
  },
  {
   "cell_type": "markdown",
   "metadata": {},
   "source": [
    "### Close the Interpreter and return to the experiment.py script from the ‘A single trial’ section. To illustrate the power of a for loop in experiment programming, add the following code to experiment.py. Place it before the first disp.fill(fixscr) line:"
   ]
  },
  {
   "cell_type": "raw",
   "metadata": {},
   "source": [
    "for cueside in ['left', 'right']:"
   ]
  },
  {
   "cell_type": "markdown",
   "metadata": {},
   "source": [
    "### After indenting your code, change the line disp.fill(cuescr['left']) (PyGaze) or the line cuestimp['left'].draw() (PsychoPy) to:"
   ]
  },
  {
   "cell_type": "markdown",
   "metadata": {},
   "source": [
    "#### PyGaze code"
   ]
  },
  {
   "cell_type": "code",
   "execution_count": null,
   "metadata": {
    "collapsed": true
   },
   "outputs": [],
   "source": [
    "#for cueside in ['left', 'right']:\n",
    "#    disp.fill(cuescr[cueside])"
   ]
  },
  {
   "cell_type": "markdown",
   "metadata": {},
   "source": [
    "#### PsychoPy code"
   ]
  },
  {
   "cell_type": "code",
   "execution_count": null,
   "metadata": {
    "collapsed": true
   },
   "outputs": [],
   "source": [
    "#for cueside in ['left', 'right']:\n",
    "#    cuestim[cueside].draw()"
   ]
  },
  {
   "cell_type": "markdown",
   "metadata": {},
   "source": [
    "### For loop through conditions"
   ]
  },
  {
   "cell_type": "code",
   "execution_count": null,
   "metadata": {
    "collapsed": true
   },
   "outputs": [],
   "source": [
    "# trial dict\n",
    "trial = {'cueside':'left', \n",
    "         'tarside':'right', \n",
    "         'target':'E', \n",
    "         'soa':100}"
   ]
  },
  {
   "cell_type": "markdown",
   "metadata": {},
   "source": [
    "### Of course, you do not want only one trial dict. You want a dict for every single (unique) trial! You could collect all of these dicts in a list. This list could start out empty, and fill up when you loop through all variable parameters. \n",
    "\n",
    "### That is: for each unique combination of parameters, you append a new trial dict to a list."
   ]
  },
  {
   "cell_type": "code",
   "execution_count": null,
   "metadata": {
    "collapsed": true
   },
   "outputs": [],
   "source": [
    "trialals = []\n",
    "\n",
    "trial_1 = {'cueside':'left', \n",
    "         'tarside':'right', \n",
    "         'target':'E', \n",
    "         'soa':100}\n",
    "\n",
    "trial_2 = {'cueside':'left', \n",
    "         'tarside':'right', \n",
    "         'target':'E', \n",
    "         'soa':100}\n",
    "\n",
    "trialals.append(trial_1)\n",
    "trialals.append(trial_2)"
   ]
  },
  {
   "cell_type": "markdown",
   "metadata": {},
   "source": [
    "#### Same code for PyGaze and PsychoPy"
   ]
  },
  {
   "cell_type": "code",
   "execution_count": null,
   "metadata": {
    "collapsed": true
   },
   "outputs": [],
   "source": [
    "# create an empty list to contain all unique trials\n",
    "alltrials = []\n",
    "\n",
    "# loop through all parameters\n",
    "for cueside in CUELOCS:\n",
    "    for tarside in TARLOCS:\n",
    "        for soa in SOAS:\n",
    "            for tar in TARGETS:\n",
    "                # create a unique trial dict\n",
    "                trial = {'cueside':cueside,\n",
    "                         'tarside':tarside,\n",
    "                         'target':tar,\n",
    "                         'soa':soa}\n",
    "                # add the trial dict to the list\n",
    "                alltrials.append(trial)"
   ]
  },
  {
   "cell_type": "markdown",
   "metadata": {},
   "source": [
    "### This code will create a list of all 16 unique trials. Before you can see them in action, you will need to make some further changes, though. Start with the line that reads for cueside in ['left', 'right']: and replace it with:"
   ]
  },
  {
   "cell_type": "markdown",
   "metadata": {},
   "source": [
    "#### Same code for PyGaze and PsychoPy"
   ]
  },
  {
   "cell_type": "raw",
   "metadata": {},
   "source": [
    "for trial in alltrials:"
   ]
  },
  {
   "cell_type": "markdown",
   "metadata": {},
   "source": [
    "### This for loop will run through the entire alltrials list. On every iteration of the loop, the variable trial will refer to the value of a new trial dict. This is great, because it means that you can use trial['cueside'] to refer to the location of the cue, or trial['soa'] to refer to the SOA. Of course, you will need to make some changes in your code to reference the trial dict.\n",
    "\n",
    "### Replace disp.fill(cuescr[cueside]) (PyGaze) or cuestim[cueside].draw() with:"
   ]
  },
  {
   "cell_type": "markdown",
   "metadata": {},
   "source": [
    "#### PyGaze code"
   ]
  },
  {
   "cell_type": "code",
   "execution_count": null,
   "metadata": {
    "collapsed": true
   },
   "outputs": [],
   "source": [
    "for trial in alltrials:\n",
    "    disp.fill(cuescr[trial['cueside']])"
   ]
  },
  {
   "cell_type": "markdown",
   "metadata": {},
   "source": [
    "#### PsychoPy code"
   ]
  },
  {
   "cell_type": "code",
   "execution_count": null,
   "metadata": {
    "collapsed": true
   },
   "outputs": [],
   "source": [
    "for trial in alltrials:\n",
    "    cuestim[trial['cueside']].draw()"
   ]
  },
  {
   "cell_type": "code",
   "execution_count": null,
   "metadata": {
    "collapsed": true
   },
   "outputs": [],
   "source": [
    "#### 그 외에 다른 부분들도 이와 비슷하게 바꾼다. 책을 참조 할 것."
   ]
  },
  {
   "cell_type": "markdown",
   "metadata": {},
   "source": [
    "# Logging values "
   ]
  },
  {
   "cell_type": "markdown",
   "metadata": {},
   "source": [
    "# Display timing "
   ]
  },
  {
   "cell_type": "markdown",
   "metadata": {},
   "source": [
    "# Randomisation"
   ]
  },
  {
   "cell_type": "markdown",
   "metadata": {},
   "source": [
    "# Make some noise"
   ]
  },
  {
   "cell_type": "markdown",
   "metadata": {
    "collapsed": true
   },
   "source": [
    "# 참고자료\n",
    "* [1] Python for Experimental Psychologists - https://www.amazon.com/Python-Experimental-Psychologists-Edwin-Dalmaijer/dp/1138671576\n",
    "* [2] 책 정보 & 코드 - http://www.pygaze.org/pep/\n",
    "* [3] 코드 한번에 받기 - http://www.pygaze.org/resources/downloads/PEP/all-in-one.zip\n",
    "    "
   ]
  }
 ],
 "metadata": {
  "kernelspec": {
   "display_name": "Python 2",
   "language": "python",
   "name": "python2"
  },
  "language_info": {
   "codemirror_mode": {
    "name": "ipython",
    "version": 2
   },
   "file_extension": ".py",
   "mimetype": "text/x-python",
   "name": "python",
   "nbconvert_exporter": "python",
   "pygments_lexer": "ipython2",
   "version": "2.7.13"
  }
 },
 "nbformat": 4,
 "nbformat_minor": 2
}
