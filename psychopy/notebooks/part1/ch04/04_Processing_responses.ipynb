{
 "cells": [
  {
   "cell_type": "markdown",
   "metadata": {},
   "source": [
    "# 4 Processing responses"
   ]
  },
  {
   "cell_type": "markdown",
   "metadata": {},
   "source": [
    "* 어바웃 파이썬 : 8월 - PsychoPy [1]\n",
    "* 김무성"
   ]
  },
  {
   "cell_type": "markdown",
   "metadata": {},
   "source": [
    "# Contents\n",
    "* Are peripherals accurate enough? \n",
    "* Keyboard input\n",
    "* If statements\n",
    "* While loops\n",
    "* Make some noise"
   ]
  },
  {
   "cell_type": "markdown",
   "metadata": {},
   "source": [
    "#### 준비단계 \n",
    "* ../ 폴더의 setup.ipynb 실행한 후"
   ]
  },
  {
   "cell_type": "code",
   "execution_count": 1,
   "metadata": {},
   "outputs": [
    {
     "name": "stdout",
     "output_type": "stream",
     "text": [
      "04_Processing_responses.ipynb\r\n"
     ]
    }
   ],
   "source": [
    "# 현재 디렉토리 확인 \n",
    "%ls"
   ]
  },
  {
   "cell_type": "code",
   "execution_count": 2,
   "metadata": {},
   "outputs": [
    {
     "name": "stdout",
     "output_type": "stream",
     "text": [
      "\u001b[34mPEP_all-in-one\u001b[m\u001b[m/       \u001b[34mch03\u001b[m\u001b[m/                 setup.ipynb\r\n",
      "README.md             \u001b[34mch04\u001b[m\u001b[m/\r\n",
      "all-in-one.zip        hello_psychopy.ipynb\r\n"
     ]
    }
   ],
   "source": [
    "# 실습 관련 책의 코드와 데이터\n",
    "%ls .."
   ]
  },
  {
   "cell_type": "code",
   "execution_count": 3,
   "metadata": {},
   "outputs": [
    {
     "name": "stdout",
     "output_type": "stream",
     "text": [
      "01_Keyboard_input_PsychoPy.zip  02_While_Loops_PsychoPy.zip\r\n",
      "01_Keyboard_input_PyGaze.zip    02_While_Loops_PyGaze.zip\r\n"
     ]
    }
   ],
   "source": [
    "%ls ../PEP_all-in-one/Chapter_04/code/"
   ]
  },
  {
   "cell_type": "code",
   "execution_count": 4,
   "metadata": {
    "collapsed": true
   },
   "outputs": [],
   "source": [
    "# 실습 파일 가져오자\n",
    "%cp -r ../PEP_all-in-one/Chapter_04 ."
   ]
  },
  {
   "cell_type": "code",
   "execution_count": 5,
   "metadata": {},
   "outputs": [
    {
     "name": "stdout",
     "output_type": "stream",
     "text": [
      "04_Processing_responses.ipynb  \u001b[34mChapter_04\u001b[m\u001b[m/\r\n"
     ]
    }
   ],
   "source": [
    "%ls"
   ]
  },
  {
   "cell_type": "markdown",
   "metadata": {},
   "source": [
    "# Scripts"
   ]
  },
  {
   "cell_type": "code",
   "execution_count": 6,
   "metadata": {},
   "outputs": [
    {
     "name": "stdout",
     "output_type": "stream",
     "text": [
      "/Users/moodern/work/00_aboutpython_psychopy/ch04/Chapter_04/code\n"
     ]
    }
   ],
   "source": [
    "# 작업 디렉토리 이동 \n",
    "%cd Chapter_04/code/"
   ]
  },
  {
   "cell_type": "code",
   "execution_count": 7,
   "metadata": {},
   "outputs": [
    {
     "name": "stdout",
     "output_type": "stream",
     "text": [
      "01_Keyboard_input_PsychoPy.zip  02_While_Loops_PsychoPy.zip\r\n",
      "01_Keyboard_input_PyGaze.zip    02_While_Loops_PyGaze.zip\r\n"
     ]
    }
   ],
   "source": [
    "%ls"
   ]
  },
  {
   "cell_type": "code",
   "execution_count": 8,
   "metadata": {
    "collapsed": true
   },
   "outputs": [],
   "source": [
    "# 압축파일을 풀기위한 패키지\n",
    "import zipfile"
   ]
  },
  {
   "cell_type": "code",
   "execution_count": 9,
   "metadata": {
    "collapsed": true
   },
   "outputs": [],
   "source": [
    "all_zip = zipfile.ZipFile('01_Keyboard_input_PsychoPy.zip')\n",
    "all_zip.extractall('./')\n",
    "all_zip.close()"
   ]
  },
  {
   "cell_type": "code",
   "execution_count": 10,
   "metadata": {},
   "outputs": [
    {
     "name": "stdout",
     "output_type": "stream",
     "text": [
      "\u001b[34m01_Keyboard_input_PsychoPy\u001b[m\u001b[m/     02_While_Loops_PsychoPy.zip\r\n",
      "01_Keyboard_input_PsychoPy.zip  02_While_Loops_PyGaze.zip\r\n",
      "01_Keyboard_input_PyGaze.zip\r\n"
     ]
    }
   ],
   "source": [
    "%ls"
   ]
  },
  {
   "cell_type": "code",
   "execution_count": 11,
   "metadata": {},
   "outputs": [
    {
     "name": "stdout",
     "output_type": "stream",
     "text": [
      "/Users/moodern/work/00_aboutpython_psychopy/ch04/Chapter_04/code/01_Keyboard_input_PsychoPy\n"
     ]
    }
   ],
   "source": [
    "# 작업 디렉토리 이동\n",
    "%cd 01_Keyboard_input_PsychoPy/"
   ]
  },
  {
   "cell_type": "code",
   "execution_count": 12,
   "metadata": {},
   "outputs": [
    {
     "name": "stdout",
     "output_type": "stream",
     "text": [
      "constants.py   experiment.py\r\n"
     ]
    }
   ],
   "source": [
    "%ls"
   ]
  },
  {
   "cell_type": "markdown",
   "metadata": {},
   "source": [
    "### 실행 방법 1. \n",
    "콘솔창을 열어서 \n",
    "python experiment.py  "
   ]
  },
  {
   "cell_type": "markdown",
   "metadata": {},
   "source": [
    "### 실행 방법 2."
   ]
  },
  {
   "cell_type": "code",
   "execution_count": 13,
   "metadata": {},
   "outputs": [
    {
     "name": "stdout",
     "output_type": "stream",
     "text": [
      "1.1985 \tWARNING \tpyo audio lib was requested but not loaded: ImportError('No module named pyo',)\r\n",
      "1.1999 \tWARNING \tMonitor specification not found. Creating a temporary one...\r\n",
      "1.2008 \tWARNING \tUser requested fullscreen with size [1920 1080], but screen is actually [1280, 800]. Using actual size\r\n"
     ]
    }
   ],
   "source": [
    "# 노트북에서 직접 실행\n",
    "!python experiment.py"
   ]
  },
  {
   "cell_type": "markdown",
   "metadata": {},
   "source": [
    "### 실행 방법 3."
   ]
  },
  {
   "cell_type": "code",
   "execution_count": 14,
   "metadata": {},
   "outputs": [
    {
     "name": "stdout",
     "output_type": "stream",
     "text": [
      "1.1024 \tWARNING \tpyo audio lib was requested but not loaded: ImportError('No module named pyo',)\n",
      "1.1039 \tWARNING \tMonitor specification not found. Creating a temporary one...\n",
      "1.1047 \tWARNING \tUser requested fullscreen with size [1920 1080], but screen is actually [1280, 800]. Using actual size\n"
     ]
    }
   ],
   "source": [
    "import random\n",
    "from constants import *\n",
    "from psychopy.visual import Window, TextStim\n",
    "from psychopy.event import waitKeys\n",
    "from psychopy.sound import Sound\n",
    "\n",
    "# create a new Display instance (to interact with the monitor)\n",
    "disp = Window(size=DISPSIZE, units='pix', fullscr=True)\n",
    "\n",
    "# create two Sounds: one for nice and one for stern feedback\n",
    "high = Sound(value=4000, secs=0.5)\n",
    "low = Sound(value=400, secs=0.5)\n",
    "\n",
    "# a list of vowels\n",
    "vowels = ['a', 'e', 'i', 'o', 'u', 'y']\n",
    "\n",
    "# randomly choose one vowel\n",
    "letter = random.choice(vowels)\n",
    "\n",
    "# create a TextStim for the vowel\n",
    "vowelstim = TextStim(disp, text=letter, height=128)\n",
    "\n",
    "# draw the text stimulus\n",
    "vowelstim.draw()\n",
    "# update the monitor\n",
    "disp.flip()\n",
    "\n",
    "# wait for a response\n",
    "resplist = waitKeys(maxWait=float('inf'), keyList=vowels, \\\n",
    "    timeStamped=True)\n",
    "# select the first response from the list\n",
    "key, presstime = resplist[0]\n",
    "\n",
    "# check if the pressed key matches the displayed letter\n",
    "if key == letter:\n",
    "    correct = 1\n",
    "else:\n",
    "    correct = 0\n",
    "\n",
    "# on a correct response...\n",
    "if correct:\n",
    "    # ...provide nice feedback\n",
    "    feedback = 'Well done!'\n",
    "    # (-1, 1, -1) is green\n",
    "    fbcolour = (-1, 1, -1)\n",
    "# on an incorrect response...\n",
    "else:\n",
    "    # ...provide nasty feedback\n",
    "    feedback = 'You suck!'\n",
    "    # (1, -1, -1) is red\n",
    "    fbcolour = (1, -1, -1)\n",
    "\n",
    "# construct an informative string by using variables\n",
    "extrafb = 'The vowel was %s, and you typed %s.' \\\n",
    "    % (letter, key)\n",
    "\n",
    "# create a stimulus for the feedback text\n",
    "fbstim = TextStim(disp, text=feedback, color=fbcolour, \\\n",
    "    height=24)\n",
    "\n",
    "# determine the position of the extra feedback\n",
    "# (at half the screen width, and 60% of the screen height)\n",
    "extrafbpos = (0, int(DISPSIZE[1]*-0.1))\n",
    "# create a stimulus for the extra feedback\n",
    "extrafbstim = TextStim(disp, text=extrafb, pos=extrafbpos, \\\n",
    "    height=24)\n",
    "\n",
    "# show the feedback\n",
    "fbstim.draw()\n",
    "extrafbstim.draw()\n",
    "disp.flip()\n",
    "\n",
    "# on a correct response...\n",
    "if correct:\n",
    "    # ...play the high sine Sound\n",
    "    high.play()\n",
    "# on an incorrect response...\n",
    "else:\n",
    "    # ...play the low sine Sound\n",
    "    low.play()\n",
    "\n",
    "# wait for any keypress\n",
    "waitKeys(maxWait=float('inf'), keyList=None)\n",
    "\n",
    "# close the Display\n",
    "disp.close()"
   ]
  },
  {
   "cell_type": "markdown",
   "metadata": {},
   "source": [
    "# Are peripherals accurate enough?"
   ]
  },
  {
   "cell_type": "markdown",
   "metadata": {},
   "source": [
    "There are researchers who argue that with timing imprecisions of several milliseconds, one cannot investigate mental processes that sometimes occur only during a few milliseconds. Therefore, they buy expensive devices (often connected in more intricate ways then USB) with extremely high polling rates to achieve ‘millisecond accuracy’.\n",
    "\n",
    "So are they right? Yes, but only if the participants they were testing were free from timing imprecision. As all cognitive scientists know, people are not so consistent in their response times. In fact, people are so inconsistent that we need a lot of trials to accurately measure the distribution of their response times. This human timing inaccuracy is way higher than the timing inaccuracy of computer peripherals. <font color=\"red\">The bottom line is that using keyboards is perfectly fine in most experimental designs</font>. For a more in-depth discussion, please read Damian (2010).\n"
   ]
  },
  {
   "cell_type": "markdown",
   "metadata": {},
   "source": [
    "# Keyboard input"
   ]
  },
  {
   "cell_type": "code",
   "execution_count": 26,
   "metadata": {},
   "outputs": [
    {
     "data": {
      "text/plain": [
       "u'/Users/moodern/work/00_aboutpython_psychopy/ch04/Chapter_04/code/01_Keyboard_input_PsychoPy'"
      ]
     },
     "execution_count": 26,
     "metadata": {},
     "output_type": "execute_result"
    }
   ],
   "source": [
    "%pwd"
   ]
  },
  {
   "cell_type": "code",
   "execution_count": 27,
   "metadata": {},
   "outputs": [
    {
     "name": "stdout",
     "output_type": "stream",
     "text": [
      "constants.py   constants.pyc  experiment.py\r\n"
     ]
    }
   ],
   "source": [
    "%ls"
   ]
  },
  {
   "cell_type": "code",
   "execution_count": 28,
   "metadata": {},
   "outputs": [
    {
     "name": "stdout",
     "output_type": "stream",
     "text": [
      "1.1715 \tWARNING \tpyo audio lib was requested but not loaded: ImportError('No module named pyo',)\r\n",
      "1.1729 \tWARNING \tMonitor specification not found. Creating a temporary one...\r\n",
      "1.1738 \tWARNING \tUser requested fullscreen with size [1920 1080], but screen is actually [1280, 800]. Using actual size\r\n"
     ]
    }
   ],
   "source": [
    "!python experiment.py"
   ]
  },
  {
   "cell_type": "markdown",
   "metadata": {},
   "source": [
    "### 코드를 스텝별로 살펴보자 "
   ]
  },
  {
   "cell_type": "markdown",
   "metadata": {},
   "source": [
    "#### In constants.py, type the following:"
   ]
  },
  {
   "cell_type": "markdown",
   "metadata": {},
   "source": [
    "<code>\n",
    "PyGaze code\n",
    "  \\# display resolution (should match monitor settings!)\n",
    "  DISPSIZE = (1920, 1080)\n",
    "  \\# display type (either 'pygame' or 'psychopy')\n",
    "  DISPTYPE = 'psychopy'\n",
    "  \\# foreground and background\n",
    "  FGC = (0, 0, 0)\n",
    "  BGC = (128, 128, 128)\n",
    "\n",
    "PsychoPy code\n",
    "  \\# display resolution (should match monitor settings!)\n",
    "  DISPSIZE = (1920, 1080)\n",
    "  \\# foreground and background\n",
    "  FGC = (-1, -1, -1)\n",
    "  BGC = (0, 0, 0)\n",
    "</code>    "
   ]
  },
  {
   "cell_type": "markdown",
   "metadata": {},
   "source": [
    "#### Now, open experiment.py and type the following:"
   ]
  },
  {
   "cell_type": "markdown",
   "metadata": {},
   "source": [
    "<code>\n",
    "PyGaze code\n",
    "  import random\n",
    "  from pygaze.display import Display\n",
    "  from pygaze.screen import Screen\n",
    "  from pygaze.keyboard import Keyboard\n",
    "  \\# create a new Display instance (to interact with the\n",
    "  \\# monitor)\n",
    "  disp = Display()\n",
    "  \\# create a new Screen (to use as a canvas to draw on)\n",
    "  scr = Screen()\n",
    "\n",
    "PsychoPy code\n",
    "  import random\n",
    "  from constants import *\n",
    "  from psychopy.visual import Window, TextStim\n",
    "  from psychopy.event import waitKeys\n",
    "  \\# create a new Display instance (to interact with the\n",
    "  \\# monitor)\n",
    "  disp = Window(size=DISPSIZE, units='pix', fullscr=True)\n",
    "</code>    "
   ]
  },
  {
   "cell_type": "markdown",
   "metadata": {},
   "source": [
    "#### To do so, we need at least two things: a list of vowels, and a Keyboard instance (or PsychoPy’s waitKeys function)."
   ]
  },
  {
   "cell_type": "markdown",
   "metadata": {
    "collapsed": true
   },
   "source": [
    "<code>\n",
    "PyGaze code\n",
    "  \\# a list of vowels\n",
    "  vowels = ['a', 'e', 'i', 'o', 'u', 'y']\n",
    "  \\# create a new Keyboard instance, to monitor key presses\n",
    "  kb = Keyboard(keylist=vowels, timeout=None)\n",
    "\n",
    "PsychoPy code\n",
    "  \\# a list of vowels\n",
    "  vowels = ['a', 'e', 'i', 'o', 'u', 'y']\n",
    "</code>    "
   ]
  },
  {
   "cell_type": "markdown",
   "metadata": {},
   "source": [
    "#### The next bit of the experiment script is to randomly select a vowel from the list, and present that on the monitor. Start with randomly choosing a vowel from the list:\n"
   ]
  },
  {
   "cell_type": "markdown",
   "metadata": {},
   "source": [
    "<code>\n",
    "PyGaze code\n",
    "  \\# randomly choose one vowel\n",
    "  letter = random.choice(vowels)\n",
    "\n",
    "PsychoPy code\n",
    "  \\# randomly choose one vowel\n",
    "  letter = random.choice(vowels)\n",
    "</code>    "
   ]
  },
  {
   "cell_type": "markdown",
   "metadata": {},
   "source": [
    "#### To present this on the monitor, you must draw it on your Screen instance in PyGaze, or create a TextStim instance in PsychoPy."
   ]
  },
  {
   "cell_type": "markdown",
   "metadata": {},
   "source": [
    "<code>\n",
    "PyGaze code\n",
    "  \\# draw the vowel on a Screen\n",
    "  scr.draw_text(text=letter, fontsize=128)\n",
    "\n",
    "PsychoPy code\n",
    "  \\# create a TextStim for the vowel\n",
    "  vowelstim = TextStim(disp, text=letter, height=128)\n",
    "</code>    "
   ]
  },
  {
   "cell_type": "markdown",
   "metadata": {},
   "source": [
    "#### After drawing your text on a Screen, you need to pass that Screen to the Display. Then you need to update the monitor by showing the Display (PyGaze). If you’re using PsychoPy instead, you have to draw the TextStim, and then flip the Window."
   ]
  },
  {
   "cell_type": "markdown",
   "metadata": {},
   "source": [
    "<code>\n",
    "PyGaze code\n",
    "  \\# fill the Display with a Screen and update the monitor\n",
    "   disp.fill(scr)\n",
    "   disp.show()\n",
    "\n",
    "PsychoPy code\n",
    "  \\# draw the text stimulus\n",
    "  vowelstim.draw()\n",
    "  \\# update the monitor\n",
    "  disp.flip()\n",
    "</code>    "
   ]
  },
  {
   "cell_type": "markdown",
   "metadata": {},
   "source": [
    "#### To catch a key press, use the Keyboard’s get_key method (and close the Display with the familiar close method):"
   ]
  },
  {
   "cell_type": "markdown",
   "metadata": {},
   "source": [
    "<code>\n",
    "PyGaze code\n",
    "  \\# wait for a response\n",
    "  key, presstime = kb.get_key()\n",
    "  \\# close the Display\n",
    "  disp.close()\n",
    "\n",
    "PsychoPy code\n",
    "  \\# wait for a response\n",
    "  resplist = waitKeys(maxWait=float('inf'), keyList=vowels, timeStamped=True)\n",
    "  \\# select the first response from the list\n",
    "  key, presstime = resplist[0]\n",
    "  \\# close the Display\n",
    "  disp.close()\n",
    "</code>    "
   ]
  },
  {
   "cell_type": "markdown",
   "metadata": {},
   "source": [
    "# If statements"
   ]
  },
  {
   "cell_type": "markdown",
   "metadata": {},
   "source": [
    "#### Same code for PyGaze and PsychoPy"
   ]
  },
  {
   "cell_type": "markdown",
   "metadata": {},
   "source": [
    "<code>\n",
    "\\# check if the pressed key matches the displayed letter \n",
    "if key == letter:\n",
    "    correct = 1\n",
    "else:\n",
    "    correct = 0\n",
    "</code>    "
   ]
  },
  {
   "cell_type": "markdown",
   "metadata": {},
   "source": [
    "#### Indentation"
   ]
  },
  {
   "cell_type": "code",
   "execution_count": null,
   "metadata": {
    "collapsed": true
   },
   "outputs": [],
   "source": [
    "a= 1\n",
    "b= 2\n",
    "c= 3\n",
    "if a == 1:\n",
    "    if b == 2:\n",
    "        if c == 3:\n",
    "            print('strawberry')\n",
    "        else:\n",
    "            print('raspberry')\n",
    "    else:\n",
    "        print('blueberry') \n",
    "else:\n",
    "    print('banana')"
   ]
  },
  {
   "cell_type": "markdown",
   "metadata": {},
   "source": [
    "#### Providing feedback"
   ]
  },
  {
   "cell_type": "markdown",
   "metadata": {},
   "source": [
    "<code>\n",
    "PyGaze code\n",
    "  \\# on a correct response...\n",
    "  if correct:\n",
    "    \\#...provide nice feedback ???? \n",
    "    feedback = \"Well done!\"\n",
    "    \n",
    "    \\# (0,255,0) is green ???? \n",
    "    fbcolour = (0, 255, 0)\n",
    "  \\# on an incorrect response...\n",
    "  else:\n",
    "    \\#...provide nasty feedback ???? \n",
    "    feedback = \"You're wrong!\"\n",
    "    \\# check if the pressed key matches the displayed letter \n",
    "    \\# (255,0, 0) is red ???? \n",
    "    fbcolour = (255, 0, 0)\n",
    "    \n",
    "PsychoPy code:\n",
    "  \\# on a correct response...\n",
    "  if correct:\n",
    "    \\#...provide nice feedback ???? \n",
    "    feedback = \"Well done!\" \n",
    "    \\# (-1, 1, -1) is green ???? \n",
    "    fbcolour = (-1, 1, -1)\n",
    "  \\# on an incorrect response...\n",
    "  else:\n",
    "    \\#...provide nasty feedback ???? feedback = \"You're wrong!\" ???? # (1, -1, -1) is red\n",
    "    fbcolour = (1, -1, -1)\n",
    "\n",
    "</code>    "
   ]
  },
  {
   "cell_type": "markdown",
   "metadata": {},
   "source": [
    "#### This defines the feedback string and the feedback’s colour, but does not show the participant anything yet. For that, you need to update the Screen and Display in PyGaze, or the Window in PsychoP"
   ]
  },
  {
   "cell_type": "markdown",
   "metadata": {},
   "source": [
    "<code>\n",
    "PyGaze code\n",
    "  \\# first clear the Screen of its current content\n",
    "  scr.clear()\n",
    "  \\# then draw the feedback text\n",
    "  scr.draw_text(text=feedback, colour=fbcolour, fontsize=24)\n",
    "  \\# show the Screen with feedback\n",
    "  disp.fill(scr)\n",
    "  disp.show()\n",
    "    \n",
    "PsychoPy code\n",
    "  \\# create a stimulus for the feedback text\n",
    "  fbstim = TextStim(disp, text=feedback, color=fbcolour, height=24)\n",
    "  \\# show the feedback\n",
    "  fbstim.draw()\n",
    "  disp.flip()\n",
    "</code>    "
   ]
  },
  {
   "cell_type": "markdown",
   "metadata": {},
   "source": [
    "### It would be nice to have a self-paced ending, where the participant can end the experiment by pressing any key. For this end, use the get_key method or the waitKeys function without any restrictions on the allowed keys or the timeout. Add the following code directly after the disp.show() or disp.flip() line:"
   ]
  },
  {
   "cell_type": "markdown",
   "metadata": {},
   "source": [
    "<code>\n",
    "PyGaze code\n",
    "  \\# wait for any keypress\n",
    "  kb.get_key(keylist=None, timeout=None)\n",
    "\n",
    "PsychoPy code\n",
    "  \\# wait for any keypress\n",
    "  waitKeys(maxWait=float('inf'), keylist=None)\n",
    "</code>"
   ]
  },
  {
   "cell_type": "markdown",
   "metadata": {},
   "source": [
    "#### Using wildcards in feedback"
   ]
  },
  {
   "cell_type": "markdown",
   "metadata": {},
   "source": [
    "<code>\n",
    "Same code for PyGaze and PsychoPy¶\n",
    "   \\# construct an informative string by using variables \n",
    "   extrafb = 'The vowel was %s, and you typed %s.' % (letter, key)\n",
    "</code>"
   ]
  },
  {
   "cell_type": "markdown",
   "metadata": {},
   "source": [
    "#### After scr.draw_text(text=feedback, colour=fbcolour, fontsize=24) or after fbstim = TextStim(disp, text=feedback, color=fbcolour, height=24), add extra lines to draw the extra feedback:"
   ]
  },
  {
   "cell_type": "markdown",
   "metadata": {},
   "source": [
    "<code>\n",
    "PyGaze code\n",
    "  \\# determine the position of the extra feedback\n",
    "  \\# (at half the screen width, and 60% of the screen height)\n",
    "  extrafbpos = (int(DISPSIZE[0]*0.5), int(DISPSIZE[1]*0.6))\n",
    "  \\# draw the extra feedback\n",
    "  scr.draw_text(text=extrafb, pos=extrafbpos, fontsize=24)\n",
    "\n",
    "PsychoPy code\n",
    "  \\# determine the position of the extra feedback\n",
    "  \\# (at half the screen width, and 60% of the screen height)\n",
    "  extrafbpos = (0, int(DISPSIZE[1]*-0.1))\n",
    "  \\# create a stimulus for the extra feedback\n",
    "  extrafbstim = TextStim(disp, text=extrafb, pos=extrafbpos, height=24)\n",
    "  \\# draw the extra feedback\n",
    "  extrafbstim.draw()\n",
    "</code>"
   ]
  },
  {
   "cell_type": "markdown",
   "metadata": {},
   "source": [
    "#### Using sound for feedback"
   ]
  },
  {
   "cell_type": "markdown",
   "metadata": {},
   "source": [
    "##### 만약 ka-ching.wav란 파일이 있으면"
   ]
  },
  {
   "cell_type": "markdown",
   "metadata": {},
   "source": [
    "<code>\n",
    "PyGaze code\n",
    "  from pygaze.sound import Sound\n",
    "  kaching = Sound(soundfile='ka-ching.wav')\n",
    "\n",
    "PsychoPy code\n",
    "  from psychopy.sound import Sound\n",
    "  kaching = Sound(value='ka-ching.wav')\n",
    "</code>"
   ]
  },
  {
   "cell_type": "markdown",
   "metadata": {},
   "source": [
    "##### 아니면 합성을 해서"
   ]
  },
  {
   "cell_type": "code",
   "execution_count": 20,
   "metadata": {
    "collapsed": true
   },
   "outputs": [],
   "source": [
    "from pygaze.sound import Sound\n",
    "sine = Sound(osc='sine')\n",
    "saw = Sound(osc='saw')\n",
    "square = Sound(osc='square')\n",
    "noise = Sound(osc='whitenoise')"
   ]
  },
  {
   "cell_type": "code",
   "execution_count": 21,
   "metadata": {
    "collapsed": true
   },
   "outputs": [],
   "source": [
    "sine.play()"
   ]
  },
  {
   "cell_type": "code",
   "execution_count": 22,
   "metadata": {
    "collapsed": true
   },
   "outputs": [],
   "source": [
    "saw.play()"
   ]
  },
  {
   "cell_type": "code",
   "execution_count": 23,
   "metadata": {
    "collapsed": true
   },
   "outputs": [],
   "source": [
    "square.play()"
   ]
  },
  {
   "cell_type": "code",
   "execution_count": 24,
   "metadata": {
    "collapsed": true
   },
   "outputs": [],
   "source": [
    "noise.play()"
   ]
  },
  {
   "cell_type": "markdown",
   "metadata": {},
   "source": [
    "#### You can specify the duration of sounds in milliseconds by using the length keyword in PyGaze, or the secs keyword in PsychoPy:"
   ]
  },
  {
   "cell_type": "markdown",
   "metadata": {},
   "source": [
    "<code>\n",
    "PyGaze example\n",
    "  sine = Sound(osc='sine', length=500)\n",
    "    \n",
    "PsychoPy example\n",
    "  sine = Sound(secs=0.5)\n",
    "</code>"
   ]
  },
  {
   "cell_type": "markdown",
   "metadata": {},
   "source": [
    "#### In PyGaze, you can specify the frequency by using the freq keyword and a value in Hertz. In PsychoPy, you can use the value keyword to achieve the same thing."
   ]
  },
  {
   "cell_type": "markdown",
   "metadata": {},
   "source": [
    "<code>\n",
    "PyGaze example\n",
    "  sine = Sound(osc='sine', freq=4000, length=500)\n",
    "\n",
    "PsychoPy example\n",
    "  sine = Sound(value=4000, secs=0.5)\n",
    "</code>    "
   ]
  },
  {
   "cell_type": "markdown",
   "metadata": {},
   "source": [
    "#### Open (a copy of) the script you created in the previous section, and import the Sound class at the top of experiment.py:"
   ]
  },
  {
   "cell_type": "markdown",
   "metadata": {},
   "source": [
    "<code>\n",
    "PyGaze code\n",
    "  from pygaze.sound import Sound\n",
    "    \n",
    "PsychoPy code\n",
    "  from psychopy.sound import Sound\n",
    "</code>    "
   ]
  },
  {
   "cell_type": "markdown",
   "metadata": {},
   "source": [
    "#### To create two Sound instances, add the following lines after the scr = Screen() line in the PyGaze code, or after the line where you define disp in the PsychoPy code:\n"
   ]
  },
  {
   "cell_type": "markdown",
   "metadata": {},
   "source": [
    "<code>\n",
    "PyGaze code\n",
    "  \\# Create two Sounds, one for nice and one for stern\n",
    "  \\# feedback\n",
    "  sine = Sound(osc='sine', freq=4000, length=500)\n",
    "  noise = Sound(osc='whitenoise', length=500)\n",
    "\n",
    "PsychoPy code\n",
    "  \\# create two Sounds: one for nice and one for stern\n",
    "  \\# feedback\n",
    "  high = Sound(value=4000, secs=0.5)\n",
    "  low = Sound(value=400, secs=0.5)\n",
    "</code>"
   ]
  },
  {
   "cell_type": "markdown",
   "metadata": {},
   "source": [
    "#### The final step is to include an if statement between the disp.show() or disp.flip() line for the feedback, and the kb.get_key(keylist=None, timeout=None) or waitKeys(maxWait=inf, keylist=None) line to wait for a final keypress:"
   ]
  },
  {
   "cell_type": "markdown",
   "metadata": {},
   "source": [
    "<code>\n",
    "PyGaze code\n",
    "  \\# on a correct response...\n",
    "  if correct:\n",
    "      \\#...play the sine Sound\n",
    "      sine.play()\n",
    "  \\# on an incorrect response...\n",
    "  else:\n",
    "      \\#...play the harsh Sound \n",
    "      noise.play()\n",
    "\n",
    "PsychoPy code\n",
    "  \\# on a correct response...\n",
    "  if correct:\n",
    "      \\#...play the high sine Sound\n",
    "      high.play()\n",
    "  \\# on an incorrect response...\n",
    "  else:\n",
    "      \\#...play the low sine Sound\n",
    "      low.play()\n",
    "</code>"
   ]
  },
  {
   "cell_type": "markdown",
   "metadata": {},
   "source": [
    "# While loops"
   ]
  },
  {
   "cell_type": "code",
   "execution_count": 35,
   "metadata": {},
   "outputs": [
    {
     "data": {
      "text/plain": [
       "u'/Users/moodern/work/00_aboutpython_psychopy/ch04/Chapter_04/code/01_Keyboard_input_PsychoPy'"
      ]
     },
     "execution_count": 35,
     "metadata": {},
     "output_type": "execute_result"
    }
   ],
   "source": [
    "%pwd"
   ]
  },
  {
   "cell_type": "code",
   "execution_count": 36,
   "metadata": {},
   "outputs": [
    {
     "name": "stdout",
     "output_type": "stream",
     "text": [
      "\u001b[34m01_Keyboard_input_PsychoPy\u001b[m\u001b[m/     02_While_Loops_PsychoPy.zip\r\n",
      "01_Keyboard_input_PsychoPy.zip  02_While_Loops_PyGaze.zip\r\n",
      "01_Keyboard_input_PyGaze.zip\r\n"
     ]
    }
   ],
   "source": [
    "%ls ../"
   ]
  },
  {
   "cell_type": "code",
   "execution_count": 37,
   "metadata": {},
   "outputs": [
    {
     "name": "stdout",
     "output_type": "stream",
     "text": [
      "/Users/moodern/work/00_aboutpython_psychopy/ch04/Chapter_04/code\n"
     ]
    }
   ],
   "source": [
    "%cd ../"
   ]
  },
  {
   "cell_type": "code",
   "execution_count": 38,
   "metadata": {},
   "outputs": [
    {
     "name": "stdout",
     "output_type": "stream",
     "text": [
      "\u001b[34m01_Keyboard_input_PsychoPy\u001b[m\u001b[m/     02_While_Loops_PsychoPy.zip\r\n",
      "01_Keyboard_input_PsychoPy.zip  02_While_Loops_PyGaze.zip\r\n",
      "01_Keyboard_input_PyGaze.zip\r\n"
     ]
    }
   ],
   "source": [
    "%ls"
   ]
  },
  {
   "cell_type": "code",
   "execution_count": 39,
   "metadata": {
    "collapsed": true
   },
   "outputs": [],
   "source": [
    "all_zip = zipfile.ZipFile('02_While_Loops_PsychoPy.zip')\n",
    "all_zip.extractall('./')\n",
    "all_zip.close()"
   ]
  },
  {
   "cell_type": "code",
   "execution_count": 40,
   "metadata": {},
   "outputs": [
    {
     "name": "stdout",
     "output_type": "stream",
     "text": [
      "\u001b[34m01_Keyboard_input_PsychoPy\u001b[m\u001b[m/     \u001b[34m02_While_Loops_PsychoPy\u001b[m\u001b[m/\r\n",
      "01_Keyboard_input_PsychoPy.zip  02_While_Loops_PsychoPy.zip\r\n",
      "01_Keyboard_input_PyGaze.zip    02_While_Loops_PyGaze.zip\r\n"
     ]
    }
   ],
   "source": [
    "%ls"
   ]
  },
  {
   "cell_type": "code",
   "execution_count": 41,
   "metadata": {},
   "outputs": [
    {
     "name": "stdout",
     "output_type": "stream",
     "text": [
      "/Users/moodern/work/00_aboutpython_psychopy/ch04/Chapter_04/code/02_While_Loops_PsychoPy\n"
     ]
    }
   ],
   "source": [
    "%cd 02_While_Loops_PsychoPy"
   ]
  },
  {
   "cell_type": "code",
   "execution_count": 42,
   "metadata": {},
   "outputs": [
    {
     "name": "stdout",
     "output_type": "stream",
     "text": [
      "constants.py   experiment.py\r\n"
     ]
    }
   ],
   "source": [
    "%ls"
   ]
  },
  {
   "cell_type": "code",
   "execution_count": 43,
   "metadata": {},
   "outputs": [
    {
     "name": "stdout",
     "output_type": "stream",
     "text": [
      "1.1837 \tWARNING \tMonitor specification not found. Creating a temporary one...\r\n",
      "1.1845 \tWARNING \tUser requested fullscreen with size [1920 1080], but screen is actually [1280, 800]. Using actual size\r\n"
     ]
    }
   ],
   "source": [
    "!python experiment.py"
   ]
  },
  {
   "cell_type": "markdown",
   "metadata": {},
   "source": [
    "#### if - elif 형태로 멀티옵션 제시하기"
   ]
  },
  {
   "cell_type": "markdown",
   "metadata": {},
   "source": [
    "<code>\n",
    "key, presstime = kb.get_key(keylist=None, timeout=None)\n",
    "if key == 'c':\n",
    "    print('chicken') \n",
    "elif key == 'p':\n",
    "    print('parsnip') \n",
    "elif key == 't':\n",
    "    print('tomato') \n",
    "else:\n",
    "    print('No soup for you!')\n",
    "</code>"
   ]
  },
  {
   "cell_type": "markdown",
   "metadata": {},
   "source": [
    "#### One solution to continuous keyboard monitoring and display updating could be to copy and paste the code to collect, draw, and present a single keypress value:"
   ]
  },
  {
   "cell_type": "markdown",
   "metadata": {},
   "source": [
    "<code>\n",
    "\\# first keypress\n",
    "key, presstime = kb.get_key(keylist=None, timeout=None)\n",
    "scr.daw_text(text=key)\n",
    "disp.fill(scr)\n",
    "disp.show()\n",
    "  \n",
    "\\# second keypress\n",
    "key, presstime = kb.get_key(keylist=None, timeout=None)\n",
    "scr.daw_text(text=key)\n",
    "disp.fill(scr)\n",
    "disp.show()\n",
    "\n",
    "\\# etc...\n",
    "  \n",
    "\\# N-th keypress\n",
    "key, presstime = kb.get_key(keylist=None, timeout=None)\n",
    "scr.daw_text(text=key)\n",
    "disp.fill(scr)\n",
    "disp.show()\n",
    "</code>"
   ]
  },
  {
   "cell_type": "markdown",
   "metadata": {},
   "source": [
    "#### A better solution is provided by the while loop "
   ]
  },
  {
   "cell_type": "markdown",
   "metadata": {},
   "source": [
    "Let’s look at a famous scene from Lord of the Rings, where Gandalf (our guard) decides that his friends can run across a bridge, but that a big flaming enemy SHALL NOT PASS! You could view this scene as a number of iterations (loops) through Gandalf’s decision process. In this process, Gandalf first checks who passes by. Then he decides whether this passer-by is an enemy or a friend. If the passer-by is a friend, Gandalf does nothing, because he’s cool with bridge-crossing friends. However, if the passer-by turns out to be an enemy, Gandalf decides to stop letting people through. After he decides to stop letting people through, he will destroy the bridge.\n",
    "\n",
    "Gandalf’s bridge-habits can be described by the following code snippet:"
   ]
  },
  {
   "cell_type": "markdown",
   "metadata": {},
   "source": [
    "<code>\n",
    "\\# pre-define the 'guard' value\n",
    "gandalf_is_cool = True\n",
    "    \n",
    "\\# only continue if gandalf_is_cool is still True\n",
    "while gandalf_is_cool:\n",
    "    \\# check who crosses with this function\n",
    "    passerby = check_who_goes_there()\n",
    "    \\#if an enemy crosses, Gandalf loses his cool!  \n",
    "    if passerby == 'enemy':\n",
    "        gandalf_is_cool = False\n",
    "\n",
    "\\# destroy the bridge after the while loop\n",
    "destroy_bridge()    \n",
    "</code>"
   ]
  },
  {
   "cell_type": "markdown",
   "metadata": {},
   "source": [
    "### While loop for responses"
   ]
  },
  {
   "cell_type": "markdown",
   "metadata": {},
   "source": [
    "#### In constants.py, define the constants that you always define:"
   ]
  },
  {
   "cell_type": "markdown",
   "metadata": {},
   "source": [
    "<code>\n",
    "PyGaze code\n",
    "  \\# the display size should match the monitor's resolution\n",
    "  DISPSIZE = (1920, 1080)\n",
    "  \\# the display type can be 'pygame' or 'psychopy'\n",
    "  DISPTYPE = 'pygame'\n",
    "  \\# the foreground and background colour are (red, green,\n",
    "  \\# blue) the values are 0 (no colour) to 255 (full colour)\n",
    "  FGC = (255, 255, 255)\n",
    "  BGC = (0, 0, 0)\n",
    "\n",
    "PsychoPy code\n",
    "  \\# the display size should match the monitor's resolution\n",
    "  DISPSIZE = (1920, 1080)\n",
    "  \\# the foreground and background colour are (red, green, blue)\n",
    "  \\# the values are -1 (no colour) to 1 (full colour)\n",
    "  FGC = (1, 1, 1)\n",
    "  BGC = (-1, -1, -1)\n",
    "</code>"
   ]
  },
  {
   "cell_type": "markdown",
   "metadata": {},
   "source": [
    "#### In experiment.py, import the classes and constants that you need in the script:"
   ]
  },
  {
   "cell_type": "markdown",
   "metadata": {},
   "source": [
    "<code>\n",
    "PyGaze code\n",
    "  from constants import DISPSIZE\n",
    "  from pygaze.display import Display\n",
    "  from pygaze.screen import Screen\n",
    "  from pygaze.keyboard import Keyboard\n",
    "\n",
    "PsychoPy code\n",
    "  from constants import DISPSIZE\n",
    "  from psychopy.visual import Window, TextStim \n",
    "  from psychopy.event import waitKeys\n",
    "</code>    "
   ]
  },
  {
   "cell_type": "markdown",
   "metadata": {},
   "source": [
    "#### And create the instances of these classes that you will use later on:"
   ]
  },
  {
   "cell_type": "markdown",
   "metadata": {},
   "source": [
    "<code>\n",
    "PyGaze code\n",
    "  \\# create a Display to show things on the monitor\n",
    "  disp = Display()\n",
    "  \\# create a Screen for drawing operations\n",
    "  scr = Screen()\n",
    "  \\# create a Keyboard to collect keypresses\n",
    "  kb = Keyboard(keylist=None, timeout=None)\n",
    "\n",
    "PsychoPy code\n",
    "  \\# create a Window to show things on the monitor\n",
    "  disp = Window(size=DISPSIZE, units='pix', fullscr=True)\n",
    "</code>"
   ]
  },
  {
   "cell_type": "markdown",
   "metadata": {},
   "source": [
    "#### Same code for PyGaze and PsychoPy"
   ]
  },
  {
   "cell_type": "markdown",
   "metadata": {},
   "source": [
    "<code>\n",
    "\\# define a super-important question\n",
    "question = 'What do you think of this question?'\n",
    "</code>"
   ]
  },
  {
   "cell_type": "markdown",
   "metadata": {},
   "source": [
    "#### After defining the question string, you could draw it on a Screen and present that Screen via the Display (PyGaze), or create and draw a text stimulus (PsychoPy). Of course, you should also think of a nice place on the Screen. How about horizontally centred, and placed at 20 per cent of the screen height? Make sure to turn the values for the position into integers, because pixels are indivisible!"
   ]
  },
  {
   "cell_type": "markdown",
   "metadata": {},
   "source": [
    "<code>\n",
    "PyGaze code\n",
    "  \\# define the question's position\n",
    "  qpos = (int(DISPSIZE[0]*0.5), int(DISPSIZE[1]*0.2))\n",
    "  \\# draw it on the Screen\n",
    "  scr.draw_text(text=question, pos=qpos, fontsize=24)\n",
    "  \\# fill the Display with the Screen\n",
    "  disp.fill(scr)\n",
    "  \\# present the current Display\n",
    "  disp.show()\n",
    "\n",
    "PsychoPy code\n",
    "  \\# define the question's position\n",
    "  qpos = (0, int(DISPSIZE[1]*0.2))\n",
    "  \\# create a new text stimulus\n",
    "  qstim = TextStim(disp, text=question, pos=qpos, height=24)\n",
    "  \\# draw the question\n",
    "  qstim.draw()\n",
    "  \\# create an additional text stimulus for the response\n",
    "  \\# (this will be updated later)\n",
    "  respstim = TextStim(disp, text='', height=24)\n",
    "</code>"
   ]
  },
  {
   "cell_type": "markdown",
   "metadata": {},
   "source": [
    "#### a while loop that runs until the Enter key is pressed, and collects and presents keypresses while it is running.\n",
    "\n",
    "Let’s think about this for a second (always think before you start coding!). To be able to update a participant’s response with each keypress, you need a variable that contains the response. This should start out as an empty string, and should be adjusted on each keypress."
   ]
  },
  {
   "cell_type": "markdown",
   "metadata": {},
   "source": [
    "#### Same code for PyGaze and PsychoPy"
   ]
  },
  {
   "cell_type": "markdown",
   "metadata": {},
   "source": [
    "<code>\n",
    "\\# start with an empty response string\n",
    "response = ''\n",
    "  \n",
    "\\# start undone\n",
    "done = False\n",
    "\n",
    "\\# loop until done == False \n",
    "while not done:\n",
    "    \\# do stuff\n",
    "</code>    "
   ]
  },
  {
   "cell_type": "markdown",
   "metadata": {},
   "source": [
    "#### Note how # do stuff is undefined. Let’s replace this by functioning lines, starting with the code to check for keypresses (add it to experiment.py):"
   ]
  },
  {
   "cell_type": "markdown",
   "metadata": {},
   "source": [
    "<code>\n",
    "PyGaze code\n",
    "    \\# check for keypresses\n",
    "    key, presstime = kb.get_key()\n",
    "\n",
    "PsychoPy code\n",
    "    \\# check for keypresses\n",
    "    resplist = waitKeys(maxWait=float('inf'), keyList=None, timeStamped=True)\n",
    "    \\# use only the first in the returned list of \n",
    "    \\# keypresses\n",
    "    key, presstime = resplist[0]\n",
    "</code>"
   ]
  },
  {
   "cell_type": "markdown",
   "metadata": {},
   "source": [
    "#### Now add the code that evaluates the value of key. If the name of the pressed key is Space, add a space. An example (don’t copy it into experiment.py just yet):"
   ]
  },
  {
   "cell_type": "markdown",
   "metadata": {},
   "source": [
    "<code>\n",
    "if key == 'space': \n",
    "    response += ' '\n",
    "    \n",
    "if len(key) == 1: \n",
    "    response += key\n",
    "    \n",
    "if key == 'backspace' and len(response) > 0: \n",
    "    response = response[0:-1]\n",
    "    \n",
    "if key == 'return': \n",
    "    done = True\n",
    "</code>    "
   ]
  },
  {
   "cell_type": "markdown",
   "metadata": {},
   "source": [
    "#### Same code for PyGaze and PsychoPy"
   ]
  },
  {
   "cell_type": "markdown",
   "metadata": {},
   "source": [
    "<code>\n",
    "    # check if the length of the key's name equals 1 \n",
    "    if len(key) == 1:\n",
    "        # add the key to the response \n",
    "        response += key\n",
    "    # check if the key is the Space bar \n",
    "    elif key == 'space':\n",
    "        # add a space to the response \n",
    "        response += ' '\n",
    "    # check if the key's name was 'backspace' and \n",
    "    # check if the response has at least 1 character \n",
    "    elif key == 'backspace' and len(response) > 0:\n",
    "        # remove the last character of the response \n",
    "        response = response[0:-1]\n",
    "    \n",
    "    # if the key was none of the above, check if it \n",
    "    # was the Enter key\n",
    "    if key == 'return':\n",
    "        # set done to True \n",
    "        done = True\n",
    "</code>"
   ]
  },
  {
   "cell_type": "markdown",
   "metadata": {},
   "source": [
    "#### The final thing you should add to the while loop, is actually presenting the updated response."
   ]
  },
  {
   "cell_type": "markdown",
   "metadata": {},
   "source": [
    "<code>\n",
    "PyGaze code\n",
    "    \\# draw the current response on a Screen \n",
    "    scr.draw_text(text=response, fontsize=24)\n",
    "    \\# fill the Display with the response Screen \n",
    "    disp.fill(scr)\n",
    "    \\# show the Display on the monitor \n",
    "    disp.show()\n",
    "\n",
    "PsychoPy code\n",
    "    \\# update the response stimulus \n",
    "    respstim.setText(response)\n",
    "    \\# draw the response stimulus \n",
    "    respstim.draw()\n",
    "    \\# update the monitor \n",
    "    disp.flip()\n",
    "</code>"
   ]
  },
  {
   "cell_type": "markdown",
   "metadata": {},
   "source": [
    "#### As usual, end the experiment by closing the Display:"
   ]
  },
  {
   "cell_type": "markdown",
   "metadata": {},
   "source": [
    "<code>\n",
    "Same code for PyGaze and PsychoPy\n",
    "    \\# close the Display \n",
    "    disp.close()\n",
    "</code>"
   ]
  },
  {
   "cell_type": "markdown",
   "metadata": {},
   "source": [
    "#### ReDraw"
   ]
  },
  {
   "cell_type": "markdown",
   "metadata": {},
   "source": [
    "In PyGaze, you have to reset the Screen before you draw an updated response on it. The Screen’s clear method should come in handy here: it clears the Screen of whatever is on it. Unfortunately, it will also clear the question that you drew on the top of the Screen. This means that you will have to redraw that with every response update too.\n",
    "\n",
    "With PsychoPy, there is a different issue: the question disappears after pressing the first key! This is because the flip method clears the entire monitor, and stimuli have to be actively re-drawn.\n",
    "If you use PyGaze, replace the scr.draw_text(text=response, fontsize=24) line with the lines below. For PsychoPy, add the lines below after the respstim.setText(response) line."
   ]
  },
  {
   "cell_type": "markdown",
   "metadata": {},
   "source": [
    "<code>\n",
    "PyGaze code\n",
    "    \\# clear the current content of scr\n",
    "    scr.clear()\n",
    "    \\# redraw the question\n",
    "    scr.draw_text(text=question, pos=qpos, fontsize=24)\n",
    "    \\# draw the current response on a Screen\n",
    "    scr.draw_text(text=response, fontsize=24)\n",
    "\n",
    "PsychoPy code\n",
    "    \\# re-draw the question stimulus\n",
    "    qstim.draw()\n",
    "</code>"
   ]
  },
  {
   "cell_type": "markdown",
   "metadata": {},
   "source": [
    "### 전체 코드 "
   ]
  },
  {
   "cell_type": "markdown",
   "metadata": {},
   "source": [
    "#### PyGaze code"
   ]
  },
  {
   "cell_type": "code",
   "execution_count": 45,
   "metadata": {},
   "outputs": [
    {
     "name": "stdout",
     "output_type": "stream",
     "text": [
      "23334.6077 \tWARNING \tMonitor specification not found. Creating a temporary one...\n",
      "23334.6615 \tWARNING \tUser requested fullscreen with size [1920 1080], but screen is actually [1280, 800]. Using actual size\n",
      "23335.5925 \tWARNING \tDesired color [-0.00392157 -0.00392157 -0.00392157] (in RGB 0->1 units) falls outside the monitor gamut. Drawing blue instead\n",
      "23340.9407 \tWARNING \tDesired color [-0.00392157 -0.00392157 -0.00392157] (in RGB 0->1 units) falls outside the monitor gamut. Drawing blue instead\n",
      "23340.9413 \tWARNING \tDesired color [-0.00392157 -0.00392157 -0.00392157] (in RGB 0->1 units) falls outside the monitor gamut. Drawing blue instead\n",
      "23346.1796 \tWARNING \tDesired color [-0.00392157 -0.00392157 -0.00392157] (in RGB 0->1 units) falls outside the monitor gamut. Drawing blue instead\n",
      "23346.1802 \tWARNING \tDesired color [-0.00392157 -0.00392157 -0.00392157] (in RGB 0->1 units) falls outside the monitor gamut. Drawing blue instead\n",
      "23347.2675 \tWARNING \tDesired color [-0.00392157 -0.00392157 -0.00392157] (in RGB 0->1 units) falls outside the monitor gamut. Drawing blue instead\n",
      "23347.2681 \tWARNING \tDesired color [-0.00392157 -0.00392157 -0.00392157] (in RGB 0->1 units) falls outside the monitor gamut. Drawing blue instead\n",
      "23347.8443 \tWARNING \tDesired color [-0.00392157 -0.00392157 -0.00392157] (in RGB 0->1 units) falls outside the monitor gamut. Drawing blue instead\n",
      "23347.8449 \tWARNING \tDesired color [-0.00392157 -0.00392157 -0.00392157] (in RGB 0->1 units) falls outside the monitor gamut. Drawing blue instead\n",
      "23348.4999 \tWARNING \tDesired color [-0.00392157 -0.00392157 -0.00392157] (in RGB 0->1 units) falls outside the monitor gamut. Drawing blue instead\n",
      "23348.5004 \tWARNING \tDesired color [-0.00392157 -0.00392157 -0.00392157] (in RGB 0->1 units) falls outside the monitor gamut. Drawing blue instead\n",
      "23349.6765 \tWARNING \tDesired color [-0.00392157 -0.00392157 -0.00392157] (in RGB 0->1 units) falls outside the monitor gamut. Drawing blue instead\n",
      "23349.6771 \tWARNING \tDesired color [-0.00392157 -0.00392157 -0.00392157] (in RGB 0->1 units) falls outside the monitor gamut. Drawing blue instead\n",
      "23349.8861 \tWARNING \tDesired color [-0.00392157 -0.00392157 -0.00392157] (in RGB 0->1 units) falls outside the monitor gamut. Drawing blue instead\n",
      "23349.8867 \tWARNING \tDesired color [-0.00392157 -0.00392157 -0.00392157] (in RGB 0->1 units) falls outside the monitor gamut. Drawing blue instead\n",
      "23350.0203 \tWARNING \tDesired color [-0.00392157 -0.00392157 -0.00392157] (in RGB 0->1 units) falls outside the monitor gamut. Drawing blue instead\n",
      "23350.0208 \tWARNING \tDesired color [-0.00392157 -0.00392157 -0.00392157] (in RGB 0->1 units) falls outside the monitor gamut. Drawing blue instead\n",
      "23350.6286 \tWARNING \tDesired color [-0.00392157 -0.00392157 -0.00392157] (in RGB 0->1 units) falls outside the monitor gamut. Drawing blue instead\n",
      "23350.6291 \tWARNING \tDesired color [-0.00392157 -0.00392157 -0.00392157] (in RGB 0->1 units) falls outside the monitor gamut. Drawing blue instead\n",
      "23351.3550 \tWARNING \tDesired color [-0.00392157 -0.00392157 -0.00392157] (in RGB 0->1 units) falls outside the monitor gamut. Drawing blue instead\n",
      "23351.3556 \tWARNING \tDesired color [-0.00392157 -0.00392157 -0.00392157] (in RGB 0->1 units) falls outside the monitor gamut. Drawing blue instead\n",
      "23351.4861 \tWARNING \tDesired color [-0.00392157 -0.00392157 -0.00392157] (in RGB 0->1 units) falls outside the monitor gamut. Drawing blue instead\n",
      "23351.4867 \tWARNING \tDesired color [-0.00392157 -0.00392157 -0.00392157] (in RGB 0->1 units) falls outside the monitor gamut. Drawing blue instead\n",
      "23351.9006 \tWARNING \tDesired color [-0.00392157 -0.00392157 -0.00392157] (in RGB 0->1 units) falls outside the monitor gamut. Drawing blue instead\n",
      "23351.9012 \tWARNING \tDesired color [-0.00392157 -0.00392157 -0.00392157] (in RGB 0->1 units) falls outside the monitor gamut. Drawing blue instead\n",
      "23352.3340 \tWARNING \tDesired color [-0.00392157 -0.00392157 -0.00392157] (in RGB 0->1 units) falls outside the monitor gamut. Drawing blue instead\n",
      "23352.3345 \tWARNING \tDesired color [-0.00392157 -0.00392157 -0.00392157] (in RGB 0->1 units) falls outside the monitor gamut. Drawing blue instead\n",
      "23352.5333 \tWARNING \tDesired color [-0.00392157 -0.00392157 -0.00392157] (in RGB 0->1 units) falls outside the monitor gamut. Drawing blue instead\n",
      "23352.5339 \tWARNING \tDesired color [-0.00392157 -0.00392157 -0.00392157] (in RGB 0->1 units) falls outside the monitor gamut. Drawing blue instead\n",
      "23353.3516 \tWARNING \tDesired color [-0.00392157 -0.00392157 -0.00392157] (in RGB 0->1 units) falls outside the monitor gamut. Drawing blue instead\n",
      "23353.3522 \tWARNING \tDesired color [-0.00392157 -0.00392157 -0.00392157] (in RGB 0->1 units) falls outside the monitor gamut. Drawing blue instead\n",
      "23353.5586 \tWARNING \tDesired color [-0.00392157 -0.00392157 -0.00392157] (in RGB 0->1 units) falls outside the monitor gamut. Drawing blue instead\n",
      "23353.5592 \tWARNING \tDesired color [-0.00392157 -0.00392157 -0.00392157] (in RGB 0->1 units) falls outside the monitor gamut. Drawing blue instead\n",
      "23353.8060 \tWARNING \tDesired color [-0.00392157 -0.00392157 -0.00392157] (in RGB 0->1 units) falls outside the monitor gamut. Drawing blue instead\n",
      "23353.8066 \tWARNING \tDesired color [-0.00392157 -0.00392157 -0.00392157] (in RGB 0->1 units) falls outside the monitor gamut. Drawing blue instead\n",
      "23353.9503 \tWARNING \tDesired color [-0.00392157 -0.00392157 -0.00392157] (in RGB 0->1 units) falls outside the monitor gamut. Drawing blue instead\n",
      "23353.9509 \tWARNING \tDesired color [-0.00392157 -0.00392157 -0.00392157] (in RGB 0->1 units) falls outside the monitor gamut. Drawing blue instead\n",
      "23354.1499 \tWARNING \tDesired color [-0.00392157 -0.00392157 -0.00392157] (in RGB 0->1 units) falls outside the monitor gamut. Drawing blue instead\n",
      "23354.1505 \tWARNING \tDesired color [-0.00392157 -0.00392157 -0.00392157] (in RGB 0->1 units) falls outside the monitor gamut. Drawing blue instead\n",
      "23354.3025 \tWARNING \tDesired color [-0.00392157 -0.00392157 -0.00392157] (in RGB 0->1 units) falls outside the monitor gamut. Drawing blue instead\n",
      "23354.3032 \tWARNING \tDesired color [-0.00392157 -0.00392157 -0.00392157] (in RGB 0->1 units) falls outside the monitor gamut. Drawing blue instead\n",
      "23354.4311 \tWARNING \tDesired color [-0.00392157 -0.00392157 -0.00392157] (in RGB 0->1 units) falls outside the monitor gamut. Drawing blue instead\n",
      "23354.4317 \tWARNING \tDesired color [-0.00392157 -0.00392157 -0.00392157] (in RGB 0->1 units) falls outside the monitor gamut. Drawing blue instead\n",
      "23354.8307 \tWARNING \tDesired color [-0.00392157 -0.00392157 -0.00392157] (in RGB 0->1 units) falls outside the monitor gamut. Drawing blue instead\n",
      "23354.8313 \tWARNING \tDesired color [-0.00392157 -0.00392157 -0.00392157] (in RGB 0->1 units) falls outside the monitor gamut. Drawing blue instead\n",
      "23354.9738 \tWARNING \tDesired color [-0.00392157 -0.00392157 -0.00392157] (in RGB 0->1 units) falls outside the monitor gamut. Drawing blue instead\n",
      "23354.9744 \tWARNING \tDesired color [-0.00392157 -0.00392157 -0.00392157] (in RGB 0->1 units) falls outside the monitor gamut. Drawing blue instead\n",
      "23355.0948 \tWARNING \tDesired color [-0.00392157 -0.00392157 -0.00392157] (in RGB 0->1 units) falls outside the monitor gamut. Drawing blue instead\n",
      "23355.0955 \tWARNING \tDesired color [-0.00392157 -0.00392157 -0.00392157] (in RGB 0->1 units) falls outside the monitor gamut. Drawing blue instead\n",
      "23355.7585 \tWARNING \tDesired color [-0.00392157 -0.00392157 -0.00392157] (in RGB 0->1 units) falls outside the monitor gamut. Drawing blue instead\n",
      "23355.7591 \tWARNING \tDesired color [-0.00392157 -0.00392157 -0.00392157] (in RGB 0->1 units) falls outside the monitor gamut. Drawing blue instead\n",
      "23355.9914 \tWARNING \tDesired color [-0.00392157 -0.00392157 -0.00392157] (in RGB 0->1 units) falls outside the monitor gamut. Drawing blue instead\n",
      "23355.9924 \tWARNING \tDesired color [-0.00392157 -0.00392157 -0.00392157] (in RGB 0->1 units) falls outside the monitor gamut. Drawing blue instead\n",
      "23356.4789 \tWARNING \tDesired color [-0.00392157 -0.00392157 -0.00392157] (in RGB 0->1 units) falls outside the monitor gamut. Drawing blue instead\n",
      "23356.4795 \tWARNING \tDesired color [-0.00392157 -0.00392157 -0.00392157] (in RGB 0->1 units) falls outside the monitor gamut. Drawing blue instead\n"
     ]
    },
    {
     "name": "stdout",
     "output_type": "stream",
     "text": [
      "23356.8475 \tWARNING \tDesired color [-0.00392157 -0.00392157 -0.00392157] (in RGB 0->1 units) falls outside the monitor gamut. Drawing blue instead\n",
      "23356.8481 \tWARNING \tDesired color [-0.00392157 -0.00392157 -0.00392157] (in RGB 0->1 units) falls outside the monitor gamut. Drawing blue instead\n",
      "23357.4311 \tWARNING \tDesired color [-0.00392157 -0.00392157 -0.00392157] (in RGB 0->1 units) falls outside the monitor gamut. Drawing blue instead\n",
      "23357.4317 \tWARNING \tDesired color [-0.00392157 -0.00392157 -0.00392157] (in RGB 0->1 units) falls outside the monitor gamut. Drawing blue instead\n",
      "23358.8787 \tWARNING \tDesired color [-0.00392157 -0.00392157 -0.00392157] (in RGB 0->1 units) falls outside the monitor gamut. Drawing blue instead\n",
      "23358.8792 \tWARNING \tDesired color [-0.00392157 -0.00392157 -0.00392157] (in RGB 0->1 units) falls outside the monitor gamut. Drawing blue instead\n",
      "23359.0711 \tWARNING \tDesired color [-0.00392157 -0.00392157 -0.00392157] (in RGB 0->1 units) falls outside the monitor gamut. Drawing blue instead\n",
      "23359.0717 \tWARNING \tDesired color [-0.00392157 -0.00392157 -0.00392157] (in RGB 0->1 units) falls outside the monitor gamut. Drawing blue instead\n",
      "23359.3112 \tWARNING \tDesired color [-0.00392157 -0.00392157 -0.00392157] (in RGB 0->1 units) falls outside the monitor gamut. Drawing blue instead\n",
      "23359.3118 \tWARNING \tDesired color [-0.00392157 -0.00392157 -0.00392157] (in RGB 0->1 units) falls outside the monitor gamut. Drawing blue instead\n",
      "23359.4637 \tWARNING \tDesired color [-0.00392157 -0.00392157 -0.00392157] (in RGB 0->1 units) falls outside the monitor gamut. Drawing blue instead\n",
      "23359.4644 \tWARNING \tDesired color [-0.00392157 -0.00392157 -0.00392157] (in RGB 0->1 units) falls outside the monitor gamut. Drawing blue instead\n",
      "23359.5761 \tWARNING \tDesired color [-0.00392157 -0.00392157 -0.00392157] (in RGB 0->1 units) falls outside the monitor gamut. Drawing blue instead\n",
      "23359.5767 \tWARNING \tDesired color [-0.00392157 -0.00392157 -0.00392157] (in RGB 0->1 units) falls outside the monitor gamut. Drawing blue instead\n",
      "23359.6330 \tWARNING \tDesired color [-0.00392157 -0.00392157 -0.00392157] (in RGB 0->1 units) falls outside the monitor gamut. Drawing blue instead\n",
      "23359.6336 \tWARNING \tDesired color [-0.00392157 -0.00392157 -0.00392157] (in RGB 0->1 units) falls outside the monitor gamut. Drawing blue instead\n",
      "23359.7608 \tWARNING \tDesired color [-0.00392157 -0.00392157 -0.00392157] (in RGB 0->1 units) falls outside the monitor gamut. Drawing blue instead\n",
      "23359.7614 \tWARNING \tDesired color [-0.00392157 -0.00392157 -0.00392157] (in RGB 0->1 units) falls outside the monitor gamut. Drawing blue instead\n",
      "23360.4004 \tWARNING \tDesired color [-0.00392157 -0.00392157 -0.00392157] (in RGB 0->1 units) falls outside the monitor gamut. Drawing blue instead\n",
      "23360.4010 \tWARNING \tDesired color [-0.00392157 -0.00392157 -0.00392157] (in RGB 0->1 units) falls outside the monitor gamut. Drawing blue instead\n",
      "23360.4963 \tWARNING \tDesired color [-0.00392157 -0.00392157 -0.00392157] (in RGB 0->1 units) falls outside the monitor gamut. Drawing blue instead\n",
      "23360.4969 \tWARNING \tDesired color [-0.00392157 -0.00392157 -0.00392157] (in RGB 0->1 units) falls outside the monitor gamut. Drawing blue instead\n",
      "23361.6143 \tWARNING \tDesired color [-0.00392157 -0.00392157 -0.00392157] (in RGB 0->1 units) falls outside the monitor gamut. Drawing blue instead\n",
      "23361.6150 \tWARNING \tDesired color [-0.00392157 -0.00392157 -0.00392157] (in RGB 0->1 units) falls outside the monitor gamut. Drawing blue instead\n",
      "23361.6882 \tWARNING \tDesired color [-0.00392157 -0.00392157 -0.00392157] (in RGB 0->1 units) falls outside the monitor gamut. Drawing blue instead\n",
      "23361.6887 \tWARNING \tDesired color [-0.00392157 -0.00392157 -0.00392157] (in RGB 0->1 units) falls outside the monitor gamut. Drawing blue instead\n",
      "23362.6538 \tWARNING \tDesired color [-0.00392157 -0.00392157 -0.00392157] (in RGB 0->1 units) falls outside the monitor gamut. Drawing blue instead\n",
      "23362.6544 \tWARNING \tDesired color [-0.00392157 -0.00392157 -0.00392157] (in RGB 0->1 units) falls outside the monitor gamut. Drawing blue instead\n"
     ]
    }
   ],
   "source": [
    "from constants import DISPSIZE\n",
    "from pygaze.display import Display\n",
    "from pygaze.screen import Screen\n",
    "from pygaze.keyboard import Keyboard\n",
    "\n",
    "disp = Display()\n",
    "scr = Screen()\n",
    "kb = Keyboard(keylist=None, timeout=None)\n",
    "\n",
    "question = 'What do you think of this question?'\n",
    "qpos = (int(DISPSIZE[0]*0.5), int(DISPSIZE[1]*0.2))\n",
    "scr.draw_text(text=question, pos=qpos, fontsize=24)\n",
    "\n",
    "disp.fill(scr)\n",
    "disp.show()\n",
    "\n",
    "response = ''\n",
    "done = False\n",
    "\n",
    "while not done:\n",
    "    key, presstime = kb.get_key()\n",
    "    if len(key) == 1:\n",
    "        response += key\n",
    "    elif key == 'space':\n",
    "        response += ' '\n",
    "    elif key == 'backspace' and len(response) > 0:\n",
    "        response = response[0:-1]\n",
    "    \n",
    "    if key == 'return':\n",
    "        done = True\n",
    "    \n",
    "    scr.clear()\n",
    "    scr.draw_text(text=question, pos=qpos, fontsize=24)\n",
    "    scr.draw_text(text=response, fontsize=24)\n",
    "    disp.fill(scr)\n",
    "    disp.show()\n",
    "    \n",
    "disp.close()"
   ]
  },
  {
   "cell_type": "markdown",
   "metadata": {},
   "source": [
    "#### PsychoPy code"
   ]
  },
  {
   "cell_type": "code",
   "execution_count": 47,
   "metadata": {},
   "outputs": [
    {
     "name": "stdout",
     "output_type": "stream",
     "text": [
      "23589.2192 \tWARNING \tMonitor specification not found. Creating a temporary one...\n",
      "23589.2200 \tWARNING \tUser requested fullscreen with size [1920 1080], but screen is actually [1280, 800]. Using actual size\n"
     ]
    }
   ],
   "source": [
    "from constants import DISPSIZE\n",
    "from psychopy.visual import Window, TextStim\n",
    "from psychopy.event import waitKeys\n",
    "\n",
    "disp = Window(size=DISPSIZE, units='pix', fullscr=True)\n",
    "\n",
    "question = 'What do you think of this question?'\n",
    "qpos = (0, int(DISPSIZE[1]*0.2))\n",
    "qstim = TextStim(disp, text=question, pos=qpos, height=24)\n",
    "qstim.draw()\n",
    "\n",
    "respstim = TextStim(disp, text='', height=24)\n",
    "\n",
    "response = ''\n",
    "done = False\n",
    "\n",
    "while not done:\n",
    "    resplist = waitKeys(maxWait=float('inf'), keyList=None, timeStamped=True)\n",
    "    key, presstime = resplist[0]\n",
    "    if len(key) == 1:\n",
    "        response += key\n",
    "    elif key == 'space':\n",
    "        response += ' '\n",
    "    elif key == 'backspace' and len(response) > 0: \n",
    "        response = response[0:-1]\n",
    "    \n",
    "    if key == 'return': \n",
    "        done = True\n",
    "\n",
    "    respstim.setText(response)\n",
    "    qstim.draw()\n",
    "    respstim.draw()\n",
    "    disp.flip()\n",
    "\n",
    "disp.close()"
   ]
  },
  {
   "cell_type": "markdown",
   "metadata": {},
   "source": [
    "#### display 관련"
   ]
  },
  {
   "cell_type": "markdown",
   "metadata": {},
   "source": [
    "<code>\n",
    "PyGaze code\n",
    "  from pygaze.display import Display\n",
    "    \n",
    "PsychoPy code\n",
    "  from psychopy.visual import Window\n",
    "</code>    "
   ]
  },
  {
   "cell_type": "markdown",
   "metadata": {},
   "source": [
    "<code>\n",
    "PyGaze code\n",
    "  disp = Display()\n",
    "\n",
    "PsychoPy code\n",
    "  disp = Window(units='pix', fullscr=True)\n",
    "</code>    "
   ]
  },
  {
   "cell_type": "markdown",
   "metadata": {},
   "source": [
    "<code>\n",
    "PyGaze code\n",
    "  disp.close()\n",
    "\n",
    "PsychoPy code\n",
    "  disp.close()\n",
    "</code>    "
   ]
  },
  {
   "cell_type": "code",
   "execution_count": 50,
   "metadata": {},
   "outputs": [
    {
     "name": "stdout",
     "output_type": "stream",
     "text": [
      "668.8704 \tWARNING \tMonitor specification not found. Creating a temporary one...\n",
      "668.8710 \tWARNING \tUser requested fullscreen with size [1920 1080], but screen is actually [1280, 800]. Using actual size\n"
     ]
    }
   ],
   "source": [
    "from psychopy.visual import Window\n",
    "\n",
    "# Initialise a new Window instance.\n",
    "disp = Window(size=DISPSIZE, units='pix', fullscr=True)\n",
    "\n",
    "# Close the Display again.\n",
    "disp.close()"
   ]
  },
  {
   "cell_type": "markdown",
   "metadata": {},
   "source": [
    "# MAKE SOME NOISE"
   ]
  },
  {
   "cell_type": "markdown",
   "metadata": {},
   "source": [
    "#### Sinusoid and noise\n"
   ]
  },
  {
   "cell_type": "code",
   "execution_count": 49,
   "metadata": {},
   "outputs": [],
   "source": [
    "%matplotlib inline"
   ]
  },
  {
   "cell_type": "code",
   "execution_count": 50,
   "metadata": {},
   "outputs": [],
   "source": [
    "import numpy\n",
    "\n",
    "# create a range of numbers between 0 and 2pi\n",
    "x = numpy.arange(0, 2*numpy.pi, 0.01)\n",
    "\n",
    "# create a sine wave\n",
    "sine = numpy.sin(x)"
   ]
  },
  {
   "cell_type": "code",
   "execution_count": 51,
   "metadata": {},
   "outputs": [
    {
     "data": {
      "image/png": "[encoded data removed]",
      "text/plain": [
       "<matplotlib.figure.Figure at 0x1278a3550>"
      ]
     },
     "metadata": {},
     "output_type": "display_data"
    }
   ],
   "source": [
    "from matplotlib import pyplot\n",
    "\n",
    "# plot the sine wave\n",
    "pyplot.plot(x, sine)\n",
    "pyplot.show()"
   ]
  },
  {
   "cell_type": "code",
   "execution_count": 52,
   "metadata": {},
   "outputs": [
    {
     "data": {
      "image/png": "[encoded data removed]",
      "text/plain": [
       "<matplotlib.figure.Figure at 0x127a7ae90>"
      ]
     },
     "metadata": {},
     "output_type": "display_data"
    }
   ],
   "source": [
    "# create a bunch of random numbers\n",
    "# (with the same length as the sine wave)\n",
    "noise = numpy.random.rand(len(sine))\n",
    "\n",
    "# compare the sinusoid and the noise\n",
    "pyplot.plot(sine)\n",
    "pyplot.plot(noise)\n",
    "pyplot.show()"
   ]
  },
  {
   "cell_type": "code",
   "execution_count": 53,
   "metadata": {},
   "outputs": [
    {
     "data": {
      "image/png": "[encoded data removed]",
      "text/plain": [
       "<matplotlib.figure.Figure at 0x129c15050>"
      ]
     },
     "metadata": {},
     "output_type": "display_data"
    }
   ],
   "source": [
    "sine = sine * 16383\n",
    "pyplot.plot(x, sine)\n",
    "pyplot.show()"
   ]
  },
  {
   "cell_type": "code",
   "execution_count": 54,
   "metadata": {},
   "outputs": [
    {
     "data": {
      "image/png": "[encoded data removed]",
      "text/plain": [
       "<matplotlib.figure.Figure at 0x111270810>"
      ]
     },
     "metadata": {},
     "output_type": "display_data"
    }
   ],
   "source": [
    "high = numpy.arange(0, 2*numpy.pi, 0.01)\n",
    "mid = numpy.arange(0, 2*numpy.pi, 0.5)\n",
    "low = numpy.arange(0, 2*numpy.pi, 2)\n",
    "\n",
    "pyplot.plot(high, numpy.sin(high))\n",
    "pyplot.plot(mid, numpy.sin(mid))\n",
    "pyplot.plot(low, numpy.sin(low))\n",
    "pyplot.show()"
   ]
  },
  {
   "cell_type": "markdown",
   "metadata": {
    "collapsed": true
   },
   "source": [
    "# 참고자료\n",
    "* [1] Python for Experimental Psychologists - https://www.amazon.com/Python-Experimental-Psychologists-Edwin-Dalmaijer/dp/1138671576\n",
    "* [2] 책 정보 & 코드 - http://www.pygaze.org/pep/\n",
    "* [3] 코드 한번에 받기 - http://www.pygaze.org/resources/downloads/PEP/all-in-one.zip\n",
    "    "
   ]
  }
 ],
 "metadata": {
  "kernelspec": {
   "display_name": "Python 2",
   "language": "python",
   "name": "python2"
  },
  "language_info": {
   "codemirror_mode": {
    "name": "ipython",
    "version": 2
   },
   "file_extension": ".py",
   "mimetype": "text/x-python",
   "name": "python",
   "nbconvert_exporter": "python",
   "pygments_lexer": "ipython2",
   "version": "2.7.13"
  }
 },
 "nbformat": 4,
 "nbformat_minor": 2
}
