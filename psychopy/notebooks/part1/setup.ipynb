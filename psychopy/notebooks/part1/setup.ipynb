{
 "cells": [
  {
   "cell_type": "markdown",
   "metadata": {},
   "source": [
    "# PsychoPy 관련 준비"
   ]
  },
  {
   "cell_type": "markdown",
   "metadata": {},
   "source": [
    "* 어바웃 파이썬 : 8월 - PsychoPy [1]\n",
    "* 김무성"
   ]
  },
  {
   "cell_type": "markdown",
   "metadata": {},
   "source": [
    "# Contents\n",
    "* 아나콘다 + psychopy 환경 구성\n",
    "* 코드 & data 준비"
   ]
  },
  {
   "cell_type": "markdown",
   "metadata": {},
   "source": [
    "# 아나콘다 + psychopy 환경 구성"
   ]
  },
  {
   "cell_type": "markdown",
   "metadata": {},
   "source": [
    "* [5] http://qiita.com/mytk0u0/items/8bf1b2c061d454b2ffdc"
   ]
  },
  {
   "cell_type": "markdown",
   "metadata": {},
   "source": [
    "# 코드 & data 준비\n",
    "* [3] 코드 한번에 받기 - http://www.pygaze.org/resources/downloads/PEP/all-in-one.zip"
   ]
  },
  {
   "cell_type": "code",
   "execution_count": 1,
   "metadata": {
    "collapsed": true
   },
   "outputs": [],
   "source": [
    "import os"
   ]
  },
  {
   "cell_type": "code",
   "execution_count": 2,
   "metadata": {},
   "outputs": [
    {
     "data": {
      "application/json": {
       "cell": {
        "!": "OSMagics",
        "HTML": "Other",
        "SVG": "Other",
        "bash": "Other",
        "capture": "ExecutionMagics",
        "debug": "ExecutionMagics",
        "file": "Other",
        "html": "DisplayMagics",
        "javascript": "DisplayMagics",
        "js": "DisplayMagics",
        "latex": "DisplayMagics",
        "perl": "Other",
        "prun": "ExecutionMagics",
        "pypy": "Other",
        "python": "Other",
        "python2": "Other",
        "python3": "Other",
        "ruby": "Other",
        "script": "ScriptMagics",
        "sh": "Other",
        "svg": "DisplayMagics",
        "sx": "OSMagics",
        "system": "OSMagics",
        "time": "ExecutionMagics",
        "timeit": "ExecutionMagics",
        "writefile": "OSMagics"
       },
       "line": {
        "alias": "OSMagics",
        "alias_magic": "BasicMagics",
        "autocall": "AutoMagics",
        "automagic": "AutoMagics",
        "autosave": "KernelMagics",
        "bookmark": "OSMagics",
        "cat": "Other",
        "cd": "OSMagics",
        "clear": "KernelMagics",
        "colors": "BasicMagics",
        "config": "ConfigMagics",
        "connect_info": "KernelMagics",
        "cp": "Other",
        "debug": "ExecutionMagics",
        "dhist": "OSMagics",
        "dirs": "OSMagics",
        "doctest_mode": "BasicMagics",
        "ed": "Other",
        "edit": "KernelMagics",
        "env": "OSMagics",
        "gui": "BasicMagics",
        "hist": "Other",
        "history": "HistoryMagics",
        "killbgscripts": "ScriptMagics",
        "ldir": "Other",
        "less": "KernelMagics",
        "lf": "Other",
        "lk": "Other",
        "ll": "Other",
        "load": "CodeMagics",
        "load_ext": "ExtensionMagics",
        "loadpy": "CodeMagics",
        "logoff": "LoggingMagics",
        "logon": "LoggingMagics",
        "logstart": "LoggingMagics",
        "logstate": "LoggingMagics",
        "logstop": "LoggingMagics",
        "ls": "Other",
        "lsmagic": "BasicMagics",
        "lx": "Other",
        "macro": "ExecutionMagics",
        "magic": "BasicMagics",
        "man": "KernelMagics",
        "matplotlib": "PylabMagics",
        "mkdir": "Other",
        "more": "KernelMagics",
        "mv": "Other",
        "notebook": "BasicMagics",
        "page": "BasicMagics",
        "pastebin": "CodeMagics",
        "pdb": "ExecutionMagics",
        "pdef": "NamespaceMagics",
        "pdoc": "NamespaceMagics",
        "pfile": "NamespaceMagics",
        "pinfo": "NamespaceMagics",
        "pinfo2": "NamespaceMagics",
        "popd": "OSMagics",
        "pprint": "BasicMagics",
        "precision": "BasicMagics",
        "profile": "BasicMagics",
        "prun": "ExecutionMagics",
        "psearch": "NamespaceMagics",
        "psource": "NamespaceMagics",
        "pushd": "OSMagics",
        "pwd": "OSMagics",
        "pycat": "OSMagics",
        "pylab": "PylabMagics",
        "qtconsole": "KernelMagics",
        "quickref": "BasicMagics",
        "recall": "HistoryMagics",
        "rehashx": "OSMagics",
        "reload_ext": "ExtensionMagics",
        "rep": "Other",
        "rerun": "HistoryMagics",
        "reset": "NamespaceMagics",
        "reset_selective": "NamespaceMagics",
        "rm": "Other",
        "rmdir": "Other",
        "run": "ExecutionMagics",
        "save": "CodeMagics",
        "sc": "OSMagics",
        "set_env": "OSMagics",
        "store": "StoreMagics",
        "sx": "OSMagics",
        "system": "OSMagics",
        "tb": "ExecutionMagics",
        "time": "ExecutionMagics",
        "timeit": "ExecutionMagics",
        "unalias": "OSMagics",
        "unload_ext": "ExtensionMagics",
        "who": "NamespaceMagics",
        "who_ls": "NamespaceMagics",
        "whos": "NamespaceMagics",
        "xdel": "NamespaceMagics",
        "xmode": "BasicMagics"
       }
      },
      "text/plain": [
       "Available line magics:\n",
       "%alias  %alias_magic  %autocall  %automagic  %autosave  %bookmark  %cat  %cd  %clear  %colors  %config  %connect_info  %cp  %debug  %dhist  %dirs  %doctest_mode  %ed  %edit  %env  %gui  %hist  %history  %killbgscripts  %ldir  %less  %lf  %lk  %ll  %load  %load_ext  %loadpy  %logoff  %logon  %logstart  %logstate  %logstop  %ls  %lsmagic  %lx  %macro  %magic  %man  %matplotlib  %mkdir  %more  %mv  %notebook  %page  %pastebin  %pdb  %pdef  %pdoc  %pfile  %pinfo  %pinfo2  %popd  %pprint  %precision  %profile  %prun  %psearch  %psource  %pushd  %pwd  %pycat  %pylab  %qtconsole  %quickref  %recall  %rehashx  %reload_ext  %rep  %rerun  %reset  %reset_selective  %rm  %rmdir  %run  %save  %sc  %set_env  %store  %sx  %system  %tb  %time  %timeit  %unalias  %unload_ext  %who  %who_ls  %whos  %xdel  %xmode\n",
       "\n",
       "Available cell magics:\n",
       "%%!  %%HTML  %%SVG  %%bash  %%capture  %%debug  %%file  %%html  %%javascript  %%js  %%latex  %%perl  %%prun  %%pypy  %%python  %%python2  %%python3  %%ruby  %%script  %%sh  %%svg  %%sx  %%system  %%time  %%timeit  %%writefile\n",
       "\n",
       "Automagic is ON, % prefix IS NOT needed for line magics."
      ]
     },
     "execution_count": 2,
     "metadata": {},
     "output_type": "execute_result"
    }
   ],
   "source": [
    "# jupyter 매직 명령어 (컴퓨터 OS 상관없이 쓸 수 있다)\n",
    "# 참고 - [4] https://www.slideshare.net/dahlmoon/jupyter-notebok-20160815\n",
    "%lsmagic"
   ]
  },
  {
   "cell_type": "code",
   "execution_count": 3,
   "metadata": {},
   "outputs": [
    {
     "name": "stdout",
     "output_type": "stream",
     "text": [
      "README.md             hello_psychopy.ipynb\r\n",
      "\u001b[34mch03\u001b[m\u001b[m/                 setup.ipynb\r\n"
     ]
    }
   ],
   "source": [
    "# 현재 디렉토리 확인 \n",
    "%ls"
   ]
  },
  {
   "cell_type": "code",
   "execution_count": 8,
   "metadata": {},
   "outputs": [
    {
     "name": "stdout",
     "output_type": "stream",
     "text": [
      "Collecting wget\n",
      "  Downloading wget-3.2.zip\n",
      "Building wheels for collected packages: wget\n",
      "  Running setup.py bdist_wheel for wget ... \u001b[?25ldone\n",
      "\u001b[?25h  Stored in directory: /Users/moodern/Library/Caches/pip/wheels/6d/98/29/61ccc41148f871009126c2e844e26f73eeb25e12cca92228a5\n",
      "Successfully built wget\n",
      "Installing collected packages: wget\n",
      "Successfully installed wget-3.2\n"
     ]
    }
   ],
   "source": [
    "# wget 파이썬 패키지를 설치하자 \n",
    "!pip install wget "
   ]
  },
  {
   "cell_type": "code",
   "execution_count": 24,
   "metadata": {},
   "outputs": [
    {
     "data": {
      "text/plain": [
       "u'all-in-one.zip'"
      ]
     },
     "execution_count": 24,
     "metadata": {},
     "output_type": "execute_result"
    }
   ],
   "source": [
    "# 실습 파일을 다운로드 받자 \n",
    "import wget\n",
    "url = \"http://www.pygaze.org/resources/downloads/PEP/all-in-one.zip\"\n",
    "wget.download(url)"
   ]
  },
  {
   "cell_type": "code",
   "execution_count": 22,
   "metadata": {},
   "outputs": [
    {
     "name": "stdout",
     "output_type": "stream",
     "text": [
      "\u001b[34mPEP_all-in-one\u001b[m\u001b[m/       all-in-one.zip        hello_psychopy.ipynb\r\n",
      "README.md             \u001b[34mch03\u001b[m\u001b[m/                 setup.ipynb\r\n"
     ]
    }
   ],
   "source": [
    "%ls"
   ]
  },
  {
   "cell_type": "code",
   "execution_count": 6,
   "metadata": {
    "collapsed": true
   },
   "outputs": [],
   "source": [
    "# 압축파일을 풀기위한 패키지\n",
    "import zipfile"
   ]
  },
  {
   "cell_type": "code",
   "execution_count": 7,
   "metadata": {
    "collapsed": true
   },
   "outputs": [],
   "source": [
    "all_zip = zipfile.ZipFile('all-in-one.zip')\n",
    "all_zip.extractall('./')\n",
    "all_zip.close()"
   ]
  },
  {
   "cell_type": "code",
   "execution_count": 8,
   "metadata": {},
   "outputs": [
    {
     "name": "stdout",
     "output_type": "stream",
     "text": [
      "\u001b[34mPEP_all-in-one\u001b[m\u001b[m/       all-in-one.zip        hello_psychopy.ipynb\r\n",
      "README.md             \u001b[34mch03\u001b[m\u001b[m/                 setup.ipynb\r\n"
     ]
    }
   ],
   "source": [
    "%ls"
   ]
  },
  {
   "cell_type": "markdown",
   "metadata": {},
   "source": [
    "# 파일들"
   ]
  },
  {
   "cell_type": "code",
   "execution_count": 9,
   "metadata": {},
   "outputs": [
    {
     "name": "stdout",
     "output_type": "stream",
     "text": [
      "\u001b[34mChapter_03\u001b[m\u001b[m/                           \u001b[34mChapter_08\u001b[m\u001b[m/\r\n",
      "\u001b[34mChapter_04\u001b[m\u001b[m/                           \u001b[34mMake_Some_Noise_1_Visual\u001b[m\u001b[m/\r\n",
      "\u001b[34mChapter_05\u001b[m\u001b[m/                           \u001b[34mMake_Some_Noise_2_Sound\u001b[m\u001b[m/\r\n",
      "\u001b[34mChapter_06\u001b[m\u001b[m/                           \u001b[34mMake_Some_Noise_3_Musical_Instrument\u001b[m\u001b[m/\r\n",
      "\u001b[34mChapter_07\u001b[m\u001b[m/\r\n"
     ]
    }
   ],
   "source": [
    "%ls PEP_all-in-one/"
   ]
  },
  {
   "cell_type": "code",
   "execution_count": 10,
   "metadata": {},
   "outputs": [
    {
     "name": "stdout",
     "output_type": "stream",
     "text": [
      "PEP_all-in-one/Chapter_03:\r\n",
      "\u001b[34mcode\u001b[m\u001b[m/  \u001b[34mfiles\u001b[m\u001b[m/\r\n",
      "\r\n",
      "PEP_all-in-one/Chapter_04:\r\n",
      "\u001b[34mcode\u001b[m\u001b[m/\r\n",
      "\r\n",
      "PEP_all-in-one/Chapter_05:\r\n",
      "\u001b[34mcode\u001b[m\u001b[m/\r\n",
      "\r\n",
      "PEP_all-in-one/Chapter_06:\r\n",
      "\u001b[34mcode\u001b[m\u001b[m/  \u001b[34mdata\u001b[m\u001b[m/  \u001b[34mfiles\u001b[m\u001b[m/\r\n",
      "\r\n",
      "PEP_all-in-one/Chapter_07:\r\n",
      "\u001b[34mcode\u001b[m\u001b[m/  \u001b[34mdata\u001b[m\u001b[m/  \u001b[34mfiles\u001b[m\u001b[m/\r\n",
      "\r\n",
      "PEP_all-in-one/Chapter_08:\r\n",
      "\u001b[34mcode\u001b[m\u001b[m/  \u001b[34mdata\u001b[m\u001b[m/  \u001b[34mfiles\u001b[m\u001b[m/\r\n",
      "\r\n",
      "PEP_all-in-one/Make_Some_Noise_1_Visual:\r\n",
      "\u001b[34mcode\u001b[m\u001b[m/  \u001b[34mfiles\u001b[m\u001b[m/\r\n",
      "\r\n",
      "PEP_all-in-one/Make_Some_Noise_2_Sound:\r\n",
      "\u001b[34mcode\u001b[m\u001b[m/  \u001b[34mfiles\u001b[m\u001b[m/\r\n",
      "\r\n",
      "PEP_all-in-one/Make_Some_Noise_3_Musical_Instrument:\r\n",
      "\u001b[34mcode\u001b[m\u001b[m/\r\n"
     ]
    }
   ],
   "source": [
    "%ls PEP_all-in-one/*"
   ]
  },
  {
   "cell_type": "code",
   "execution_count": 11,
   "metadata": {},
   "outputs": [
    {
     "name": "stdout",
     "output_type": "stream",
     "text": [
      "PEP_all-in-one/Chapter_03/code:\r\n",
      "01_The_display_PsychoPy.zip\r\n",
      "01_The_display_PyGaze.zip\r\n",
      "02_Screens_PsychoPy.zip\r\n",
      "02_Screens_PyGaze.zip\r\n",
      "03_Advanced_creating_patches_PsychoPy.zip\r\n",
      "03_Advanced_creating_patches_PyGaze.zip\r\n",
      "\r\n",
      "PEP_all-in-one/Chapter_03/files:\r\n",
      "example.png\r\n",
      "\r\n",
      "PEP_all-in-one/Chapter_04/code:\r\n",
      "01_Keyboard_input_PsychoPy.zip  02_While_Loops_PsychoPy.zip\r\n",
      "01_Keyboard_input_PyGaze.zip    02_While_Loops_PyGaze.zip\r\n",
      "\r\n",
      "PEP_all-in-one/Chapter_05/code:\r\n",
      "01_Single_trial_PsychoPy.zip      02_Whole_experiment_PsychoPy.zip\r\n",
      "01_Single_trial_PyGaze.zip        02_Whole_experiment_PyGaze.zip\r\n",
      "\r\n",
      "PEP_all-in-one/Chapter_06/code:\r\n",
      "Analysing_behavioural_data.py\r\n",
      "\r\n",
      "PEP_all-in-one/Chapter_06/data:\r\n",
      "pp0.txt  pp2.txt  pp4.txt  pp6.txt  pp8.txt\r\n",
      "pp1.txt  pp3.txt  pp5.txt  pp7.txt  pp9.txt\r\n",
      "\r\n",
      "PEP_all-in-one/Chapter_06/files:\r\n",
      "Analysing_behavioural_data_output.zip\r\n",
      "\r\n",
      "PEP_all-in-one/Chapter_07/code:\r\n",
      "Analysing_traces.zip\r\n",
      "\r\n",
      "PEP_all-in-one/Chapter_07/data:\r\n",
      "ED_pupil.asc\r\n",
      "\r\n",
      "PEP_all-in-one/Chapter_07/files:\r\n",
      "Analysing_traces_output.png\r\n",
      "\r\n",
      "PEP_all-in-one/Chapter_08/code:\r\n",
      "01_Creating_an_eye-tracking_experiment.zip\r\n",
      "02_Analysing_gaze_data.zip\r\n",
      "\r\n",
      "PEP_all-in-one/Chapter_08/data:\r\n",
      "default.asc\r\n",
      "\r\n",
      "PEP_all-in-one/Chapter_08/files:\r\n",
      "Analysing_gaze_data_output.zip  images.zip\r\n",
      "\r\n",
      "PEP_all-in-one/Make_Some_Noise_1_Visual/code:\r\n",
      "rgb_noise.py\r\n",
      "\r\n",
      "PEP_all-in-one/Make_Some_Noise_1_Visual/files:\r\n",
      "visual_noise.png\r\n",
      "\r\n",
      "PEP_all-in-one/Make_Some_Noise_2_Sound/code:\r\n",
      "make_sound.py\r\n",
      "\r\n",
      "PEP_all-in-one/Make_Some_Noise_2_Sound/files:\r\n",
      "noise.wav      pure_tone.wav\r\n",
      "\r\n",
      "PEP_all-in-one/Make_Some_Noise_3_Musical_Instrument/code:\r\n",
      "constants.py            noisemaker_joystick.py  noisemaker_keyboard.py\r\n"
     ]
    }
   ],
   "source": [
    "%ls PEP_all-in-one/*/*"
   ]
  },
  {
   "cell_type": "markdown",
   "metadata": {
    "collapsed": true
   },
   "source": [
    "# 참고자료\n",
    "* [1] Python for Experimental Psychologists - https://www.amazon.com/Python-Experimental-Psychologists-Edwin-Dalmaijer/dp/1138671576\n",
    "* [2] 책 정보 & 코드 - http://www.pygaze.org/pep/\n",
    "* [3] 코드 한번에 받기 - http://www.pygaze.org/resources/downloads/PEP/all-in-one.zip\n",
    "* [4] https://www.slideshare.net/dahlmoon/jupyter-notebok-20160815\n",
    "%lsmagic    \n",
    "* [5] http://qiita.com/mytk0u0/items/8bf1b2c061d454b2ffdc"
   ]
  }
 ],
 "metadata": {
  "kernelspec": {
   "display_name": "Python 2",
   "language": "python",
   "name": "python2"
  },
  "language_info": {
   "codemirror_mode": {
    "name": "ipython",
    "version": 2
   },
   "file_extension": ".py",
   "mimetype": "text/x-python",
   "name": "python",
   "nbconvert_exporter": "python",
   "pygments_lexer": "ipython2",
   "version": "2.7.13"
  }
 },
 "nbformat": 4,
 "nbformat_minor": 2
}
