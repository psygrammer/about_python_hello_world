{
 "cells": [
  {
   "cell_type": "markdown",
   "metadata": {},
   "source": [
    "# 3 Creating and presenting stimuli"
   ]
  },
  {
   "cell_type": "markdown",
   "metadata": {},
   "source": [
    "* 어바웃 파이썬 : 8월 - PsychoPy [1]\n",
    "* 김무성"
   ]
  },
  {
   "cell_type": "markdown",
   "metadata": {},
   "source": [
    "# Contents\n",
    "* Scripts\n",
    "* The display\n",
    "* Running scripts\n",
    "* Timing\n",
    "* Screens\n",
    "* Advanced: creating patches Comments"
   ]
  },
  {
   "cell_type": "markdown",
   "metadata": {},
   "source": [
    "#### 준비단계 \n",
    "* ../ 폴더의 setup.ipynb 실행한 후"
   ]
  },
  {
   "cell_type": "code",
   "execution_count": 24,
   "metadata": {},
   "outputs": [
    {
     "name": "stdout",
     "output_type": "stream",
     "text": [
      "03_Creating_and_presenting_stimuli.ipynb\r\n"
     ]
    }
   ],
   "source": [
    "# 현재 디렉토리 확인 \n",
    "%ls"
   ]
  },
  {
   "cell_type": "code",
   "execution_count": 25,
   "metadata": {},
   "outputs": [
    {
     "name": "stdout",
     "output_type": "stream",
     "text": [
      "\u001b[34mPEP_all-in-one\u001b[m\u001b[m/       all-in-one.zip        hello_psychopy.ipynb\r\n",
      "README.md             \u001b[34mch03\u001b[m\u001b[m/                 setup.ipynb\r\n"
     ]
    }
   ],
   "source": [
    "# 실습 관련 책의 코드와 데이터\n",
    "%ls .."
   ]
  },
  {
   "cell_type": "code",
   "execution_count": 28,
   "metadata": {},
   "outputs": [
    {
     "name": "stdout",
     "output_type": "stream",
     "text": [
      "01_The_display_PsychoPy.zip\r\n",
      "01_The_display_PyGaze.zip\r\n",
      "02_Screens_PsychoPy.zip\r\n",
      "02_Screens_PyGaze.zip\r\n",
      "03_Advanced_creating_patches_PsychoPy.zip\r\n",
      "03_Advanced_creating_patches_PyGaze.zip\r\n"
     ]
    }
   ],
   "source": [
    "%ls ../PEP_all-in-one/Chapter_03/code/"
   ]
  },
  {
   "cell_type": "code",
   "execution_count": 29,
   "metadata": {
    "collapsed": true
   },
   "outputs": [],
   "source": [
    "# 실습 파일 가져오자\n",
    "%cp -r ../PEP_all-in-one/Chapter_03 ."
   ]
  },
  {
   "cell_type": "code",
   "execution_count": 30,
   "metadata": {},
   "outputs": [
    {
     "name": "stdout",
     "output_type": "stream",
     "text": [
      "03_Creating_and_presenting_stimuli.ipynb\r\n",
      "\u001b[34mChapter_03\u001b[m\u001b[m/\r\n"
     ]
    }
   ],
   "source": [
    "%ls"
   ]
  },
  {
   "cell_type": "markdown",
   "metadata": {},
   "source": [
    "# Scripts"
   ]
  },
  {
   "cell_type": "code",
   "execution_count": 31,
   "metadata": {},
   "outputs": [
    {
     "name": "stdout",
     "output_type": "stream",
     "text": [
      "/Users/moodern/work/00_aboutpython_psychopy/ch03/Chapter_03/code\n"
     ]
    }
   ],
   "source": [
    "# 작업 디렉토리 이동 \n",
    "%cd Chapter_03/code/"
   ]
  },
  {
   "cell_type": "code",
   "execution_count": 32,
   "metadata": {},
   "outputs": [
    {
     "name": "stdout",
     "output_type": "stream",
     "text": [
      "01_The_display_PsychoPy.zip\r\n",
      "01_The_display_PyGaze.zip\r\n",
      "02_Screens_PsychoPy.zip\r\n",
      "02_Screens_PyGaze.zip\r\n",
      "03_Advanced_creating_patches_PsychoPy.zip\r\n",
      "03_Advanced_creating_patches_PyGaze.zip\r\n"
     ]
    }
   ],
   "source": [
    "%ls"
   ]
  },
  {
   "cell_type": "code",
   "execution_count": 33,
   "metadata": {
    "collapsed": true
   },
   "outputs": [],
   "source": [
    "# 압축파일을 풀기위한 패키지\n",
    "import zipfile"
   ]
  },
  {
   "cell_type": "code",
   "execution_count": 34,
   "metadata": {
    "collapsed": true
   },
   "outputs": [],
   "source": [
    "all_zip = zipfile.ZipFile('01_The_display_PsychoPy.zip')\n",
    "all_zip.extractall('./')\n",
    "all_zip.close()"
   ]
  },
  {
   "cell_type": "code",
   "execution_count": 35,
   "metadata": {},
   "outputs": [
    {
     "name": "stdout",
     "output_type": "stream",
     "text": [
      "\u001b[34m01_The_display_PsychoPy\u001b[m\u001b[m/\r\n",
      "01_The_display_PsychoPy.zip\r\n",
      "01_The_display_PyGaze.zip\r\n",
      "02_Screens_PsychoPy.zip\r\n",
      "02_Screens_PyGaze.zip\r\n",
      "03_Advanced_creating_patches_PsychoPy.zip\r\n",
      "03_Advanced_creating_patches_PyGaze.zip\r\n"
     ]
    }
   ],
   "source": [
    "%ls"
   ]
  },
  {
   "cell_type": "code",
   "execution_count": 36,
   "metadata": {},
   "outputs": [
    {
     "name": "stdout",
     "output_type": "stream",
     "text": [
      "/Users/moodern/work/00_aboutpython_psychopy/ch03/Chapter_03/code/01_The_display_PsychoPy\n"
     ]
    }
   ],
   "source": [
    "# 작업 디렉토리 이동\n",
    "%cd 01_The_display_PsychoPy/"
   ]
  },
  {
   "cell_type": "code",
   "execution_count": 37,
   "metadata": {},
   "outputs": [
    {
     "name": "stdout",
     "output_type": "stream",
     "text": [
      "constants.py   experiment.py\r\n"
     ]
    }
   ],
   "source": [
    "%ls"
   ]
  },
  {
   "cell_type": "markdown",
   "metadata": {},
   "source": [
    "### 실행 방법 1. \n",
    "콘솔창을 열어서 \n",
    "python experiment.py  "
   ]
  },
  {
   "cell_type": "markdown",
   "metadata": {},
   "source": [
    "### 실행 방법 2."
   ]
  },
  {
   "cell_type": "code",
   "execution_count": 47,
   "metadata": {},
   "outputs": [
    {
     "name": "stdout",
     "output_type": "stream",
     "text": [
      "1.2270 \tWARNING \tMonitor specification not found. Creating a temporary one...\r\n",
      "1.2280 \tWARNING \tUser requested fullscreen with size [1920 1080], but screen is actually [1280, 800]. Using actual size\r\n"
     ]
    }
   ],
   "source": [
    "# 노트북에서 직접 실행\n",
    "!python experiment.py"
   ]
  },
  {
   "cell_type": "markdown",
   "metadata": {},
   "source": [
    "### 실행 방법 3."
   ]
  },
  {
   "cell_type": "code",
   "execution_count": 75,
   "metadata": {},
   "outputs": [
    {
     "name": "stdout",
     "output_type": "stream",
     "text": [
      "2438.4803 \tWARNING \tMonitor specification not found. Creating a temporary one...\n",
      "2438.4850 \tWARNING \tUser requested fullscreen with size [1920 1080], but screen is actually [1280, 800]. Using actual size\n"
     ]
    }
   ],
   "source": [
    "# 직접 노트북에서 \n",
    "from constants import DISPSIZE\n",
    "from psychopy.visual import Window\n",
    "from psychopy.core import wait\n",
    "\n",
    "# Initialise a new Window instance.\n",
    "disp = Window(size=DISPSIZE, units='pix', fullscr=True)\n",
    "\n",
    "# Wait for two seconds.\n",
    "wait(2)\n",
    "\n",
    "# Close the Display again.\n",
    "disp.close()"
   ]
  },
  {
   "cell_type": "markdown",
   "metadata": {},
   "source": [
    "# The display"
   ]
  },
  {
   "cell_type": "markdown",
   "metadata": {},
   "source": [
    "#### Screen Resolution"
   ]
  },
  {
   "cell_type": "markdown",
   "metadata": {},
   "source": [
    "<code>\n",
    "PyGaze code\n",
    "  DISPTYPE = ‘pygame’\n",
    "  DISPSIZE = (1920, 1080)\n",
    "\n",
    "PsychoPy code\n",
    "  DISPSIZE = (1920, 1080)\n",
    "</code>  "
   ]
  },
  {
   "cell_type": "markdown",
   "metadata": {},
   "source": [
    "#### Units and colours in PsychoPy Windows"
   ]
  },
  {
   "cell_type": "markdown",
   "metadata": {},
   "source": [
    "<code>\n",
    "PyGaze code\n",
    "  FGC = (0, 0, 0)\n",
    "  BGC = (128, 128, 128)\n",
    "  \n",
    "PsychoPy code\n",
    "  FGC = (−1, −1, −1)\n",
    "  BGC = (0, 0, 0)\n",
    "</code>"
   ]
  },
  {
   "cell_type": "markdown",
   "metadata": {},
   "source": [
    "#### display 관련"
   ]
  },
  {
   "cell_type": "markdown",
   "metadata": {},
   "source": [
    "<code>\n",
    "PyGaze code\n",
    "  from pygaze.display import Display\n",
    "    \n",
    "PsychoPy code\n",
    "  from psychopy.visual import Window\n",
    "</code>    "
   ]
  },
  {
   "cell_type": "markdown",
   "metadata": {},
   "source": [
    "<code>\n",
    "PyGaze code\n",
    "  disp = Display()\n",
    "\n",
    "PsychoPy code\n",
    "  disp = Window(units='pix', fullscr=True)\n",
    "</code>    "
   ]
  },
  {
   "cell_type": "markdown",
   "metadata": {},
   "source": [
    "<code>\n",
    "PyGaze code\n",
    "  disp.close()\n",
    "\n",
    "PsychoPy code\n",
    "  disp.close()\n",
    "</code>    "
   ]
  },
  {
   "cell_type": "code",
   "execution_count": 76,
   "metadata": {},
   "outputs": [
    {
     "name": "stdout",
     "output_type": "stream",
     "text": [
      "2557.1158 \tWARNING \tMonitor specification not found. Creating a temporary one...\n",
      "2557.1165 \tWARNING \tUser requested fullscreen with size [1920 1080], but screen is actually [1280, 800]. Using actual size\n"
     ]
    }
   ],
   "source": [
    "from psychopy.visual import Window\n",
    "\n",
    "# Initialise a new Window instance.\n",
    "disp = Window(size=DISPSIZE, units='pix', fullscr=True)\n",
    "\n",
    "# Close the Display again.\n",
    "disp.close()"
   ]
  },
  {
   "cell_type": "markdown",
   "metadata": {},
   "source": [
    "#### Units and colours in Psychopy Windows"
   ]
  },
  {
   "cell_type": "markdown",
   "metadata": {},
   "source": [
    "* http://www.psychopy.org/general/colours.html"
   ]
  },
  {
   "cell_type": "markdown",
   "metadata": {},
   "source": [
    "# Running scripts"
   ]
  },
  {
   "cell_type": "markdown",
   "metadata": {},
   "source": [
    "### 실습 1 : PyGaze 코드를 실행시켜 보자\n"
   ]
  },
  {
   "cell_type": "code",
   "execution_count": 77,
   "metadata": {},
   "outputs": [
    {
     "name": "stdout",
     "output_type": "stream",
     "text": [
      "Requirement already satisfied: python-pygaze in /Users/moodern/anaconda/envs/about_python_psychopy/lib/python2.7/site-packages\r\n"
     ]
    }
   ],
   "source": [
    "# 우선 설치를 해야 한다\n",
    "# 설치관련 정보 - https://www.pygaze.org/downloads/\n",
    "!pip install python-pygaze"
   ]
  },
  {
   "cell_type": "code",
   "execution_count": null,
   "metadata": {
    "collapsed": true
   },
   "outputs": [],
   "source": [
    "# 책에서 제공하는 실습 코드를 실행해보자.\n"
   ]
  },
  {
   "cell_type": "markdown",
   "metadata": {},
   "source": [
    "# Timing"
   ]
  },
  {
   "cell_type": "markdown",
   "metadata": {},
   "source": [
    "<code>\n",
    "PyGaze code\n",
    "  import pygaze.libtime as timer\n",
    "\n",
    "PsychoPy code\n",
    "  from psychopy.core import wait\n",
    "</code>    "
   ]
  },
  {
   "cell_type": "markdown",
   "metadata": {},
   "source": [
    "#### PyGaze code"
   ]
  },
  {
   "cell_type": "code",
   "execution_count": 10,
   "metadata": {},
   "outputs": [
    {
     "name": "stdout",
     "output_type": "stream",
     "text": [
      "311.7417 \tWARNING \tMonitor specification not found. Creating a temporary one...\n",
      "311.7427 \tWARNING \tUser requested fullscreen with size [1920 1080], but screen is actually [800, 600]. Using actual size\n"
     ]
    }
   ],
   "source": [
    "from pygaze.display import Display\n",
    "import pygaze.libtime as timer\n",
    "\n",
    "disp = Display()\n",
    "timer.pause(2000)\n",
    "\n",
    "disp.close()"
   ]
  },
  {
   "cell_type": "markdown",
   "metadata": {},
   "source": [
    "#### PsychoPy code"
   ]
  },
  {
   "cell_type": "code",
   "execution_count": 51,
   "metadata": {},
   "outputs": [
    {
     "name": "stdout",
     "output_type": "stream",
     "text": [
      "695.9739 \tWARNING \tMonitor specification not found. Creating a temporary one...\n",
      "695.9746 \tWARNING \tUser requested fullscreen with size [1920 1080], but screen is actually [1280, 800]. Using actual size\n"
     ]
    }
   ],
   "source": [
    "# Window resolution.\n",
    "DISPSIZE = (1920, 1080)\n",
    "from psychopy.visual import Window\n",
    "from psychopy.core import wait\n",
    "\n",
    "disp = Window(size=DISPSIZE, units='pix', fullscr=True)\n",
    "wait(2)\n",
    "\n",
    "disp.close()"
   ]
  },
  {
   "cell_type": "markdown",
   "metadata": {},
   "source": [
    "# Screens"
   ]
  },
  {
   "cell_type": "markdown",
   "metadata": {},
   "source": [
    "#### draw_fixation"
   ]
  },
  {
   "cell_type": "markdown",
   "metadata": {},
   "source": [
    "<code>\n",
    "PyGaze code\n",
    "  from pygaze.screen import Screen\n",
    "  fixscreen = Screen()\n",
    "  fixscreen.draw_fixation(fixtype='dot')\n",
    "</code>    "
   ]
  },
  {
   "cell_type": "code",
   "execution_count": 52,
   "metadata": {},
   "outputs": [
    {
     "name": "stdout",
     "output_type": "stream",
     "text": [
      "706.6836 \tWARNING \tMonitor specification not found. Creating a temporary one...\n",
      "706.6841 \tWARNING \tUser requested fullscreen with size [1920 1080], but screen is actually [1280, 800]. Using actual size\n"
     ]
    }
   ],
   "source": [
    "from pygaze.display import Display\n",
    "from pygaze.screen import Screen\n",
    "import pygaze.libtime as timer\n",
    "\n",
    "disp = Display()\n",
    "fixscreen = Screen()\n",
    "fixscreen.draw_fixation(fixtype='dot')\n",
    "\n",
    "disp.fill(fixscreen)\n",
    "disp.show()\n",
    "timer.pause(2000)\n",
    "disp.close()"
   ]
  },
  {
   "cell_type": "markdown",
   "metadata": {},
   "source": [
    "<code>\n",
    "PyschoPy code\n",
    "  from psychopy.visual import Window, Circle\n",
    "  disp = Window(units=‘pix’)\n",
    "  fixmark = Circle(disp, radius=6, edges=64, lineColor=(0,0,0), fillColor=(0,0,0))\n",
    "</code>"
   ]
  },
  {
   "cell_type": "code",
   "execution_count": 53,
   "metadata": {},
   "outputs": [
    {
     "name": "stdout",
     "output_type": "stream",
     "text": [
      "713.4219 \tWARNING \tMonitor specification not found. Creating a temporary one...\n",
      "713.4225 \tWARNING \tUser requested fullscreen with size [1920 1080], but screen is actually [1280, 800]. Using actual size\n"
     ]
    }
   ],
   "source": [
    "#from constants import DISPSIZE, FGC\n",
    "DISPSIZE = (1920, 1080)\n",
    "FGC = (-1, -1, -1)\n",
    "from psychopy.visual import Window, Circle\n",
    "from psychopy.core import wait\n",
    "\n",
    "disp = Window(size=DISPSIZE, units='pix', fullscr=True)\n",
    "\n",
    "fixmark = Circle(disp, radius=6, edges=64, lineColor=FGC, fillColor=FGC)\n",
    "fixmark.draw()\n",
    "disp.flip()\n",
    "wait(2)\n",
    "\n",
    "disp.close()"
   ]
  },
  {
   "cell_type": "markdown",
   "metadata": {},
   "source": [
    "#### draw_image"
   ]
  },
  {
   "cell_type": "markdown",
   "metadata": {},
   "source": [
    "<code>\n",
    "PyGaze code\n",
    "  imgscreen = Screen()\n",
    "  imgscreen.draw_image(‘example.png’)\n",
    "\n",
    "PsychoPy code\n",
    "  from psychopy.visual import ImageStim\n",
    "  disp = Window(units='pix')\n",
    "  img = ImageStim(disp, image='example.png')\n",
    "</code>    "
   ]
  },
  {
   "cell_type": "markdown",
   "metadata": {},
   "source": [
    "##### 준비사항 : exmple.png 파일을 가져와야 한다."
   ]
  },
  {
   "cell_type": "code",
   "execution_count": 54,
   "metadata": {},
   "outputs": [
    {
     "name": "stdout",
     "output_type": "stream",
     "text": [
      "constants.py   constants.pyc  experiment.py\r\n"
     ]
    }
   ],
   "source": [
    "%ls"
   ]
  },
  {
   "cell_type": "code",
   "execution_count": 55,
   "metadata": {},
   "outputs": [
    {
     "name": "stdout",
     "output_type": "stream",
     "text": [
      "\u001b[34m01_The_display_PsychoPy\u001b[m\u001b[m/\r\n",
      "01_The_display_PsychoPy.zip\r\n",
      "01_The_display_PyGaze.zip\r\n",
      "02_Screens_PsychoPy.zip\r\n",
      "02_Screens_PyGaze.zip\r\n",
      "03_Advanced_creating_patches_PsychoPy.zip\r\n",
      "03_Advanced_creating_patches_PyGaze.zip\r\n"
     ]
    }
   ],
   "source": [
    "%ls .."
   ]
  },
  {
   "cell_type": "code",
   "execution_count": 57,
   "metadata": {},
   "outputs": [
    {
     "name": "stdout",
     "output_type": "stream",
     "text": [
      "\u001b[34mcode\u001b[m\u001b[m/  \u001b[34mfiles\u001b[m\u001b[m/\r\n"
     ]
    }
   ],
   "source": [
    "%ls ../.. "
   ]
  },
  {
   "cell_type": "code",
   "execution_count": 58,
   "metadata": {},
   "outputs": [
    {
     "name": "stdout",
     "output_type": "stream",
     "text": [
      "example.png\r\n"
     ]
    }
   ],
   "source": [
    "%ls ../../files"
   ]
  },
  {
   "cell_type": "code",
   "execution_count": 59,
   "metadata": {},
   "outputs": [],
   "source": [
    "%cp ../../files/example.png ."
   ]
  },
  {
   "cell_type": "code",
   "execution_count": 60,
   "metadata": {},
   "outputs": [
    {
     "name": "stdout",
     "output_type": "stream",
     "text": [
      "constants.py   constants.pyc  example.png    experiment.py\r\n"
     ]
    }
   ],
   "source": [
    "%ls"
   ]
  },
  {
   "cell_type": "code",
   "execution_count": 61,
   "metadata": {},
   "outputs": [
    {
     "name": "stdout",
     "output_type": "stream",
     "text": [
      "813.7061 \tWARNING \tMonitor specification not found. Creating a temporary one...\n",
      "813.7069 \tWARNING \tUser requested fullscreen with size [1920 1080], but screen is actually [1280, 800]. Using actual size\n"
     ]
    }
   ],
   "source": [
    "# PyGaze code\n",
    "from pygaze.display import Display\n",
    "from pygaze.screen import Screen\n",
    "import pygaze.libtime as timer\n",
    "  \n",
    "disp = Display()\n",
    "\n",
    "fixscreen = Screen()\n",
    "fixscreen.draw_fixation(fixtype='dot')\n",
    "  \n",
    "imgscreen = Screen()\n",
    "imgscreen.draw_image('example.png')\n",
    "\n",
    "disp.fill(fixscreen)\n",
    "disp.show()\n",
    "timer.pause(1000)\n",
    "  \n",
    "disp.fill(imgscreen)\n",
    "disp.show()\n",
    "timer.pause(2000)\n",
    "  \n",
    "disp.close()"
   ]
  },
  {
   "cell_type": "markdown",
   "metadata": {},
   "source": [
    "### 실습 2 : PsychoPy 코드로 해보자."
   ]
  },
  {
   "cell_type": "code",
   "execution_count": null,
   "metadata": {
    "collapsed": true
   },
   "outputs": [],
   "source": [
    "# PsychoPy code\n"
   ]
  },
  {
   "cell_type": "markdown",
   "metadata": {},
   "source": [
    "# Advanced: creating patches "
   ]
  },
  {
   "cell_type": "markdown",
   "metadata": {},
   "source": [
    "##### Gabor patches"
   ]
  },
  {
   "cell_type": "markdown",
   "metadata": {},
   "source": [
    "<code>\n",
    "PsychoPy code\n",
    "  from psychopy.visual import GratingStim\n",
    "\n",
    "  gabor = GratingStim(disp, tex='sin', mask='gauss', sf=0.05, size=200)\n",
    "</code>"
   ]
  },
  {
   "cell_type": "markdown",
   "metadata": {},
   "source": [
    "<code>\n",
    "PyGaze code\n",
    "  import pygaze\n",
    "\n",
    "  gabor = GratingStim(pygaze.expdisplay, tex=‘sin’, mask=‘gauss’, sf=0.05, size=200) \n",
    "  \n",
    "  gaborscreen = Screen()\n",
    "  gaborscreen.screen.append(gabor)\n",
    "</code>"
   ]
  },
  {
   "cell_type": "code",
   "execution_count": 62,
   "metadata": {},
   "outputs": [
    {
     "name": "stdout",
     "output_type": "stream",
     "text": [
      "829.5197 \tWARNING \tMonitor specification not found. Creating a temporary one...\n",
      "829.5205 \tWARNING \tUser requested fullscreen with size [1920 1080], but screen is actually [1280, 800]. Using actual size\n"
     ]
    }
   ],
   "source": [
    "# PyGaze code\n",
    "import pygaze\n",
    "from pygaze.display import Display\n",
    "from pygaze.screen import Screen\n",
    "import pygaze.libtime as timer\n",
    "from psychopy.visual import GratingStim\n",
    "\n",
    "disp = Display()\n",
    "\n",
    "gabor = GratingStim(pygaze.expdisplay, tex='sin', mask='gauss', sf=0.05, size=200)\n",
    "\n",
    "gaborscreen = Screen()\n",
    "gaborscreen.screen.append(gabor)\n",
    "disp.fill(gaborscreen)\n",
    "\n",
    "disp.show()\n",
    "timer.pause(1000)\n",
    "\n",
    "disp.close()"
   ]
  },
  {
   "cell_type": "markdown",
   "metadata": {},
   "source": [
    "### 실습 3 : PsychoPy 코드로 해보자."
   ]
  },
  {
   "cell_type": "code",
   "execution_count": null,
   "metadata": {
    "collapsed": true
   },
   "outputs": [],
   "source": [
    "# PsychoPy code\n"
   ]
  },
  {
   "cell_type": "markdown",
   "metadata": {},
   "source": [
    "##### Noise"
   ]
  },
  {
   "cell_type": "code",
   "execution_count": 63,
   "metadata": {
    "collapsed": true
   },
   "outputs": [],
   "source": [
    "import numpy\n",
    "  \n",
    "noise = numpy.random.rand(64, 64)"
   ]
  },
  {
   "cell_type": "code",
   "execution_count": 64,
   "metadata": {},
   "outputs": [
    {
     "data": {
      "text/plain": [
       "array([[ 0.56946684,  0.40807112,  0.84505911, ...,  0.58445719,\n",
       "         0.46118323,  0.46395101],\n",
       "       [ 0.24439546,  0.60208159,  0.50004928, ...,  0.42075098,\n",
       "         0.95291426,  0.71906069],\n",
       "       [ 0.58481643,  0.10573734,  0.08032324, ...,  0.77565376,\n",
       "         0.86821764,  0.36985903],\n",
       "       ..., \n",
       "       [ 0.72978864,  0.29291466,  0.39647248, ...,  0.89991858,\n",
       "         0.88119404,  0.39437347],\n",
       "       [ 0.83865162,  0.7093679 ,  0.22628574, ...,  0.86120281,\n",
       "         0.0786899 ,  0.71200879],\n",
       "       [ 0.72605052,  0.98882426,  0.52424013, ...,  0.75986916,\n",
       "         0.60807643,  0.0357842 ]])"
      ]
     },
     "execution_count": 64,
     "metadata": {},
     "output_type": "execute_result"
    }
   ],
   "source": [
    "noise"
   ]
  },
  {
   "cell_type": "code",
   "execution_count": 65,
   "metadata": {
    "collapsed": true
   },
   "outputs": [],
   "source": [
    "noise = numpy.random.rand(64, 64) * 2"
   ]
  },
  {
   "cell_type": "code",
   "execution_count": 66,
   "metadata": {},
   "outputs": [
    {
     "data": {
      "text/plain": [
       "array([[ 1.1765327 ,  0.51381834,  1.39351641, ...,  0.90352603,\n",
       "         0.30337291,  1.92555664],\n",
       "       [ 0.28309903,  1.58670316,  0.48831233, ...,  0.63612008,\n",
       "         1.75318189,  1.93679016],\n",
       "       [ 1.2366536 ,  0.26917647,  0.43003174, ...,  0.53210494,\n",
       "         0.55540163,  0.24919941],\n",
       "       ..., \n",
       "       [ 1.71267221,  1.63954634,  1.6493295 , ...,  1.25422456,\n",
       "         1.99347727,  0.90305187],\n",
       "       [ 1.84928958,  0.48673107,  0.32467519, ...,  1.87691304,\n",
       "         0.76055563,  0.91800361],\n",
       "       [ 1.07517415,  1.63443245,  0.2589242 , ...,  0.26812303,\n",
       "         1.09558727,  0.49524529]])"
      ]
     },
     "execution_count": 66,
     "metadata": {},
     "output_type": "execute_result"
    }
   ],
   "source": [
    "noise"
   ]
  },
  {
   "cell_type": "code",
   "execution_count": 67,
   "metadata": {
    "collapsed": true
   },
   "outputs": [],
   "source": [
    "noise = (numpy.random.rand(64, 64) * 2) - 1"
   ]
  },
  {
   "cell_type": "code",
   "execution_count": 68,
   "metadata": {},
   "outputs": [
    {
     "data": {
      "text/plain": [
       "array([[  4.87405101e-02,  -7.28169785e-01,   8.65038255e-01, ...,\n",
       "         -2.96298751e-01,   3.61120898e-03,  -2.09734390e-02],\n",
       "       [ -7.48114580e-01,   7.40694059e-01,   6.44070133e-01, ...,\n",
       "         -6.39018129e-01,  -6.86925814e-01,  -2.52432924e-01],\n",
       "       [ -4.03827350e-01,   1.91012405e-01,  -6.59217241e-01, ...,\n",
       "          8.26781130e-04,  -9.84211663e-01,   6.45420744e-01],\n",
       "       ..., \n",
       "       [ -6.83019365e-01,  -1.46395218e-01,   6.81918921e-01, ...,\n",
       "          1.95939010e-03,  -2.30684457e-01,  -5.71821999e-01],\n",
       "       [  9.53698614e-01,   1.68888827e-01,   2.10352311e-01, ...,\n",
       "          5.79401179e-01,  -4.40517376e-01,  -3.22723276e-01],\n",
       "       [  3.85611925e-01,  -2.10170560e-01,  -6.91269494e-01, ...,\n",
       "          6.19413468e-02,   3.70880227e-01,   4.48423463e-01]])"
      ]
     },
     "execution_count": 68,
     "metadata": {},
     "output_type": "execute_result"
    }
   ],
   "source": [
    "noise"
   ]
  },
  {
   "cell_type": "markdown",
   "metadata": {},
   "source": [
    "<code>\n",
    "PyGaze code\n",
    "  import pygaze\n",
    "  from psychopy.visual import GratingStim\n",
    "  noisepatch = GratingStim(pygaze.expdisplay, tex=noise, mask=‘gauss’, size=200)\n",
    "</code>"
   ]
  },
  {
   "cell_type": "code",
   "execution_count": 69,
   "metadata": {},
   "outputs": [
    {
     "name": "stdout",
     "output_type": "stream",
     "text": [
      "848.5187 \tWARNING \tMonitor specification not found. Creating a temporary one...\n",
      "848.5194 \tWARNING \tUser requested fullscreen with size [1920 1080], but screen is actually [1280, 800]. Using actual size\n"
     ]
    }
   ],
   "source": [
    "# PyGaze code\n",
    "import pygaze\n",
    "from pygaze.display import Display\n",
    "from pygaze.screen import Screen\n",
    "import pygaze.libtime as timer\n",
    "from psychopy.visual import GratingStim\n",
    "\n",
    "disp = Display()\n",
    "\n",
    "gabor = GratingStim(pygaze.expdisplay, tex='sin', mask='gauss', sf=0.05, size=200)\n",
    "gaborscreen = Screen()\n",
    "gaborscreen.screen.append(gabor)\n",
    "\n",
    "noisepatch = GratingStim(pygaze.expdisplay, tex=noise, mask='gauss', sf=0.05, size=200)\n",
    "noisescreen = Screen()\n",
    "noisescreen.screen.append(noisepatch)\n",
    "\n",
    "disp.fill(gaborscreen)\n",
    "disp.show()\n",
    "timer.pause(1000)\n",
    "  \n",
    "disp.fill(noisescreen)\n",
    "disp.show()\n",
    "timer.pause(2000)\n",
    "\n",
    "disp.close()"
   ]
  },
  {
   "cell_type": "markdown",
   "metadata": {},
   "source": [
    "### 실습 4 : PsychoPy 코드로 해보자."
   ]
  },
  {
   "cell_type": "code",
   "execution_count": null,
   "metadata": {
    "collapsed": true
   },
   "outputs": [],
   "source": [
    "# PsychoPy code\n"
   ]
  },
  {
   "cell_type": "markdown",
   "metadata": {},
   "source": [
    "# Comments"
   ]
  },
  {
   "cell_type": "code",
   "execution_count": 71,
   "metadata": {},
   "outputs": [
    {
     "name": "stdout",
     "output_type": "stream",
     "text": [
      "891.4772 \tWARNING \tMonitor specification not found. Creating a temporary one...\n",
      "891.4778 \tWARNING \tUser requested fullscreen with size [1920 1080], but screen is actually [1280, 800]. Using actual size\n"
     ]
    }
   ],
   "source": [
    "import pygaze\n",
    "from pygaze.display import Display\n",
    "from pygaze.screen import Screen\n",
    "import pygaze.libtime as timer\n",
    "import numpy\n",
    "from psychopy.visual import GratingStim\n",
    "\n",
    "# Initialise a new Display instance (specifications are in\n",
    "# constants.py).\n",
    "disp = Display()\n",
    "\n",
    "# Create a new GratingStim. The sinusoidal texture and the\n",
    "# Gaussian mask will make it into a Gabor. The spatial\n",
    "# frequency of 0.05 cycles per pixel will make it have\n",
    "# 1 cycle every 20 pixels.\n",
    "gabor = GratingStim(pygaze.expdisplay, tex='sin', mask='gauss', sf=0.05, size=200)\n",
    "\n",
    "# Initialise a new Screen instance for the Gabor.\n",
    "gaborscreen = Screen()\n",
    "# Add the GratingStim to the gaborscreen’s screen property\n",
    "# (a list of all PsychoPy stimuli in the Screen).\n",
    "gaborscreen.screen.append(gabor)\n",
    "\n",
    "# Create random numbers between 0 and 1 (numpy.random.\n",
    "# rand), converted to numbers between 0 and 2 (*2), and\n",
    "# then converted to numbers between −1 and 1 (−1). The size\n",
    "# must be a power of 2!\n",
    "noise = (numpy.random.rand(64, 64) * 2) - 1\n",
    "\n",
    "# Create a new GratingStim. Using the noise array as\n",
    "# texture will result in visual snow. The mask is Gaussian\n",
    "# (to match the Gabor).\n",
    "noisepatch = GratingStim(pygaze.expdisplay, tex=noise, mask='gauss', size=200)\n",
    "\n",
    "# Initialise a new Screen instance for the noise.\n",
    "noisescreen = Screen()\n",
    "\n",
    "# Add the GratingStim to the Screen’s screen property (as\n",
    "# with Gabor).\n",
    "noisescreen.screen.append(noisepatch)\n",
    "\n",
    "# Fill the Display with the Gabor Screen that was prepared\n",
    "# earlier.\n",
    "disp.fill(gaborscreen)\n",
    "\n",
    "# Present the Display (Gabor will now be on the monitor).\n",
    "disp.show()\n",
    "\n",
    "# Wait for 1000 milliseconds (Gabor is still on the\n",
    "# monitor).\n",
    "timer.pause(1000)\n",
    "\n",
    "# Fill the Display with the noise Screen that was prepared\n",
    "# earlier.\n",
    "disp.fill(noisescreen)\n",
    "\n",
    "# Present the Display (noise is now on the monitor).\n",
    "disp.show()\n",
    "\n",
    "# Wait 2000 milliseconds (noise is still on the monitor).\n",
    "timer.pause(2000)\n",
    "\n",
    "# Close the Display (this will end the experiment).\n",
    "disp.close()"
   ]
  },
  {
   "cell_type": "markdown",
   "metadata": {
    "collapsed": true
   },
   "source": [
    "# 참고자료\n",
    "* [1] Python for Experimental Psychologists - https://www.amazon.com/Python-Experimental-Psychologists-Edwin-Dalmaijer/dp/1138671576\n",
    "* [2] 책 정보 & 코드 - http://www.pygaze.org/pep/\n",
    "* [3] 코드 한번에 받기 - http://www.pygaze.org/resources/downloads/PEP/all-in-one.zip\n",
    "    "
   ]
  }
 ],
 "metadata": {
  "kernelspec": {
   "display_name": "Python 2",
   "language": "python",
   "name": "python2"
  },
  "language_info": {
   "codemirror_mode": {
    "name": "ipython",
    "version": 2
   },
   "file_extension": ".py",
   "mimetype": "text/x-python",
   "name": "python",
   "nbconvert_exporter": "python",
   "pygments_lexer": "ipython2",
   "version": "2.7.13"
  }
 },
 "nbformat": 4,
 "nbformat_minor": 2
}
